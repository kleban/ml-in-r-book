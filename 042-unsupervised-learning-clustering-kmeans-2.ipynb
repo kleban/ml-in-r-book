{
 "cells": [
  {
   "cell_type": "markdown",
   "metadata": {
    "_uuid": "2cd1830ede4a19e87c906440660080cb04b10f17"
   },
   "source": [
    "<h1> Introduction </h1>\n",
    "**Customer segmentation** is the practice of dividing a customer base into groups of individuals that are similar in specific ways relevant to marketing, such as age, gender, interests and spending habits.\n",
    "\n",
    "Companies employing customer segmentation operate under the fact that every customer is different and that their marketing efforts would be better served if they target specific, smaller groups with messages that those consumers would find relevant and lead them to buy something. Companies also hope to gain a deeper understanding of their customers' preferences and needs with the idea of discovering what each segment finds most valuable to more accurately tailor marketing materials toward that segment.\n",
    "\n",
    "Customer segmentation relies on identifying key differentiators that divide customers into groups that can be targeted. Information such as a customers' demographics (age, race, religion, gender, family size, ethnicity, income, education level), geography (where they live and work), psychographic (social class, lifestyle and personality characteristics) and behavioral (spending, consumption, usage and desired benefits) tendencies are taken into account when determining customer segmentation practices.\n",
    "\n",
    "Benefits of customer segmentation include:  \n",
    "1. *Personalisation*\n",
    "    * Personalisation ensures that you provide exceptional customer experience.\n",
    "2. *Customer Retention*\n",
    "    * It is 16 times as costly to build a long-term business relationship with a new customer than simply to cultivate the loyalty of an existing customer.\n",
    "3. *Better ROI for marketing*\n",
    "    * Affirmations that right marketing messages are sent to the right people based on their life cycle stage.\n",
    "4. *Reveal new opportunities*\n",
    "    * Customer segmentation may reveal new trends about products and it may even give the first mover’s advantage in a product segment."
   ]
  },
  {
   "cell_type": "markdown",
   "metadata": {
    "_uuid": "cbab35246a38c425ff2302ff27bba254d64627b7"
   },
   "source": [
    "<h2> Approach - Machine Learning </h2>\n",
    "Unsupervised Learning is a class of Machine Learning techniques to find the patterns in data. The data given to unsupervised algorithm are not labelled, which means only the input variables(X) are given with no corresponding output variables. In unsupervised learning, the algorithms are left to themselves to discover interesting structures in the data.\n",
    "\n",
    "There are some analytics techniques that can help you with segmenting your customers. These are useful especially when you have a large number of customers and it’s hard to discover patterns in your customer data just by looking at transactions. The two most common ones are:\n",
    "\n",
    "1. Clustering\n",
    "    * Clustering is an exploration technique for datasets where relationships between different observations may be too hard to spot with the eye.\n",
    "2. Principal Component Analysis (PCA)\n",
    "    * PCA is a statistical procedure that uses an orthogonal transformation to convert a set of observations of possibly correlated variables (entities each of which takes on various numerical values) into a set of values of linearly uncorrelated variables called principal components.\n",
    "\n",
    "The following code takes advantage of the Mall Customer Segmentation Data to demonstrate the ability of K-Means clustering algorithm to identify customer's segments."
   ]
  },
  {
   "cell_type": "code",
   "execution_count": 5,
   "metadata": {},
   "outputs": [],
   "source": [
    "# install.packages(\"skmeans\")"
   ]
  },
  {
   "cell_type": "code",
   "execution_count": 4,
   "metadata": {
    "_execution_state": "idle",
    "_uuid": "b5841c3c0cc1c83ab92a0ae2da6413728131b77a"
   },
   "outputs": [
    {
     "name": "stderr",
     "output_type": "stream",
     "text": [
      "\n",
      "Attaching package: 'gridExtra'\n",
      "\n",
      "\n",
      "The following object is masked from 'package:dplyr':\n",
      "\n",
      "    combine\n",
      "\n",
      "\n"
     ]
    }
   ],
   "source": [
    "## Importing packages\n",
    "library(ggplot2); theme_set(theme_bw())\n",
    "library(dplyr)\n",
    "library(skmeans)\n",
    "library(gridExtra)\n",
    "\n",
    "## READ THE DATA\n",
    "customers <- read.csv(\"data/Mall_Customers.csv\")\n",
    "attach(customers)"
   ]
  },
  {
   "cell_type": "markdown",
   "metadata": {
    "_uuid": "eca7fce74772ee324836046303a2d6d3aead3cc8"
   },
   "source": [
    "Before we proceed, we have to make sure that the data is in the correct format so as to be used for modelling later on."
   ]
  },
  {
   "cell_type": "code",
   "execution_count": 6,
   "metadata": {
    "_uuid": "09c0477c71624017e06c7c0484ba3caba5e2d8b7"
   },
   "outputs": [
    {
     "data": {
      "text/html": [
       "<style>\n",
       ".list-inline {list-style: none; margin:0; padding: 0}\n",
       ".list-inline>li {display: inline-block}\n",
       ".list-inline>li:not(:last-child)::after {content: \"\\00b7\"; padding: 0 .5ex}\n",
       "</style>\n",
       "<ol class=list-inline><li>200</li><li>5</li></ol>\n"
      ],
      "text/latex": [
       "\\begin{enumerate*}\n",
       "\\item 200\n",
       "\\item 5\n",
       "\\end{enumerate*}\n"
      ],
      "text/markdown": [
       "1. 200\n",
       "2. 5\n",
       "\n",
       "\n"
      ],
      "text/plain": [
       "[1] 200   5"
      ]
     },
     "metadata": {},
     "output_type": "display_data"
    },
    {
     "name": "stdout",
     "output_type": "stream",
     "text": [
      "'data.frame':\t200 obs. of  5 variables:\n",
      " $ CustomerID            : int  1 2 3 4 5 6 7 8 9 10 ...\n",
      " $ Gender                : chr  \"Male\" \"Male\" \"Female\" \"Female\" ...\n",
      " $ Age                   : int  19 21 20 23 31 22 35 23 64 30 ...\n",
      " $ Annual.Income..k..    : int  15 15 16 16 17 17 18 18 19 19 ...\n",
      " $ Spending.Score..1.100.: int  39 81 6 77 40 76 6 94 3 72 ...\n"
     ]
    }
   ],
   "source": [
    "## CHECK THE DIMENSIONS OF THE DATA\n",
    "dim(customers)\n",
    "str(customers)"
   ]
  },
  {
   "cell_type": "markdown",
   "metadata": {
    "_uuid": "18e3e5537dd55cdd4be1073ab95192e529c84296"
   },
   "source": [
    "The data is just a mere sample of a larger amount of customers data. However, the purpose of this document is the familirisation of K-Means and unsupervised learning\n",
    "\n",
    "Let us have a glimpe of the data before we dive in more depth."
   ]
  },
  {
   "cell_type": "code",
   "execution_count": 7,
   "metadata": {
    "_kg_hide-input": true,
    "_uuid": "8781e3eeeaa3b7474604954f7bd25310dc4c7294"
   },
   "outputs": [
    {
     "data": {
      "text/html": [
       "<table class=\"dataframe\">\n",
       "<caption>A data.frame: 6 × 5</caption>\n",
       "<thead>\n",
       "\t<tr><th></th><th scope=col>CustomerID</th><th scope=col>Gender</th><th scope=col>Age</th><th scope=col>Annual.Income..k..</th><th scope=col>Spending.Score..1.100.</th></tr>\n",
       "\t<tr><th></th><th scope=col>&lt;int&gt;</th><th scope=col>&lt;chr&gt;</th><th scope=col>&lt;int&gt;</th><th scope=col>&lt;int&gt;</th><th scope=col>&lt;int&gt;</th></tr>\n",
       "</thead>\n",
       "<tbody>\n",
       "\t<tr><th scope=row>1</th><td>1</td><td>Male  </td><td>19</td><td>15</td><td>39</td></tr>\n",
       "\t<tr><th scope=row>2</th><td>2</td><td>Male  </td><td>21</td><td>15</td><td>81</td></tr>\n",
       "\t<tr><th scope=row>3</th><td>3</td><td>Female</td><td>20</td><td>16</td><td> 6</td></tr>\n",
       "\t<tr><th scope=row>4</th><td>4</td><td>Female</td><td>23</td><td>16</td><td>77</td></tr>\n",
       "\t<tr><th scope=row>5</th><td>5</td><td>Female</td><td>31</td><td>17</td><td>40</td></tr>\n",
       "\t<tr><th scope=row>6</th><td>6</td><td>Female</td><td>22</td><td>17</td><td>76</td></tr>\n",
       "</tbody>\n",
       "</table>\n"
      ],
      "text/latex": [
       "A data.frame: 6 × 5\n",
       "\\begin{tabular}{r|lllll}\n",
       "  & CustomerID & Gender & Age & Annual.Income..k.. & Spending.Score..1.100.\\\\\n",
       "  & <int> & <chr> & <int> & <int> & <int>\\\\\n",
       "\\hline\n",
       "\t1 & 1 & Male   & 19 & 15 & 39\\\\\n",
       "\t2 & 2 & Male   & 21 & 15 & 81\\\\\n",
       "\t3 & 3 & Female & 20 & 16 &  6\\\\\n",
       "\t4 & 4 & Female & 23 & 16 & 77\\\\\n",
       "\t5 & 5 & Female & 31 & 17 & 40\\\\\n",
       "\t6 & 6 & Female & 22 & 17 & 76\\\\\n",
       "\\end{tabular}\n"
      ],
      "text/markdown": [
       "\n",
       "A data.frame: 6 × 5\n",
       "\n",
       "| <!--/--> | CustomerID &lt;int&gt; | Gender &lt;chr&gt; | Age &lt;int&gt; | Annual.Income..k.. &lt;int&gt; | Spending.Score..1.100. &lt;int&gt; |\n",
       "|---|---|---|---|---|---|\n",
       "| 1 | 1 | Male   | 19 | 15 | 39 |\n",
       "| 2 | 2 | Male   | 21 | 15 | 81 |\n",
       "| 3 | 3 | Female | 20 | 16 |  6 |\n",
       "| 4 | 4 | Female | 23 | 16 | 77 |\n",
       "| 5 | 5 | Female | 31 | 17 | 40 |\n",
       "| 6 | 6 | Female | 22 | 17 | 76 |\n",
       "\n"
      ],
      "text/plain": [
       "  CustomerID Gender Age Annual.Income..k.. Spending.Score..1.100.\n",
       "1 1          Male   19  15                 39                    \n",
       "2 2          Male   21  15                 81                    \n",
       "3 3          Female 20  16                  6                    \n",
       "4 4          Female 23  16                 77                    \n",
       "5 5          Female 31  17                 40                    \n",
       "6 6          Female 22  17                 76                    "
      ]
     },
     "metadata": {},
     "output_type": "display_data"
    },
    {
     "data": {
      "text/html": [
       "<style>\n",
       ".list-inline {list-style: none; margin:0; padding: 0}\n",
       ".list-inline>li {display: inline-block}\n",
       ".list-inline>li:not(:last-child)::after {content: \"\\00b7\"; padding: 0 .5ex}\n",
       "</style>\n",
       "<ol class=list-inline><li>'CustomerID'</li><li>'Gender'</li><li>'Age'</li><li>'Annual.Income..k..'</li><li>'Spending.Score..1.100.'</li></ol>\n"
      ],
      "text/latex": [
       "\\begin{enumerate*}\n",
       "\\item 'CustomerID'\n",
       "\\item 'Gender'\n",
       "\\item 'Age'\n",
       "\\item 'Annual.Income..k..'\n",
       "\\item 'Spending.Score..1.100.'\n",
       "\\end{enumerate*}\n"
      ],
      "text/markdown": [
       "1. 'CustomerID'\n",
       "2. 'Gender'\n",
       "3. 'Age'\n",
       "4. 'Annual.Income..k..'\n",
       "5. 'Spending.Score..1.100.'\n",
       "\n",
       "\n"
      ],
      "text/plain": [
       "[1] \"CustomerID\"             \"Gender\"                 \"Age\"                   \n",
       "[4] \"Annual.Income..k..\"     \"Spending.Score..1.100.\""
      ]
     },
     "metadata": {},
     "output_type": "display_data"
    }
   ],
   "source": [
    "## TAKE A LOOK OF THE DATA\n",
    "head(customers)\n",
    "colnames(customers)"
   ]
  },
  {
   "cell_type": "markdown",
   "metadata": {
    "_uuid": "be4ae949630b64164f5abb6d269927dfdada8e87"
   },
   "source": [
    "The data consists of"
   ]
  },
  {
   "cell_type": "code",
   "execution_count": 8,
   "metadata": {
    "_uuid": "3177332e3b6f024b44df437d313e4cf121bea631"
   },
   "outputs": [
    {
     "data": {
      "text/html": [
       "200"
      ],
      "text/latex": [
       "200"
      ],
      "text/markdown": [
       "200"
      ],
      "text/plain": [
       "[1] 200"
      ]
     },
     "metadata": {},
     "output_type": "display_data"
    }
   ],
   "source": [
    "## UNIQUE CUSTOMERS\n",
    "n_distinct(CustomerID)"
   ]
  },
  {
   "cell_type": "markdown",
   "metadata": {
    "_uuid": "78cf3273fc6ce191aff9bda32a2e7c36e21a69f6"
   },
   "source": [
    "Individual customers, where the majority pertains to women."
   ]
  },
  {
   "cell_type": "code",
   "execution_count": 9,
   "metadata": {
    "_uuid": "aded8324ac8c719ecc4ed6ac624b8a7fe4763bc0"
   },
   "outputs": [
    {
     "data": {
      "image/png": "[encoded data removed]",
      "text/plain": [
       "plot without title"
      ]
     },
     "metadata": {
      "image/png": {
       "height": 420,
       "width": 420
      }
     },
     "output_type": "display_data"
    }
   ],
   "source": [
    "## GENDERS DISTRIBUTION\n",
    "as.data.frame(table(Gender))  %>% \n",
    "    ggplot(aes(x = Gender, y = Freq))  +\n",
    "    geom_bar(stat = \"identity\", fill = \"#F8766D\") +\n",
    "    geom_text(y = as.vector(table(Gender)), label = paste0((as.vector(table(Gender))/sum(as.vector(table(Gender))))*100, \"%\"))"
   ]
  },
  {
   "cell_type": "markdown",
   "metadata": {
    "_uuid": "08194d7b2ceed32b0c9e165ee737ac87ceaabbb6"
   },
   "source": [
    "From a business perspective, most the companies that appear to have a successful story are extremely focuced on a particular target group so as to provide the best experience for them. Hence, businesses are primarly focused on such relevant activities. In addition, occasionally,  a business may select more than one segment as the focus of its activities, in which case, it would normally identify a primary target and a secondary target. Primary target markets are those market segments to which marketing efforts are primarily directed and where more of the business's resources are allocated, while secondary markets are often smaller segments or less vital to a product's success.\n",
    "\n",
    "The *Age* variable would be a good indicator of the targeted Age groups."
   ]
  },
  {
   "cell_type": "code",
   "execution_count": 10,
   "metadata": {
    "_uuid": "a0f7fc1f85a347a4d14073851b547a57a3946972"
   },
   "outputs": [
    {
     "data": {
      "text/plain": [
       "   Min. 1st Qu.  Median    Mean 3rd Qu.    Max. \n",
       "  18.00   28.75   36.00   38.85   49.00   70.00 "
      ]
     },
     "metadata": {},
     "output_type": "display_data"
    },
    {
     "data": {
      "image/png": "[encoded data removed]",
      "text/plain": [
       "plot without title"
      ]
     },
     "metadata": {
      "image/png": {
       "height": 420,
       "width": 420
      }
     },
     "output_type": "display_data"
    }
   ],
   "source": [
    "## SUMMARY OF THE AGE VARIABLE\n",
    "summary(Age)\n",
    "ggplot(as.data.frame(Age), aes(y = Age)) + geom_boxplot(fill='#F8766D')"
   ]
  },
  {
   "cell_type": "code",
   "execution_count": 11,
   "metadata": {
    "_uuid": "ee903badc4e01b60e1b3ebacc8da93d9137a4257"
   },
   "outputs": [
    {
     "data": {
      "image/png": "[encoded data removed]",
      "text/plain": [
       "plot without title"
      ]
     },
     "metadata": {
      "image/png": {
       "height": 420,
       "width": 420
      }
     },
     "output_type": "display_data"
    }
   ],
   "source": [
    "## AGE VARIABLE DISTRIBUTION\n",
    "ggplot(customers, aes( x = Age, fill = Gender)) + geom_density(alpha = 0.4)"
   ]
  },
  {
   "cell_type": "markdown",
   "metadata": {
    "_uuid": "0aab0455cb73a6042d680bba99dcd322c534560f"
   },
   "source": [
    "It is quite interesting that there is a difference between the two genders. It appears that in both groups (i.e. Males & Females) there is a strong activity at the ages 25-35, while the data shows another frequent group from the female part at the age of around 45 years old. In contrast, the group of men curve declines as the age reaches the maximum age of 70.\n",
    "\n",
    "The income variable and the spending score variables are the ones that most interests us since we are going to keep this variables to perform our clustering. Investigating a little bit more on this variables we can see that they behave normally and not any anomalies are detected (1 data point at the Income variable is considered to be a correct value)."
   ]
  },
  {
   "cell_type": "code",
   "execution_count": 12,
   "metadata": {
    "_uuid": "4f98dc01e2a4efa093ef939bcbe4d7861d0ebb21"
   },
   "outputs": [
    {
     "data": {
      "image/png": "[encoded data removed]",
      "text/plain": [
       "plot without title"
      ]
     },
     "metadata": {
      "image/png": {
       "height": 420,
       "width": 420
      }
     },
     "output_type": "display_data"
    }
   ],
   "source": [
    "## ANNUAL INCOME AND SPENDING SCORE BOXPLOTS\n",
    "p1 <- ggplot(as.data.frame(Annual.Income..k..), aes(y = Annual.Income..k..)) + geom_boxplot(fill='#F8766D') + ylim(c(1,150))\n",
    "p2 <- ggplot(as.data.frame(Spending.Score..1.100.), aes(y = Spending.Score..1.100.)) + geom_boxplot(fill='#00BFC4') + ylim(c(1,150))\n",
    "grid.arrange(p1, p2, ncol = 2)"
   ]
  },
  {
   "cell_type": "markdown",
   "metadata": {
    "_uuid": "1f268e027fcc7cd51f44ee69c527cdffaa186157"
   },
   "source": [
    "FInally, the dataset does not contain any N/A values so no missing values techniques need to be applied for that reason. Our model is really sensitive in N/A values as will be discussed next."
   ]
  },
  {
   "cell_type": "code",
   "execution_count": 13,
   "metadata": {
    "_uuid": "92d3f13fb02bda447ecfdad35f3eaa0900ad912b"
   },
   "outputs": [
    {
     "name": "stdout",
     "output_type": "stream",
     "text": [
      "There are 0 N/A values."
     ]
    }
   ],
   "source": [
    "## N/A VALUES\n",
    "cat(\"There are\", sum(is.na(customers)), \"N/A values.\")"
   ]
  },
  {
   "cell_type": "markdown",
   "metadata": {
    "_uuid": "9a4f15a9df9e35e344aacd4e0df5f00628a83ea9"
   },
   "source": [
    "<h1> K-Means <h1/>"
   ]
  },
  {
   "cell_type": "markdown",
   "metadata": {
    "_uuid": "f0c2b4f6660b734160e307b7e481eb037b4d5a10"
   },
   "source": [
    "K-means clustering is an unsupervised machine learning algorithm for clustering ‘n’ observations into ‘k’ clusters where k is predefined or user-defined constant. The main idea is to define k centroids, one for each cluster.\n",
    "\n",
    "The K-Means algorithm involves:\n",
    "1. Choosing the number of clusters \"k\".\n",
    "2. Randomly assign each point to a cluster\n",
    "3. Until clusters stop changing, repeat the following:\n",
    "    *     1.  For each cluster, compute the cluster centroid by taking the mean vector of points in the cluster.\n",
    "    *     2.  Assign each data point to the cluster for which the centroid is the closest.   \n",
    "\n",
    "Two things are very important in K means, the first is to scale the variables before clustering the data *, and second is to look at a scatter plot or a data table to estimate the number of cluster centers to set for the k parameter in the model.\n",
    "\n",
    "*Note:* Scaling is necessary when a distance between attributes is not sensible(i.e distance between Age and Height; different metrics are important too!). On the other hand, if you have attributes with a well-defined meaning(e.g. latitude and longitude) then you should not scale your data, because this will cause distortion."
   ]
  },
  {
   "cell_type": "markdown",
   "metadata": {
    "_uuid": "9a477704e435819fb196c71e3dd637f42c90cebb"
   },
   "source": [
    "Our hypothesis and the answer we are trying to give using k-means is that there is an intuition that customers can be grouped (clustered) according to their spending score given their income. My null hypothesis (which I am trying to disprove) is that there are no groups(clusters) of customers based on these."
   ]
  },
  {
   "cell_type": "code",
   "execution_count": 22,
   "metadata": {
    "_uuid": "4917c5f70c882a2ba5f93c70e67afdb64908a7d6"
   },
   "outputs": [
    {
     "data": {
      "text/html": [
       "<table class=\"dataframe\">\n",
       "<caption>A data.frame: 6 × 3</caption>\n",
       "<thead>\n",
       "\t<tr><th></th><th scope=col>Age</th><th scope=col>Annual.Income..k..</th><th scope=col>Spending.Score..1.100.</th></tr>\n",
       "\t<tr><th></th><th scope=col>&lt;int&gt;</th><th scope=col>&lt;int&gt;</th><th scope=col>&lt;int&gt;</th></tr>\n",
       "</thead>\n",
       "<tbody>\n",
       "\t<tr><th scope=row>1</th><td>19</td><td>15</td><td>39</td></tr>\n",
       "\t<tr><th scope=row>2</th><td>21</td><td>15</td><td>81</td></tr>\n",
       "\t<tr><th scope=row>3</th><td>20</td><td>16</td><td> 6</td></tr>\n",
       "\t<tr><th scope=row>4</th><td>23</td><td>16</td><td>77</td></tr>\n",
       "\t<tr><th scope=row>5</th><td>31</td><td>17</td><td>40</td></tr>\n",
       "\t<tr><th scope=row>6</th><td>22</td><td>17</td><td>76</td></tr>\n",
       "</tbody>\n",
       "</table>\n"
      ],
      "text/latex": [
       "A data.frame: 6 × 3\n",
       "\\begin{tabular}{r|lll}\n",
       "  & Age & Annual.Income..k.. & Spending.Score..1.100.\\\\\n",
       "  & <int> & <int> & <int>\\\\\n",
       "\\hline\n",
       "\t1 & 19 & 15 & 39\\\\\n",
       "\t2 & 21 & 15 & 81\\\\\n",
       "\t3 & 20 & 16 &  6\\\\\n",
       "\t4 & 23 & 16 & 77\\\\\n",
       "\t5 & 31 & 17 & 40\\\\\n",
       "\t6 & 22 & 17 & 76\\\\\n",
       "\\end{tabular}\n"
      ],
      "text/markdown": [
       "\n",
       "A data.frame: 6 × 3\n",
       "\n",
       "| <!--/--> | Age &lt;int&gt; | Annual.Income..k.. &lt;int&gt; | Spending.Score..1.100. &lt;int&gt; |\n",
       "|---|---|---|---|\n",
       "| 1 | 19 | 15 | 39 |\n",
       "| 2 | 21 | 15 | 81 |\n",
       "| 3 | 20 | 16 |  6 |\n",
       "| 4 | 23 | 16 | 77 |\n",
       "| 5 | 31 | 17 | 40 |\n",
       "| 6 | 22 | 17 | 76 |\n",
       "\n"
      ],
      "text/plain": [
       "  Age Annual.Income..k.. Spending.Score..1.100.\n",
       "1 19  15                 39                    \n",
       "2 21  15                 81                    \n",
       "3 20  16                  6                    \n",
       "4 23  16                 77                    \n",
       "5 31  17                 40                    \n",
       "6 22  17                 76                    "
      ]
     },
     "metadata": {},
     "output_type": "display_data"
    }
   ],
   "source": [
    "## SAVE THE VARIABLES OF INTEREST\n",
    "Kdata <- customers[,c(4,5)] # or 3,4,5\n",
    "head(Kdata)"
   ]
  },
  {
   "cell_type": "markdown",
   "metadata": {
    "_uuid": "cb0a5723984c8b33dab4b22a2ba2dfaf6ae0e6b8"
   },
   "source": [
    "Determine the number of clusters using the Elbow approach"
   ]
  },
  {
   "cell_type": "code",
   "execution_count": 23,
   "metadata": {
    "_uuid": "2cddfcd4375a4abf052b357900b9ff587100b0bc"
   },
   "outputs": [
    {
     "data": {
      "image/png": "[encoded data removed]",
      "text/plain": [
       "plot without title"
      ]
     },
     "metadata": {
      "image/png": {
       "height": 420,
       "width": 420
      }
     },
     "output_type": "display_data"
    }
   ],
   "source": [
    "## K estimation using Elbow approach\n",
    "set.seed(2022)\n",
    "tot.withinss <- vector(\"numeric\", length = 10)\n",
    "for (i in 1:10){\n",
    "    kDet <- kmeans(Kdata, i)\n",
    "    tot.withinss[i] <- kDet$tot.withinss\n",
    "}\n",
    "\n",
    "ggplot(as.data.frame(tot.withinss), aes(x = seq(1,10), y = tot.withinss)) + \n",
    "    geom_point(col = \"#F8766D\") +    \n",
    "    geom_line(col = \"#F8766D\") + \n",
    "    theme(axis.title.x.bottom = element_blank()) +\n",
    "    ylab(\"Within-cluster Sum of Squares\") +\n",
    "    xlab(\"Number of Clusters\") +\n",
    "    ggtitle(\"Elbow K Estimation\")"
   ]
  },
  {
   "cell_type": "markdown",
   "metadata": {
    "_uuid": "94eb468960dc987b942d779583aa7f7062d26e1f"
   },
   "source": [
    "It can be seen from the graph above that a reasonable selection for the K value would be the k = 5. Hence, we are going to create 5 clusters to generate our segments."
   ]
  },
  {
   "cell_type": "code",
   "execution_count": 24,
   "metadata": {
    "_uuid": "b92b6773b0e52f3b410c911c91625f36ef639a5d"
   },
   "outputs": [
    {
     "data": {
      "text/plain": [
       "K-means clustering with 5 clusters of sizes 39, 24, 50, 53, 34\n",
       "\n",
       "Cluster means:\n",
       "       Age Annual.Income..k.. Spending.Score..1.100.\n",
       "1 32.69231           86.53846               82.12821\n",
       "2 25.25000           25.83333               76.91667\n",
       "3 54.06000           40.46000               36.72000\n",
       "4 33.39623           58.05660               48.77358\n",
       "5 41.64706           88.73529               16.76471\n",
       "\n",
       "Clustering vector:\n",
       "  [1] 2 2 3 2 3 2 3 2 3 2 3 2 3 2 3 2 3 2 3 2 3 2 3 2 3 2 3 2 3 2 3 2 3 2 3 2 3\n",
       " [38] 2 3 2 3 2 3 2 3 2 3 4 4 4 3 4 4 3 3 3 3 3 4 3 3 4 3 3 3 4 4 3 4 4 3 3 3 3\n",
       " [75] 3 4 4 4 4 3 3 4 3 4 4 4 4 4 4 4 3 4 4 4 4 4 4 4 4 4 4 4 3 4 4 4 3 4 3 3 3\n",
       "[112] 4 4 4 4 4 3 4 4 4 4 4 4 1 4 1 4 1 5 1 5 1 4 1 5 1 5 1 5 1 5 1 4 1 5 1 5 1\n",
       "[149] 5 1 5 1 5 1 5 1 5 1 5 1 5 1 5 1 5 1 5 1 5 1 5 1 5 1 5 1 5 1 5 1 5 1 5 1 5\n",
       "[186] 1 5 1 5 1 5 1 5 1 5 1 5 1 5 1\n",
       "\n",
       "Within cluster sum of squares by cluster:\n",
       "[1] 13972.359  6285.667 32399.320 13890.792 16060.500\n",
       " (between_SS / total_SS =  73.2 %)\n",
       "\n",
       "Available components:\n",
       "\n",
       "[1] \"cluster\"      \"centers\"      \"totss\"        \"withinss\"     \"tot.withinss\"\n",
       "[6] \"betweenss\"    \"size\"         \"iter\"         \"ifault\"      "
      ]
     },
     "metadata": {},
     "output_type": "display_data"
    }
   ],
   "source": [
    "## CLUSTER THE DATA\n",
    "customerClusters <- kmeans(Kdata, 5)\n",
    "customerClusters"
   ]
  },
  {
   "cell_type": "code",
   "execution_count": 25,
   "metadata": {
    "_uuid": "e59092195ef2319fd68d963976c4ef841dc33fd8"
   },
   "outputs": [
    {
     "data": {
      "image/png": "[encoded data removed]",
      "text/plain": [
       "plot without title"
      ]
     },
     "metadata": {
      "image/png": {
       "height": 420,
       "width": 420
      }
     },
     "output_type": "display_data"
    }
   ],
   "source": [
    "## VISULIASE THE CLUSTERS\n",
    "ggplot(Kdata, aes(x = Annual.Income..k.., y = Spending.Score..1.100.)) + \n",
    "    geom_point(stat = \"identity\", aes(color = as.factor(customerClusters$cluster))) +\n",
    "    scale_color_discrete(name=\" \",\n",
    "                         breaks=c(\"1\", \"2\", \"3\", \"4\", \"5\"),\n",
    "                         labels=c(\"Cluster 1\", \"Cluster 2\", \"Cluster 3\", \"Cluster 4\", \"Cluster 5\")) +\n",
    "    ggtitle(\"Mall Customer Segmens\", subtitle = \"K-means Clustering\")"
   ]
  },
  {
   "cell_type": "markdown",
   "metadata": {
    "_uuid": "a78c401bec866af226a4f7066c920f68b99968ab"
   },
   "source": [
    "The generated \"Clusters of Customers\" plot shows the distribution of the 5 clusters. A sensible interpretation for the mall customer segments can be:\n",
    "\n",
    "*Cluster 1*. Customers with medium annual income and medium annual spend  \n",
    "*Cluster 2.* Customers with high annual income and high annual spend  \n",
    "*Cluster 3*. Customers with low annual income  and low annual spend  \n",
    "*Cluster 4.* Customers with high annual income but low annual spend    \n",
    "*Cluster 5.* Customers low annual income but high annual spend\n",
    "\n",
    "Having a better understanding of the customers segments, a company could make better and more informed decisions. An example, there are customers with high annual income but low spending score. A more strategic and targeted marketing approach could lift their interest and make them become higher spenders. The focus should also be on the \"loyal\" customers and maintain their satisfaction.\n",
    "\n",
    "We have thus seen, how we could arrive at meaningful insights and recommendations by using clustering algorithms to generate customer segments. For the sake of simplicity, the dataset used only 2 variables — income and spend. In a typical business scenario, there could be several variables which could possibly generate much more realistic and business-specific insights."
   ]
  },
  {
   "cell_type": "markdown",
   "metadata": {
    "_uuid": "c2d67c2a2aa7899ec817b3088ade217daf02aed1"
   },
   "source": [
    "<h1>References</h1>\n",
    "[Clustering Algorithms for Customer Segmentation](http://towardsdatascience.com/clustering-algorithms-for-customer-segmentation-af637c6830ac)  \n",
    "[Customer Segmentation Theoy](http://searchsalesforce.techtarget.com/definition/customer-segmentation)  \n",
    "[Benefits of Customer Segmentation](http://postfunnel.com/4-benefits-customer-segmentation-higher-profitability/)  \n",
    "[K-Means Clustering in R](http://www.datasciencecentral.com/profiles/blogs/find-marketing-clusters-in-20-minutes-in-r)  \n",
    "[Principal Component Analysis](http://en.wikipedia.org/wiki/Principal_component_analysis)"
   ]
  }
 ],
 "metadata": {
  "kernelspec": {
   "display_name": "R",
   "language": "R",
   "name": "ir"
  },
  "language_info": {
   "codemirror_mode": "r",
   "file_extension": ".r",
   "mimetype": "text/x-r-source",
   "name": "R",
   "pygments_lexer": "r",
   "version": "4.1.3"
  }
 },
 "nbformat": 4,
 "nbformat_minor": 4
}
