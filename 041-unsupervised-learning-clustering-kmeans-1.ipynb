{
 "cells": [
  {
   "cell_type": "markdown",
   "metadata": {},
   "source": [
    "# K-means clustering. Mall Customers 1"
   ]
  },
  {
   "cell_type": "markdown",
   "metadata": {},
   "source": [
    "Organised logical groups of information is preferred over unorganised data by people. For example, anyone finds it easier to remember information when it is clustered together by taking its common characteristics into account.\n",
    "\n",
    "Likewise, A machine learning technique that provides a way to find groups/clusters of different observations within a dataset is called Clustering. In this technique due to the absence of response variable, it is considered to be an unsupervised method. This implies that the relationships between 'n' number of observations is found without being trained by a response variable. The few applications of Clustering analysis are \n",
    "1. Customer segmentation: process for dividing customers into groups based on similar characteristics.\n",
    "2. Stock Market Clustering based on the performance of the stocks\n",
    "3. Reducing Dimensionality\n",
    "\n",
    "There are two most common Clustering algorithm that is used:\n",
    "1. KMeans Clustering: commonly used when we have large dataset\n",
    "2. Heirarchical Clustering: commonly used when we have small dataset\n",
    "\n",
    "Out of the two, KMeans Clustering is the simplest technique that aims to split the dataset into K groups/clusters. It is relatively fast compared to heirarchichal clustering. It works on the following algorithm:\n",
    "1. Random selection of k points which are also known as centroid. These centroids should be as far as possible from each other and the placement of these centroids critically impact the results.\n",
    "2. Calculation of euclidean distance between each centroid and each point in the data space.\n",
    "3. A point is assigned to a particular centroid based on the shortest distance. Once assigned, this can be considered as early groups.\n",
    "4. Now, Recalculation of new centroids (also known as recalibrated centres) takes place based on the points within the groups.\n",
    "5. Steps 2, 3, 4 are repeated until the centres/centroids can't move any further. This is when the algorithm stops.\n",
    "\n",
    "This recipe demonstrates KMeans Clustering using a real-life Mall dataset to carry out customer segmentation in R-language after finding the optimal number of clusters."
   ]
  },
  {
   "cell_type": "markdown",
   "metadata": {},
   "source": [
    "## STEP 1: Importing Necessary Libraries"
   ]
  },
  {
   "cell_type": "code",
   "execution_count": 3,
   "metadata": {},
   "outputs": [],
   "source": [
    "# install.packages(\"factoextra\")\n",
    "# install.packages(\"NbClust\")"
   ]
  },
  {
   "cell_type": "code",
   "execution_count": 4,
   "metadata": {},
   "outputs": [
    {
     "name": "stderr",
     "output_type": "stream",
     "text": [
      "Loading required package: ggplot2\n",
      "\n",
      "Welcome! Want to learn more? See two factoextra-related books at https://goo.gl/ve3WBa\n",
      "\n"
     ]
    }
   ],
   "source": [
    "library(cluster)\n",
    "library(factoextra)"
   ]
  },
  {
   "cell_type": "markdown",
   "metadata": {},
   "source": [
    "## STEP 2: Loading the Dataset"
   ]
  },
  {
   "cell_type": "code",
   "execution_count": 5,
   "metadata": {},
   "outputs": [
    {
     "data": {
      "text/plain": [
       "   CustomerID        Gender               Age        Annual.Income..k..\n",
       " Min.   :  1.00   Length:200         Min.   :18.00   Min.   : 15.00    \n",
       " 1st Qu.: 50.75   Class :character   1st Qu.:28.75   1st Qu.: 41.50    \n",
       " Median :100.50   Mode  :character   Median :36.00   Median : 61.50    \n",
       " Mean   :100.50                      Mean   :38.85   Mean   : 60.56    \n",
       " 3rd Qu.:150.25                      3rd Qu.:49.00   3rd Qu.: 78.00    \n",
       " Max.   :200.00                      Max.   :70.00   Max.   :137.00    \n",
       " Spending.Score..1.100.\n",
       " Min.   : 1.00         \n",
       " 1st Qu.:34.75         \n",
       " Median :50.00         \n",
       " Mean   :50.20         \n",
       " 3rd Qu.:73.00         \n",
       " Max.   :99.00         "
      ]
     },
     "metadata": {},
     "output_type": "display_data"
    }
   ],
   "source": [
    "# creating a dataframe customer_seg\n",
    "customer_seg = read.csv('data/Mall_Customers.csv')\n",
    "\n",
    "# getting the required information about the dataset\n",
    "summary(customer_seg)"
   ]
  },
  {
   "cell_type": "markdown",
   "metadata": {},
   "source": [
    "**Dataset description**: It is a basic data about the customers going to the supermarket mall. This can be used for customer segmentation. There are 200 observations(customers) and no missing data.\n",
    "\n",
    "It consists of four columns ie. measured attrutes:\n",
    "1. CustomerID is the customer identification number.\n",
    "2. Gender is Female and Male.\n",
    "3. Age is the age of customers.\n",
    "4. Annual Income (k) is the annual income of clients in thousands of dollars.\n",
    "5. Spending Score (1-100) is the spending score assigned by the shopping center according to the customer's purchasing behavior\n",
    "\n",
    "For the simplicity of demonstrating K-Means Clustering with visualisation, we will only consider two measured attributes (Age and Annual Income)."
   ]
  },
  {
   "cell_type": "code",
   "execution_count": 6,
   "metadata": {},
   "outputs": [
    {
     "data": {
      "text/plain": [
       "      Age        Annual.Income..k..\n",
       " Min.   :18.00   Min.   : 15.00    \n",
       " 1st Qu.:28.75   1st Qu.: 41.50    \n",
       " Median :36.00   Median : 61.50    \n",
       " Mean   :38.85   Mean   : 60.56    \n",
       " 3rd Qu.:49.00   3rd Qu.: 78.00    \n",
       " Max.   :70.00   Max.   :137.00    "
      ]
     },
     "metadata": {},
     "output_type": "display_data"
    }
   ],
   "source": [
    "# assigning columns 3 and 4 to a new dataset customer_prep\n",
    "customer_prep = customer_seg[3:4]\n",
    "summary(customer_prep)"
   ]
  },
  {
   "cell_type": "markdown",
   "metadata": {},
   "source": [
    "## STEP 3: Data Preprocessing (Scaling)"
   ]
  },
  {
   "cell_type": "markdown",
   "metadata": {},
   "source": [
    "This is a pre-modelling step. In this step, the data must be scaled or standardised so that different attributes can be comparable. Standardised data has mean zero and standard deviation one. we do thiis using scale() function\n",
    "\n",
    "**Note:** Scaling is an important pre-modelling step which has  to be mandatory "
   ]
  },
  {
   "cell_type": "code",
   "execution_count": 7,
   "metadata": {
    "scrolled": true
   },
   "outputs": [
    {
     "data": {
      "text/html": [
       "<table class=\"dataframe\">\n",
       "<caption>A matrix: 6 × 2 of type dbl</caption>\n",
       "<thead>\n",
       "\t<tr><th scope=col>Age</th><th scope=col>Annual.Income..k..</th></tr>\n",
       "</thead>\n",
       "<tbody>\n",
       "\t<tr><td>-1.4210029</td><td>-1.734646</td></tr>\n",
       "\t<tr><td>-1.2778288</td><td>-1.734646</td></tr>\n",
       "\t<tr><td>-1.3494159</td><td>-1.696572</td></tr>\n",
       "\t<tr><td>-1.1346547</td><td>-1.696572</td></tr>\n",
       "\t<tr><td>-0.5619583</td><td>-1.658498</td></tr>\n",
       "\t<tr><td>-1.2062418</td><td>-1.658498</td></tr>\n",
       "</tbody>\n",
       "</table>\n"
      ],
      "text/latex": [
       "A matrix: 6 × 2 of type dbl\n",
       "\\begin{tabular}{ll}\n",
       " Age & Annual.Income..k..\\\\\n",
       "\\hline\n",
       "\t -1.4210029 & -1.734646\\\\\n",
       "\t -1.2778288 & -1.734646\\\\\n",
       "\t -1.3494159 & -1.696572\\\\\n",
       "\t -1.1346547 & -1.696572\\\\\n",
       "\t -0.5619583 & -1.658498\\\\\n",
       "\t -1.2062418 & -1.658498\\\\\n",
       "\\end{tabular}\n"
      ],
      "text/markdown": [
       "\n",
       "A matrix: 6 × 2 of type dbl\n",
       "\n",
       "| Age | Annual.Income..k.. |\n",
       "|---|---|\n",
       "| -1.4210029 | -1.734646 |\n",
       "| -1.2778288 | -1.734646 |\n",
       "| -1.3494159 | -1.696572 |\n",
       "| -1.1346547 | -1.696572 |\n",
       "| -0.5619583 | -1.658498 |\n",
       "| -1.2062418 | -1.658498 |\n",
       "\n"
      ],
      "text/plain": [
       "     Age        Annual.Income..k..\n",
       "[1,] -1.4210029 -1.734646         \n",
       "[2,] -1.2778288 -1.734646         \n",
       "[3,] -1.3494159 -1.696572         \n",
       "[4,] -1.1346547 -1.696572         \n",
       "[5,] -0.5619583 -1.658498         \n",
       "[6,] -1.2062418 -1.658498         "
      ]
     },
     "metadata": {},
     "output_type": "display_data"
    }
   ],
   "source": [
    "# scaling the dataset\n",
    "customer_prep = scale(customer_prep)\n",
    "head(customer_prep)"
   ]
  },
  {
   "cell_type": "markdown",
   "metadata": {},
   "source": [
    "## Step 4: Finding optimal number of clusters"
   ]
  },
  {
   "cell_type": "markdown",
   "metadata": {},
   "source": [
    "Before we carry out the clustering, we need to find the optimal number of clusters for the above dataset. There are three methods to do so:\n",
    "1. Elbow method\n",
    "2. Silhoutte Method\n",
    "3. Gap Statistic\n",
    "\n",
    "We will use the Silhoutte Method to do so using silhoutte scores. Average Silhoutte scores measures the quality of clustering. The higher the score, the better the clustering.  We will use fviz_nbclust(x, FUNcluster , method = ) function where:\n",
    "1. x = dataframe\n",
    "2. FUNcluster = a partioning function. for eg. kmeans, hcut (for heirarchical clustering\n",
    "3. method = the method to be used to determine the optimal cluster"
   ]
  },
  {
   "cell_type": "code",
   "execution_count": 13,
   "metadata": {},
   "outputs": [
    {
     "data": {
      "image/png": "[encoded data removed]",
      "text/plain": [
       "plot without title"
      ]
     },
     "metadata": {
      "image/png": {
       "height": 420,
       "width": 420
      }
     },
     "output_type": "display_data"
    }
   ],
   "source": [
    "# elbow = wss\n",
    "# try few methods\n",
    "factoextra::fviz_nbclust(customer_prep, kmeans, method = \"silhouette\")+\n",
    "  labs(subtitle = \"Silhouette method\")"
   ]
  },
  {
   "cell_type": "markdown",
   "metadata": {},
   "source": [
    "Note: According to the average silhouette, the optimal number of clusters are 3. "
   ]
  },
  {
   "cell_type": "markdown",
   "metadata": {},
   "source": [
    "## STEP 5: Performing K-Means Algorithm"
   ]
  },
  {
   "cell_type": "markdown",
   "metadata": {},
   "source": [
    "We will use kmeans() function in cluster library in R to perform this.\n",
    "The two arguements used below are:\n",
    "1. x = dataset being used (mandatory input)\n",
    "2. centers = number of clusters (k) (mandatory input). We will use 3 in this case based on the optimal number of clusters"
   ]
  },
  {
   "cell_type": "code",
   "execution_count": 14,
   "metadata": {},
   "outputs": [
    {
     "data": {
      "text/plain": [
       "K-means clustering with 3 clusters of sizes 76, 62, 62\n",
       "\n",
       "Cluster means:\n",
       "         Age Annual.Income..k..\n",
       "1 -0.2784359          0.9660948\n",
       "2 -0.8725537         -0.8288562\n",
       "3  1.2138623         -0.3553890\n",
       "\n",
       "Clustering vector:\n",
       "  [1] 2 2 2 2 2 2 2 2 3 2 3 2 3 2 2 2 2 2 3 2 2 2 3 2 3 2 3 2 2 2 3 2 3 2 3 2 2\n",
       " [38] 2 2 2 3 2 3 2 3 2 3 2 2 2 3 2 2 3 3 3 3 3 2 3 3 2 3 3 3 2 3 3 2 2 3 3 3 3\n",
       " [75] 3 2 3 2 2 3 3 2 3 3 2 3 3 2 2 3 3 2 3 1 2 2 3 2 3 2 2 3 3 2 3 2 3 3 3 3 3\n",
       "[112] 2 1 2 2 2 3 3 3 3 1 1 1 1 1 1 1 1 3 1 3 1 1 1 1 1 1 1 1 1 3 1 1 1 1 1 1 1\n",
       "[149] 1 1 1 1 1 1 1 1 1 1 1 1 3 1 1 1 1 1 1 1 1 1 1 1 1 1 1 1 3 1 3 1 1 1 1 1 1\n",
       "[186] 1 1 1 1 1 1 1 1 1 1 1 1 1 1 1\n",
       "\n",
       "Within cluster sum of squares by cluster:\n",
       "[1] 51.66597 38.32968 42.19537\n",
       " (between_SS / total_SS =  66.8 %)\n",
       "\n",
       "Available components:\n",
       "\n",
       "[1] \"cluster\"      \"centers\"      \"totss\"        \"withinss\"     \"tot.withinss\"\n",
       "[6] \"betweenss\"    \"size\"         \"iter\"         \"ifault\"      "
      ]
     },
     "metadata": {},
     "output_type": "display_data"
    }
   ],
   "source": [
    "# This is an assignment of random state\n",
    "set.seed(2022)\n",
    "\n",
    "# creation of an object km which store the output of the function kmeans\n",
    "km = kmeans(x = customer_prep, centers = 3)\n",
    "km"
   ]
  },
  {
   "cell_type": "markdown",
   "metadata": {},
   "source": [
    "The most important components to note from the output of kmeans() function are:\n",
    "\n",
    "1. Cluster (Access line of code: km$clusters) : It is the vector of integers indicating the assignment of each observation to a particular cluster\n",
    "\n",
    "2. Totss (Access line of code: km$totts): returns the total sum of squares\n",
    "\n",
    "3. Centers (Access line of code: km$centers): returns the matrix of centers\n",
    "\n",
    "4. withinss (Access line of code: km$withinss): returns the within-cluster sum of squares\n",
    "\n",
    "5. tot.withinss (Access line of code: km$tot.withinss): returns the total within-cluster sum of squares\n",
    "\n",
    "6. size (Access line of code: km$size): returns the number of points in each cluster."
   ]
  },
  {
   "cell_type": "markdown",
   "metadata": {},
   "source": [
    "## Step 6: Data Visualation using scatter plot with clusters"
   ]
  },
  {
   "cell_type": "markdown",
   "metadata": {},
   "source": [
    "We use clusplot() function in cluster library to plot the clusters formed w.r.t Age and Income"
   ]
  },
  {
   "cell_type": "code",
   "execution_count": 15,
   "metadata": {},
   "outputs": [
    {
     "data": {
      "image/png": "[encoded data removed]",
      "text/plain": [
       "Plot with title \"Clusters of customers\""
      ]
     },
     "metadata": {
      "image/png": {
       "height": 420,
       "width": 420
      }
     },
     "output_type": "display_data"
    }
   ],
   "source": [
    "# contains the vector of integers indicating the assignment of each observation to a particular cluster\n",
    "k_means = km$cluster\n",
    "\n",
    "# using clusplot() function with various arguements to plot the clusters\n",
    "clusplot(customer_prep, k_means, shade = TRUE, color = TRUE, span = TRUE,\n",
    "         main = paste('Clusters of customers'), \n",
    "         xlab = 'Age',\n",
    "         ylab = 'Annual Income')"
   ]
  },
  {
   "cell_type": "markdown",
   "metadata": {},
   "source": [
    "This plot helps us to analyse the different clusters of customers formed so that we can target the respective clusters seperately in our marketing strategy."
   ]
  }
 ],
 "metadata": {
  "kernelspec": {
   "display_name": "R",
   "language": "R",
   "name": "ir"
  },
  "language_info": {
   "codemirror_mode": "r",
   "file_extension": ".r",
   "mimetype": "text/x-r-source",
   "name": "R",
   "pygments_lexer": "r",
   "version": "4.1.3"
  },
  "varInspector": {
   "cols": {
    "lenName": 16,
    "lenType": 16,
    "lenVar": 40
   },
   "kernels_config": {
    "python": {
     "delete_cmd_postfix": "",
     "delete_cmd_prefix": "del ",
     "library": "var_list.py",
     "varRefreshCmd": "print(var_dic_list())"
    },
    "r": {
     "delete_cmd_postfix": ") ",
     "delete_cmd_prefix": "rm(",
     "library": "var_list.r",
     "varRefreshCmd": "cat(var_dic_list()) "
    }
   },
   "types_to_exclude": [
    "module",
    "function",
    "builtin_function_or_method",
    "instance",
    "_Feature"
   ],
   "window_display": false
  }
 },
 "nbformat": 4,
 "nbformat_minor": 4
}
