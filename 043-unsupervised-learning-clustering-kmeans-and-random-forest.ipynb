{
 "cells": [
  {
   "cell_type": "markdown",
   "id": "c2414ff5",
   "metadata": {},
   "source": [
    "# Як кластеризація підвищує точність моделей \"з учителем\" (kmeans + renadomForest)"
   ]
  },
  {
   "cell_type": "markdown",
   "id": "639689a3-afbe-4929-a2c9-d951474b0d41",
   "metadata": {},
   "source": [
    "Курс: Математичне моделювання в R"
   ]
  },
  {
   "cell_type": "markdown",
   "id": "c7ced297",
   "metadata": {},
   "source": [
    "---"
   ]
  },
  {
   "cell_type": "markdown",
   "id": "9006a739-9719-49fe-a177-49bf5cdf5406",
   "metadata": {},
   "source": [
    "Увага. Для використання подібного підходу до підвищення точності прогнозів варто переконатися, що це працює."
   ]
  },
  {
   "cell_type": "code",
   "execution_count": 1,
   "id": "e2fedc40-9c87-43a1-9182-6e7aea8595c8",
   "metadata": {
    "vscode": {
     "languageId": "r"
    }
   },
   "outputs": [],
   "source": [
    "# install.packages(\"carData\")"
   ]
  },
  {
   "cell_type": "code",
   "execution_count": 2,
   "id": "3acad311-2893-45e8-b308-77e6208000ce",
   "metadata": {},
   "outputs": [
    {
     "name": "stderr",
     "output_type": "stream",
     "text": [
      "randomForest 4.7-1.1\n",
      "\n",
      "Type rfNews() to see new features/changes/bug fixes.\n",
      "\n",
      "\n",
      "Attaching package: 'dplyr'\n",
      "\n",
      "\n",
      "The following object is masked from 'package:randomForest':\n",
      "\n",
      "    combine\n",
      "\n",
      "\n",
      "The following objects are masked from 'package:stats':\n",
      "\n",
      "    filter, lag\n",
      "\n",
      "\n",
      "The following objects are masked from 'package:base':\n",
      "\n",
      "    intersect, setdiff, setequal, union\n",
      "\n",
      "\n"
     ]
    }
   ],
   "source": [
    "library(randomForest)\n",
    "library(cluster)\n",
    "library(modelr)\n",
    "library(dplyr)"
   ]
  },
  {
   "cell_type": "code",
   "execution_count": 3,
   "id": "4e02085c-30ab-48cc-b9f0-92c361fd2e73",
   "metadata": {
    "vscode": {
     "languageId": "r"
    }
   },
   "outputs": [
    {
     "data": {
      "text/html": [
       "'Ukrainian_Ukraine.1251'"
      ],
      "text/latex": [
       "'Ukrainian\\_Ukraine.1251'"
      ],
      "text/markdown": [
       "'Ukrainian_Ukraine.1251'"
      ],
      "text/plain": [
       "[1] \"Ukrainian_Ukraine.1251\""
      ]
     },
     "metadata": {},
     "output_type": "display_data"
    }
   ],
   "source": [
    "Sys.setlocale(\"LC_CTYPE\", \"ukrainian\")\n",
    "options(warn = -1)"
   ]
  },
  {
   "cell_type": "markdown",
   "id": "607361bd-ec64-40da-9d45-497af39439f0",
   "metadata": {},
   "source": [
    "## Набір даних"
   ]
  },
  {
   "cell_type": "markdown",
   "id": "2b42e836-2832-424c-a95d-b16f99edd692",
   "metadata": {},
   "source": [
    "Детальна інформація про набір даних вже описана у матеріалі \"Дерева рішень. Регресія. Баланс кредитної карти\" (Примітка. Додати лінк)"
   ]
  },
  {
   "cell_type": "code",
   "execution_count": 4,
   "id": "0adbaf10-aef3-4112-b866-bdf8ee2dfb15",
   "metadata": {},
   "outputs": [],
   "source": [
    "data <- read.csv(\"data/credit_card_balance.csv\")"
   ]
  },
  {
   "cell_type": "markdown",
   "id": "a57d3750-c013-4db1-b8e2-b5b91c718ee3",
   "metadata": {},
   "source": [
    "Переглянемо структуру даних:"
   ]
  },
  {
   "cell_type": "code",
   "execution_count": 5,
   "id": "ef5294f4-f217-47ec-8369-b6b7c9803718",
   "metadata": {
    "vscode": {
     "languageId": "r"
    }
   },
   "outputs": [
    {
     "name": "stdout",
     "output_type": "stream",
     "text": [
      "'data.frame':\t400 obs. of  12 variables:\n",
      " $ X        : int  1 2 3 4 5 6 7 8 9 10 ...\n",
      " $ Income   : num  14.9 106 104.6 148.9 55.9 ...\n",
      " $ Limit    : int  3606 6645 7075 9504 4897 8047 3388 7114 3300 6819 ...\n",
      " $ Rating   : int  283 483 514 681 357 569 259 512 266 491 ...\n",
      " $ Cards    : int  2 3 4 3 2 4 2 2 5 3 ...\n",
      " $ Age      : int  34 82 71 36 68 77 37 87 66 41 ...\n",
      " $ Education: int  11 15 11 11 16 10 12 9 13 19 ...\n",
      " $ Gender   : chr  \"Male\" \"Female\" \"Male\" \"Female\" ...\n",
      " $ Student  : chr  \"No\" \"Yes\" \"No\" \"No\" ...\n",
      " $ Married  : chr  \"Yes\" \"Yes\" \"No\" \"No\" ...\n",
      " $ Ethnicity: chr  \"Caucasian\" \"Asian\" \"Asian\" \"Asian\" ...\n",
      " $ Balance  : int  333 903 580 964 331 1151 203 872 279 1350 ...\n"
     ]
    }
   ],
   "source": [
    "str(data) "
   ]
  },
  {
   "cell_type": "markdown",
   "id": "02e1f9a3-8bb1-456e-89ca-e9c7d96bcbab",
   "metadata": {},
   "source": [
    "Підготуємо дані до моделювання. Перетворимо категоріальні показники до факторів:"
   ]
  },
  {
   "cell_type": "code",
   "execution_count": 6,
   "id": "3414ba7c-76c8-4968-9ebe-c007f4bf4626",
   "metadata": {},
   "outputs": [],
   "source": [
    "data$X <- NULL\n",
    "data$Gender <-  factor(data$Gender)\n",
    "data$Student <- factor(data$Student)\n",
    "data$Married <- factor(data$Married)\n",
    "data$Ethnicity <- factor(data$Ethnicity)"
   ]
  },
  {
   "cell_type": "markdown",
   "id": "8481ed4a-f865-4e70-9e9d-b88bfcfcfb30",
   "metadata": {},
   "source": [
    "---"
   ]
  },
  {
   "cell_type": "markdown",
   "id": "90914fdc-a581-45f8-a81a-0d780c385011",
   "metadata": {},
   "source": [
    "## Тренувальна та тестова вибірки"
   ]
  },
  {
   "cell_type": "markdown",
   "id": "024334f5-7a9e-49f0-8179-232399fa93f2",
   "metadata": {},
   "source": [
    "Розділимо на тестову та тренувальну вибірки:"
   ]
  },
  {
   "cell_type": "code",
   "execution_count": 7,
   "id": "028f7dca-dda3-46bb-bf46-13a971efb8c4",
   "metadata": {},
   "outputs": [
    {
     "data": {
      "text/html": [
       "200"
      ],
      "text/latex": [
       "200"
      ],
      "text/markdown": [
       "200"
      ],
      "text/plain": [
       "[1] 200"
      ]
     },
     "metadata": {},
     "output_type": "display_data"
    },
    {
     "data": {
      "text/html": [
       "200"
      ],
      "text/latex": [
       "200"
      ],
      "text/markdown": [
       "200"
      ],
      "text/plain": [
       "[1] 200"
      ]
     },
     "metadata": {},
     "output_type": "display_data"
    }
   ],
   "source": [
    "set.seed(2) \n",
    "train_index <- sample(nrow(data), size = 0.5*nrow(data))\n",
    "train_data <- data[train_index, ]\n",
    "test_data <- data[-train_index, ]\n",
    "nrow(train_data)\n",
    "nrow(test_data)"
   ]
  },
  {
   "cell_type": "markdown",
   "id": "4467ba4f-72d6-4ff1-ad3e-bbc4b3d40814",
   "metadata": {},
   "source": [
    "---"
   ]
  },
  {
   "cell_type": "markdown",
   "id": "f12abc29-ade1-4741-9a5d-29b1341d5066",
   "metadata": {},
   "source": [
    "## Побудова моделі на основі RandomForest"
   ]
  },
  {
   "cell_type": "code",
   "execution_count": 8,
   "id": "59c984b6-f274-4e24-8c14-a3352131da91",
   "metadata": {},
   "outputs": [
    {
     "data": {
      "text/plain": [
       "                Length Class  Mode     \n",
       "call              3    -none- call     \n",
       "type              1    -none- character\n",
       "predicted       200    -none- numeric  \n",
       "mse             500    -none- numeric  \n",
       "rsq             500    -none- numeric  \n",
       "oob.times       200    -none- numeric  \n",
       "importance       10    -none- numeric  \n",
       "importanceSD      0    -none- NULL     \n",
       "localImportance   0    -none- NULL     \n",
       "proximity         0    -none- NULL     \n",
       "ntree             1    -none- numeric  \n",
       "mtry              1    -none- numeric  \n",
       "forest           11    -none- list     \n",
       "coefs             0    -none- NULL     \n",
       "y               200    -none- numeric  \n",
       "test              0    -none- NULL     \n",
       "inbag             0    -none- NULL     \n",
       "terms             3    terms  call     "
      ]
     },
     "metadata": {},
     "output_type": "display_data"
    }
   ],
   "source": [
    "rf_m1 <-randomForest(Balance~.,data=train_data)\n",
    "summary(rf_m1)"
   ]
  },
  {
   "cell_type": "code",
   "execution_count": 9,
   "id": "4bbe4dd8-53b0-4027-9e44-4a08a47298c5",
   "metadata": {},
   "outputs": [
    {
     "data": {
      "text/html": [
       "<style>\n",
       ".dl-inline {width: auto; margin:0; padding: 0}\n",
       ".dl-inline>dt, .dl-inline>dd {float: none; width: auto; display: inline-block}\n",
       ".dl-inline>dt::after {content: \":\\0020\"; padding-right: .5ex}\n",
       ".dl-inline>dt:not(:first-of-type) {padding-left: .5ex}\n",
       "</style><dl class=dl-inline><dt>2</dt><dd>1038</dd><dt>4</dt><dd>1331</dd><dt>5</dt><dd>433</dd><dt>6</dt><dd>1010</dd><dt>7</dt><dd>182</dd><dt>10</dt><dd>1224</dd></dl>\n"
      ],
      "text/latex": [
       "\\begin{description*}\n",
       "\\item[2] 1038\n",
       "\\item[4] 1331\n",
       "\\item[5] 433\n",
       "\\item[6] 1010\n",
       "\\item[7] 182\n",
       "\\item[10] 1224\n",
       "\\end{description*}\n"
      ],
      "text/markdown": [
       "2\n",
       ":   10384\n",
       ":   13315\n",
       ":   4336\n",
       ":   10107\n",
       ":   18210\n",
       ":   1224\n",
       "\n"
      ],
      "text/plain": [
       "   2    4    5    6    7   10 \n",
       "1038 1331  433 1010  182 1224 "
      ]
     },
     "metadata": {},
     "output_type": "display_data"
    }
   ],
   "source": [
    "test_prediction1 <- round(predict(object=rf_m1, test_data))\n",
    "head(test_prediction1)"
   ]
  },
  {
   "cell_type": "markdown",
   "id": "3b269b7f-a0f1-41aa-85c4-5504d4ae73c9",
   "metadata": {},
   "source": [
    "Перевіримо детермінацію та похибки"
   ]
  },
  {
   "cell_type": "code",
   "execution_count": 10,
   "id": "4e7e4bbe-a2fe-4d30-beef-43c2769d789d",
   "metadata": {
    "vscode": {
     "languageId": "r"
    }
   },
   "outputs": [
    {
     "data": {
      "text/html": [
       "0.973839956466162"
      ],
      "text/latex": [
       "0.973839956466162"
      ],
      "text/markdown": [
       "0.973839956466162"
      ],
      "text/plain": [
       "[1] 0.97384"
      ]
     },
     "metadata": {},
     "output_type": "display_data"
    },
    {
     "data": {
      "text/html": [
       "0.883183673751305"
      ],
      "text/latex": [
       "0.883183673751305"
      ],
      "text/markdown": [
       "0.883183673751305"
      ],
      "text/plain": [
       "[1] 0.8831837"
      ]
     },
     "metadata": {},
     "output_type": "display_data"
    }
   ],
   "source": [
    "rsquare(rf_m1, data = train_data)\n",
    "rsquare(rf_m1, data = test_data)"
   ]
  },
  {
   "cell_type": "code",
   "execution_count": 11,
   "id": "81cb4b87-d6d5-4607-9b11-78845005f358",
   "metadata": {},
   "outputs": [
    {
     "data": {
      "text/html": [
       "76.9630101327789"
      ],
      "text/latex": [
       "76.9630101327789"
      ],
      "text/markdown": [
       "76.9630101327789"
      ],
      "text/plain": [
       "[1] 76.96301"
      ]
     },
     "metadata": {},
     "output_type": "display_data"
    },
    {
     "data": {
      "text/html": [
       "150.63563844498"
      ],
      "text/latex": [
       "150.63563844498"
      ],
      "text/markdown": [
       "150.63563844498"
      ],
      "text/plain": [
       "[1] 150.6356"
      ]
     },
     "metadata": {},
     "output_type": "display_data"
    }
   ],
   "source": [
    "rmse(rf_m1, data = train_data)\n",
    "rmse(rf_m1, data = test_data)"
   ]
  },
  {
   "cell_type": "markdown",
   "id": "5bde19bd-1766-446f-9fff-e62be2db0977",
   "metadata": {
    "vscode": {
     "languageId": "r"
    }
   },
   "source": [
    "---"
   ]
  },
  {
   "cell_type": "markdown",
   "id": "b943f0bc-5db9-430f-95ba-63f69c5db590",
   "metadata": {},
   "source": [
    "## Кластеризуємо числові дані"
   ]
  },
  {
   "cell_type": "markdown",
   "id": "5e02e5ef-6b55-423c-9f03-b30a1d10f1e2",
   "metadata": {},
   "source": [
    "Для початку об'єднаємо усі дані в один датасет, памятаємо, що пропорція розбиття `280/120` значень:"
   ]
  },
  {
   "cell_type": "code",
   "execution_count": 12,
   "id": "9ece53df-63dd-431b-818d-8b2e4b9eec90",
   "metadata": {},
   "outputs": [],
   "source": [
    "data <- train_data |> bind_rows(test_data)"
   ]
  },
  {
   "cell_type": "markdown",
   "id": "0abbf127-cfc6-400a-af6b-118152a282ef",
   "metadata": {},
   "source": [
    "Згенеруємо, наприклад, 5 кластерів длише для числових показників без параметру `Balance` (чому без балансу?):"
   ]
  },
  {
   "cell_type": "code",
   "execution_count": 13,
   "id": "1c9ae665-73b7-478e-9fb7-69ce49143130",
   "metadata": {},
   "outputs": [
    {
     "data": {
      "text/html": [
       "<table class=\"dataframe\">\n",
       "<caption>A data.frame: 6 × 6</caption>\n",
       "<thead>\n",
       "\t<tr><th></th><th scope=col>Income</th><th scope=col>Limit</th><th scope=col>Rating</th><th scope=col>Cards</th><th scope=col>Age</th><th scope=col>Education</th></tr>\n",
       "\t<tr><th></th><th scope=col>&lt;dbl&gt;</th><th scope=col>&lt;int&gt;</th><th scope=col>&lt;int&gt;</th><th scope=col>&lt;int&gt;</th><th scope=col>&lt;int&gt;</th><th scope=col>&lt;int&gt;</th></tr>\n",
       "</thead>\n",
       "<tbody>\n",
       "\t<tr><th scope=row>1</th><td> 27.794</td><td>3807</td><td>301</td><td>4</td><td>35</td><td> 8</td></tr>\n",
       "\t<tr><th scope=row>2</th><td> 50.699</td><td>3977</td><td>304</td><td>2</td><td>84</td><td>17</td></tr>\n",
       "\t<tr><th scope=row>3</th><td>180.379</td><td>9310</td><td>665</td><td>3</td><td>67</td><td> 8</td></tr>\n",
       "\t<tr><th scope=row>4</th><td> 73.327</td><td>6555</td><td>472</td><td>2</td><td>43</td><td>15</td></tr>\n",
       "\t<tr><th scope=row>5</th><td> 30.413</td><td>3690</td><td>299</td><td>2</td><td>25</td><td>15</td></tr>\n",
       "\t<tr><th scope=row>6</th><td> 13.433</td><td>1134</td><td>112</td><td>3</td><td>70</td><td>14</td></tr>\n",
       "</tbody>\n",
       "</table>\n"
      ],
      "text/latex": [
       "A data.frame: 6 × 6\n",
       "\\begin{tabular}{r|llllll}\n",
       "  & Income & Limit & Rating & Cards & Age & Education\\\\\n",
       "  & <dbl> & <int> & <int> & <int> & <int> & <int>\\\\\n",
       "\\hline\n",
       "\t1 &  27.794 & 3807 & 301 & 4 & 35 &  8\\\\\n",
       "\t2 &  50.699 & 3977 & 304 & 2 & 84 & 17\\\\\n",
       "\t3 & 180.379 & 9310 & 665 & 3 & 67 &  8\\\\\n",
       "\t4 &  73.327 & 6555 & 472 & 2 & 43 & 15\\\\\n",
       "\t5 &  30.413 & 3690 & 299 & 2 & 25 & 15\\\\\n",
       "\t6 &  13.433 & 1134 & 112 & 3 & 70 & 14\\\\\n",
       "\\end{tabular}\n"
      ],
      "text/markdown": [
       "\n",
       "A data.frame: 6 × 6\n",
       "\n",
       "| <!--/--> | Income &lt;dbl&gt; | Limit &lt;int&gt; | Rating &lt;int&gt; | Cards &lt;int&gt; | Age &lt;int&gt; | Education &lt;int&gt; |\n",
       "|---|---|---|---|---|---|---|\n",
       "| 1 |  27.794 | 3807 | 301 | 4 | 35 |  8 |\n",
       "| 2 |  50.699 | 3977 | 304 | 2 | 84 | 17 |\n",
       "| 3 | 180.379 | 9310 | 665 | 3 | 67 |  8 |\n",
       "| 4 |  73.327 | 6555 | 472 | 2 | 43 | 15 |\n",
       "| 5 |  30.413 | 3690 | 299 | 2 | 25 | 15 |\n",
       "| 6 |  13.433 | 1134 | 112 | 3 | 70 | 14 |\n",
       "\n"
      ],
      "text/plain": [
       "  Income  Limit Rating Cards Age Education\n",
       "1  27.794 3807  301    4     35   8       \n",
       "2  50.699 3977  304    2     84  17       \n",
       "3 180.379 9310  665    3     67   8       \n",
       "4  73.327 6555  472    2     43  15       \n",
       "5  30.413 3690  299    2     25  15       \n",
       "6  13.433 1134  112    3     70  14       "
      ]
     },
     "metadata": {},
     "output_type": "display_data"
    }
   ],
   "source": [
    "data_k <- data |>\n",
    "    select(-Balance) |>\n",
    "    select_if(is.numeric)\n",
    "head(data_k)"
   ]
  },
  {
   "cell_type": "code",
   "execution_count": 14,
   "id": "3257b006-30b8-44f9-b5f7-ab22594f4589",
   "metadata": {},
   "outputs": [
    {
     "data": {
      "text/html": [
       "<style>\n",
       ".list-inline {list-style: none; margin:0; padding: 0}\n",
       ".list-inline>li {display: inline-block}\n",
       ".list-inline>li:not(:last-child)::after {content: \"\\00b7\"; padding: 0 .5ex}\n",
       "</style>\n",
       "<ol class=list-inline><li>3</li><li>3</li><li>1</li><li>2</li><li>3</li><li>4</li><li>2</li><li>2</li><li>3</li><li>3</li><li>3</li><li>3</li><li>4</li><li>2</li><li>3</li><li>4</li><li>4</li><li>3</li><li>3</li><li>3</li><li>3</li><li>4</li><li>4</li><li>2</li><li>4</li><li>4</li><li>3</li><li>2</li><li>3</li><li>3</li><li>3</li><li>3</li><li>4</li><li>3</li><li>4</li><li>2</li><li>2</li><li>2</li><li>3</li><li>3</li><li>3</li><li>2</li><li>3</li><li>2</li><li>4</li><li>2</li><li>2</li><li>3</li><li>4</li><li>3</li><li>1</li><li>4</li><li>2</li><li>2</li><li>4</li><li>4</li><li>4</li><li>1</li><li>4</li><li>3</li><li>3</li><li>3</li><li>4</li><li>3</li><li>2</li><li>2</li><li>4</li><li>3</li><li>3</li><li>3</li><li>3</li><li>2</li><li>4</li><li>3</li><li>4</li><li>4</li><li>3</li><li>3</li><li>2</li><li>4</li><li>4</li><li>4</li><li>1</li><li>4</li><li>3</li><li>4</li><li>3</li><li>1</li><li>3</li><li>4</li><li>3</li><li>3</li><li>3</li><li>3</li><li>3</li><li>4</li><li>4</li><li>3</li><li>3</li><li>2</li><li>3</li><li>2</li><li>3</li><li>2</li><li>4</li><li>2</li><li>2</li><li>4</li><li>2</li><li>1</li><li>3</li><li>4</li><li>3</li><li>4</li><li>2</li><li>4</li><li>4</li><li>4</li><li>3</li><li>1</li><li>3</li><li>3</li><li>3</li><li>3</li><li>3</li><li>2</li><li>4</li><li>2</li><li>3</li><li>4</li><li>4</li><li>4</li><li>2</li><li>3</li><li>3</li><li>4</li><li>4</li><li>1</li><li>3</li><li>2</li><li>4</li><li>4</li><li>4</li><li>2</li><li>4</li><li>3</li><li>4</li><li>3</li><li>3</li><li>4</li><li>3</li><li>4</li><li>4</li><li>4</li><li>1</li><li>4</li><li>4</li><li>4</li><li>2</li><li>4</li><li>3</li><li>4</li><li>4</li><li>2</li><li>3</li><li>4</li><li>2</li><li>3</li><li>3</li><li>3</li><li>2</li><li>4</li><li>2</li><li>3</li><li>4</li><li>4</li><li>4</li><li>2</li><li>3</li><li>3</li><li>2</li><li>2</li><li>4</li><li>3</li><li>2</li><li>4</li><li>1</li><li>4</li><li>1</li><li>4</li><li>4</li><li>3</li><li>2</li><li>3</li><li>4</li><li>3</li><li>3</li><li>1</li><li>2</li><li>4</li><li>2</li><li>1</li><li>3</li><li>2</li><li>4</li><li>2</li><li>4</li><li>3</li><li>2</li><li>2</li><li>4</li><li>2</li><li>3</li><li>3</li><li>4</li><li>3</li><li>3</li><li>4</li><li>2</li><li>3</li><li>4</li><li>4</li><li>2</li><li>3</li><li>3</li><li>4</li><li>3</li><li>4</li><li>3</li><li>3</li><li>4</li><li>3</li><li>3</li><li>4</li><li>4</li><li>3</li><li>3</li><li>3</li><li>3</li><li>3</li><li>3</li><li>4</li><li>4</li><li>2</li><li>2</li><li>4</li><li>3</li><li>4</li><li>3</li><li>1</li><li>3</li><li>4</li><li>2</li><li>2</li><li>4</li><li>3</li><li>4</li><li>4</li><li>4</li><li>4</li><li>2</li><li>2</li><li>4</li><li>4</li><li>4</li><li>4</li><li>3</li><li>1</li><li>3</li><li>4</li><li>3</li><li>3</li><li>3</li><li>3</li><li>4</li><li>3</li><li>4</li><li>2</li><li>4</li><li>4</li><li>2</li><li>3</li><li>3</li><li>3</li><li>2</li><li>3</li><li>4</li><li>3</li><li>1</li><li>4</li><li>3</li><li>2</li><li>4</li><li>3</li><li>4</li><li>3</li><li>1</li><li>4</li><li>3</li><li>3</li><li>3</li><li>4</li><li>3</li><li>2</li><li>2</li><li>2</li><li>3</li><li>3</li><li>2</li><li>4</li><li>3</li><li>4</li><li>4</li><li>4</li><li>4</li><li>4</li><li>4</li><li>4</li><li>3</li><li>2</li><li>3</li><li>4</li><li>4</li><li>3</li><li>4</li><li>3</li><li>3</li><li>3</li><li>4</li><li>3</li><li>2</li><li>4</li><li>4</li><li>2</li><li>2</li><li>4</li><li>4</li><li>4</li><li>4</li><li>3</li><li>1</li><li>4</li><li>4</li><li>3</li><li>4</li><li>3</li><li>2</li><li>3</li><li>3</li><li>2</li><li>3</li><li>3</li><li>2</li><li>3</li><li>2</li><li>3</li><li>4</li><li>4</li><li>4</li><li>4</li><li>1</li><li>4</li><li>3</li><li>3</li><li>3</li><li>3</li><li>3</li><li>4</li><li>1</li><li>3</li><li>3</li><li>4</li><li>3</li><li>1</li><li>4</li><li>3</li><li>2</li><li>3</li><li>3</li><li>1</li><li>4</li><li>3</li><li>3</li><li>3</li><li>2</li><li>2</li><li>3</li><li>4</li><li>3</li><li>3</li><li>3</li><li>3</li><li>4</li><li>3</li><li>4</li><li>3</li><li>2</li><li>3</li><li>4</li><li>3</li></ol>\n"
      ],
      "text/latex": [
       "\\begin{enumerate*}\n",
       "\\item 3\n",
       "\\item 3\n",
       "\\item 1\n",
       "\\item 2\n",
       "\\item 3\n",
       "\\item 4\n",
       "\\item 2\n",
       "\\item 2\n",
       "\\item 3\n",
       "\\item 3\n",
       "\\item 3\n",
       "\\item 3\n",
       "\\item 4\n",
       "\\item 2\n",
       "\\item 3\n",
       "\\item 4\n",
       "\\item 4\n",
       "\\item 3\n",
       "\\item 3\n",
       "\\item 3\n",
       "\\item 3\n",
       "\\item 4\n",
       "\\item 4\n",
       "\\item 2\n",
       "\\item 4\n",
       "\\item 4\n",
       "\\item 3\n",
       "\\item 2\n",
       "\\item 3\n",
       "\\item 3\n",
       "\\item 3\n",
       "\\item 3\n",
       "\\item 4\n",
       "\\item 3\n",
       "\\item 4\n",
       "\\item 2\n",
       "\\item 2\n",
       "\\item 2\n",
       "\\item 3\n",
       "\\item 3\n",
       "\\item 3\n",
       "\\item 2\n",
       "\\item 3\n",
       "\\item 2\n",
       "\\item 4\n",
       "\\item 2\n",
       "\\item 2\n",
       "\\item 3\n",
       "\\item 4\n",
       "\\item 3\n",
       "\\item 1\n",
       "\\item 4\n",
       "\\item 2\n",
       "\\item 2\n",
       "\\item 4\n",
       "\\item 4\n",
       "\\item 4\n",
       "\\item 1\n",
       "\\item 4\n",
       "\\item 3\n",
       "\\item 3\n",
       "\\item 3\n",
       "\\item 4\n",
       "\\item 3\n",
       "\\item 2\n",
       "\\item 2\n",
       "\\item 4\n",
       "\\item 3\n",
       "\\item 3\n",
       "\\item 3\n",
       "\\item 3\n",
       "\\item 2\n",
       "\\item 4\n",
       "\\item 3\n",
       "\\item 4\n",
       "\\item 4\n",
       "\\item 3\n",
       "\\item 3\n",
       "\\item 2\n",
       "\\item 4\n",
       "\\item 4\n",
       "\\item 4\n",
       "\\item 1\n",
       "\\item 4\n",
       "\\item 3\n",
       "\\item 4\n",
       "\\item 3\n",
       "\\item 1\n",
       "\\item 3\n",
       "\\item 4\n",
       "\\item 3\n",
       "\\item 3\n",
       "\\item 3\n",
       "\\item 3\n",
       "\\item 3\n",
       "\\item 4\n",
       "\\item 4\n",
       "\\item 3\n",
       "\\item 3\n",
       "\\item 2\n",
       "\\item 3\n",
       "\\item 2\n",
       "\\item 3\n",
       "\\item 2\n",
       "\\item 4\n",
       "\\item 2\n",
       "\\item 2\n",
       "\\item 4\n",
       "\\item 2\n",
       "\\item 1\n",
       "\\item 3\n",
       "\\item 4\n",
       "\\item 3\n",
       "\\item 4\n",
       "\\item 2\n",
       "\\item 4\n",
       "\\item 4\n",
       "\\item 4\n",
       "\\item 3\n",
       "\\item 1\n",
       "\\item 3\n",
       "\\item 3\n",
       "\\item 3\n",
       "\\item 3\n",
       "\\item 3\n",
       "\\item 2\n",
       "\\item 4\n",
       "\\item 2\n",
       "\\item 3\n",
       "\\item 4\n",
       "\\item 4\n",
       "\\item 4\n",
       "\\item 2\n",
       "\\item 3\n",
       "\\item 3\n",
       "\\item 4\n",
       "\\item 4\n",
       "\\item 1\n",
       "\\item 3\n",
       "\\item 2\n",
       "\\item 4\n",
       "\\item 4\n",
       "\\item 4\n",
       "\\item 2\n",
       "\\item 4\n",
       "\\item 3\n",
       "\\item 4\n",
       "\\item 3\n",
       "\\item 3\n",
       "\\item 4\n",
       "\\item 3\n",
       "\\item 4\n",
       "\\item 4\n",
       "\\item 4\n",
       "\\item 1\n",
       "\\item 4\n",
       "\\item 4\n",
       "\\item 4\n",
       "\\item 2\n",
       "\\item 4\n",
       "\\item 3\n",
       "\\item 4\n",
       "\\item 4\n",
       "\\item 2\n",
       "\\item 3\n",
       "\\item 4\n",
       "\\item 2\n",
       "\\item 3\n",
       "\\item 3\n",
       "\\item 3\n",
       "\\item 2\n",
       "\\item 4\n",
       "\\item 2\n",
       "\\item 3\n",
       "\\item 4\n",
       "\\item 4\n",
       "\\item 4\n",
       "\\item 2\n",
       "\\item 3\n",
       "\\item 3\n",
       "\\item 2\n",
       "\\item 2\n",
       "\\item 4\n",
       "\\item 3\n",
       "\\item 2\n",
       "\\item 4\n",
       "\\item 1\n",
       "\\item 4\n",
       "\\item 1\n",
       "\\item 4\n",
       "\\item 4\n",
       "\\item 3\n",
       "\\item 2\n",
       "\\item 3\n",
       "\\item 4\n",
       "\\item 3\n",
       "\\item 3\n",
       "\\item 1\n",
       "\\item 2\n",
       "\\item 4\n",
       "\\item 2\n",
       "\\item 1\n",
       "\\item 3\n",
       "\\item 2\n",
       "\\item 4\n",
       "\\item 2\n",
       "\\item 4\n",
       "\\item 3\n",
       "\\item 2\n",
       "\\item 2\n",
       "\\item 4\n",
       "\\item 2\n",
       "\\item 3\n",
       "\\item 3\n",
       "\\item 4\n",
       "\\item 3\n",
       "\\item 3\n",
       "\\item 4\n",
       "\\item 2\n",
       "\\item 3\n",
       "\\item 4\n",
       "\\item 4\n",
       "\\item 2\n",
       "\\item 3\n",
       "\\item 3\n",
       "\\item 4\n",
       "\\item 3\n",
       "\\item 4\n",
       "\\item 3\n",
       "\\item 3\n",
       "\\item 4\n",
       "\\item 3\n",
       "\\item 3\n",
       "\\item 4\n",
       "\\item 4\n",
       "\\item 3\n",
       "\\item 3\n",
       "\\item 3\n",
       "\\item 3\n",
       "\\item 3\n",
       "\\item 3\n",
       "\\item 4\n",
       "\\item 4\n",
       "\\item 2\n",
       "\\item 2\n",
       "\\item 4\n",
       "\\item 3\n",
       "\\item 4\n",
       "\\item 3\n",
       "\\item 1\n",
       "\\item 3\n",
       "\\item 4\n",
       "\\item 2\n",
       "\\item 2\n",
       "\\item 4\n",
       "\\item 3\n",
       "\\item 4\n",
       "\\item 4\n",
       "\\item 4\n",
       "\\item 4\n",
       "\\item 2\n",
       "\\item 2\n",
       "\\item 4\n",
       "\\item 4\n",
       "\\item 4\n",
       "\\item 4\n",
       "\\item 3\n",
       "\\item 1\n",
       "\\item 3\n",
       "\\item 4\n",
       "\\item 3\n",
       "\\item 3\n",
       "\\item 3\n",
       "\\item 3\n",
       "\\item 4\n",
       "\\item 3\n",
       "\\item 4\n",
       "\\item 2\n",
       "\\item 4\n",
       "\\item 4\n",
       "\\item 2\n",
       "\\item 3\n",
       "\\item 3\n",
       "\\item 3\n",
       "\\item 2\n",
       "\\item 3\n",
       "\\item 4\n",
       "\\item 3\n",
       "\\item 1\n",
       "\\item 4\n",
       "\\item 3\n",
       "\\item 2\n",
       "\\item 4\n",
       "\\item 3\n",
       "\\item 4\n",
       "\\item 3\n",
       "\\item 1\n",
       "\\item 4\n",
       "\\item 3\n",
       "\\item 3\n",
       "\\item 3\n",
       "\\item 4\n",
       "\\item 3\n",
       "\\item 2\n",
       "\\item 2\n",
       "\\item 2\n",
       "\\item 3\n",
       "\\item 3\n",
       "\\item 2\n",
       "\\item 4\n",
       "\\item 3\n",
       "\\item 4\n",
       "\\item 4\n",
       "\\item 4\n",
       "\\item 4\n",
       "\\item 4\n",
       "\\item 4\n",
       "\\item 4\n",
       "\\item 3\n",
       "\\item 2\n",
       "\\item 3\n",
       "\\item 4\n",
       "\\item 4\n",
       "\\item 3\n",
       "\\item 4\n",
       "\\item 3\n",
       "\\item 3\n",
       "\\item 3\n",
       "\\item 4\n",
       "\\item 3\n",
       "\\item 2\n",
       "\\item 4\n",
       "\\item 4\n",
       "\\item 2\n",
       "\\item 2\n",
       "\\item 4\n",
       "\\item 4\n",
       "\\item 4\n",
       "\\item 4\n",
       "\\item 3\n",
       "\\item 1\n",
       "\\item 4\n",
       "\\item 4\n",
       "\\item 3\n",
       "\\item 4\n",
       "\\item 3\n",
       "\\item 2\n",
       "\\item 3\n",
       "\\item 3\n",
       "\\item 2\n",
       "\\item 3\n",
       "\\item 3\n",
       "\\item 2\n",
       "\\item 3\n",
       "\\item 2\n",
       "\\item 3\n",
       "\\item 4\n",
       "\\item 4\n",
       "\\item 4\n",
       "\\item 4\n",
       "\\item 1\n",
       "\\item 4\n",
       "\\item 3\n",
       "\\item 3\n",
       "\\item 3\n",
       "\\item 3\n",
       "\\item 3\n",
       "\\item 4\n",
       "\\item 1\n",
       "\\item 3\n",
       "\\item 3\n",
       "\\item 4\n",
       "\\item 3\n",
       "\\item 1\n",
       "\\item 4\n",
       "\\item 3\n",
       "\\item 2\n",
       "\\item 3\n",
       "\\item 3\n",
       "\\item 1\n",
       "\\item 4\n",
       "\\item 3\n",
       "\\item 3\n",
       "\\item 3\n",
       "\\item 2\n",
       "\\item 2\n",
       "\\item 3\n",
       "\\item 4\n",
       "\\item 3\n",
       "\\item 3\n",
       "\\item 3\n",
       "\\item 3\n",
       "\\item 4\n",
       "\\item 3\n",
       "\\item 4\n",
       "\\item 3\n",
       "\\item 2\n",
       "\\item 3\n",
       "\\item 4\n",
       "\\item 3\n",
       "\\end{enumerate*}\n"
      ],
      "text/markdown": [
       "1. 3\n",
       "2. 3\n",
       "3. 1\n",
       "4. 2\n",
       "5. 3\n",
       "6. 4\n",
       "7. 2\n",
       "8. 2\n",
       "9. 3\n",
       "10. 3\n",
       "11. 3\n",
       "12. 3\n",
       "13. 4\n",
       "14. 2\n",
       "15. 3\n",
       "16. 4\n",
       "17. 4\n",
       "18. 3\n",
       "19. 3\n",
       "20. 3\n",
       "21. 3\n",
       "22. 4\n",
       "23. 4\n",
       "24. 2\n",
       "25. 4\n",
       "26. 4\n",
       "27. 3\n",
       "28. 2\n",
       "29. 3\n",
       "30. 3\n",
       "31. 3\n",
       "32. 3\n",
       "33. 4\n",
       "34. 3\n",
       "35. 4\n",
       "36. 2\n",
       "37. 2\n",
       "38. 2\n",
       "39. 3\n",
       "40. 3\n",
       "41. 3\n",
       "42. 2\n",
       "43. 3\n",
       "44. 2\n",
       "45. 4\n",
       "46. 2\n",
       "47. 2\n",
       "48. 3\n",
       "49. 4\n",
       "50. 3\n",
       "51. 1\n",
       "52. 4\n",
       "53. 2\n",
       "54. 2\n",
       "55. 4\n",
       "56. 4\n",
       "57. 4\n",
       "58. 1\n",
       "59. 4\n",
       "60. 3\n",
       "61. 3\n",
       "62. 3\n",
       "63. 4\n",
       "64. 3\n",
       "65. 2\n",
       "66. 2\n",
       "67. 4\n",
       "68. 3\n",
       "69. 3\n",
       "70. 3\n",
       "71. 3\n",
       "72. 2\n",
       "73. 4\n",
       "74. 3\n",
       "75. 4\n",
       "76. 4\n",
       "77. 3\n",
       "78. 3\n",
       "79. 2\n",
       "80. 4\n",
       "81. 4\n",
       "82. 4\n",
       "83. 1\n",
       "84. 4\n",
       "85. 3\n",
       "86. 4\n",
       "87. 3\n",
       "88. 1\n",
       "89. 3\n",
       "90. 4\n",
       "91. 3\n",
       "92. 3\n",
       "93. 3\n",
       "94. 3\n",
       "95. 3\n",
       "96. 4\n",
       "97. 4\n",
       "98. 3\n",
       "99. 3\n",
       "100. 2\n",
       "101. 3\n",
       "102. 2\n",
       "103. 3\n",
       "104. 2\n",
       "105. 4\n",
       "106. 2\n",
       "107. 2\n",
       "108. 4\n",
       "109. 2\n",
       "110. 1\n",
       "111. 3\n",
       "112. 4\n",
       "113. 3\n",
       "114. 4\n",
       "115. 2\n",
       "116. 4\n",
       "117. 4\n",
       "118. 4\n",
       "119. 3\n",
       "120. 1\n",
       "121. 3\n",
       "122. 3\n",
       "123. 3\n",
       "124. 3\n",
       "125. 3\n",
       "126. 2\n",
       "127. 4\n",
       "128. 2\n",
       "129. 3\n",
       "130. 4\n",
       "131. 4\n",
       "132. 4\n",
       "133. 2\n",
       "134. 3\n",
       "135. 3\n",
       "136. 4\n",
       "137. 4\n",
       "138. 1\n",
       "139. 3\n",
       "140. 2\n",
       "141. 4\n",
       "142. 4\n",
       "143. 4\n",
       "144. 2\n",
       "145. 4\n",
       "146. 3\n",
       "147. 4\n",
       "148. 3\n",
       "149. 3\n",
       "150. 4\n",
       "151. 3\n",
       "152. 4\n",
       "153. 4\n",
       "154. 4\n",
       "155. 1\n",
       "156. 4\n",
       "157. 4\n",
       "158. 4\n",
       "159. 2\n",
       "160. 4\n",
       "161. 3\n",
       "162. 4\n",
       "163. 4\n",
       "164. 2\n",
       "165. 3\n",
       "166. 4\n",
       "167. 2\n",
       "168. 3\n",
       "169. 3\n",
       "170. 3\n",
       "171. 2\n",
       "172. 4\n",
       "173. 2\n",
       "174. 3\n",
       "175. 4\n",
       "176. 4\n",
       "177. 4\n",
       "178. 2\n",
       "179. 3\n",
       "180. 3\n",
       "181. 2\n",
       "182. 2\n",
       "183. 4\n",
       "184. 3\n",
       "185. 2\n",
       "186. 4\n",
       "187. 1\n",
       "188. 4\n",
       "189. 1\n",
       "190. 4\n",
       "191. 4\n",
       "192. 3\n",
       "193. 2\n",
       "194. 3\n",
       "195. 4\n",
       "196. 3\n",
       "197. 3\n",
       "198. 1\n",
       "199. 2\n",
       "200. 4\n",
       "201. 2\n",
       "202. 1\n",
       "203. 3\n",
       "204. 2\n",
       "205. 4\n",
       "206. 2\n",
       "207. 4\n",
       "208. 3\n",
       "209. 2\n",
       "210. 2\n",
       "211. 4\n",
       "212. 2\n",
       "213. 3\n",
       "214. 3\n",
       "215. 4\n",
       "216. 3\n",
       "217. 3\n",
       "218. 4\n",
       "219. 2\n",
       "220. 3\n",
       "221. 4\n",
       "222. 4\n",
       "223. 2\n",
       "224. 3\n",
       "225. 3\n",
       "226. 4\n",
       "227. 3\n",
       "228. 4\n",
       "229. 3\n",
       "230. 3\n",
       "231. 4\n",
       "232. 3\n",
       "233. 3\n",
       "234. 4\n",
       "235. 4\n",
       "236. 3\n",
       "237. 3\n",
       "238. 3\n",
       "239. 3\n",
       "240. 3\n",
       "241. 3\n",
       "242. 4\n",
       "243. 4\n",
       "244. 2\n",
       "245. 2\n",
       "246. 4\n",
       "247. 3\n",
       "248. 4\n",
       "249. 3\n",
       "250. 1\n",
       "251. 3\n",
       "252. 4\n",
       "253. 2\n",
       "254. 2\n",
       "255. 4\n",
       "256. 3\n",
       "257. 4\n",
       "258. 4\n",
       "259. 4\n",
       "260. 4\n",
       "261. 2\n",
       "262. 2\n",
       "263. 4\n",
       "264. 4\n",
       "265. 4\n",
       "266. 4\n",
       "267. 3\n",
       "268. 1\n",
       "269. 3\n",
       "270. 4\n",
       "271. 3\n",
       "272. 3\n",
       "273. 3\n",
       "274. 3\n",
       "275. 4\n",
       "276. 3\n",
       "277. 4\n",
       "278. 2\n",
       "279. 4\n",
       "280. 4\n",
       "281. 2\n",
       "282. 3\n",
       "283. 3\n",
       "284. 3\n",
       "285. 2\n",
       "286. 3\n",
       "287. 4\n",
       "288. 3\n",
       "289. 1\n",
       "290. 4\n",
       "291. 3\n",
       "292. 2\n",
       "293. 4\n",
       "294. 3\n",
       "295. 4\n",
       "296. 3\n",
       "297. 1\n",
       "298. 4\n",
       "299. 3\n",
       "300. 3\n",
       "301. 3\n",
       "302. 4\n",
       "303. 3\n",
       "304. 2\n",
       "305. 2\n",
       "306. 2\n",
       "307. 3\n",
       "308. 3\n",
       "309. 2\n",
       "310. 4\n",
       "311. 3\n",
       "312. 4\n",
       "313. 4\n",
       "314. 4\n",
       "315. 4\n",
       "316. 4\n",
       "317. 4\n",
       "318. 4\n",
       "319. 3\n",
       "320. 2\n",
       "321. 3\n",
       "322. 4\n",
       "323. 4\n",
       "324. 3\n",
       "325. 4\n",
       "326. 3\n",
       "327. 3\n",
       "328. 3\n",
       "329. 4\n",
       "330. 3\n",
       "331. 2\n",
       "332. 4\n",
       "333. 4\n",
       "334. 2\n",
       "335. 2\n",
       "336. 4\n",
       "337. 4\n",
       "338. 4\n",
       "339. 4\n",
       "340. 3\n",
       "341. 1\n",
       "342. 4\n",
       "343. 4\n",
       "344. 3\n",
       "345. 4\n",
       "346. 3\n",
       "347. 2\n",
       "348. 3\n",
       "349. 3\n",
       "350. 2\n",
       "351. 3\n",
       "352. 3\n",
       "353. 2\n",
       "354. 3\n",
       "355. 2\n",
       "356. 3\n",
       "357. 4\n",
       "358. 4\n",
       "359. 4\n",
       "360. 4\n",
       "361. 1\n",
       "362. 4\n",
       "363. 3\n",
       "364. 3\n",
       "365. 3\n",
       "366. 3\n",
       "367. 3\n",
       "368. 4\n",
       "369. 1\n",
       "370. 3\n",
       "371. 3\n",
       "372. 4\n",
       "373. 3\n",
       "374. 1\n",
       "375. 4\n",
       "376. 3\n",
       "377. 2\n",
       "378. 3\n",
       "379. 3\n",
       "380. 1\n",
       "381. 4\n",
       "382. 3\n",
       "383. 3\n",
       "384. 3\n",
       "385. 2\n",
       "386. 2\n",
       "387. 3\n",
       "388. 4\n",
       "389. 3\n",
       "390. 3\n",
       "391. 3\n",
       "392. 3\n",
       "393. 4\n",
       "394. 3\n",
       "395. 4\n",
       "396. 3\n",
       "397. 2\n",
       "398. 3\n",
       "399. 4\n",
       "400. 3\n",
       "\n",
       "\n"
      ],
      "text/plain": [
       "  [1] 3 3 1 2 3 4 2 2 3 3 3 3 4 2 3 4 4 3 3 3 3 4 4 2 4 4 3 2 3 3 3 3 4 3 4 2 2\n",
       " [38] 2 3 3 3 2 3 2 4 2 2 3 4 3 1 4 2 2 4 4 4 1 4 3 3 3 4 3 2 2 4 3 3 3 3 2 4 3\n",
       " [75] 4 4 3 3 2 4 4 4 1 4 3 4 3 1 3 4 3 3 3 3 3 4 4 3 3 2 3 2 3 2 4 2 2 4 2 1 3\n",
       "[112] 4 3 4 2 4 4 4 3 1 3 3 3 3 3 2 4 2 3 4 4 4 2 3 3 4 4 1 3 2 4 4 4 2 4 3 4 3\n",
       "[149] 3 4 3 4 4 4 1 4 4 4 2 4 3 4 4 2 3 4 2 3 3 3 2 4 2 3 4 4 4 2 3 3 2 2 4 3 2\n",
       "[186] 4 1 4 1 4 4 3 2 3 4 3 3 1 2 4 2 1 3 2 4 2 4 3 2 2 4 2 3 3 4 3 3 4 2 3 4 4\n",
       "[223] 2 3 3 4 3 4 3 3 4 3 3 4 4 3 3 3 3 3 3 4 4 2 2 4 3 4 3 1 3 4 2 2 4 3 4 4 4\n",
       "[260] 4 2 2 4 4 4 4 3 1 3 4 3 3 3 3 4 3 4 2 4 4 2 3 3 3 2 3 4 3 1 4 3 2 4 3 4 3\n",
       "[297] 1 4 3 3 3 4 3 2 2 2 3 3 2 4 3 4 4 4 4 4 4 4 3 2 3 4 4 3 4 3 3 3 4 3 2 4 4\n",
       "[334] 2 2 4 4 4 4 3 1 4 4 3 4 3 2 3 3 2 3 3 2 3 2 3 4 4 4 4 1 4 3 3 3 3 3 4 1 3\n",
       "[371] 3 4 3 1 4 3 2 3 3 1 4 3 3 3 2 2 3 4 3 3 3 3 4 3 4 3 2 3 4 3"
      ]
     },
     "metadata": {},
     "output_type": "display_data"
    }
   ],
   "source": [
    "set.seed(2)\n",
    "clusters <- kmeans(data_k, 4)\n",
    "clusters$cluster"
   ]
  },
  {
   "cell_type": "markdown",
   "id": "c197f047-9eff-4fa8-ae80-35e29daf4b2a",
   "metadata": {},
   "source": [
    "Додамо кластери як фактори до даних:"
   ]
  },
  {
   "cell_type": "code",
   "execution_count": 15,
   "id": "f664e38e-b829-4931-910a-0480ca1b890d",
   "metadata": {},
   "outputs": [],
   "source": [
    "data <- data |>\n",
    "    mutate(cluster = clusters$cluster)"
   ]
  },
  {
   "cell_type": "markdown",
   "id": "30272396-4532-4915-950f-435468b8ce75",
   "metadata": {},
   "source": [
    "Розібємо знову на тестову та тренувальну вибірки:"
   ]
  },
  {
   "cell_type": "code",
   "execution_count": 16,
   "id": "fe6dcbbd-3fa2-4018-ae54-273d08a739a5",
   "metadata": {},
   "outputs": [],
   "source": [
    "train_data <- data[1:200,]\n",
    "test_data <- data[201:400,]"
   ]
  },
  {
   "cell_type": "code",
   "execution_count": 17,
   "id": "b542da8b-ccc2-4130-bd5a-3f63f87fc975",
   "metadata": {},
   "outputs": [
    {
     "data": {
      "text/plain": [
       "                Length Class  Mode     \n",
       "call              3    -none- call     \n",
       "type              1    -none- character\n",
       "predicted       200    -none- numeric  \n",
       "mse             500    -none- numeric  \n",
       "rsq             500    -none- numeric  \n",
       "oob.times       200    -none- numeric  \n",
       "importance       11    -none- numeric  \n",
       "importanceSD      0    -none- NULL     \n",
       "localImportance   0    -none- NULL     \n",
       "proximity         0    -none- NULL     \n",
       "ntree             1    -none- numeric  \n",
       "mtry              1    -none- numeric  \n",
       "forest           11    -none- list     \n",
       "coefs             0    -none- NULL     \n",
       "y               200    -none- numeric  \n",
       "test              0    -none- NULL     \n",
       "inbag             0    -none- NULL     \n",
       "terms             3    terms  call     "
      ]
     },
     "metadata": {},
     "output_type": "display_data"
    }
   ],
   "source": [
    "rf_m2 <-randomForest(Balance~.,data=train_data)\n",
    "summary(rf_m2)"
   ]
  },
  {
   "cell_type": "code",
   "execution_count": 18,
   "id": "4e3aaa5b-14a8-477e-8b8a-1aeb44ab8e64",
   "metadata": {},
   "outputs": [
    {
     "data": {
      "text/html": [
       "<style>\n",
       ".dl-inline {width: auto; margin:0; padding: 0}\n",
       ".dl-inline>dt, .dl-inline>dd {float: none; width: auto; display: inline-block}\n",
       ".dl-inline>dt::after {content: \":\\0020\"; padding-right: .5ex}\n",
       ".dl-inline>dt:not(:first-of-type) {padding-left: .5ex}\n",
       "</style><dl class=dl-inline><dt>201</dt><dd>1026</dd><dt>202</dt><dd>1352</dd><dt>203</dt><dd>423</dd><dt>204</dt><dd>1036</dd><dt>205</dt><dd>173</dd><dt>206</dt><dd>1211</dd></dl>\n"
      ],
      "text/latex": [
       "\\begin{description*}\n",
       "\\item[201] 1026\n",
       "\\item[202] 1352\n",
       "\\item[203] 423\n",
       "\\item[204] 1036\n",
       "\\item[205] 173\n",
       "\\item[206] 1211\n",
       "\\end{description*}\n"
      ],
      "text/markdown": [
       "201\n",
       ":   1026202\n",
       ":   1352203\n",
       ":   423204\n",
       ":   1036205\n",
       ":   173206\n",
       ":   1211\n",
       "\n"
      ],
      "text/plain": [
       " 201  202  203  204  205  206 \n",
       "1026 1352  423 1036  173 1211 "
      ]
     },
     "metadata": {},
     "output_type": "display_data"
    }
   ],
   "source": [
    "test_prediction2 <- round(predict(object=rf_m2, test_data))\n",
    "head(test_prediction2)"
   ]
  },
  {
   "cell_type": "code",
   "execution_count": 19,
   "id": "6d71f5ee-652a-42ea-bf77-124510132c1c",
   "metadata": {},
   "outputs": [
    {
     "data": {
      "text/html": [
       "0.973839956466162"
      ],
      "text/latex": [
       "0.973839956466162"
      ],
      "text/markdown": [
       "0.973839956466162"
      ],
      "text/plain": [
       "[1] 0.97384"
      ]
     },
     "metadata": {},
     "output_type": "display_data"
    },
    {
     "data": {
      "text/html": [
       "0.883183673751305"
      ],
      "text/latex": [
       "0.883183673751305"
      ],
      "text/markdown": [
       "0.883183673751305"
      ],
      "text/plain": [
       "[1] 0.8831837"
      ]
     },
     "metadata": {},
     "output_type": "display_data"
    }
   ],
   "source": [
    "rsquare(rf_m1, data = train_data)\n",
    "rsquare(rf_m1, data = test_data)"
   ]
  },
  {
   "cell_type": "code",
   "execution_count": 20,
   "id": "0dea7477-f9b2-4991-b1a7-6af0a5b50ffa",
   "metadata": {},
   "outputs": [
    {
     "data": {
      "text/html": [
       "0.974638302729307"
      ],
      "text/latex": [
       "0.974638302729307"
      ],
      "text/markdown": [
       "0.974638302729307"
      ],
      "text/plain": [
       "[1] 0.9746383"
      ]
     },
     "metadata": {},
     "output_type": "display_data"
    },
    {
     "data": {
      "text/html": [
       "0.892714294123845"
      ],
      "text/latex": [
       "0.892714294123845"
      ],
      "text/markdown": [
       "0.892714294123845"
      ],
      "text/plain": [
       "[1] 0.8927143"
      ]
     },
     "metadata": {},
     "output_type": "display_data"
    }
   ],
   "source": [
    "rsquare(rf_m2, data = train_data)\n",
    "rsquare(rf_m2, data = test_data)"
   ]
  },
  {
   "cell_type": "code",
   "execution_count": 21,
   "id": "80ba9eb4-8a11-4399-a8b9-961f2cb18152",
   "metadata": {},
   "outputs": [
    {
     "data": {
      "text/html": [
       "76.9630101327789"
      ],
      "text/latex": [
       "76.9630101327789"
      ],
      "text/markdown": [
       "76.9630101327789"
      ],
      "text/plain": [
       "[1] 76.96301"
      ]
     },
     "metadata": {},
     "output_type": "display_data"
    },
    {
     "data": {
      "text/html": [
       "150.63563844498"
      ],
      "text/latex": [
       "150.63563844498"
      ],
      "text/markdown": [
       "150.63563844498"
      ],
      "text/plain": [
       "[1] 150.6356"
      ]
     },
     "metadata": {},
     "output_type": "display_data"
    }
   ],
   "source": [
    "rmse(rf_m1, data = train_data)\n",
    "rmse(rf_m1, data = test_data)"
   ]
  },
  {
   "cell_type": "code",
   "execution_count": 22,
   "id": "d33ff869-53fb-4744-b036-2a697ee9ae95",
   "metadata": {},
   "outputs": [
    {
     "data": {
      "text/html": [
       "75.7779193630034"
      ],
      "text/latex": [
       "75.7779193630034"
      ],
      "text/markdown": [
       "75.7779193630034"
      ],
      "text/plain": [
       "[1] 75.77792"
      ]
     },
     "metadata": {},
     "output_type": "display_data"
    },
    {
     "data": {
      "text/html": [
       "144.501399436682"
      ],
      "text/latex": [
       "144.501399436682"
      ],
      "text/markdown": [
       "144.501399436682"
      ],
      "text/plain": [
       "[1] 144.5014"
      ]
     },
     "metadata": {},
     "output_type": "display_data"
    }
   ],
   "source": [
    "rmse(rf_m2, data = train_data)\n",
    "rmse(rf_m2, data = test_data)"
   ]
  }
 ],
 "metadata": {
  "kernelspec": {
   "display_name": "R",
   "language": "R",
   "name": "ir"
  },
  "language_info": {
   "codemirror_mode": "r",
   "file_extension": ".r",
   "mimetype": "text/x-r-source",
   "name": "R",
   "pygments_lexer": "r",
   "version": "4.1.3"
  }
 },
 "nbformat": 4,
 "nbformat_minor": 5
}
