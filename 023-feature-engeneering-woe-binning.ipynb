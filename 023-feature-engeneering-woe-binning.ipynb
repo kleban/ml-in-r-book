{
 "cells": [
  {
   "cell_type": "markdown",
   "id": "b3918516-3890-4347-9bb9-b680123d47bb",
   "metadata": {},
   "source": [
    "# Woe Binning"
   ]
  },
  {
   "cell_type": "markdown",
   "id": "72bb3840-18df-4730-b9a6-97f71e468859",
   "metadata": {},
   "source": [
    "Курс: \"Матетичне моделювання в R\""
   ]
  },
  {
   "cell_type": "markdown",
   "id": "101ca5db-4077-4e02-8ae8-c47061ede8d0",
   "metadata": {},
   "source": [
    "---"
   ]
  },
  {
   "cell_type": "code",
   "execution_count": null,
   "id": "41ef4773-aad3-4c14-b0ce-38c75e3e0702",
   "metadata": {
    "vscode": {
     "languageId": "r"
    }
   },
   "outputs": [],
   "source": [
    "# install.packages(\"openxlsx\")"
   ]
  },
  {
   "cell_type": "markdown",
   "id": "16644fe6-16b3-4cab-b794-0f7154c68d1d",
   "metadata": {},
   "source": [
    "## Набір даних"
   ]
  },
  {
   "cell_type": "markdown",
   "id": "2f19474d-9e7b-49f0-bd58-23d824fc5f88",
   "metadata": {},
   "source": [
    "Джерело: <https://github.com/gastonstat/CreditScoring/blob/master/CleanCreditScoring.csv>"
   ]
  },
  {
   "cell_type": "markdown",
   "id": "c7afaf7d-1080-4813-b279-00fa2cda3ae4",
   "metadata": {},
   "source": [
    "Завантажимо дані:"
   ]
  },
  {
   "cell_type": "code",
   "execution_count": null,
   "id": "c6b9f261-9583-4ec3-969c-e2db04b418af",
   "metadata": {
    "vscode": {
     "languageId": "r"
    }
   },
   "outputs": [],
   "source": [
    "library(openxlsx)\n",
    "data <- openxlsx::read.xlsx(\"data/CreditScoring.xlsx\", sheet = 1, startRow = 1, colNames = TRUE, rowNames = FALSE)\n",
    "str(data)"
   ]
  },
  {
   "cell_type": "markdown",
   "id": "70e5b035-1631-4e00-a234-c598657b421e",
   "metadata": {},
   "source": [
    "Опишемо дані:"
   ]
  },
  {
   "cell_type": "markdown",
   "id": "8c767f92-d804-4668-a3ad-99d566cf241d",
   "metadata": {},
   "source": [
    "- [x] `Status` - credit status (`Target`)\n",
    "- [x] `Seniority` job seniority (years)\n",
    "- [x] `Home` type of home ownership\n",
    "- [x] `Time` time of requested loan\n",
    "- [x] `Age` client’s age\n",
    "- [x] `Marital` marital status\n",
    "- [x] `Records` existance of records\n",
    "- [x] `Job` type of job\n",
    "- [x] `Expenses` amount of expenses\n",
    "- [x] `Income` amount of income\n",
    "- [x] `Assets` amount of assets\n",
    "- [x] `Debt` amount of debt\n",
    "- [x] `Amount` amount requested of loan\n",
    "- [x] `Price` price of good\n",
    "\n",
    "---"
   ]
  },
  {
   "cell_type": "markdown",
   "id": "27744aba-3b5c-42f3-9ddd-d1033365e7c8",
   "metadata": {},
   "source": [
    "## Простий бінінг змінних"
   ]
  },
  {
   "cell_type": "markdown",
   "id": "ba6661ee-f2db-4d52-ac19-ac38513972ed",
   "metadata": {},
   "source": [
    "### Категоріальна змінна"
   ]
  },
  {
   "cell_type": "markdown",
   "id": "3e59b123-c279-43ff-80b2-8b1ba37a32ee",
   "metadata": {},
   "source": [
    "Створимо дата-фрейм для зберігання інформації про групи змінної `Home` (як приклад біннігу категоріального показника):"
   ]
  },
  {
   "cell_type": "code",
   "execution_count": null,
   "id": "1f5f4666-c3d4-4283-bd3e-8b6751581e62",
   "metadata": {
    "vscode": {
     "languageId": "r"
    }
   },
   "outputs": [],
   "source": [
    "home_groups <- data.frame(Group = unique(data$Home), \n",
    "                          Good = c(0), Bad = c(0), \n",
    "                          GoodP = c(0), BadP = c(0),\n",
    "                          WOE = c(0), IV = c(0))\n",
    "home_groups"
   ]
  },
  {
   "cell_type": "markdown",
   "id": "9cc6f2f7-f3e8-4ef7-a635-02f78b020a28",
   "metadata": {},
   "source": [
    "Переглянемо можливі варіанти показника `Status`, який є залежною бінарною змінною поточної задачі:"
   ]
  },
  {
   "cell_type": "code",
   "execution_count": null,
   "id": "68e59ce9-00e0-4d47-a697-c98e8dcddac0",
   "metadata": {
    "vscode": {
     "languageId": "r"
    }
   },
   "outputs": [],
   "source": [
    "library(gmodels)\n",
    "CrossTable(data$Status)"
   ]
  },
  {
   "cell_type": "markdown",
   "id": "4705edc3-60d7-4873-a6e5-3227c93020ba",
   "metadata": {},
   "source": [
    "Сформуємо групи та обчислимо значення по кожній групі:"
   ]
  },
  {
   "cell_type": "code",
   "execution_count": null,
   "id": "666e3ea7-4253-44ee-aa1f-4d5fd26c9aac",
   "metadata": {
    "vscode": {
     "languageId": "r"
    }
   },
   "outputs": [],
   "source": [
    "for(i in 1:nrow(home_groups)) {\n",
    "  \n",
    "  group <- home_groups$Group[i]\n",
    "  \n",
    "  home_groups$Good[i] <- nrow(data[data$Home == group & data$Status == \"good\", ])\n",
    "  home_groups$Bad[i] <- nrow(data[data$Home == group & data$Status == \"bad\", ])\n",
    "  \n",
    "  home_groups$GoodP[i] <- home_groups$Good[i]/nrow(data[data$Status == \"good\", ])\n",
    "  home_groups$BadP[i] <- home_groups$Bad[i]/nrow(data[data$Status == \"bad\", ])\n",
    "  \n",
    "  home_groups$WOE[i] <- log( home_groups$GoodP[i] / home_groups$BadP[i])\n",
    "  home_groups$IV[i] <- (home_groups$GoodP[i] - home_groups$BadP[i])*home_groups$WOE[i]\n",
    "}\n",
    "\n",
    "home_groups"
   ]
  },
  {
   "cell_type": "markdown",
   "id": "dbdf1b0c-8fb3-439d-bda6-95d5ed3c95d4",
   "metadata": {},
   "source": [
    "Переглянемо сумарний `IV`:"
   ]
  },
  {
   "cell_type": "code",
   "execution_count": null,
   "id": "428f3310-03dd-4fa3-84bc-83f7a9a791bc",
   "metadata": {
    "vscode": {
     "languageId": "r"
    }
   },
   "outputs": [],
   "source": [
    "home_iv <- sum(home_groups$IV)\n",
    "home_iv"
   ]
  },
  {
   "cell_type": "markdown",
   "id": "a4227287-3b56-4b90-b22a-65b487369fb1",
   "metadata": {},
   "source": [
    "Візуалізуємо групи:"
   ]
  },
  {
   "cell_type": "code",
   "execution_count": null,
   "id": "8a3a930c-f53f-436e-b4aa-ee32c175986a",
   "metadata": {
    "vscode": {
     "languageId": "r"
    }
   },
   "outputs": [],
   "source": [
    "barplot(home_groups$WOE, \n",
    "        col=\"brown\", \n",
    "        names.arg=c(as.character(home_groups$Group)), \n",
    "        xlab=\"Group\",\n",
    "        ylab=\"WOE\"\n",
    ")"
   ]
  },
  {
   "cell_type": "markdown",
   "id": "864e6b93-ec62-47bc-bfbb-7a4544e2d69b",
   "metadata": {},
   "source": [
    "Створимо датафрейм для нових `WOE`-даних:"
   ]
  },
  {
   "cell_type": "code",
   "execution_count": null,
   "id": "46ed5884-0f63-4a3d-ac09-7cf763780145",
   "metadata": {
    "vscode": {
     "languageId": "r"
    }
   },
   "outputs": [],
   "source": [
    "new_df <- data.frame(Status = data$Status, Home = data$Home, HomeWoe = c(0))"
   ]
  },
  {
   "cell_type": "markdown",
   "id": "0cf76450-b69c-4f93-b7cf-1d79327e6e0d",
   "metadata": {},
   "source": [
    "Замінимо значення на `WOE`:"
   ]
  },
  {
   "cell_type": "code",
   "execution_count": null,
   "id": "236983df-b485-476e-9fd0-1fa84178af18",
   "metadata": {
    "vscode": {
     "languageId": "r"
    }
   },
   "outputs": [],
   "source": [
    "for(i in 1:nrow(home_groups)) {\n",
    "  group <- home_groups$Group[i]\n",
    "  woe <- home_groups$WOE[i]  \n",
    "  new_df[new_df$Home == group, ]$HomeWoe <- woe\n",
    "}\n",
    "\n",
    "tail(new_df)"
   ]
  },
  {
   "cell_type": "markdown",
   "id": "61b87be4-facb-43c6-8bbc-8299203f8127",
   "metadata": {},
   "source": [
    "---"
   ]
  },
  {
   "cell_type": "markdown",
   "id": "bfcbcc5a-96c9-4efb-9604-b2a5c4e3d8bf",
   "metadata": {},
   "source": [
    "### Числова змінна"
   ]
  },
  {
   "cell_type": "markdown",
   "id": "ed02f793-de3a-4e8d-a3f2-a9fa354cdd59",
   "metadata": {},
   "source": [
    "Обрахуємо приклад числовиго показника (на прикладі `Age`):"
   ]
  },
  {
   "cell_type": "code",
   "execution_count": null,
   "id": "d70a82c6-aa98-4213-b7a5-137e29a517e5",
   "metadata": {
    "vscode": {
     "languageId": "r"
    }
   },
   "outputs": [],
   "source": [
    "min_age <- min(data$Age)\n",
    "max_age <- max(data$Age)\n",
    "\n",
    "step <- round(max_age - min_age)/10\n",
    "\n",
    "\n",
    "age_groups <- data.frame(Min = seq(min_age, max_age-step, step), \n",
    "                         Max = seq(min_age + step, max_age, step), \n",
    "                          Good = c(0), Bad = c(0), \n",
    "                          GoodP = c(0), BadP = c(0),\n",
    "                          WOE = c(0), IV = c(0))\n",
    "\n",
    "age_groups"
   ]
  },
  {
   "cell_type": "markdown",
   "id": "1083bef9-0bc7-4449-903f-9c561b55bfff",
   "metadata": {},
   "source": [
    "Сформуємо групи:"
   ]
  },
  {
   "cell_type": "code",
   "execution_count": null,
   "id": "a160006b-77dd-4db4-8e22-724f3bdd6158",
   "metadata": {
    "vscode": {
     "languageId": "r"
    }
   },
   "outputs": [],
   "source": [
    "for(i in 1:nrow(age_groups)) {\n",
    "  \n",
    "  min <- age_groups$Min[i]\n",
    "  max<- age_groups$Max[i]\n",
    "  \n",
    "  age_groups$Good[i] <- nrow(data[data$Age >= min & data$Age < max & data$Status == \"good\", ])\n",
    "  age_groups$Bad[i] <- nrow(data[data$Age >= min & data$Age < max & data$Status == \"bad\", ])\n",
    "  \n",
    "  if(i == nrow(age_groups)) {\n",
    "    age_groups$Good[i] <- age_groups$Good[i] + nrow(data[data$Age == max & data$Status == \"good\", ])\n",
    "    age_groups$Bad[i] <- age_groups$Bad[i] + nrow(data[data$Age == max & data$Status == \"bad\", ])\n",
    "  }\n",
    "  \n",
    "  age_groups$GoodP[i] <- age_groups$Good[i]/nrow(data[data$Status == \"good\", ])\n",
    "  age_groups$BadP[i] <- age_groups$Bad[i]/nrow(data[data$Status == \"bad\", ])\n",
    "  \n",
    "  age_groups$WOE[i] <- log( age_groups$GoodP[i] / age_groups$BadP[i])\n",
    "  \n",
    "  age_groups$IV[i] <- (age_groups$GoodP[i] - age_groups$BadP[i]) * age_groups$WOE[i]\n",
    "}\n",
    "\n",
    "age_groups"
   ]
  },
  {
   "cell_type": "markdown",
   "id": "c2bfa2c8-e990-43e4-90b2-e73ae43d05e9",
   "metadata": {},
   "source": [
    "Сумарний IV:"
   ]
  },
  {
   "cell_type": "code",
   "execution_count": null,
   "id": "f8b417b7-9abc-4831-854f-f0a4b969ed41",
   "metadata": {
    "vscode": {
     "languageId": "r"
    }
   },
   "outputs": [],
   "source": [
    "age_iv <- sum(age_groups$IV)\n",
    "age_iv"
   ]
  },
  {
   "cell_type": "markdown",
   "id": "f6f0288a-9071-49ec-bad6-e6a809904f4c",
   "metadata": {},
   "source": [
    "Візуалізуємо значення груп `WOE`:"
   ]
  },
  {
   "cell_type": "code",
   "execution_count": null,
   "id": "d1efc5f0-4d29-485b-bd16-092bc8c4a379",
   "metadata": {
    "vscode": {
     "languageId": "r"
    }
   },
   "outputs": [],
   "source": [
    "barplot(age_groups$WOE, \n",
    "        col=\"brown\", \n",
    "        names.arg=c(age_groups$Min), \n",
    "        xlab=\"Min Age\",\n",
    "        ylab=\"WOE\"\n",
    ")"
   ]
  },
  {
   "cell_type": "markdown",
   "id": "ed4472ff-b70e-4f16-9943-f2e9754c452e",
   "metadata": {},
   "source": [
    "Замінимо значення на `WOE`:"
   ]
  },
  {
   "cell_type": "code",
   "execution_count": null,
   "id": "30c43aaf-ee55-4b32-a778-f5310353d981",
   "metadata": {
    "vscode": {
     "languageId": "r"
    }
   },
   "outputs": [],
   "source": [
    "new_df$Age <- data$Age\n",
    "new_df$AgeWoe <- c(0)\n",
    "\n",
    "for(i in 1:nrow(age_groups)) {\n",
    "  \n",
    "  min <- age_groups$Min[i]\n",
    "  max <- age_groups$Max[i]\n",
    "  woe <- age_groups$WOE[i]\n",
    "  \n",
    "  new_df[new_df$Age >= min & new_df$Age < max, ]$AgeWoe <- woe\n",
    "  \n",
    "  if(i == nrow(age_groups)) {\n",
    "    new_df$AgeWoe[i] <- woe\n",
    "  }\n",
    "  \n",
    "}\n",
    "\n",
    "head(new_df)"
   ]
  },
  {
   "cell_type": "markdown",
   "id": "c0ee238f-d59e-4e54-a7be-23f47107750d",
   "metadata": {},
   "source": [
    "Видалимо оригінальні значення з набору даних:"
   ]
  },
  {
   "cell_type": "code",
   "execution_count": null,
   "id": "3d55e5c2-bf3e-41f2-9a9a-9bb7b07f53d6",
   "metadata": {
    "vscode": {
     "languageId": "r"
    }
   },
   "outputs": [],
   "source": [
    "new_df$Home <- NULL\n",
    "new_df$Age <- NULL\n",
    "head(new_df)"
   ]
  },
  {
   "cell_type": "markdown",
   "id": "1f112ae4-de33-471d-9b97-f8b0e718dd28",
   "metadata": {},
   "source": [
    "---"
   ]
  },
  {
   "cell_type": "markdown",
   "id": "ddb22969-e18e-474c-a91d-739e8379fed1",
   "metadata": {},
   "source": [
    "## Бінінг з використанням `woeBin`"
   ]
  },
  {
   "cell_type": "markdown",
   "id": "60b427bb-a93b-4ffa-b271-2c7c8f8b6d68",
   "metadata": {},
   "source": [
    "---"
   ]
  },
  {
   "cell_type": "markdown",
   "id": "bb713559-0b9d-4f3b-87e2-f43209e2e08d",
   "metadata": {},
   "source": [
    "## Бінінг з використанням `rBin`"
   ]
  },
  {
   "cell_type": "markdown",
   "id": "f79c7806-a950-45a2-8d23-094206d1a43a",
   "metadata": {},
   "source": [
    "---"
   ]
  },
  {
   "cell_type": "markdown",
   "id": "5f8e6bc3-3944-4eea-a227-2d242f5629d1",
   "metadata": {},
   "source": [
    "## Бінінг з використанням `smbinning`"
   ]
  },
  {
   "cell_type": "markdown",
   "id": "17f32949-e2bd-428a-b717-3584cb86773f",
   "metadata": {},
   "source": [
    "---"
   ]
  },
  {
   "cell_type": "markdown",
   "id": "f011eb8e-ca07-44a3-9823-7c6ea251b003",
   "metadata": {},
   "source": [
    "## Бінінг з використанням `scorecard`"
   ]
  },
  {
   "cell_type": "markdown",
   "id": "e63e0d57-a487-41ff-85fd-bb1e6400466d",
   "metadata": {},
   "source": [
    "---"
   ]
  }
 ],
 "metadata": {
  "kernelspec": {
   "display_name": "R",
   "language": "R",
   "name": "ir"
  },
  "language_info": {
   "codemirror_mode": "r",
   "file_extension": ".r",
   "mimetype": "text/x-r-source",
   "name": "R",
   "pygments_lexer": "r",
   "version": "4.1.3"
  }
 },
 "nbformat": 4,
 "nbformat_minor": 5
}
