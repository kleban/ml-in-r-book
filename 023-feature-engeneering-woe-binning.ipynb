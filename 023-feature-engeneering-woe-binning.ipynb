{
 "cells": [
  {
   "cell_type": "markdown",
   "id": "b3918516-3890-4347-9bb9-b680123d47bb",
   "metadata": {},
   "source": [
    "# Woe Binning"
   ]
  },
  {
   "cell_type": "markdown",
   "id": "72bb3840-18df-4730-b9a6-97f71e468859",
   "metadata": {},
   "source": [
    "Курс: \"Матетичне моделювання в R\""
   ]
  },
  {
   "cell_type": "markdown",
   "id": "101ca5db-4077-4e02-8ae8-c47061ede8d0",
   "metadata": {},
   "source": [
    "---"
   ]
  },
  {
   "cell_type": "code",
   "execution_count": 1,
   "id": "41ef4773-aad3-4c14-b0ce-38c75e3e0702",
   "metadata": {
    "vscode": {
     "languageId": "r"
    }
   },
   "outputs": [
    {
     "name": "stdout",
     "output_type": "stream",
     "text": [
      "package 'openxlsx' successfully unpacked and MD5 sums checked\n",
      "\n",
      "The downloaded binary packages are in\n",
      "\tD:\\Temp\\Rtmp6NzC2e\\downloaded_packages\n"
     ]
    }
   ],
   "source": [
    "# install.packages(\"openxlsx\")"
   ]
  },
  {
   "cell_type": "markdown",
   "id": "16644fe6-16b3-4cab-b794-0f7154c68d1d",
   "metadata": {},
   "source": [
    "## Набір даних"
   ]
  },
  {
   "cell_type": "markdown",
   "id": "2f19474d-9e7b-49f0-bd58-23d824fc5f88",
   "metadata": {},
   "source": [
    "Джерело: <https://github.com/gastonstat/CreditScoring/blob/master/CleanCreditScoring.csv>"
   ]
  },
  {
   "cell_type": "markdown",
   "id": "c7afaf7d-1080-4813-b279-00fa2cda3ae4",
   "metadata": {},
   "source": [
    "Завантажимо дані:"
   ]
  },
  {
   "cell_type": "code",
   "execution_count": 6,
   "id": "c6b9f261-9583-4ec3-969c-e2db04b418af",
   "metadata": {
    "vscode": {
     "languageId": "r"
    }
   },
   "outputs": [
    {
     "name": "stdout",
     "output_type": "stream",
     "text": [
      "'data.frame':\t4446 obs. of  16 variables:\n",
      " $ Status   : chr  \"good\" \"good\" \"bad\" \"good\" ...\n",
      " $ Seniority: num  9 17 10 0 0 1 29 9 0 0 ...\n",
      " $ Home     : chr  \"rent\" \"rent\" \"owner\" \"rent\" ...\n",
      " $ Time     : num  60 60 36 60 36 60 60 12 60 48 ...\n",
      " $ Age      : num  30 58 46 24 26 36 44 27 32 41 ...\n",
      " $ Marital  : chr  \"married\" \"widow\" \"married\" \"single\" ...\n",
      " $ Records  : chr  \"no_rec\" \"no_rec\" \"yes_rec\" \"no_rec\" ...\n",
      " $ Job      : chr  \"freelance\" \"fixed\" \"freelance\" \"fixed\" ...\n",
      " $ Expenses : num  73 48 90 63 46 75 75 35 90 90 ...\n",
      " $ Income   : num  129 131 200 182 107 214 125 80 107 80 ...\n",
      " $ Assets   : num  0 0 3000 2500 0 3500 10000 0 15000 0 ...\n",
      " $ Debt     : num  0 0 0 0 0 0 0 0 0 0 ...\n",
      " $ Amount   : num  800 1000 2000 900 310 650 1600 200 1200 1200 ...\n",
      " $ Price    : num  846 1658 2985 1325 910 ...\n",
      " $ Finrat   : num  94.6 60.3 67 67.9 34.1 ...\n",
      " $ Savings  : num  4.2 4.98 1.98 7.93 7.08 ...\n"
     ]
    }
   ],
   "source": [
    "library(openxlsx)\n",
    "data <- openxlsx::read.xlsx(\"data/CreditScoring.xlsx\", sheet = 1, startRow = 1, colNames = TRUE, rowNames = FALSE)\n",
    "str(data)"
   ]
  },
  {
   "cell_type": "markdown",
   "id": "70e5b035-1631-4e00-a234-c598657b421e",
   "metadata": {},
   "source": [
    "Опишемо дані:"
   ]
  },
  {
   "cell_type": "markdown",
   "id": "8c767f92-d804-4668-a3ad-99d566cf241d",
   "metadata": {},
   "source": [
    "- [x] `Status` - credit status (`Target`)\n",
    "- [x] `Seniority` job seniority (years)\n",
    "- [x] `Home` type of home ownership\n",
    "- [x] `Time` time of requested loan\n",
    "- [x] `Age` client’s age\n",
    "- [x] `Marital` marital status\n",
    "- [x] `Records` existance of records\n",
    "- [x] `Job` type of job\n",
    "- [x] `Expenses` amount of expenses\n",
    "- [x] `Income` amount of income\n",
    "- [x] `Assets` amount of assets\n",
    "- [x] `Debt` amount of debt\n",
    "- [x] `Amount` amount requested of loan\n",
    "- [x] `Price` price of good\n",
    "\n",
    "---"
   ]
  },
  {
   "cell_type": "markdown",
   "id": "27744aba-3b5c-42f3-9ddd-d1033365e7c8",
   "metadata": {},
   "source": [
    "## Простий бінінг змінних"
   ]
  },
  {
   "cell_type": "markdown",
   "id": "ba6661ee-f2db-4d52-ac19-ac38513972ed",
   "metadata": {},
   "source": [
    "### Категоріальна змінна"
   ]
  },
  {
   "cell_type": "markdown",
   "id": "3e59b123-c279-43ff-80b2-8b1ba37a32ee",
   "metadata": {},
   "source": [
    "Створимо дата-фрейм для зберігання інформації про групи змінної `Home` (як приклад біннігу категоріального показника):"
   ]
  },
  {
   "cell_type": "code",
   "execution_count": 12,
   "id": "1f5f4666-c3d4-4283-bd3e-8b6751581e62",
   "metadata": {
    "vscode": {
     "languageId": "r"
    }
   },
   "outputs": [
    {
     "data": {
      "text/html": [
       "<table class=\"dataframe\">\n",
       "<caption>A data.frame: 6 × 7</caption>\n",
       "<thead>\n",
       "\t<tr><th scope=col>Group</th><th scope=col>Good</th><th scope=col>Bad</th><th scope=col>GoodP</th><th scope=col>BadP</th><th scope=col>WOE</th><th scope=col>IV</th></tr>\n",
       "\t<tr><th scope=col>&lt;chr&gt;</th><th scope=col>&lt;dbl&gt;</th><th scope=col>&lt;dbl&gt;</th><th scope=col>&lt;dbl&gt;</th><th scope=col>&lt;dbl&gt;</th><th scope=col>&lt;dbl&gt;</th><th scope=col>&lt;dbl&gt;</th></tr>\n",
       "</thead>\n",
       "<tbody>\n",
       "\t<tr><td>rent   </td><td>0</td><td>0</td><td>0</td><td>0</td><td>0</td><td>0</td></tr>\n",
       "\t<tr><td>owner  </td><td>0</td><td>0</td><td>0</td><td>0</td><td>0</td><td>0</td></tr>\n",
       "\t<tr><td>parents</td><td>0</td><td>0</td><td>0</td><td>0</td><td>0</td><td>0</td></tr>\n",
       "\t<tr><td>priv   </td><td>0</td><td>0</td><td>0</td><td>0</td><td>0</td><td>0</td></tr>\n",
       "\t<tr><td>other  </td><td>0</td><td>0</td><td>0</td><td>0</td><td>0</td><td>0</td></tr>\n",
       "\t<tr><td>ignore </td><td>0</td><td>0</td><td>0</td><td>0</td><td>0</td><td>0</td></tr>\n",
       "</tbody>\n",
       "</table>\n"
      ],
      "text/latex": [
       "A data.frame: 6 × 7\n",
       "\\begin{tabular}{lllllll}\n",
       " Group & Good & Bad & GoodP & BadP & WOE & IV\\\\\n",
       " <chr> & <dbl> & <dbl> & <dbl> & <dbl> & <dbl> & <dbl>\\\\\n",
       "\\hline\n",
       "\t rent    & 0 & 0 & 0 & 0 & 0 & 0\\\\\n",
       "\t owner   & 0 & 0 & 0 & 0 & 0 & 0\\\\\n",
       "\t parents & 0 & 0 & 0 & 0 & 0 & 0\\\\\n",
       "\t priv    & 0 & 0 & 0 & 0 & 0 & 0\\\\\n",
       "\t other   & 0 & 0 & 0 & 0 & 0 & 0\\\\\n",
       "\t ignore  & 0 & 0 & 0 & 0 & 0 & 0\\\\\n",
       "\\end{tabular}\n"
      ],
      "text/markdown": [
       "\n",
       "A data.frame: 6 × 7\n",
       "\n",
       "| Group &lt;chr&gt; | Good &lt;dbl&gt; | Bad &lt;dbl&gt; | GoodP &lt;dbl&gt; | BadP &lt;dbl&gt; | WOE &lt;dbl&gt; | IV &lt;dbl&gt; |\n",
       "|---|---|---|---|---|---|---|\n",
       "| rent    | 0 | 0 | 0 | 0 | 0 | 0 |\n",
       "| owner   | 0 | 0 | 0 | 0 | 0 | 0 |\n",
       "| parents | 0 | 0 | 0 | 0 | 0 | 0 |\n",
       "| priv    | 0 | 0 | 0 | 0 | 0 | 0 |\n",
       "| other   | 0 | 0 | 0 | 0 | 0 | 0 |\n",
       "| ignore  | 0 | 0 | 0 | 0 | 0 | 0 |\n",
       "\n"
      ],
      "text/plain": [
       "  Group   Good Bad GoodP BadP WOE IV\n",
       "1 rent    0    0   0     0    0   0 \n",
       "2 owner   0    0   0     0    0   0 \n",
       "3 parents 0    0   0     0    0   0 \n",
       "4 priv    0    0   0     0    0   0 \n",
       "5 other   0    0   0     0    0   0 \n",
       "6 ignore  0    0   0     0    0   0 "
      ]
     },
     "metadata": {},
     "output_type": "display_data"
    }
   ],
   "source": [
    "home_groups <- data.frame(Group = unique(data$Home), \n",
    "                          Good = c(0), Bad = c(0), \n",
    "                          GoodP = c(0), BadP = c(0),\n",
    "                          WOE = c(0), IV = c(0))\n",
    "home_groups"
   ]
  },
  {
   "cell_type": "markdown",
   "id": "9cc6f2f7-f3e8-4ef7-a635-02f78b020a28",
   "metadata": {},
   "source": [
    "Переглянемо можливі варіанти показника `Status`, який є залежною бінарною змінною поточної задачі:"
   ]
  },
  {
   "cell_type": "code",
   "execution_count": 11,
   "id": "68e59ce9-00e0-4d47-a697-c98e8dcddac0",
   "metadata": {
    "vscode": {
     "languageId": "r"
    }
   },
   "outputs": [
    {
     "name": "stdout",
     "output_type": "stream",
     "text": [
      "\n",
      " \n",
      "   Cell Contents\n",
      "|-------------------------|\n",
      "|                       N |\n",
      "|         N / Table Total |\n",
      "|-------------------------|\n",
      "\n",
      " \n",
      "Total Observations in Table:  4446 \n",
      "\n",
      " \n",
      "          |       bad |      good | \n",
      "          |-----------|-----------|\n",
      "          |      1249 |      3197 | \n",
      "          |     0.281 |     0.719 | \n",
      "          |-----------|-----------|\n",
      "\n",
      "\n",
      "\n",
      " \n"
     ]
    }
   ],
   "source": [
    "library(gmodels)\n",
    "CrossTable(data$Status)"
   ]
  },
  {
   "cell_type": "markdown",
   "id": "4705edc3-60d7-4873-a6e5-3227c93020ba",
   "metadata": {},
   "source": [
    "Сформуємо групи та обчислимо значення по кожній групі:"
   ]
  },
  {
   "cell_type": "code",
   "execution_count": 14,
   "id": "666e3ea7-4253-44ee-aa1f-4d5fd26c9aac",
   "metadata": {
    "vscode": {
     "languageId": "r"
    }
   },
   "outputs": [
    {
     "data": {
      "text/html": [
       "<table class=\"dataframe\">\n",
       "<caption>A data.frame: 6 × 7</caption>\n",
       "<thead>\n",
       "\t<tr><th scope=col>Group</th><th scope=col>Good</th><th scope=col>Bad</th><th scope=col>GoodP</th><th scope=col>BadP</th><th scope=col>WOE</th><th scope=col>IV</th></tr>\n",
       "\t<tr><th scope=col>&lt;chr&gt;</th><th scope=col>&lt;dbl&gt;</th><th scope=col>&lt;dbl&gt;</th><th scope=col>&lt;dbl&gt;</th><th scope=col>&lt;dbl&gt;</th><th scope=col>&lt;dbl&gt;</th><th scope=col>&lt;dbl&gt;</th></tr>\n",
       "</thead>\n",
       "<tbody>\n",
       "\t<tr><td>rent   </td><td> 585</td><td>388</td><td>0.182984048</td><td>0.310648519</td><td>-0.52926313</td><td>0.067568098</td></tr>\n",
       "\t<tr><td>owner  </td><td>1716</td><td>390</td><td>0.536753206</td><td>0.312249800</td><td> 0.54173490</td><td>0.121621331</td></tr>\n",
       "\t<tr><td>parents</td><td> 550</td><td>232</td><td>0.172036284</td><td>0.185748599</td><td>-0.07668873</td><td>0.001051580</td></tr>\n",
       "\t<tr><td>priv   </td><td> 162</td><td> 84</td><td>0.050672505</td><td>0.067253803</td><td>-0.28309010</td><td>0.004694001</td></tr>\n",
       "\t<tr><td>other  </td><td> 173</td><td>146</td><td>0.054113231</td><td>0.116893515</td><td>-0.77018467</td><td>0.048352412</td></tr>\n",
       "\t<tr><td>ignore </td><td>  11</td><td>  9</td><td>0.003440726</td><td>0.007205765</td><td>-0.73919894</td><td>0.002783113</td></tr>\n",
       "</tbody>\n",
       "</table>\n"
      ],
      "text/latex": [
       "A data.frame: 6 × 7\n",
       "\\begin{tabular}{lllllll}\n",
       " Group & Good & Bad & GoodP & BadP & WOE & IV\\\\\n",
       " <chr> & <dbl> & <dbl> & <dbl> & <dbl> & <dbl> & <dbl>\\\\\n",
       "\\hline\n",
       "\t rent    &  585 & 388 & 0.182984048 & 0.310648519 & -0.52926313 & 0.067568098\\\\\n",
       "\t owner   & 1716 & 390 & 0.536753206 & 0.312249800 &  0.54173490 & 0.121621331\\\\\n",
       "\t parents &  550 & 232 & 0.172036284 & 0.185748599 & -0.07668873 & 0.001051580\\\\\n",
       "\t priv    &  162 &  84 & 0.050672505 & 0.067253803 & -0.28309010 & 0.004694001\\\\\n",
       "\t other   &  173 & 146 & 0.054113231 & 0.116893515 & -0.77018467 & 0.048352412\\\\\n",
       "\t ignore  &   11 &   9 & 0.003440726 & 0.007205765 & -0.73919894 & 0.002783113\\\\\n",
       "\\end{tabular}\n"
      ],
      "text/markdown": [
       "\n",
       "A data.frame: 6 × 7\n",
       "\n",
       "| Group &lt;chr&gt; | Good &lt;dbl&gt; | Bad &lt;dbl&gt; | GoodP &lt;dbl&gt; | BadP &lt;dbl&gt; | WOE &lt;dbl&gt; | IV &lt;dbl&gt; |\n",
       "|---|---|---|---|---|---|---|\n",
       "| rent    |  585 | 388 | 0.182984048 | 0.310648519 | -0.52926313 | 0.067568098 |\n",
       "| owner   | 1716 | 390 | 0.536753206 | 0.312249800 |  0.54173490 | 0.121621331 |\n",
       "| parents |  550 | 232 | 0.172036284 | 0.185748599 | -0.07668873 | 0.001051580 |\n",
       "| priv    |  162 |  84 | 0.050672505 | 0.067253803 | -0.28309010 | 0.004694001 |\n",
       "| other   |  173 | 146 | 0.054113231 | 0.116893515 | -0.77018467 | 0.048352412 |\n",
       "| ignore  |   11 |   9 | 0.003440726 | 0.007205765 | -0.73919894 | 0.002783113 |\n",
       "\n"
      ],
      "text/plain": [
       "  Group   Good Bad GoodP       BadP        WOE         IV         \n",
       "1 rent     585 388 0.182984048 0.310648519 -0.52926313 0.067568098\n",
       "2 owner   1716 390 0.536753206 0.312249800  0.54173490 0.121621331\n",
       "3 parents  550 232 0.172036284 0.185748599 -0.07668873 0.001051580\n",
       "4 priv     162  84 0.050672505 0.067253803 -0.28309010 0.004694001\n",
       "5 other    173 146 0.054113231 0.116893515 -0.77018467 0.048352412\n",
       "6 ignore    11   9 0.003440726 0.007205765 -0.73919894 0.002783113"
      ]
     },
     "metadata": {},
     "output_type": "display_data"
    }
   ],
   "source": [
    "for(i in 1:nrow(home_groups)) {\n",
    "  \n",
    "  group <- home_groups$Group[i]\n",
    "  \n",
    "  home_groups$Good[i] <- nrow(data[data$Home == group & data$Status == \"good\", ])\n",
    "  home_groups$Bad[i] <- nrow(data[data$Home == group & data$Status == \"bad\", ])\n",
    "  \n",
    "  home_groups$GoodP[i] <- home_groups$Good[i]/nrow(data[data$Status == \"good\", ])\n",
    "  home_groups$BadP[i] <- home_groups$Bad[i]/nrow(data[data$Status == \"bad\", ])\n",
    "  \n",
    "  home_groups$WOE[i] <- log( home_groups$GoodP[i] / home_groups$BadP[i])\n",
    "  home_groups$IV[i] <- (home_groups$GoodP[i] - home_groups$BadP[i])*home_groups$WOE[i]\n",
    "}\n",
    "\n",
    "home_groups"
   ]
  },
  {
   "cell_type": "markdown",
   "id": "dbdf1b0c-8fb3-439d-bda6-95d5ed3c95d4",
   "metadata": {},
   "source": [
    "Переглянемо сумарний `IV`:"
   ]
  },
  {
   "cell_type": "code",
   "execution_count": 17,
   "id": "428f3310-03dd-4fa3-84bc-83f7a9a791bc",
   "metadata": {
    "vscode": {
     "languageId": "r"
    }
   },
   "outputs": [
    {
     "data": {
      "text/html": [
       "0.246070534510342"
      ],
      "text/latex": [
       "0.246070534510342"
      ],
      "text/markdown": [
       "0.246070534510342"
      ],
      "text/plain": [
       "[1] 0.2460705"
      ]
     },
     "metadata": {},
     "output_type": "display_data"
    }
   ],
   "source": [
    "home_iv <- sum(home_groups$IV)\n",
    "home_iv"
   ]
  },
  {
   "cell_type": "markdown",
   "id": "a4227287-3b56-4b90-b22a-65b487369fb1",
   "metadata": {},
   "source": [
    "Візуалізуємо групи:"
   ]
  },
  {
   "cell_type": "code",
   "execution_count": 20,
   "id": "8a3a930c-f53f-436e-b4aa-ee32c175986a",
   "metadata": {
    "vscode": {
     "languageId": "r"
    }
   },
   "outputs": [
    {
     "data": {
      "image/png": "[encoded data removed]",
      "text/plain": [
       "plot without title"
      ]
     },
     "metadata": {
      "image/png": {
       "height": 420,
       "width": 420
      }
     },
     "output_type": "display_data"
    }
   ],
   "source": [
    "barplot(home_groups$WOE, \n",
    "        col=\"brown\", \n",
    "        names.arg=c(as.character(home_groups$Group)), \n",
    "        xlab=\"Group\",\n",
    "        ylab=\"WOE\"\n",
    ")"
   ]
  },
  {
   "cell_type": "markdown",
   "id": "864e6b93-ec62-47bc-bfbb-7a4544e2d69b",
   "metadata": {},
   "source": [
    "Створимо датафрейм для нових `WOE`-даних:"
   ]
  },
  {
   "cell_type": "code",
   "execution_count": 22,
   "id": "46ed5884-0f63-4a3d-ac09-7cf763780145",
   "metadata": {
    "vscode": {
     "languageId": "r"
    }
   },
   "outputs": [],
   "source": [
    "new_df <- data.frame(Status = data$Status, Home = data$Home, HomeWoe = c(0))"
   ]
  },
  {
   "cell_type": "markdown",
   "id": "0cf76450-b69c-4f93-b7cf-1d79327e6e0d",
   "metadata": {},
   "source": [
    "Замінимо значення на `WOE`:"
   ]
  },
  {
   "cell_type": "code",
   "execution_count": 26,
   "id": "236983df-b485-476e-9fd0-1fa84178af18",
   "metadata": {
    "vscode": {
     "languageId": "r"
    }
   },
   "outputs": [
    {
     "data": {
      "text/html": [
       "<table class=\"dataframe\">\n",
       "<caption>A data.frame: 6 × 3</caption>\n",
       "<thead>\n",
       "\t<tr><th></th><th scope=col>Status</th><th scope=col>Home</th><th scope=col>HomeWoe</th></tr>\n",
       "\t<tr><th></th><th scope=col>&lt;chr&gt;</th><th scope=col>&lt;chr&gt;</th><th scope=col>&lt;dbl&gt;</th></tr>\n",
       "</thead>\n",
       "<tbody>\n",
       "\t<tr><th scope=row>4441</th><td>bad </td><td>other</td><td>-0.7701847</td></tr>\n",
       "\t<tr><th scope=row>4442</th><td>bad </td><td>rent </td><td>-0.5292631</td></tr>\n",
       "\t<tr><th scope=row>4443</th><td>good</td><td>owner</td><td> 0.5417349</td></tr>\n",
       "\t<tr><th scope=row>4444</th><td>bad </td><td>owner</td><td> 0.5417349</td></tr>\n",
       "\t<tr><th scope=row>4445</th><td>good</td><td>rent </td><td>-0.5292631</td></tr>\n",
       "\t<tr><th scope=row>4446</th><td>good</td><td>owner</td><td> 0.5417349</td></tr>\n",
       "</tbody>\n",
       "</table>\n"
      ],
      "text/latex": [
       "A data.frame: 6 × 3\n",
       "\\begin{tabular}{r|lll}\n",
       "  & Status & Home & HomeWoe\\\\\n",
       "  & <chr> & <chr> & <dbl>\\\\\n",
       "\\hline\n",
       "\t4441 & bad  & other & -0.7701847\\\\\n",
       "\t4442 & bad  & rent  & -0.5292631\\\\\n",
       "\t4443 & good & owner &  0.5417349\\\\\n",
       "\t4444 & bad  & owner &  0.5417349\\\\\n",
       "\t4445 & good & rent  & -0.5292631\\\\\n",
       "\t4446 & good & owner &  0.5417349\\\\\n",
       "\\end{tabular}\n"
      ],
      "text/markdown": [
       "\n",
       "A data.frame: 6 × 3\n",
       "\n",
       "| <!--/--> | Status &lt;chr&gt; | Home &lt;chr&gt; | HomeWoe &lt;dbl&gt; |\n",
       "|---|---|---|---|\n",
       "| 4441 | bad  | other | -0.7701847 |\n",
       "| 4442 | bad  | rent  | -0.5292631 |\n",
       "| 4443 | good | owner |  0.5417349 |\n",
       "| 4444 | bad  | owner |  0.5417349 |\n",
       "| 4445 | good | rent  | -0.5292631 |\n",
       "| 4446 | good | owner |  0.5417349 |\n",
       "\n"
      ],
      "text/plain": [
       "     Status Home  HomeWoe   \n",
       "4441 bad    other -0.7701847\n",
       "4442 bad    rent  -0.5292631\n",
       "4443 good   owner  0.5417349\n",
       "4444 bad    owner  0.5417349\n",
       "4445 good   rent  -0.5292631\n",
       "4446 good   owner  0.5417349"
      ]
     },
     "metadata": {},
     "output_type": "display_data"
    }
   ],
   "source": [
    "for(i in 1:nrow(home_groups)) {\n",
    "  group <- home_groups$Group[i]\n",
    "  woe <- home_groups$WOE[i]  \n",
    "  new_df[new_df$Home == group, ]$HomeWoe <- woe\n",
    "}\n",
    "\n",
    "tail(new_df)"
   ]
  },
  {
   "cell_type": "markdown",
   "id": "61b87be4-facb-43c6-8bbc-8299203f8127",
   "metadata": {},
   "source": [
    "---"
   ]
  },
  {
   "cell_type": "markdown",
   "id": "bfcbcc5a-96c9-4efb-9604-b2a5c4e3d8bf",
   "metadata": {},
   "source": [
    "### Числова змінна"
   ]
  },
  {
   "cell_type": "markdown",
   "id": "ed02f793-de3a-4e8d-a3f2-a9fa354cdd59",
   "metadata": {},
   "source": [
    "Обрахуємо приклад числовиго показника (на прикладі `Age`):"
   ]
  },
  {
   "cell_type": "code",
   "execution_count": 36,
   "id": "d70a82c6-aa98-4213-b7a5-137e29a517e5",
   "metadata": {
    "vscode": {
     "languageId": "r"
    }
   },
   "outputs": [
    {
     "data": {
      "text/html": [
       "<table class=\"dataframe\">\n",
       "<caption>A data.frame: 10 × 8</caption>\n",
       "<thead>\n",
       "\t<tr><th scope=col>Min</th><th scope=col>Max</th><th scope=col>Good</th><th scope=col>Bad</th><th scope=col>GoodP</th><th scope=col>BadP</th><th scope=col>WOE</th><th scope=col>IV</th></tr>\n",
       "\t<tr><th scope=col>&lt;dbl&gt;</th><th scope=col>&lt;dbl&gt;</th><th scope=col>&lt;dbl&gt;</th><th scope=col>&lt;dbl&gt;</th><th scope=col>&lt;dbl&gt;</th><th scope=col>&lt;dbl&gt;</th><th scope=col>&lt;dbl&gt;</th><th scope=col>&lt;dbl&gt;</th></tr>\n",
       "</thead>\n",
       "<tbody>\n",
       "\t<tr><td>18</td><td>23</td><td>0</td><td>0</td><td>0</td><td>0</td><td>0</td><td>0</td></tr>\n",
       "\t<tr><td>23</td><td>28</td><td>0</td><td>0</td><td>0</td><td>0</td><td>0</td><td>0</td></tr>\n",
       "\t<tr><td>28</td><td>33</td><td>0</td><td>0</td><td>0</td><td>0</td><td>0</td><td>0</td></tr>\n",
       "\t<tr><td>33</td><td>38</td><td>0</td><td>0</td><td>0</td><td>0</td><td>0</td><td>0</td></tr>\n",
       "\t<tr><td>38</td><td>43</td><td>0</td><td>0</td><td>0</td><td>0</td><td>0</td><td>0</td></tr>\n",
       "\t<tr><td>43</td><td>48</td><td>0</td><td>0</td><td>0</td><td>0</td><td>0</td><td>0</td></tr>\n",
       "\t<tr><td>48</td><td>53</td><td>0</td><td>0</td><td>0</td><td>0</td><td>0</td><td>0</td></tr>\n",
       "\t<tr><td>53</td><td>58</td><td>0</td><td>0</td><td>0</td><td>0</td><td>0</td><td>0</td></tr>\n",
       "\t<tr><td>58</td><td>63</td><td>0</td><td>0</td><td>0</td><td>0</td><td>0</td><td>0</td></tr>\n",
       "\t<tr><td>63</td><td>68</td><td>0</td><td>0</td><td>0</td><td>0</td><td>0</td><td>0</td></tr>\n",
       "</tbody>\n",
       "</table>\n"
      ],
      "text/latex": [
       "A data.frame: 10 × 8\n",
       "\\begin{tabular}{llllllll}\n",
       " Min & Max & Good & Bad & GoodP & BadP & WOE & IV\\\\\n",
       " <dbl> & <dbl> & <dbl> & <dbl> & <dbl> & <dbl> & <dbl> & <dbl>\\\\\n",
       "\\hline\n",
       "\t 18 & 23 & 0 & 0 & 0 & 0 & 0 & 0\\\\\n",
       "\t 23 & 28 & 0 & 0 & 0 & 0 & 0 & 0\\\\\n",
       "\t 28 & 33 & 0 & 0 & 0 & 0 & 0 & 0\\\\\n",
       "\t 33 & 38 & 0 & 0 & 0 & 0 & 0 & 0\\\\\n",
       "\t 38 & 43 & 0 & 0 & 0 & 0 & 0 & 0\\\\\n",
       "\t 43 & 48 & 0 & 0 & 0 & 0 & 0 & 0\\\\\n",
       "\t 48 & 53 & 0 & 0 & 0 & 0 & 0 & 0\\\\\n",
       "\t 53 & 58 & 0 & 0 & 0 & 0 & 0 & 0\\\\\n",
       "\t 58 & 63 & 0 & 0 & 0 & 0 & 0 & 0\\\\\n",
       "\t 63 & 68 & 0 & 0 & 0 & 0 & 0 & 0\\\\\n",
       "\\end{tabular}\n"
      ],
      "text/markdown": [
       "\n",
       "A data.frame: 10 × 8\n",
       "\n",
       "| Min &lt;dbl&gt; | Max &lt;dbl&gt; | Good &lt;dbl&gt; | Bad &lt;dbl&gt; | GoodP &lt;dbl&gt; | BadP &lt;dbl&gt; | WOE &lt;dbl&gt; | IV &lt;dbl&gt; |\n",
       "|---|---|---|---|---|---|---|---|\n",
       "| 18 | 23 | 0 | 0 | 0 | 0 | 0 | 0 |\n",
       "| 23 | 28 | 0 | 0 | 0 | 0 | 0 | 0 |\n",
       "| 28 | 33 | 0 | 0 | 0 | 0 | 0 | 0 |\n",
       "| 33 | 38 | 0 | 0 | 0 | 0 | 0 | 0 |\n",
       "| 38 | 43 | 0 | 0 | 0 | 0 | 0 | 0 |\n",
       "| 43 | 48 | 0 | 0 | 0 | 0 | 0 | 0 |\n",
       "| 48 | 53 | 0 | 0 | 0 | 0 | 0 | 0 |\n",
       "| 53 | 58 | 0 | 0 | 0 | 0 | 0 | 0 |\n",
       "| 58 | 63 | 0 | 0 | 0 | 0 | 0 | 0 |\n",
       "| 63 | 68 | 0 | 0 | 0 | 0 | 0 | 0 |\n",
       "\n"
      ],
      "text/plain": [
       "   Min Max Good Bad GoodP BadP WOE IV\n",
       "1  18  23  0    0   0     0    0   0 \n",
       "2  23  28  0    0   0     0    0   0 \n",
       "3  28  33  0    0   0     0    0   0 \n",
       "4  33  38  0    0   0     0    0   0 \n",
       "5  38  43  0    0   0     0    0   0 \n",
       "6  43  48  0    0   0     0    0   0 \n",
       "7  48  53  0    0   0     0    0   0 \n",
       "8  53  58  0    0   0     0    0   0 \n",
       "9  58  63  0    0   0     0    0   0 \n",
       "10 63  68  0    0   0     0    0   0 "
      ]
     },
     "metadata": {},
     "output_type": "display_data"
    }
   ],
   "source": [
    "min_age <- min(data$Age)\n",
    "max_age <- max(data$Age)\n",
    "\n",
    "step <- round(max_age - min_age)/10\n",
    "\n",
    "\n",
    "age_groups <- data.frame(Min = seq(min_age, max_age-step, step), \n",
    "                         Max = seq(min_age + step, max_age, step), \n",
    "                          Good = c(0), Bad = c(0), \n",
    "                          GoodP = c(0), BadP = c(0),\n",
    "                          WOE = c(0), IV = c(0))\n",
    "\n",
    "age_groups"
   ]
  },
  {
   "cell_type": "markdown",
   "id": "1083bef9-0bc7-4449-903f-9c561b55bfff",
   "metadata": {},
   "source": [
    "Сформуємо групи:"
   ]
  },
  {
   "cell_type": "code",
   "execution_count": 37,
   "id": "a160006b-77dd-4db4-8e22-724f3bdd6158",
   "metadata": {
    "vscode": {
     "languageId": "r"
    }
   },
   "outputs": [
    {
     "data": {
      "text/html": [
       "<table class=\"dataframe\">\n",
       "<caption>A data.frame: 10 × 8</caption>\n",
       "<thead>\n",
       "\t<tr><th scope=col>Min</th><th scope=col>Max</th><th scope=col>Good</th><th scope=col>Bad</th><th scope=col>GoodP</th><th scope=col>BadP</th><th scope=col>WOE</th><th scope=col>IV</th></tr>\n",
       "\t<tr><th scope=col>&lt;dbl&gt;</th><th scope=col>&lt;dbl&gt;</th><th scope=col>&lt;dbl&gt;</th><th scope=col>&lt;dbl&gt;</th><th scope=col>&lt;dbl&gt;</th><th scope=col>&lt;dbl&gt;</th><th scope=col>&lt;dbl&gt;</th><th scope=col>&lt;dbl&gt;</th></tr>\n",
       "</thead>\n",
       "<tbody>\n",
       "\t<tr><td>18</td><td>23</td><td>169</td><td>110</td><td>0.05286206</td><td>0.088070456</td><td>-0.51045129</td><td>0.0179721723</td></tr>\n",
       "\t<tr><td>23</td><td>28</td><td>505</td><td>231</td><td>0.15796059</td><td>0.184947958</td><td>-0.15772892</td><td>0.0042566888</td></tr>\n",
       "\t<tr><td>28</td><td>33</td><td>564</td><td>213</td><td>0.17641539</td><td>0.170536429</td><td> 0.03389245</td><td>0.0001992523</td></tr>\n",
       "\t<tr><td>33</td><td>38</td><td>491</td><td>212</td><td>0.15358148</td><td>0.169735789</td><td>-0.10001179</td><td>0.0016156210</td></tr>\n",
       "\t<tr><td>38</td><td>43</td><td>443</td><td>183</td><td>0.13856741</td><td>0.146517214</td><td>-0.05578602</td><td>0.0004434881</td></tr>\n",
       "\t<tr><td>43</td><td>48</td><td>320</td><td>123</td><td>0.10009384</td><td>0.098478783</td><td> 0.01626700</td><td>0.0000262721</td></tr>\n",
       "\t<tr><td>48</td><td>53</td><td>317</td><td> 79</td><td>0.09915546</td><td>0.063250600</td><td> 0.44958428</td><td>0.0161422597</td></tr>\n",
       "\t<tr><td>53</td><td>58</td><td>214</td><td> 58</td><td>0.06693775</td><td>0.046437150</td><td> 0.36566337</td><td>0.0074963200</td></tr>\n",
       "\t<tr><td>58</td><td>63</td><td>124</td><td> 31</td><td>0.03878636</td><td>0.024819856</td><td> 0.44642472</td><td>0.0062349937</td></tr>\n",
       "\t<tr><td>63</td><td>68</td><td> 50</td><td>  9</td><td>0.01563966</td><td>0.007205765</td><td> 0.77492879</td><td>0.0065356700</td></tr>\n",
       "</tbody>\n",
       "</table>\n"
      ],
      "text/latex": [
       "A data.frame: 10 × 8\n",
       "\\begin{tabular}{llllllll}\n",
       " Min & Max & Good & Bad & GoodP & BadP & WOE & IV\\\\\n",
       " <dbl> & <dbl> & <dbl> & <dbl> & <dbl> & <dbl> & <dbl> & <dbl>\\\\\n",
       "\\hline\n",
       "\t 18 & 23 & 169 & 110 & 0.05286206 & 0.088070456 & -0.51045129 & 0.0179721723\\\\\n",
       "\t 23 & 28 & 505 & 231 & 0.15796059 & 0.184947958 & -0.15772892 & 0.0042566888\\\\\n",
       "\t 28 & 33 & 564 & 213 & 0.17641539 & 0.170536429 &  0.03389245 & 0.0001992523\\\\\n",
       "\t 33 & 38 & 491 & 212 & 0.15358148 & 0.169735789 & -0.10001179 & 0.0016156210\\\\\n",
       "\t 38 & 43 & 443 & 183 & 0.13856741 & 0.146517214 & -0.05578602 & 0.0004434881\\\\\n",
       "\t 43 & 48 & 320 & 123 & 0.10009384 & 0.098478783 &  0.01626700 & 0.0000262721\\\\\n",
       "\t 48 & 53 & 317 &  79 & 0.09915546 & 0.063250600 &  0.44958428 & 0.0161422597\\\\\n",
       "\t 53 & 58 & 214 &  58 & 0.06693775 & 0.046437150 &  0.36566337 & 0.0074963200\\\\\n",
       "\t 58 & 63 & 124 &  31 & 0.03878636 & 0.024819856 &  0.44642472 & 0.0062349937\\\\\n",
       "\t 63 & 68 &  50 &   9 & 0.01563966 & 0.007205765 &  0.77492879 & 0.0065356700\\\\\n",
       "\\end{tabular}\n"
      ],
      "text/markdown": [
       "\n",
       "A data.frame: 10 × 8\n",
       "\n",
       "| Min &lt;dbl&gt; | Max &lt;dbl&gt; | Good &lt;dbl&gt; | Bad &lt;dbl&gt; | GoodP &lt;dbl&gt; | BadP &lt;dbl&gt; | WOE &lt;dbl&gt; | IV &lt;dbl&gt; |\n",
       "|---|---|---|---|---|---|---|---|\n",
       "| 18 | 23 | 169 | 110 | 0.05286206 | 0.088070456 | -0.51045129 | 0.0179721723 |\n",
       "| 23 | 28 | 505 | 231 | 0.15796059 | 0.184947958 | -0.15772892 | 0.0042566888 |\n",
       "| 28 | 33 | 564 | 213 | 0.17641539 | 0.170536429 |  0.03389245 | 0.0001992523 |\n",
       "| 33 | 38 | 491 | 212 | 0.15358148 | 0.169735789 | -0.10001179 | 0.0016156210 |\n",
       "| 38 | 43 | 443 | 183 | 0.13856741 | 0.146517214 | -0.05578602 | 0.0004434881 |\n",
       "| 43 | 48 | 320 | 123 | 0.10009384 | 0.098478783 |  0.01626700 | 0.0000262721 |\n",
       "| 48 | 53 | 317 |  79 | 0.09915546 | 0.063250600 |  0.44958428 | 0.0161422597 |\n",
       "| 53 | 58 | 214 |  58 | 0.06693775 | 0.046437150 |  0.36566337 | 0.0074963200 |\n",
       "| 58 | 63 | 124 |  31 | 0.03878636 | 0.024819856 |  0.44642472 | 0.0062349937 |\n",
       "| 63 | 68 |  50 |   9 | 0.01563966 | 0.007205765 |  0.77492879 | 0.0065356700 |\n",
       "\n"
      ],
      "text/plain": [
       "   Min Max Good Bad GoodP      BadP        WOE         IV          \n",
       "1  18  23  169  110 0.05286206 0.088070456 -0.51045129 0.0179721723\n",
       "2  23  28  505  231 0.15796059 0.184947958 -0.15772892 0.0042566888\n",
       "3  28  33  564  213 0.17641539 0.170536429  0.03389245 0.0001992523\n",
       "4  33  38  491  212 0.15358148 0.169735789 -0.10001179 0.0016156210\n",
       "5  38  43  443  183 0.13856741 0.146517214 -0.05578602 0.0004434881\n",
       "6  43  48  320  123 0.10009384 0.098478783  0.01626700 0.0000262721\n",
       "7  48  53  317   79 0.09915546 0.063250600  0.44958428 0.0161422597\n",
       "8  53  58  214   58 0.06693775 0.046437150  0.36566337 0.0074963200\n",
       "9  58  63  124   31 0.03878636 0.024819856  0.44642472 0.0062349937\n",
       "10 63  68   50    9 0.01563966 0.007205765  0.77492879 0.0065356700"
      ]
     },
     "metadata": {},
     "output_type": "display_data"
    }
   ],
   "source": [
    "for(i in 1:nrow(age_groups)) {\n",
    "  \n",
    "  min <- age_groups$Min[i]\n",
    "  max<- age_groups$Max[i]\n",
    "  \n",
    "  age_groups$Good[i] <- nrow(data[data$Age >= min & data$Age < max & data$Status == \"good\", ])\n",
    "  age_groups$Bad[i] <- nrow(data[data$Age >= min & data$Age < max & data$Status == \"bad\", ])\n",
    "  \n",
    "  if(i == nrow(age_groups)) {\n",
    "    age_groups$Good[i] <- age_groups$Good[i] + nrow(data[data$Age == max & data$Status == \"good\", ])\n",
    "    age_groups$Bad[i] <- age_groups$Bad[i] + nrow(data[data$Age == max & data$Status == \"bad\", ])\n",
    "  }\n",
    "  \n",
    "  age_groups$GoodP[i] <- age_groups$Good[i]/nrow(data[data$Status == \"good\", ])\n",
    "  age_groups$BadP[i] <- age_groups$Bad[i]/nrow(data[data$Status == \"bad\", ])\n",
    "  \n",
    "  age_groups$WOE[i] <- log( age_groups$GoodP[i] / age_groups$BadP[i])\n",
    "  \n",
    "  age_groups$IV[i] <- (age_groups$GoodP[i] - age_groups$BadP[i]) * age_groups$WOE[i]\n",
    "}\n",
    "\n",
    "age_groups"
   ]
  },
  {
   "cell_type": "markdown",
   "id": "c2bfa2c8-e990-43e4-90b2-e73ae43d05e9",
   "metadata": {},
   "source": [
    "Сумарний IV:"
   ]
  },
  {
   "cell_type": "code",
   "execution_count": 38,
   "id": "f8b417b7-9abc-4831-854f-f0a4b969ed41",
   "metadata": {
    "vscode": {
     "languageId": "r"
    }
   },
   "outputs": [
    {
     "data": {
      "text/html": [
       "0.0609227380464588"
      ],
      "text/latex": [
       "0.0609227380464588"
      ],
      "text/markdown": [
       "0.0609227380464588"
      ],
      "text/plain": [
       "[1] 0.06092274"
      ]
     },
     "metadata": {},
     "output_type": "display_data"
    }
   ],
   "source": [
    "age_iv <- sum(age_groups$IV)\n",
    "age_iv"
   ]
  },
  {
   "cell_type": "markdown",
   "id": "f6f0288a-9071-49ec-bad6-e6a809904f4c",
   "metadata": {},
   "source": [
    "Візуалізуємо значення груп `WOE`:"
   ]
  },
  {
   "cell_type": "code",
   "execution_count": 41,
   "id": "d1efc5f0-4d29-485b-bd16-092bc8c4a379",
   "metadata": {
    "vscode": {
     "languageId": "r"
    }
   },
   "outputs": [
    {
     "data": {
      "image/png": "[encoded data removed]",
      "text/plain": [
       "plot without title"
      ]
     },
     "metadata": {
      "image/png": {
       "height": 420,
       "width": 420
      }
     },
     "output_type": "display_data"
    }
   ],
   "source": [
    "barplot(age_groups$WOE, \n",
    "        col=\"brown\", \n",
    "        names.arg=c(age_groups$Min), \n",
    "        xlab=\"Min Age\",\n",
    "        ylab=\"WOE\"\n",
    ")"
   ]
  },
  {
   "cell_type": "markdown",
   "id": "ed4472ff-b70e-4f16-9943-f2e9754c452e",
   "metadata": {},
   "source": [
    "Замінимо значення на `WOE`:"
   ]
  },
  {
   "cell_type": "code",
   "execution_count": 43,
   "id": "30c43aaf-ee55-4b32-a778-f5310353d981",
   "metadata": {
    "vscode": {
     "languageId": "r"
    }
   },
   "outputs": [
    {
     "data": {
      "text/html": [
       "<table class=\"dataframe\">\n",
       "<caption>A data.frame: 6 × 5</caption>\n",
       "<thead>\n",
       "\t<tr><th></th><th scope=col>Status</th><th scope=col>Home</th><th scope=col>HomeWoe</th><th scope=col>Age</th><th scope=col>AgeWoe</th></tr>\n",
       "\t<tr><th></th><th scope=col>&lt;chr&gt;</th><th scope=col>&lt;chr&gt;</th><th scope=col>&lt;dbl&gt;</th><th scope=col>&lt;dbl&gt;</th><th scope=col>&lt;dbl&gt;</th></tr>\n",
       "</thead>\n",
       "<tbody>\n",
       "\t<tr><th scope=row>1</th><td>good</td><td>rent </td><td>-0.5292631</td><td>30</td><td> 0.03389245</td></tr>\n",
       "\t<tr><th scope=row>2</th><td>good</td><td>rent </td><td>-0.5292631</td><td>58</td><td> 0.44642472</td></tr>\n",
       "\t<tr><th scope=row>3</th><td>bad </td><td>owner</td><td> 0.5417349</td><td>46</td><td> 0.01626700</td></tr>\n",
       "\t<tr><th scope=row>4</th><td>good</td><td>rent </td><td>-0.5292631</td><td>24</td><td>-0.15772892</td></tr>\n",
       "\t<tr><th scope=row>5</th><td>good</td><td>rent </td><td>-0.5292631</td><td>26</td><td>-0.15772892</td></tr>\n",
       "\t<tr><th scope=row>6</th><td>good</td><td>owner</td><td> 0.5417349</td><td>36</td><td>-0.10001179</td></tr>\n",
       "</tbody>\n",
       "</table>\n"
      ],
      "text/latex": [
       "A data.frame: 6 × 5\n",
       "\\begin{tabular}{r|lllll}\n",
       "  & Status & Home & HomeWoe & Age & AgeWoe\\\\\n",
       "  & <chr> & <chr> & <dbl> & <dbl> & <dbl>\\\\\n",
       "\\hline\n",
       "\t1 & good & rent  & -0.5292631 & 30 &  0.03389245\\\\\n",
       "\t2 & good & rent  & -0.5292631 & 58 &  0.44642472\\\\\n",
       "\t3 & bad  & owner &  0.5417349 & 46 &  0.01626700\\\\\n",
       "\t4 & good & rent  & -0.5292631 & 24 & -0.15772892\\\\\n",
       "\t5 & good & rent  & -0.5292631 & 26 & -0.15772892\\\\\n",
       "\t6 & good & owner &  0.5417349 & 36 & -0.10001179\\\\\n",
       "\\end{tabular}\n"
      ],
      "text/markdown": [
       "\n",
       "A data.frame: 6 × 5\n",
       "\n",
       "| <!--/--> | Status &lt;chr&gt; | Home &lt;chr&gt; | HomeWoe &lt;dbl&gt; | Age &lt;dbl&gt; | AgeWoe &lt;dbl&gt; |\n",
       "|---|---|---|---|---|---|\n",
       "| 1 | good | rent  | -0.5292631 | 30 |  0.03389245 |\n",
       "| 2 | good | rent  | -0.5292631 | 58 |  0.44642472 |\n",
       "| 3 | bad  | owner |  0.5417349 | 46 |  0.01626700 |\n",
       "| 4 | good | rent  | -0.5292631 | 24 | -0.15772892 |\n",
       "| 5 | good | rent  | -0.5292631 | 26 | -0.15772892 |\n",
       "| 6 | good | owner |  0.5417349 | 36 | -0.10001179 |\n",
       "\n"
      ],
      "text/plain": [
       "  Status Home  HomeWoe    Age AgeWoe     \n",
       "1 good   rent  -0.5292631 30   0.03389245\n",
       "2 good   rent  -0.5292631 58   0.44642472\n",
       "3 bad    owner  0.5417349 46   0.01626700\n",
       "4 good   rent  -0.5292631 24  -0.15772892\n",
       "5 good   rent  -0.5292631 26  -0.15772892\n",
       "6 good   owner  0.5417349 36  -0.10001179"
      ]
     },
     "metadata": {},
     "output_type": "display_data"
    }
   ],
   "source": [
    "new_df$Age <- data$Age\n",
    "new_df$AgeWoe <- c(0)\n",
    "\n",
    "for(i in 1:nrow(age_groups)) {\n",
    "  \n",
    "  min <- age_groups$Min[i]\n",
    "  max <- age_groups$Max[i]\n",
    "  woe <- age_groups$WOE[i]\n",
    "  \n",
    "  new_df[new_df$Age >= min & new_df$Age < max, ]$AgeWoe <- woe\n",
    "  \n",
    "  if(i == nrow(age_groups)) {\n",
    "    new_df$AgeWoe[i] <- woe\n",
    "  }\n",
    "  \n",
    "}\n",
    "\n",
    "head(new_df)"
   ]
  },
  {
   "cell_type": "markdown",
   "id": "c0ee238f-d59e-4e54-a7be-23f47107750d",
   "metadata": {},
   "source": [
    "Видалимо оригінальні значення з набору даних:"
   ]
  },
  {
   "cell_type": "code",
   "execution_count": 44,
   "id": "3d55e5c2-bf3e-41f2-9a9a-9bb7b07f53d6",
   "metadata": {
    "vscode": {
     "languageId": "r"
    }
   },
   "outputs": [
    {
     "data": {
      "text/html": [
       "<table class=\"dataframe\">\n",
       "<caption>A data.frame: 6 × 3</caption>\n",
       "<thead>\n",
       "\t<tr><th></th><th scope=col>Status</th><th scope=col>HomeWoe</th><th scope=col>AgeWoe</th></tr>\n",
       "\t<tr><th></th><th scope=col>&lt;chr&gt;</th><th scope=col>&lt;dbl&gt;</th><th scope=col>&lt;dbl&gt;</th></tr>\n",
       "</thead>\n",
       "<tbody>\n",
       "\t<tr><th scope=row>1</th><td>good</td><td>-0.5292631</td><td> 0.03389245</td></tr>\n",
       "\t<tr><th scope=row>2</th><td>good</td><td>-0.5292631</td><td> 0.44642472</td></tr>\n",
       "\t<tr><th scope=row>3</th><td>bad </td><td> 0.5417349</td><td> 0.01626700</td></tr>\n",
       "\t<tr><th scope=row>4</th><td>good</td><td>-0.5292631</td><td>-0.15772892</td></tr>\n",
       "\t<tr><th scope=row>5</th><td>good</td><td>-0.5292631</td><td>-0.15772892</td></tr>\n",
       "\t<tr><th scope=row>6</th><td>good</td><td> 0.5417349</td><td>-0.10001179</td></tr>\n",
       "</tbody>\n",
       "</table>\n"
      ],
      "text/latex": [
       "A data.frame: 6 × 3\n",
       "\\begin{tabular}{r|lll}\n",
       "  & Status & HomeWoe & AgeWoe\\\\\n",
       "  & <chr> & <dbl> & <dbl>\\\\\n",
       "\\hline\n",
       "\t1 & good & -0.5292631 &  0.03389245\\\\\n",
       "\t2 & good & -0.5292631 &  0.44642472\\\\\n",
       "\t3 & bad  &  0.5417349 &  0.01626700\\\\\n",
       "\t4 & good & -0.5292631 & -0.15772892\\\\\n",
       "\t5 & good & -0.5292631 & -0.15772892\\\\\n",
       "\t6 & good &  0.5417349 & -0.10001179\\\\\n",
       "\\end{tabular}\n"
      ],
      "text/markdown": [
       "\n",
       "A data.frame: 6 × 3\n",
       "\n",
       "| <!--/--> | Status &lt;chr&gt; | HomeWoe &lt;dbl&gt; | AgeWoe &lt;dbl&gt; |\n",
       "|---|---|---|---|\n",
       "| 1 | good | -0.5292631 |  0.03389245 |\n",
       "| 2 | good | -0.5292631 |  0.44642472 |\n",
       "| 3 | bad  |  0.5417349 |  0.01626700 |\n",
       "| 4 | good | -0.5292631 | -0.15772892 |\n",
       "| 5 | good | -0.5292631 | -0.15772892 |\n",
       "| 6 | good |  0.5417349 | -0.10001179 |\n",
       "\n"
      ],
      "text/plain": [
       "  Status HomeWoe    AgeWoe     \n",
       "1 good   -0.5292631  0.03389245\n",
       "2 good   -0.5292631  0.44642472\n",
       "3 bad     0.5417349  0.01626700\n",
       "4 good   -0.5292631 -0.15772892\n",
       "5 good   -0.5292631 -0.15772892\n",
       "6 good    0.5417349 -0.10001179"
      ]
     },
     "metadata": {},
     "output_type": "display_data"
    }
   ],
   "source": [
    "new_df$Home <- NULL\n",
    "new_df$Age <- NULL\n",
    "head(new_df)"
   ]
  },
  {
   "cell_type": "markdown",
   "id": "1f112ae4-de33-471d-9b97-f8b0e718dd28",
   "metadata": {},
   "source": [
    "---"
   ]
  },
  {
   "cell_type": "markdown",
   "id": "ddb22969-e18e-474c-a91d-739e8379fed1",
   "metadata": {},
   "source": [
    "## Бінінг з використанням `woeBin`"
   ]
  },
  {
   "cell_type": "markdown",
   "id": "60b427bb-a93b-4ffa-b271-2c7c8f8b6d68",
   "metadata": {},
   "source": [
    "---"
   ]
  },
  {
   "cell_type": "markdown",
   "id": "bb713559-0b9d-4f3b-87e2-f43209e2e08d",
   "metadata": {},
   "source": [
    "## Бінінг з використанням `rBin`"
   ]
  },
  {
   "cell_type": "markdown",
   "id": "f79c7806-a950-45a2-8d23-094206d1a43a",
   "metadata": {},
   "source": [
    "---"
   ]
  },
  {
   "cell_type": "markdown",
   "id": "5f8e6bc3-3944-4eea-a227-2d242f5629d1",
   "metadata": {},
   "source": [
    "## Бінінг з використанням `smbinning`"
   ]
  },
  {
   "cell_type": "markdown",
   "id": "17f32949-e2bd-428a-b717-3584cb86773f",
   "metadata": {},
   "source": [
    "---"
   ]
  },
  {
   "cell_type": "markdown",
   "id": "f011eb8e-ca07-44a3-9823-7c6ea251b003",
   "metadata": {},
   "source": [
    "## Бінінг з використанням `scorecard`"
   ]
  },
  {
   "cell_type": "markdown",
   "id": "e63e0d57-a487-41ff-85fd-bb1e6400466d",
   "metadata": {},
   "source": [
    "---"
   ]
  }
 ],
 "metadata": {
  "kernelspec": {
   "display_name": "R",
   "language": "R",
   "name": "ir"
  },
  "language_info": {
   "codemirror_mode": "r",
   "file_extension": ".r",
   "mimetype": "text/x-r-source",
   "name": "R",
   "pygments_lexer": "r",
   "version": "4.1.3"
  }
 },
 "nbformat": 4,
 "nbformat_minor": 5
}
