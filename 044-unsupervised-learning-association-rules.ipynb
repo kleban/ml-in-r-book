{
 "cells": [
  {
   "cell_type": "markdown",
   "id": "c2414ff5",
   "metadata": {},
   "source": [
    "# Асоціативні правила. Аналіз кошика покупця"
   ]
  },
  {
   "cell_type": "markdown",
   "id": "639689a3-afbe-4929-a2c9-d951474b0d41",
   "metadata": {},
   "source": [
    "Курс: Математичне моделювання в R"
   ]
  },
  {
   "cell_type": "markdown",
   "id": "c7ced297",
   "metadata": {},
   "source": [
    "---"
   ]
  },
  {
   "cell_type": "markdown",
   "id": "9006a739-9719-49fe-a177-49bf5cdf5406",
   "metadata": {},
   "source": [
    "Увага. Для використання подібного підходу до підвищення точності прогнозів варто переконатися, що це працює."
   ]
  },
  {
   "cell_type": "code",
   "execution_count": 1,
   "id": "e2fedc40-9c87-43a1-9182-6e7aea8595c8",
   "metadata": {
    "vscode": {
     "languageId": "r"
    }
   },
   "outputs": [],
   "source": [
    "# install.packages(\"arules\")\n",
    "# install.packages(\"arulesViz\")"
   ]
  },
  {
   "cell_type": "code",
   "execution_count": 3,
   "id": "3acad311-2893-45e8-b308-77e6208000ce",
   "metadata": {},
   "outputs": [],
   "source": [
    "library(dplyr)\n",
    "library(arulesViz)\n",
    "library(arules)"
   ]
  },
  {
   "cell_type": "code",
   "execution_count": 4,
   "id": "4e02085c-30ab-48cc-b9f0-92c361fd2e73",
   "metadata": {
    "vscode": {
     "languageId": "r"
    }
   },
   "outputs": [
    {
     "data": {
      "text/html": [
       "'Ukrainian_Ukraine.1251'"
      ],
      "text/latex": [
       "'Ukrainian\\_Ukraine.1251'"
      ],
      "text/markdown": [
       "'Ukrainian_Ukraine.1251'"
      ],
      "text/plain": [
       "[1] \"Ukrainian_Ukraine.1251\""
      ]
     },
     "metadata": {},
     "output_type": "display_data"
    }
   ],
   "source": [
    "Sys.setlocale(\"LC_CTYPE\", \"ukrainian\")\n",
    "options(warn = -1)"
   ]
  },
  {
   "cell_type": "markdown",
   "id": "607361bd-ec64-40da-9d45-497af39439f0",
   "metadata": {},
   "source": [
    "## Набір даних"
   ]
  },
  {
   "cell_type": "markdown",
   "id": "2b42e836-2832-424c-a95d-b16f99edd692",
   "metadata": {},
   "source": [
    "Набір даних містить інформаціюпро покупки косметки"
   ]
  },
  {
   "cell_type": "code",
   "execution_count": 16,
   "id": "0adbaf10-aef3-4112-b866-bdf8ee2dfb15",
   "metadata": {},
   "outputs": [
    {
     "ename": "ERROR",
     "evalue": "Error: package or namespace load failed for 'arulesViz' in inDL(x, as.logical(local), as.logical(now), ...):\n unable to load shared object 'E:/mlSoftware/Anaconda3/Lib/R/library/igraph/libs/x64/igraph.dll':\n  LoadLibrary failure:  The specified procedure could not be found.\n\n",
     "output_type": "error",
     "traceback": [
      "Error: package or namespace load failed for 'arulesViz' in inDL(x, as.logical(local), as.logical(now), ...):\n unable to load shared object 'E:/mlSoftware/Anaconda3/Lib/R/library/igraph/libs/x64/igraph.dll':\n  LoadLibrary failure:  The specified procedure could not be found.\n\nTraceback:\n",
      "1. library(arulesViz)",
      "2. tryCatch({\n .     attr(package, \"LibPath\") <- which.lib.loc\n .     ns <- loadNamespace(package, lib.loc)\n .     env <- attachNamespace(ns, pos = pos, deps, exclude, include.only)\n . }, error = function(e) {\n .     P <- if (!is.null(cc <- conditionCall(e))) \n .         paste(\" in\", deparse(cc)[1L])\n .     else \"\"\n .     msg <- gettextf(\"package or namespace load failed for %s%s:\\n %s\", \n .         sQuote(package), P, conditionMessage(e))\n .     if (logical.return && !quietly) \n .         message(paste(\"Error:\", msg), domain = NA)\n .     else stop(msg, call. = FALSE, domain = NA)\n . })",
      "3. tryCatchList(expr, classes, parentenv, handlers)",
      "4. tryCatchOne(expr, names, parentenv, handlers[[1L]])",
      "5. value[[3L]](cond)",
      "6. stop(msg, call. = FALSE, domain = NA)"
     ]
    }
   ],
   "source": [
    "library(arules)\n",
    "library(arulesViz)\n",
    "library(RColorBrewer)\n",
    "\n",
    "#loading dataset\n",
    "a = data(\"Groceries\")\n",
    "head(Groceries)\n",
    "\n",
    "itemFrequencyPlot(Groceries,topN=10,type='absolute')\n",
    "\n",
    "#fitting the model \n",
    "rule = apriori(Groceries,parameter = list(supp=0.001,conf=0.9))\n",
    "rule\n",
    "\n",
    "#inspect \n",
    "inspect(rule)\n",
    "\n",
    "#visualizations\n",
    "arules::itemFrequencyPlot(Groceries, topN = 20, \n",
    "                          col = brewer.pal(8, 'Pastel2'),\n",
    "                          main = 'Relative Item Frequency Plot',\n",
    "                          type = \"relative\",\n",
    "                          ylab = \"Item Frequency (Relative)\")\n"
   ]
  },
  {
   "cell_type": "code",
   "execution_count": 17,
   "id": "deddadaa-6510-41a2-b01e-4e7daf8e1373",
   "metadata": {},
   "outputs": [
    {
     "name": "stdout",
     "output_type": "stream",
     "text": [
      "\n",
      "  There are binary versions available but the source versions are later:\n",
      "              binary    source needs_compilation\n",
      "commonmark     1.8.0     1.8.1              TRUE\n",
      "cpp11          0.4.2     0.4.3             FALSE\n",
      "data.table    1.14.2    1.14.4              TRUE\n",
      "devtools       2.4.4     2.4.5             FALSE\n",
      "digest        0.6.29    0.6.30              TRUE\n",
      "DT              0.25      0.26             FALSE\n",
      "ggsignif       0.6.3     0.6.4             FALSE\n",
      "lightgbm       3.3.2     3.3.3              TRUE\n",
      "minqa          1.2.4     1.2.5              TRUE\n",
      "mnormt         2.1.0     2.1.1              TRUE\n",
      "nlme         3.1-159   3.1-160              TRUE\n",
      "openssl        2.0.3     2.0.4              TRUE\n",
      "recipes        1.0.1     1.0.2             FALSE\n",
      "sys              3.4     3.4.1              TRUE\n",
      "tidyselect     1.1.2     1.2.0             FALSE\n",
      "xfun            0.33      0.34              TRUE\n",
      "XML        3.99-0.10 3.99-0.11              TRUE\n",
      "xts           0.12.1    0.12.2              TRUE\n",
      "yaml           2.3.5     2.3.6              TRUE\n",
      "\n",
      "  Binaries will be installed\n",
      "package 'commonmark' successfully unpacked and MD5 sums checked\n",
      "package 'curl' successfully unpacked and MD5 sums checked\n",
      "package 'data.table' successfully unpacked and MD5 sums checked\n",
      "package 'digest' successfully unpacked and MD5 sums checked\n",
      "package 'evaluate' successfully unpacked and MD5 sums checked\n",
      "package 'gert' successfully unpacked and MD5 sums checked\n",
      "package 'isoband' successfully unpacked and MD5 sums checked\n",
      "package 'lifecycle' successfully unpacked and MD5 sums checked\n",
      "package 'lightgbm' successfully unpacked and MD5 sums checked\n",
      "package 'minqa' successfully unpacked and MD5 sums checked\n",
      "package 'mnormt' successfully unpacked and MD5 sums checked\n",
      "package 'nlme' successfully unpacked and MD5 sums checked\n",
      "package 'openssl' successfully unpacked and MD5 sums checked\n",
      "package 'purrr' successfully unpacked and MD5 sums checked\n",
      "package 'RcppArmadillo' successfully unpacked and MD5 sums checked\n",
      "package 'rmarkdown' successfully unpacked and MD5 sums checked\n",
      "package 'sys' successfully unpacked and MD5 sums checked\n",
      "package 'testthat' successfully unpacked and MD5 sums checked\n",
      "package 'xfun' successfully unpacked and MD5 sums checked\n",
      "package 'XML' successfully unpacked and MD5 sums checked\n",
      "package 'xts' successfully unpacked and MD5 sums checked\n",
      "package 'yaml' successfully unpacked and MD5 sums checked\n",
      "\n",
      "The downloaded binary packages are in\n",
      "\tD:\\Temp\\RtmpmSErnw\\downloaded_packages\n"
     ]
    },
    {
     "name": "stderr",
     "output_type": "stream",
     "text": [
      "installing the source packages 'cpp11', 'devtools', 'DT', 'ggsignif', 'recipes', 'tidyselect'\n",
      "\n",
      "\n"
     ]
    }
   ],
   "source": [
    "update.packages(ask=FALSE, checkBuilt=TRUE)"
   ]
  },
  {
   "cell_type": "markdown",
   "id": "a57d3750-c013-4db1-b8e2-b5b91c718ee3",
   "metadata": {},
   "source": [
    "Переглянемо структуру даних:"
   ]
  },
  {
   "cell_type": "code",
   "execution_count": 6,
   "id": "ef5294f4-f217-47ec-8369-b6b7c9803718",
   "metadata": {
    "vscode": {
     "languageId": "r"
    }
   },
   "outputs": [
    {
     "name": "stdout",
     "output_type": "stream",
     "text": [
      "'data.frame':\t1000 obs. of  14 variables:\n",
      " $ Bag            : Factor w/ 2 levels \"No\",\"Yes\": 1 1 1 1 1 1 1 1 1 2 ...\n",
      " $ Blush          : Factor w/ 2 levels \"No\",\"Yes\": 2 1 2 1 2 1 2 1 1 2 ...\n",
      " $ Nail.Polish    : Factor w/ 2 levels \"No\",\"Yes\": 2 2 1 2 1 1 2 2 1 2 ...\n",
      " $ Brushes        : Factor w/ 2 levels \"No\",\"Yes\": 2 1 1 2 1 1 2 2 1 2 ...\n",
      " $ Concealer      : Factor w/ 2 levels \"No\",\"Yes\": 2 2 2 2 2 2 2 1 2 1 ...\n",
      " $ Eyebrow.Pencils: Factor w/ 2 levels \"No\",\"Yes\": 1 1 2 1 1 1 1 1 1 1 ...\n",
      " $ Bronzer        : Factor w/ 2 levels \"No\",\"Yes\": 2 2 2 2 2 1 2 2 1 1 ...\n",
      " $ Lip.liner      : Factor w/ 2 levels \"No\",\"Yes\": 2 2 2 1 2 1 2 1 1 1 ...\n",
      " $ Mascara        : Factor w/ 2 levels \"No\",\"Yes\": 2 1 2 1 2 1 2 2 1 2 ...\n",
      " $ Eye.shadow     : Factor w/ 2 levels \"No\",\"Yes\": 1 1 2 1 2 1 2 2 1 2 ...\n",
      " $ Foundation     : Factor w/ 2 levels \"No\",\"Yes\": 1 2 2 2 1 1 2 1 2 1 ...\n",
      " $ Lip.Gloss      : Factor w/ 2 levels \"No\",\"Yes\": 1 2 2 1 2 1 2 2 1 1 ...\n",
      " $ Lipstick       : Factor w/ 2 levels \"No\",\"Yes\": 1 1 2 1 2 1 1 1 2 1 ...\n",
      " $ Eyeliner       : Factor w/ 2 levels \"No\",\"Yes\": 2 1 1 2 1 2 1 1 1 1 ...\n"
     ]
    }
   ],
   "source": [
    "str(data) "
   ]
  },
  {
   "cell_type": "markdown",
   "id": "39c70a70-a67e-4ae0-a381-18d4da6ec069",
   "metadata": {},
   "source": [
    "## Пошук асоціативних правил"
   ]
  },
  {
   "cell_type": "markdown",
   "id": "02e1f9a3-8bb1-456e-89ca-e9c7d96bcbab",
   "metadata": {},
   "source": [
    "Здійснимо пошук асоціативних правил:"
   ]
  },
  {
   "cell_type": "code",
   "execution_count": 8,
   "id": "92f3a2ca-6ad1-4cf6-a9a9-4ccbe1a1427d",
   "metadata": {},
   "outputs": [
    {
     "name": "stdout",
     "output_type": "stream",
     "text": [
      "Apriori\n",
      "\n",
      "Parameter specification:\n",
      " confidence minval smax arem  aval originalSupport maxtime support minlen\n",
      "        0.8    0.1    1 none FALSE            TRUE       5     0.1      1\n",
      " maxlen target  ext\n",
      "     10  rules TRUE\n",
      "\n",
      "Algorithmic control:\n",
      " filter tree heap memopt load sort verbose\n",
      "    0.1 TRUE TRUE  FALSE TRUE    2    TRUE\n",
      "\n",
      "Absolute minimum support count: 100 \n",
      "\n",
      "set item appearances ...[0 item(s)] done [0.00s].\n",
      "set transactions ...[28 item(s), 1000 transaction(s)] done [0.00s].\n",
      "sorting and recoding items ... [26 item(s)] done [0.00s].\n",
      "creating transaction tree ... done [0.00s].\n",
      "checking subsets of size 1 2 3 4 5 6 7 8 9 10 done [0.03s].\n",
      "writing ... [68880 rule(s)] done [0.02s].\n",
      "creating S4 object  ... done [0.03s].\n"
     ]
    }
   ],
   "source": [
    "library(arules)\n",
    "rules <- apriori(data)"
   ]
  },
  {
   "cell_type": "code",
   "execution_count": 9,
   "id": "410288d7-d271-49a1-8229-cb7100919531",
   "metadata": {},
   "outputs": [
    {
     "name": "stdout",
     "output_type": "stream",
     "text": [
      "Apriori\n",
      "\n",
      "Parameter specification:\n",
      " confidence minval smax arem  aval originalSupport maxtime support minlen\n",
      "        0.8    0.1    1 none FALSE            TRUE       5     0.7      2\n",
      " maxlen target  ext\n",
      "     10  rules TRUE\n",
      "\n",
      "Algorithmic control:\n",
      " filter tree heap memopt load sort verbose\n",
      "    0.1 TRUE TRUE  FALSE TRUE    2    TRUE\n",
      "\n",
      "Absolute minimum support count: 700 \n",
      "\n",
      "set item appearances ...[0 item(s)] done [0.00s].\n",
      "set transactions ...[28 item(s), 1000 transaction(s)] done [0.00s].\n",
      "sorting and recoding items ... [6 item(s)] done [0.00s].\n",
      "creating transaction tree ... done [0.00s].\n",
      "checking subsets of size 1 2 3 done [0.00s].\n",
      "writing ... [15 rule(s)] done [0.00s].\n",
      "creating S4 object  ... done [0.00s].\n"
     ]
    }
   ],
   "source": [
    "# Rules with specified parameter valus\n",
    "rules <- apriori(data,parameter = list(minlen=2, maxlen=10,supp=.7, conf=.8))"
   ]
  },
  {
   "cell_type": "code",
   "execution_count": 10,
   "id": "081b8d3f-8708-418e-8b20-3c305841f821",
   "metadata": {},
   "outputs": [
    {
     "name": "stdout",
     "output_type": "stream",
     "text": [
      "Apriori\n",
      "\n",
      "Parameter specification:\n",
      " confidence minval smax arem  aval originalSupport maxtime support minlen\n",
      "        0.7    0.1    1 none FALSE            TRUE       5    0.01      2\n",
      " maxlen target  ext\n",
      "      3  rules TRUE\n",
      "\n",
      "Algorithmic control:\n",
      " filter tree heap memopt load sort verbose\n",
      "    0.1 TRUE TRUE  FALSE TRUE    2    TRUE\n",
      "\n",
      "Absolute minimum support count: 10 \n",
      "\n",
      "set item appearances ...[3 item(s)] done [0.00s].\n",
      "set transactions ...[28 item(s), 1000 transaction(s)] done [0.00s].\n",
      "sorting and recoding items ... [28 item(s)] done [0.00s].\n",
      "creating transaction tree ... done [0.00s].\n",
      "checking subsets of size 1 2 3 done [0.00s].\n",
      "writing ... [19 rule(s)] done [0.00s].\n",
      "creating S4 object  ... done [0.00s].\n"
     ]
    }
   ],
   "source": [
    "# Finding interesting rules-1\n",
    "rules <- apriori(data,parameter = list(minlen=2, maxlen=3,supp=.01, conf=.7),appearance=list(rhs=c(\"Foundation=Yes\"),lhs=c(\"Bag=Yes\", \"Blush=Yes\"),default=\"lhs\"))"
   ]
  },
  {
   "cell_type": "code",
   "execution_count": 11,
   "id": "b4fa000d-c97f-4aab-977d-f216b865c122",
   "metadata": {},
   "outputs": [
    {
     "name": "stdout",
     "output_type": "stream",
     "text": [
      "Apriori\n",
      "\n",
      "Parameter specification:\n",
      " confidence minval smax arem  aval originalSupport maxtime support minlen\n",
      "        0.5    0.1    1 none FALSE            TRUE       5     0.1      2\n",
      " maxlen target  ext\n",
      "      5  rules TRUE\n",
      "\n",
      "Algorithmic control:\n",
      " filter tree heap memopt load sort verbose\n",
      "    0.1 TRUE TRUE  FALSE TRUE    2    TRUE\n",
      "\n",
      "Absolute minimum support count: 100 \n",
      "\n",
      "set item appearances ...[14 item(s)] done [0.00s].\n",
      "set transactions ...[14 item(s), 1000 transaction(s)] done [0.00s].\n",
      "sorting and recoding items ... [12 item(s)] done [0.00s].\n",
      "creating transaction tree ... done [0.00s].\n",
      "checking subsets of size 1 2 3 4 done [0.00s].\n",
      "writing ... [22 rule(s)] done [0.00s].\n",
      "creating S4 object  ... done [0.00s].\n"
     ]
    }
   ],
   "source": [
    "# Finding interesting rules-2\n",
    "rules <- apriori(data,parameter = list(minlen=2, maxlen=5,supp=.1, conf=.5),appearance=list(rhs=c(\"Foundation=Yes\"),lhs=c(\"Bag=Yes\", \"Blush=Yes\", \"Nail.Polish=Yes\", \"Brushes=Yes\", \"Concealer=Yes\", \"Eyebrow.Pencils=Yes\", \"Bronzer=Yes\", \"Lip.liner=Yes\", \"Mascara=Yes\", \"Eye.shadow=Yes\",\"Lip.Gloss=Yes\", \"Lipstick=Yes\", \"Eyeliner=Yes\"),default=\"none\"))\n",
    "quality(rules)<-round(quality(rules),digits=3)\n",
    "rules.sorted <- sort(rules, by=\"lift\")"
   ]
  },
  {
   "cell_type": "code",
   "execution_count": 12,
   "id": "9043ff13-a145-4fc0-bb6b-a7409d03598d",
   "metadata": {},
   "outputs": [
    {
     "data": {
      "text/html": [
       "<style>\n",
       ".list-inline {list-style: none; margin:0; padding: 0}\n",
       ".list-inline>li {display: inline-block}\n",
       ".list-inline>li:not(:last-child)::after {content: \"\\00b7\"; padding: 0 .5ex}\n",
       "</style>\n",
       "<ol class=list-inline><li>11</li><li>12</li><li>13</li><li>14</li><li>15</li><li>16</li><li>17</li><li>18</li><li>19</li><li>20</li><li>21</li><li>22</li></ol>\n"
      ],
      "text/latex": [
       "\\begin{enumerate*}\n",
       "\\item 11\n",
       "\\item 12\n",
       "\\item 13\n",
       "\\item 14\n",
       "\\item 15\n",
       "\\item 16\n",
       "\\item 17\n",
       "\\item 18\n",
       "\\item 19\n",
       "\\item 20\n",
       "\\item 21\n",
       "\\item 22\n",
       "\\end{enumerate*}\n"
      ],
      "text/markdown": [
       "1. 11\n",
       "2. 12\n",
       "3. 13\n",
       "4. 14\n",
       "5. 15\n",
       "6. 16\n",
       "7. 17\n",
       "8. 18\n",
       "9. 19\n",
       "10. 20\n",
       "11. 21\n",
       "12. 22\n",
       "\n",
       "\n"
      ],
      "text/plain": [
       " [1] 11 12 13 14 15 16 17 18 19 20 21 22"
      ]
     },
     "metadata": {},
     "output_type": "display_data"
    },
    {
     "name": "stdout",
     "output_type": "stream",
     "text": [
      "     lhs                              rhs              support confidence\n",
      "[1]  {Lip.Gloss=Yes, Lipstick=Yes} => {Foundation=Yes} 0.116   0.734     \n",
      "[2]  {Lip.Gloss=Yes}               => {Foundation=Yes} 0.356   0.727     \n",
      "[3]  {Eye.shadow=Yes}              => {Foundation=Yes} 0.211   0.554     \n",
      "[4]  {Blush=Yes, Mascara=Yes}      => {Foundation=Yes} 0.101   0.549     \n",
      "[5]  {Mascara=Yes}                 => {Foundation=Yes} 0.192   0.538     \n",
      "[6]  {Blush=Yes}                   => {Foundation=Yes} 0.192   0.529     \n",
      "[7]  {Concealer=Yes}               => {Foundation=Yes} 0.231   0.523     \n",
      "[8]  {Eyeliner=Yes}                => {Foundation=Yes} 0.238   0.521     \n",
      "[9]  {Lipstick=Yes}                => {Foundation=Yes} 0.167   0.519     \n",
      "[10] {Nail.Polish=Yes}             => {Foundation=Yes} 0.143   0.511     \n",
      "     coverage lift  count\n",
      "[1]  0.158    1.370 116  \n",
      "[2]  0.490    1.355 356  \n",
      "[3]  0.381    1.033 211  \n",
      "[4]  0.184    1.024 101  \n",
      "[5]  0.357    1.003 192  \n",
      "[6]  0.363    0.987 192  \n",
      "[7]  0.442    0.975 231  \n",
      "[8]  0.457    0.972 238  \n",
      "[9]  0.322    0.968 167  \n",
      "[10] 0.280    0.953 143  \n"
     ]
    }
   ],
   "source": [
    "# Finding redundancy\n",
    "redundant <- is.redundant(rules, measure=\"confidence\")\n",
    "which(redundant)\n",
    "rules.pruned <- rules[!redundant]\n",
    "rules.pruned <- sort(rules.pruned, by=\"lift\")\n",
    "inspect(rules.pruned)"
   ]
  },
  {
   "cell_type": "code",
   "execution_count": 13,
   "id": "3414ba7c-76c8-4968-9ebe-c007f4bf4626",
   "metadata": {},
   "outputs": [
    {
     "ename": "ERROR",
     "evalue": "Error: package or namespace load failed for 'arulesViz' in inDL(x, as.logical(local), as.logical(now), ...):\n unable to load shared object 'E:/mlSoftware/Anaconda3/Lib/R/library/igraph/libs/x64/igraph.dll':\n  LoadLibrary failure:  The specified procedure could not be found.\n\n",
     "output_type": "error",
     "traceback": [
      "Error: package or namespace load failed for 'arulesViz' in inDL(x, as.logical(local), as.logical(now), ...):\n unable to load shared object 'E:/mlSoftware/Anaconda3/Lib/R/library/igraph/libs/x64/igraph.dll':\n  LoadLibrary failure:  The specified procedure could not be found.\n\nTraceback:\n",
      "1. library(arulesViz)",
      "2. tryCatch({\n .     attr(package, \"LibPath\") <- which.lib.loc\n .     ns <- loadNamespace(package, lib.loc)\n .     env <- attachNamespace(ns, pos = pos, deps, exclude, include.only)\n . }, error = function(e) {\n .     P <- if (!is.null(cc <- conditionCall(e))) \n .         paste(\" in\", deparse(cc)[1L])\n .     else \"\"\n .     msg <- gettextf(\"package or namespace load failed for %s%s:\\n %s\", \n .         sQuote(package), P, conditionMessage(e))\n .     if (logical.return && !quietly) \n .         message(paste(\"Error:\", msg), domain = NA)\n .     else stop(msg, call. = FALSE, domain = NA)\n . })",
      "3. tryCatchList(expr, classes, parentenv, handlers)",
      "4. tryCatchOne(expr, names, parentenv, handlers[[1L]])",
      "5. value[[3L]](cond)",
      "6. stop(msg, call. = FALSE, domain = NA)"
     ]
    }
   ],
   "source": [
    "# Graphs and Charts\n",
    "\n",
    "plot(rules)\n",
    "plot(rules,method=\"grouped\")\n",
    "plot(rules,method=\"graph\")"
   ]
  }
 ],
 "metadata": {
  "kernelspec": {
   "display_name": "R",
   "language": "R",
   "name": "ir"
  },
  "language_info": {
   "codemirror_mode": "r",
   "file_extension": ".r",
   "mimetype": "text/x-r-source",
   "name": "R",
   "pygments_lexer": "r",
   "version": "4.1.3"
  }
 },
 "nbformat": 4,
 "nbformat_minor": 5
}
