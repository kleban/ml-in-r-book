{
 "cells": [
  {
   "cell_type": "markdown",
   "id": "0c01fab4",
   "metadata": {},
   "source": [
    "# Нейронні мережі. Регресія. Вартість житла"
   ]
  },
  {
   "cell_type": "markdown",
   "id": "44fc3acd-0040-4894-baa3-f80fa0455680",
   "metadata": {},
   "source": [
    "Курс: \"Математичне моделювання в R\""
   ]
  },
  {
   "cell_type": "markdown",
   "id": "4a9a7f35",
   "metadata": {},
   "source": [
    "---"
   ]
  },
  {
   "cell_type": "markdown",
   "id": "342b29e8-7a60-49d4-bbd1-3a1dc8a6b41c",
   "metadata": {},
   "source": [
    "У цій лекції ми скористаємося набором даних Boston: вартість житла у пригородах Бостона"
   ]
  },
  {
   "cell_type": "markdown",
   "id": "429f4c0b-b132-42dd-8c5c-c627aed11e6c",
   "metadata": {},
   "source": [
    "## Dataset description"
   ]
  },
  {
   "cell_type": "code",
   "execution_count": 1,
   "id": "1112b10b-84dd-42f5-90bc-ab7e0595a594",
   "metadata": {},
   "outputs": [],
   "source": [
    "# install.packages(\"MASS\")\n",
    "# install.packages(\"neuralnet\")\n",
    "# install.packages(\"clusterGeneration\")\n",
    "# install.packages(\"devtools\")\n",
    "# install.packages(\"caTools\")\n",
    "# install.packages(\"reshape\")\n",
    "# install.packages(\"Metrics\")\n",
    "# install.packages(\"nnet\")\n",
    "#install.packages(\"plyr\")\n",
    "#install.packages(\"boot\")"
   ]
  },
  {
   "cell_type": "markdown",
   "id": "70dfdaca-c59a-4285-bf3b-f77aa2f0eb47",
   "metadata": {},
   "source": [
    "`medv` is TARGET!"
   ]
  },
  {
   "cell_type": "code",
   "execution_count": 2,
   "id": "6d838100-da12-460a-a7c7-44fe449cdd8a",
   "metadata": {},
   "outputs": [
    {
     "data": {
      "text/html": [
       "\n",
       "<table width=\"100%\" summary=\"page for Boston {MASS}\"><tr><td>Boston {MASS}</td><td style=\"text-align: right;\">R Documentation</td></tr></table>\n",
       "\n",
       "<h2>\n",
       "Housing Values in Suburbs of Boston\n",
       "</h2>\n",
       "\n",
       "<h3>Description</h3>\n",
       "\n",
       "<p>The <code>Boston</code> data frame has 506 rows and 14 columns.\n",
       "</p>\n",
       "\n",
       "\n",
       "<h3>Usage</h3>\n",
       "\n",
       "<pre>\n",
       "Boston\n",
       "</pre>\n",
       "\n",
       "\n",
       "<h3>Format</h3>\n",
       "\n",
       "<p>This data frame contains the following columns:\n",
       "</p>\n",
       "\n",
       "<dl>\n",
       "<dt><code>crim</code></dt><dd>\n",
       "<p>per capita crime rate by town.\n",
       "</p>\n",
       "</dd>\n",
       "<dt><code>zn</code></dt><dd>\n",
       "<p>proportion of residential land zoned for lots over 25,000 sq.ft.\n",
       "</p>\n",
       "</dd>\n",
       "<dt><code>indus</code></dt><dd>\n",
       "<p>proportion of non-retail business acres per town.\n",
       "</p>\n",
       "</dd>\n",
       "<dt><code>chas</code></dt><dd>\n",
       "<p>Charles River dummy variable (= 1 if tract bounds river; 0 otherwise).\n",
       "</p>\n",
       "</dd>\n",
       "<dt><code>nox</code></dt><dd>\n",
       "<p>nitrogen oxides concentration (parts per 10 million).\n",
       "</p>\n",
       "</dd>\n",
       "<dt><code>rm</code></dt><dd>\n",
       "<p>average number of rooms per dwelling.\n",
       "</p>\n",
       "</dd>\n",
       "<dt><code>age</code></dt><dd>\n",
       "<p>proportion of owner-occupied units built prior to 1940.\n",
       "</p>\n",
       "</dd>\n",
       "<dt><code>dis</code></dt><dd>\n",
       "<p>weighted mean of distances to five Boston employment centres.\n",
       "</p>\n",
       "</dd>\n",
       "<dt><code>rad</code></dt><dd>\n",
       "<p>index of accessibility to radial highways.\n",
       "</p>\n",
       "</dd>\n",
       "<dt><code>tax</code></dt><dd>\n",
       "<p>full-value property-tax rate per $10,000.\n",
       "</p>\n",
       "</dd>\n",
       "<dt><code>ptratio</code></dt><dd>\n",
       "<p>pupil-teacher ratio by town.\n",
       "</p>\n",
       "</dd>\n",
       "<dt><code>black</code></dt><dd>\n",
       "<p><i>1000(Bk - 0.63)^2</i> where <i>Bk</i> is the proportion of blacks\n",
       "by town.\n",
       "</p>\n",
       "</dd>\n",
       "<dt><code>lstat</code></dt><dd>\n",
       "<p>lower status of the population (percent).\n",
       "</p>\n",
       "</dd>\n",
       "<dt><code>medv</code></dt><dd>\n",
       "<p>median value of owner-occupied homes in $1000s.\n",
       "</p>\n",
       "</dd>\n",
       "</dl>\n",
       "\n",
       "\n",
       "\n",
       "<h3>Source</h3>\n",
       "\n",
       "<p>Harrison, D. and Rubinfeld, D.L. (1978)\n",
       "Hedonic prices and the demand for clean air.\n",
       "<em>J. Environ. Economics and Management</em>\n",
       "<b>5</b>, 81&ndash;102.\n",
       "</p>\n",
       "<p>Belsley D.A., Kuh, E.  and Welsch, R.E. (1980)\n",
       "<em>Regression Diagnostics. Identifying Influential Data and Sources\n",
       "of Collinearity.</em>\n",
       "New York: Wiley.\n",
       "</p>\n",
       "\n",
       "<hr /><div style=\"text-align: center;\">[Package <em>MASS</em> version 7.3-58.1 ]</div>"
      ],
      "text/latex": [
       "\\inputencoding{utf8}\n",
       "\\HeaderA{Boston}{Housing Values in Suburbs of Boston}{Boston}\n",
       "\\keyword{datasets}{Boston}\n",
       "%\n",
       "\\begin{Description}\\relax\n",
       "The \\code{Boston} data frame has 506 rows and 14 columns.\n",
       "\\end{Description}\n",
       "%\n",
       "\\begin{Usage}\n",
       "\\begin{verbatim}\n",
       "Boston\n",
       "\\end{verbatim}\n",
       "\\end{Usage}\n",
       "%\n",
       "\\begin{Format}\n",
       "This data frame contains the following columns:\n",
       "\\begin{description}\n",
       "\n",
       "\\item[\\code{crim}] \n",
       "per capita crime rate by town.\n",
       "\n",
       "\\item[\\code{zn}] \n",
       "proportion of residential land zoned for lots over 25,000 sq.ft.\n",
       "\n",
       "\\item[\\code{indus}] \n",
       "proportion of non-retail business acres per town.\n",
       "\n",
       "\\item[\\code{chas}] \n",
       "Charles River dummy variable (= 1 if tract bounds river; 0 otherwise).\n",
       "\n",
       "\\item[\\code{nox}] \n",
       "nitrogen oxides concentration (parts per 10 million).\n",
       "\n",
       "\\item[\\code{rm}] \n",
       "average number of rooms per dwelling.\n",
       "\n",
       "\\item[\\code{age}] \n",
       "proportion of owner-occupied units built prior to 1940.\n",
       "\n",
       "\\item[\\code{dis}] \n",
       "weighted mean of distances to five Boston employment centres.\n",
       "\n",
       "\\item[\\code{rad}] \n",
       "index of accessibility to radial highways.\n",
       "\n",
       "\\item[\\code{tax}] \n",
       "full-value property-tax rate per \\$10,000.\n",
       "\n",
       "\\item[\\code{ptratio}] \n",
       "pupil-teacher ratio by town.\n",
       "\n",
       "\\item[\\code{black}] \n",
       "\\eqn{1000(Bk - 0.63)^2}{} where \\eqn{Bk}{} is the proportion of blacks\n",
       "by town.\n",
       "\n",
       "\\item[\\code{lstat}] \n",
       "lower status of the population (percent).\n",
       "\n",
       "\\item[\\code{medv}] \n",
       "median value of owner-occupied homes in \\$1000s.\n",
       "\n",
       "\n",
       "\\end{description}\n",
       "\n",
       "\\end{Format}\n",
       "%\n",
       "\\begin{Source}\\relax\n",
       "Harrison, D. and Rubinfeld, D.L. (1978)\n",
       "Hedonic prices and the demand for clean air.\n",
       "\\emph{J. Environ. Economics and Management}\n",
       "\\bold{5}, 81--102.\n",
       "\n",
       "Belsley D.A., Kuh, E.  and Welsch, R.E. (1980)\n",
       "\\emph{Regression Diagnostics. Identifying Influential Data and Sources\n",
       "of Collinearity.}\n",
       "New York: Wiley.\n",
       "\\end{Source}"
      ],
      "text/plain": [
       "Boston                  package:MASS                   R Documentation\n",
       "\n",
       "_\bH_\bo_\bu_\bs_\bi_\bn_\bg _\bV_\ba_\bl_\bu_\be_\bs _\bi_\bn _\bS_\bu_\bb_\bu_\br_\bb_\bs _\bo_\bf _\bB_\bo_\bs_\bt_\bo_\bn\n",
       "\n",
       "_\bD_\be_\bs_\bc_\br_\bi_\bp_\bt_\bi_\bo_\bn:\n",
       "\n",
       "     The 'Boston' data frame has 506 rows and 14 columns.\n",
       "\n",
       "_\bU_\bs_\ba_\bg_\be:\n",
       "\n",
       "     Boston\n",
       "     \n",
       "_\bF_\bo_\br_\bm_\ba_\bt:\n",
       "\n",
       "     This data frame contains the following columns:\n",
       "\n",
       "     'crim' per capita crime rate by town.\n",
       "\n",
       "     'zn' proportion of residential land zoned for lots over 25,000\n",
       "          sq.ft.\n",
       "\n",
       "     'indus' proportion of non-retail business acres per town.\n",
       "\n",
       "     'chas' Charles River dummy variable (= 1 if tract bounds river; 0\n",
       "          otherwise).\n",
       "\n",
       "     'nox' nitrogen oxides concentration (parts per 10 million).\n",
       "\n",
       "     'rm' average number of rooms per dwelling.\n",
       "\n",
       "     'age' proportion of owner-occupied units built prior to 1940.\n",
       "\n",
       "     'dis' weighted mean of distances to five Boston employment\n",
       "          centres.\n",
       "\n",
       "     'rad' index of accessibility to radial highways.\n",
       "\n",
       "     'tax' full-value property-tax rate per $10,000.\n",
       "\n",
       "     'ptratio' pupil-teacher ratio by town.\n",
       "\n",
       "     'black' 1000(Bk - 0.63)^2 where Bk is the proportion of blacks by\n",
       "          town.\n",
       "\n",
       "     'lstat' lower status of the population (percent).\n",
       "\n",
       "     'medv' median value of owner-occupied homes in $1000s.\n",
       "\n",
       "_\bS_\bo_\bu_\br_\bc_\be:\n",
       "\n",
       "     Harrison, D. and Rubinfeld, D.L. (1978) Hedonic prices and the\n",
       "     demand for clean air.  _J. Environ. Economics and Management_ *5*,\n",
       "     81-102.\n",
       "\n",
       "     Belsley D.A., Kuh, E.  and Welsch, R.E. (1980) _Regression\n",
       "     Diagnostics. Identifying Influential Data and Sources of\n",
       "     Collinearity._ New York: Wiley.\n"
      ]
     },
     "metadata": {},
     "output_type": "display_data"
    }
   ],
   "source": [
    "library(MASS)\n",
    "?Boston"
   ]
  },
  {
   "cell_type": "markdown",
   "id": "c8eca747-ab99-4cbc-bad0-eb1d0bfa94cb",
   "metadata": {},
   "source": [
    "Переглянемо дані:"
   ]
  },
  {
   "cell_type": "code",
   "execution_count": 3,
   "id": "e4b93bcb-7cd4-4cd9-9a95-0a6614a169ed",
   "metadata": {},
   "outputs": [
    {
     "data": {
      "text/html": [
       "<table class=\"dataframe\">\n",
       "<caption>A data.frame: 6 × 14</caption>\n",
       "<thead>\n",
       "\t<tr><th></th><th scope=col>crim</th><th scope=col>zn</th><th scope=col>indus</th><th scope=col>chas</th><th scope=col>nox</th><th scope=col>rm</th><th scope=col>age</th><th scope=col>dis</th><th scope=col>rad</th><th scope=col>tax</th><th scope=col>ptratio</th><th scope=col>black</th><th scope=col>lstat</th><th scope=col>medv</th></tr>\n",
       "\t<tr><th></th><th scope=col>&lt;dbl&gt;</th><th scope=col>&lt;dbl&gt;</th><th scope=col>&lt;dbl&gt;</th><th scope=col>&lt;int&gt;</th><th scope=col>&lt;dbl&gt;</th><th scope=col>&lt;dbl&gt;</th><th scope=col>&lt;dbl&gt;</th><th scope=col>&lt;dbl&gt;</th><th scope=col>&lt;int&gt;</th><th scope=col>&lt;dbl&gt;</th><th scope=col>&lt;dbl&gt;</th><th scope=col>&lt;dbl&gt;</th><th scope=col>&lt;dbl&gt;</th><th scope=col>&lt;dbl&gt;</th></tr>\n",
       "</thead>\n",
       "<tbody>\n",
       "\t<tr><th scope=row>1</th><td>0.00632</td><td>18</td><td>2.31</td><td>0</td><td>0.538</td><td>6.575</td><td>65.2</td><td>4.0900</td><td>1</td><td>296</td><td>15.3</td><td>396.90</td><td>4.98</td><td>24.0</td></tr>\n",
       "\t<tr><th scope=row>2</th><td>0.02731</td><td> 0</td><td>7.07</td><td>0</td><td>0.469</td><td>6.421</td><td>78.9</td><td>4.9671</td><td>2</td><td>242</td><td>17.8</td><td>396.90</td><td>9.14</td><td>21.6</td></tr>\n",
       "\t<tr><th scope=row>3</th><td>0.02729</td><td> 0</td><td>7.07</td><td>0</td><td>0.469</td><td>7.185</td><td>61.1</td><td>4.9671</td><td>2</td><td>242</td><td>17.8</td><td>392.83</td><td>4.03</td><td>34.7</td></tr>\n",
       "\t<tr><th scope=row>4</th><td>0.03237</td><td> 0</td><td>2.18</td><td>0</td><td>0.458</td><td>6.998</td><td>45.8</td><td>6.0622</td><td>3</td><td>222</td><td>18.7</td><td>394.63</td><td>2.94</td><td>33.4</td></tr>\n",
       "\t<tr><th scope=row>5</th><td>0.06905</td><td> 0</td><td>2.18</td><td>0</td><td>0.458</td><td>7.147</td><td>54.2</td><td>6.0622</td><td>3</td><td>222</td><td>18.7</td><td>396.90</td><td>5.33</td><td>36.2</td></tr>\n",
       "\t<tr><th scope=row>6</th><td>0.02985</td><td> 0</td><td>2.18</td><td>0</td><td>0.458</td><td>6.430</td><td>58.7</td><td>6.0622</td><td>3</td><td>222</td><td>18.7</td><td>394.12</td><td>5.21</td><td>28.7</td></tr>\n",
       "</tbody>\n",
       "</table>\n"
      ],
      "text/latex": [
       "A data.frame: 6 × 14\n",
       "\\begin{tabular}{r|llllllllllllll}\n",
       "  & crim & zn & indus & chas & nox & rm & age & dis & rad & tax & ptratio & black & lstat & medv\\\\\n",
       "  & <dbl> & <dbl> & <dbl> & <int> & <dbl> & <dbl> & <dbl> & <dbl> & <int> & <dbl> & <dbl> & <dbl> & <dbl> & <dbl>\\\\\n",
       "\\hline\n",
       "\t1 & 0.00632 & 18 & 2.31 & 0 & 0.538 & 6.575 & 65.2 & 4.0900 & 1 & 296 & 15.3 & 396.90 & 4.98 & 24.0\\\\\n",
       "\t2 & 0.02731 &  0 & 7.07 & 0 & 0.469 & 6.421 & 78.9 & 4.9671 & 2 & 242 & 17.8 & 396.90 & 9.14 & 21.6\\\\\n",
       "\t3 & 0.02729 &  0 & 7.07 & 0 & 0.469 & 7.185 & 61.1 & 4.9671 & 2 & 242 & 17.8 & 392.83 & 4.03 & 34.7\\\\\n",
       "\t4 & 0.03237 &  0 & 2.18 & 0 & 0.458 & 6.998 & 45.8 & 6.0622 & 3 & 222 & 18.7 & 394.63 & 2.94 & 33.4\\\\\n",
       "\t5 & 0.06905 &  0 & 2.18 & 0 & 0.458 & 7.147 & 54.2 & 6.0622 & 3 & 222 & 18.7 & 396.90 & 5.33 & 36.2\\\\\n",
       "\t6 & 0.02985 &  0 & 2.18 & 0 & 0.458 & 6.430 & 58.7 & 6.0622 & 3 & 222 & 18.7 & 394.12 & 5.21 & 28.7\\\\\n",
       "\\end{tabular}\n"
      ],
      "text/markdown": [
       "\n",
       "A data.frame: 6 × 14\n",
       "\n",
       "| <!--/--> | crim &lt;dbl&gt; | zn &lt;dbl&gt; | indus &lt;dbl&gt; | chas &lt;int&gt; | nox &lt;dbl&gt; | rm &lt;dbl&gt; | age &lt;dbl&gt; | dis &lt;dbl&gt; | rad &lt;int&gt; | tax &lt;dbl&gt; | ptratio &lt;dbl&gt; | black &lt;dbl&gt; | lstat &lt;dbl&gt; | medv &lt;dbl&gt; |\n",
       "|---|---|---|---|---|---|---|---|---|---|---|---|---|---|---|\n",
       "| 1 | 0.00632 | 18 | 2.31 | 0 | 0.538 | 6.575 | 65.2 | 4.0900 | 1 | 296 | 15.3 | 396.90 | 4.98 | 24.0 |\n",
       "| 2 | 0.02731 |  0 | 7.07 | 0 | 0.469 | 6.421 | 78.9 | 4.9671 | 2 | 242 | 17.8 | 396.90 | 9.14 | 21.6 |\n",
       "| 3 | 0.02729 |  0 | 7.07 | 0 | 0.469 | 7.185 | 61.1 | 4.9671 | 2 | 242 | 17.8 | 392.83 | 4.03 | 34.7 |\n",
       "| 4 | 0.03237 |  0 | 2.18 | 0 | 0.458 | 6.998 | 45.8 | 6.0622 | 3 | 222 | 18.7 | 394.63 | 2.94 | 33.4 |\n",
       "| 5 | 0.06905 |  0 | 2.18 | 0 | 0.458 | 7.147 | 54.2 | 6.0622 | 3 | 222 | 18.7 | 396.90 | 5.33 | 36.2 |\n",
       "| 6 | 0.02985 |  0 | 2.18 | 0 | 0.458 | 6.430 | 58.7 | 6.0622 | 3 | 222 | 18.7 | 394.12 | 5.21 | 28.7 |\n",
       "\n"
      ],
      "text/plain": [
       "  crim    zn indus chas nox   rm    age  dis    rad tax ptratio black  lstat\n",
       "1 0.00632 18 2.31  0    0.538 6.575 65.2 4.0900 1   296 15.3    396.90 4.98 \n",
       "2 0.02731  0 7.07  0    0.469 6.421 78.9 4.9671 2   242 17.8    396.90 9.14 \n",
       "3 0.02729  0 7.07  0    0.469 7.185 61.1 4.9671 2   242 17.8    392.83 4.03 \n",
       "4 0.03237  0 2.18  0    0.458 6.998 45.8 6.0622 3   222 18.7    394.63 2.94 \n",
       "5 0.06905  0 2.18  0    0.458 7.147 54.2 6.0622 3   222 18.7    396.90 5.33 \n",
       "6 0.02985  0 2.18  0    0.458 6.430 58.7 6.0622 3   222 18.7    394.12 5.21 \n",
       "  medv\n",
       "1 24.0\n",
       "2 21.6\n",
       "3 34.7\n",
       "4 33.4\n",
       "5 36.2\n",
       "6 28.7"
      ]
     },
     "metadata": {},
     "output_type": "display_data"
    }
   ],
   "source": [
    "head(Boston)"
   ]
  },
  {
   "cell_type": "code",
   "execution_count": 4,
   "id": "33a645e5-ef7a-4f2c-a28b-fa97e6bb3793",
   "metadata": {},
   "outputs": [
    {
     "name": "stdout",
     "output_type": "stream",
     "text": [
      "'data.frame':\t506 obs. of  14 variables:\n",
      " $ crim   : num  0.00632 0.02731 0.02729 0.03237 0.06905 ...\n",
      " $ zn     : num  18 0 0 0 0 0 12.5 12.5 12.5 12.5 ...\n",
      " $ indus  : num  2.31 7.07 7.07 2.18 2.18 2.18 7.87 7.87 7.87 7.87 ...\n",
      " $ chas   : int  0 0 0 0 0 0 0 0 0 0 ...\n",
      " $ nox    : num  0.538 0.469 0.469 0.458 0.458 0.458 0.524 0.524 0.524 0.524 ...\n",
      " $ rm     : num  6.58 6.42 7.18 7 7.15 ...\n",
      " $ age    : num  65.2 78.9 61.1 45.8 54.2 58.7 66.6 96.1 100 85.9 ...\n",
      " $ dis    : num  4.09 4.97 4.97 6.06 6.06 ...\n",
      " $ rad    : int  1 2 2 3 3 3 5 5 5 5 ...\n",
      " $ tax    : num  296 242 242 222 222 222 311 311 311 311 ...\n",
      " $ ptratio: num  15.3 17.8 17.8 18.7 18.7 18.7 15.2 15.2 15.2 15.2 ...\n",
      " $ black  : num  397 397 393 395 397 ...\n",
      " $ lstat  : num  4.98 9.14 4.03 2.94 5.33 ...\n",
      " $ medv   : num  24 21.6 34.7 33.4 36.2 28.7 22.9 27.1 16.5 18.9 ...\n"
     ]
    }
   ],
   "source": [
    "str(Boston)"
   ]
  },
  {
   "cell_type": "markdown",
   "id": "477eb946-aadf-4644-a7d1-17447326e0c2",
   "metadata": {},
   "source": [
    "## Data visualization"
   ]
  },
  {
   "cell_type": "markdown",
   "id": "c9522f05-648d-4c99-aaab-9091ed103888",
   "metadata": {},
   "source": [
    "Lets move our dataset to special variable:"
   ]
  },
  {
   "cell_type": "code",
   "execution_count": 5,
   "id": "21df4957-f07b-4758-b1e9-2686fab35008",
   "metadata": {},
   "outputs": [
    {
     "data": {
      "text/html": [
       "<table class=\"dataframe\">\n",
       "<caption>A data.frame: 6 × 14</caption>\n",
       "<thead>\n",
       "\t<tr><th></th><th scope=col>crim</th><th scope=col>zn</th><th scope=col>indus</th><th scope=col>chas</th><th scope=col>nox</th><th scope=col>rm</th><th scope=col>age</th><th scope=col>dis</th><th scope=col>rad</th><th scope=col>tax</th><th scope=col>ptratio</th><th scope=col>black</th><th scope=col>lstat</th><th scope=col>medv</th></tr>\n",
       "\t<tr><th></th><th scope=col>&lt;dbl&gt;</th><th scope=col>&lt;dbl&gt;</th><th scope=col>&lt;dbl&gt;</th><th scope=col>&lt;int&gt;</th><th scope=col>&lt;dbl&gt;</th><th scope=col>&lt;dbl&gt;</th><th scope=col>&lt;dbl&gt;</th><th scope=col>&lt;dbl&gt;</th><th scope=col>&lt;int&gt;</th><th scope=col>&lt;dbl&gt;</th><th scope=col>&lt;dbl&gt;</th><th scope=col>&lt;dbl&gt;</th><th scope=col>&lt;dbl&gt;</th><th scope=col>&lt;dbl&gt;</th></tr>\n",
       "</thead>\n",
       "<tbody>\n",
       "\t<tr><th scope=row>1</th><td>0.00632</td><td>18</td><td>2.31</td><td>0</td><td>0.538</td><td>6.575</td><td>65.2</td><td>4.0900</td><td>1</td><td>296</td><td>15.3</td><td>396.90</td><td>4.98</td><td>24.0</td></tr>\n",
       "\t<tr><th scope=row>2</th><td>0.02731</td><td> 0</td><td>7.07</td><td>0</td><td>0.469</td><td>6.421</td><td>78.9</td><td>4.9671</td><td>2</td><td>242</td><td>17.8</td><td>396.90</td><td>9.14</td><td>21.6</td></tr>\n",
       "\t<tr><th scope=row>3</th><td>0.02729</td><td> 0</td><td>7.07</td><td>0</td><td>0.469</td><td>7.185</td><td>61.1</td><td>4.9671</td><td>2</td><td>242</td><td>17.8</td><td>392.83</td><td>4.03</td><td>34.7</td></tr>\n",
       "\t<tr><th scope=row>4</th><td>0.03237</td><td> 0</td><td>2.18</td><td>0</td><td>0.458</td><td>6.998</td><td>45.8</td><td>6.0622</td><td>3</td><td>222</td><td>18.7</td><td>394.63</td><td>2.94</td><td>33.4</td></tr>\n",
       "\t<tr><th scope=row>5</th><td>0.06905</td><td> 0</td><td>2.18</td><td>0</td><td>0.458</td><td>7.147</td><td>54.2</td><td>6.0622</td><td>3</td><td>222</td><td>18.7</td><td>396.90</td><td>5.33</td><td>36.2</td></tr>\n",
       "\t<tr><th scope=row>6</th><td>0.02985</td><td> 0</td><td>2.18</td><td>0</td><td>0.458</td><td>6.430</td><td>58.7</td><td>6.0622</td><td>3</td><td>222</td><td>18.7</td><td>394.12</td><td>5.21</td><td>28.7</td></tr>\n",
       "</tbody>\n",
       "</table>\n"
      ],
      "text/latex": [
       "A data.frame: 6 × 14\n",
       "\\begin{tabular}{r|llllllllllllll}\n",
       "  & crim & zn & indus & chas & nox & rm & age & dis & rad & tax & ptratio & black & lstat & medv\\\\\n",
       "  & <dbl> & <dbl> & <dbl> & <int> & <dbl> & <dbl> & <dbl> & <dbl> & <int> & <dbl> & <dbl> & <dbl> & <dbl> & <dbl>\\\\\n",
       "\\hline\n",
       "\t1 & 0.00632 & 18 & 2.31 & 0 & 0.538 & 6.575 & 65.2 & 4.0900 & 1 & 296 & 15.3 & 396.90 & 4.98 & 24.0\\\\\n",
       "\t2 & 0.02731 &  0 & 7.07 & 0 & 0.469 & 6.421 & 78.9 & 4.9671 & 2 & 242 & 17.8 & 396.90 & 9.14 & 21.6\\\\\n",
       "\t3 & 0.02729 &  0 & 7.07 & 0 & 0.469 & 7.185 & 61.1 & 4.9671 & 2 & 242 & 17.8 & 392.83 & 4.03 & 34.7\\\\\n",
       "\t4 & 0.03237 &  0 & 2.18 & 0 & 0.458 & 6.998 & 45.8 & 6.0622 & 3 & 222 & 18.7 & 394.63 & 2.94 & 33.4\\\\\n",
       "\t5 & 0.06905 &  0 & 2.18 & 0 & 0.458 & 7.147 & 54.2 & 6.0622 & 3 & 222 & 18.7 & 396.90 & 5.33 & 36.2\\\\\n",
       "\t6 & 0.02985 &  0 & 2.18 & 0 & 0.458 & 6.430 & 58.7 & 6.0622 & 3 & 222 & 18.7 & 394.12 & 5.21 & 28.7\\\\\n",
       "\\end{tabular}\n"
      ],
      "text/markdown": [
       "\n",
       "A data.frame: 6 × 14\n",
       "\n",
       "| <!--/--> | crim &lt;dbl&gt; | zn &lt;dbl&gt; | indus &lt;dbl&gt; | chas &lt;int&gt; | nox &lt;dbl&gt; | rm &lt;dbl&gt; | age &lt;dbl&gt; | dis &lt;dbl&gt; | rad &lt;int&gt; | tax &lt;dbl&gt; | ptratio &lt;dbl&gt; | black &lt;dbl&gt; | lstat &lt;dbl&gt; | medv &lt;dbl&gt; |\n",
       "|---|---|---|---|---|---|---|---|---|---|---|---|---|---|---|\n",
       "| 1 | 0.00632 | 18 | 2.31 | 0 | 0.538 | 6.575 | 65.2 | 4.0900 | 1 | 296 | 15.3 | 396.90 | 4.98 | 24.0 |\n",
       "| 2 | 0.02731 |  0 | 7.07 | 0 | 0.469 | 6.421 | 78.9 | 4.9671 | 2 | 242 | 17.8 | 396.90 | 9.14 | 21.6 |\n",
       "| 3 | 0.02729 |  0 | 7.07 | 0 | 0.469 | 7.185 | 61.1 | 4.9671 | 2 | 242 | 17.8 | 392.83 | 4.03 | 34.7 |\n",
       "| 4 | 0.03237 |  0 | 2.18 | 0 | 0.458 | 6.998 | 45.8 | 6.0622 | 3 | 222 | 18.7 | 394.63 | 2.94 | 33.4 |\n",
       "| 5 | 0.06905 |  0 | 2.18 | 0 | 0.458 | 7.147 | 54.2 | 6.0622 | 3 | 222 | 18.7 | 396.90 | 5.33 | 36.2 |\n",
       "| 6 | 0.02985 |  0 | 2.18 | 0 | 0.458 | 6.430 | 58.7 | 6.0622 | 3 | 222 | 18.7 | 394.12 | 5.21 | 28.7 |\n",
       "\n"
      ],
      "text/plain": [
       "  crim    zn indus chas nox   rm    age  dis    rad tax ptratio black  lstat\n",
       "1 0.00632 18 2.31  0    0.538 6.575 65.2 4.0900 1   296 15.3    396.90 4.98 \n",
       "2 0.02731  0 7.07  0    0.469 6.421 78.9 4.9671 2   242 17.8    396.90 9.14 \n",
       "3 0.02729  0 7.07  0    0.469 7.185 61.1 4.9671 2   242 17.8    392.83 4.03 \n",
       "4 0.03237  0 2.18  0    0.458 6.998 45.8 6.0622 3   222 18.7    394.63 2.94 \n",
       "5 0.06905  0 2.18  0    0.458 7.147 54.2 6.0622 3   222 18.7    396.90 5.33 \n",
       "6 0.02985  0 2.18  0    0.458 6.430 58.7 6.0622 3   222 18.7    394.12 5.21 \n",
       "  medv\n",
       "1 24.0\n",
       "2 21.6\n",
       "3 34.7\n",
       "4 33.4\n",
       "5 36.2\n",
       "6 28.7"
      ]
     },
     "metadata": {},
     "output_type": "display_data"
    }
   ],
   "source": [
    "data <- Boston\n",
    "head(data)"
   ]
  },
  {
   "cell_type": "markdown",
   "id": "ee60a661-2068-4fa6-868e-209662c588a2",
   "metadata": {},
   "source": [
    "Let's check a correlation between parameters: "
   ]
  },
  {
   "cell_type": "code",
   "execution_count": 6,
   "id": "b8a48538-4b4f-4166-b55d-1d62e5fb16fc",
   "metadata": {},
   "outputs": [
    {
     "data": {
      "image/png": "[encoded data removed]",
      "text/plain": [
       "Plot with title \"\""
      ]
     },
     "metadata": {
      "image/png": {
       "height": 420,
       "width": 420
      }
     },
     "output_type": "display_data"
    }
   ],
   "source": [
    "suppressMessages(library(corrplot))\n",
    "corrplot(cor(data))"
   ]
  },
  {
   "cell_type": "markdown",
   "id": "8924b91e-81fb-459c-b42b-ffee3434a5c2",
   "metadata": {},
   "source": [
    "Rad and tax has highest correlation: 0.91\n",
    "\n",
    "- [x] `rad` - index of accessibility to radial highways.\n",
    "- [x] `tax` - full-value property-tax rate per $10,000."
   ]
  },
  {
   "cell_type": "code",
   "execution_count": 7,
   "id": "8904b01e-86bd-45f0-94df-9f7f51b02656",
   "metadata": {},
   "outputs": [
    {
     "data": {
      "image/png": "[encoded data removed]",
      "text/plain": [
       "plot without title"
      ]
     },
     "metadata": {
      "image/png": {
       "height": 420,
       "width": 420
      }
     },
     "output_type": "display_data"
    }
   ],
   "source": [
    "library(ggplot2)\n",
    "\n",
    "ggplot(data, aes(medv)) + \n",
    "    geom_histogram(bins = 25, alpha = 0.5, fill = 'blue', color='black')  + \n",
    "    theme_bw()"
   ]
  },
  {
   "cell_type": "code",
   "execution_count": 8,
   "id": "c5f69d51-d0da-411b-a3e8-e3be58480d0f",
   "metadata": {},
   "outputs": [
    {
     "data": {
      "image/png": "[encoded data removed]",
      "text/plain": [
       "plot without title"
      ]
     },
     "metadata": {
      "image/png": {
       "height": 420,
       "width": 420
      }
     },
     "output_type": "display_data"
    }
   ],
   "source": [
    "#crim\n",
    "ggplot(data, aes(crim)) + \n",
    "    geom_histogram(bins = 25, alpha = 0.5, fill = 'blue', color='black')  + \n",
    "    theme_bw()"
   ]
  },
  {
   "cell_type": "code",
   "execution_count": 9,
   "id": "706d000b-3626-4980-b64f-55cdcc792447",
   "metadata": {},
   "outputs": [
    {
     "data": {
      "image/png": "[encoded data removed]",
      "text/plain": [
       "plot without title"
      ]
     },
     "metadata": {
      "image/png": {
       "height": 420,
       "width": 420
      }
     },
     "output_type": "display_data"
    }
   ],
   "source": [
    "#zn\n",
    "ggplot(data, aes(zn)) + \n",
    "    geom_histogram(bins = 25, alpha = 0.5, fill = 'blue', color='black')  + \n",
    "    theme_bw()"
   ]
  },
  {
   "cell_type": "code",
   "execution_count": 10,
   "id": "0c8bbf03-545f-4577-814d-3869f98fa0c1",
   "metadata": {},
   "outputs": [
    {
     "data": {
      "image/png": "[encoded data removed]",
      "text/plain": [
       "plot without title"
      ]
     },
     "metadata": {
      "image/png": {
       "height": 420,
       "width": 420
      }
     },
     "output_type": "display_data"
    }
   ],
   "source": [
    "#indus\n",
    "ggplot(data, aes(indus)) + \n",
    "    geom_histogram(bins = 25, alpha = 0.5, fill = 'blue', color='black')  + \n",
    "    theme_bw()"
   ]
  },
  {
   "cell_type": "code",
   "execution_count": 11,
   "id": "9416de18-4b3f-4da8-a916-585109d8f79e",
   "metadata": {},
   "outputs": [
    {
     "data": {
      "image/png": "[encoded data removed]",
      "text/plain": [
       "plot without title"
      ]
     },
     "metadata": {
      "image/png": {
       "height": 420,
       "width": 420
      }
     },
     "output_type": "display_data"
    }
   ],
   "source": [
    "#chas \n",
    "ggplot(data, aes(chas)) + \n",
    "    geom_bar(aes(fill = chas)) + \n",
    "    theme_bw()"
   ]
  },
  {
   "cell_type": "code",
   "execution_count": 12,
   "id": "d4f744a8-70fe-40aa-b576-4248bb92e80e",
   "metadata": {},
   "outputs": [
    {
     "data": {
      "image/png": "[encoded data removed]",
      "text/plain": [
       "plot without title"
      ]
     },
     "metadata": {
      "image/png": {
       "height": 420,
       "width": 420
      }
     },
     "output_type": "display_data"
    }
   ],
   "source": [
    "# nox\n",
    "ggplot(data, aes(nox)) + \n",
    "    geom_histogram(bins = 10, alpha = 0.5, fill = 'blue', color='black')  + \n",
    "    theme_bw()"
   ]
  },
  {
   "cell_type": "code",
   "execution_count": 13,
   "id": "7b09e593-659c-4a6e-a7e1-616e66091ee4",
   "metadata": {},
   "outputs": [
    {
     "data": {
      "image/png": "[encoded data removed]",
      "text/plain": [
       "plot without title"
      ]
     },
     "metadata": {
      "image/png": {
       "height": 420,
       "width": 420
      }
     },
     "output_type": "display_data"
    }
   ],
   "source": [
    "# rm\n",
    "ggplot(data, aes(rm)) + \n",
    "    geom_histogram(bins = 10, alpha = 0.5, fill = 'blue', color='black')  + \n",
    "    theme_bw()"
   ]
  },
  {
   "cell_type": "code",
   "execution_count": 14,
   "id": "8f2eb1af-c8cc-48a5-86aa-9d8aab6b7a20",
   "metadata": {},
   "outputs": [
    {
     "data": {
      "image/png": "[encoded data removed]",
      "text/plain": [
       "plot without title"
      ]
     },
     "metadata": {
      "image/png": {
       "height": 420,
       "width": 420
      }
     },
     "output_type": "display_data"
    }
   ],
   "source": [
    "# age\n",
    "ggplot(data, aes(age)) + \n",
    "    geom_histogram(bins = 15, alpha = 0.5, fill = 'blue', color='black')  + \n",
    "    theme_bw()"
   ]
  },
  {
   "cell_type": "code",
   "execution_count": 15,
   "id": "0b710f2b-f12d-44e6-8206-ddf7e87309ab",
   "metadata": {},
   "outputs": [
    {
     "data": {
      "image/png": "[encoded data removed]",
      "text/plain": [
       "plot without title"
      ]
     },
     "metadata": {
      "image/png": {
       "height": 420,
       "width": 420
      }
     },
     "output_type": "display_data"
    }
   ],
   "source": [
    "# dis\n",
    "ggplot(data, aes(dis)) + \n",
    "    geom_histogram(bins = 15, alpha = 0.5, fill = 'blue', color='black')  + \n",
    "    theme_bw()"
   ]
  },
  {
   "cell_type": "code",
   "execution_count": 16,
   "id": "3bec2bb1-7423-4c64-8e7c-0d5d0be6a73f",
   "metadata": {},
   "outputs": [
    {
     "data": {
      "image/png": "[encoded data removed]",
      "text/plain": [
       "plot without title"
      ]
     },
     "metadata": {
      "image/png": {
       "height": 420,
       "width": 420
      }
     },
     "output_type": "display_data"
    }
   ],
   "source": [
    "#rad\n",
    "ggplot(data, aes(ptratio)) + \n",
    "    geom_histogram(bins = 10, alpha = 0.5, fill = 'blue', color='black')  + \n",
    "    theme_bw()"
   ]
  },
  {
   "cell_type": "code",
   "execution_count": 17,
   "id": "9349c931-4cd2-4b78-979d-c8dbae54f893",
   "metadata": {},
   "outputs": [
    {
     "data": {
      "image/png": "[encoded data removed]",
      "text/plain": [
       "plot without title"
      ]
     },
     "metadata": {
      "image/png": {
       "height": 420,
       "width": 420
      }
     },
     "output_type": "display_data"
    }
   ],
   "source": [
    "# black\n",
    "ggplot(data, aes(black)) + \n",
    "    geom_histogram(bins = 10, alpha = 0.5, fill = 'blue', color='black')  + \n",
    "    theme_bw()"
   ]
  },
  {
   "cell_type": "code",
   "execution_count": 18,
   "id": "33e22516-8123-40c4-b591-0737a4f0afb0",
   "metadata": {},
   "outputs": [
    {
     "data": {
      "image/png": "[encoded data removed]",
      "text/plain": [
       "plot without title"
      ]
     },
     "metadata": {
      "image/png": {
       "height": 420,
       "width": 420
      }
     },
     "output_type": "display_data"
    }
   ],
   "source": [
    "# lstat\n",
    "ggplot(data, aes(lstat)) + \n",
    "    geom_histogram(bins = 25, alpha = 0.5, fill = 'blue', color='black')  + \n",
    "    theme_bw()"
   ]
  },
  {
   "cell_type": "code",
   "execution_count": 19,
   "id": "79268f70-068b-48eb-81d1-91c9123a75a1",
   "metadata": {},
   "outputs": [
    {
     "data": {
      "image/png": "[encoded data removed]",
      "text/plain": [
       "plot without title"
      ]
     },
     "metadata": {
      "image/png": {
       "height": 420,
       "width": 420
      }
     },
     "output_type": "display_data"
    }
   ],
   "source": [
    "# nox\n",
    "ggplot(data, aes(nox)) + \n",
    "    geom_histogram(bins = 25, alpha = 0.5, fill = 'blue', color='black')  + \n",
    "    theme_bw()"
   ]
  },
  {
   "cell_type": "markdown",
   "id": "24b27224-13d6-4213-b46a-640eae2fcd3c",
   "metadata": {},
   "source": [
    "---"
   ]
  },
  {
   "cell_type": "markdown",
   "id": "861d0194-d7a5-46fa-a713-c82423e96c3b",
   "metadata": {},
   "source": [
    "## Data scaling"
   ]
  },
  {
   "cell_type": "markdown",
   "id": "5574b2e7-63c9-469c-96d0-ed8fcf17fba4",
   "metadata": {},
   "source": [
    "Для роботи з нейромережами хорошою практикою є нормалізація даних перед використанням. Скористаємося формулою $(X-Xmin)/(Xmax-Xmin)$."
   ]
  },
  {
   "cell_type": "markdown",
   "id": "18fe3b95-2436-4f95-ab18-be725f9b4b7a",
   "metadata": {},
   "source": [
    "Визначимо мінімальні та максимальні значення по факторах:"
   ]
  },
  {
   "cell_type": "code",
   "execution_count": 20,
   "id": "14ea07bd-b8b1-45c2-a137-7d691ba922b2",
   "metadata": {},
   "outputs": [],
   "source": [
    "suppressMessages(library(dplyr))"
   ]
  },
  {
   "cell_type": "code",
   "execution_count": 21,
   "id": "1e5ca2b8-b28a-43b7-bb47-cfdcebe03d99",
   "metadata": {},
   "outputs": [],
   "source": [
    "normalizeData <- function(x) {\n",
    "    return ((x - min(x)) / (max(x) - min(x)))\n",
    "}"
   ]
  },
  {
   "cell_type": "code",
   "execution_count": 22,
   "id": "44f2bbfa-6128-4b11-8920-935b3f8f7996",
   "metadata": {},
   "outputs": [],
   "source": [
    "revertData <- function(scaled, original) {\n",
    "    return (scaled * (max(original) - min(original)) + min(original))    \n",
    "}"
   ]
  },
  {
   "cell_type": "code",
   "execution_count": 23,
   "id": "1097ecca-3a80-48eb-a227-a569b042333b",
   "metadata": {},
   "outputs": [
    {
     "data": {
      "text/html": [
       "<table class=\"dataframe\">\n",
       "<caption>A data.frame: 6 × 14</caption>\n",
       "<thead>\n",
       "\t<tr><th></th><th scope=col>crim</th><th scope=col>zn</th><th scope=col>indus</th><th scope=col>chas</th><th scope=col>nox</th><th scope=col>rm</th><th scope=col>age</th><th scope=col>dis</th><th scope=col>rad</th><th scope=col>tax</th><th scope=col>ptratio</th><th scope=col>black</th><th scope=col>lstat</th><th scope=col>medv</th></tr>\n",
       "\t<tr><th></th><th scope=col>&lt;dbl&gt;</th><th scope=col>&lt;dbl&gt;</th><th scope=col>&lt;dbl&gt;</th><th scope=col>&lt;int&gt;</th><th scope=col>&lt;dbl&gt;</th><th scope=col>&lt;dbl&gt;</th><th scope=col>&lt;dbl&gt;</th><th scope=col>&lt;dbl&gt;</th><th scope=col>&lt;int&gt;</th><th scope=col>&lt;dbl&gt;</th><th scope=col>&lt;dbl&gt;</th><th scope=col>&lt;dbl&gt;</th><th scope=col>&lt;dbl&gt;</th><th scope=col>&lt;dbl&gt;</th></tr>\n",
       "</thead>\n",
       "<tbody>\n",
       "\t<tr><th scope=row>1</th><td>0.00632</td><td>18</td><td>2.31</td><td>0</td><td>0.538</td><td>6.575</td><td>65.2</td><td>4.0900</td><td>1</td><td>296</td><td>15.3</td><td>396.90</td><td>4.98</td><td>24.0</td></tr>\n",
       "\t<tr><th scope=row>2</th><td>0.02731</td><td> 0</td><td>7.07</td><td>0</td><td>0.469</td><td>6.421</td><td>78.9</td><td>4.9671</td><td>2</td><td>242</td><td>17.8</td><td>396.90</td><td>9.14</td><td>21.6</td></tr>\n",
       "\t<tr><th scope=row>3</th><td>0.02729</td><td> 0</td><td>7.07</td><td>0</td><td>0.469</td><td>7.185</td><td>61.1</td><td>4.9671</td><td>2</td><td>242</td><td>17.8</td><td>392.83</td><td>4.03</td><td>34.7</td></tr>\n",
       "\t<tr><th scope=row>4</th><td>0.03237</td><td> 0</td><td>2.18</td><td>0</td><td>0.458</td><td>6.998</td><td>45.8</td><td>6.0622</td><td>3</td><td>222</td><td>18.7</td><td>394.63</td><td>2.94</td><td>33.4</td></tr>\n",
       "\t<tr><th scope=row>5</th><td>0.06905</td><td> 0</td><td>2.18</td><td>0</td><td>0.458</td><td>7.147</td><td>54.2</td><td>6.0622</td><td>3</td><td>222</td><td>18.7</td><td>396.90</td><td>5.33</td><td>36.2</td></tr>\n",
       "\t<tr><th scope=row>6</th><td>0.02985</td><td> 0</td><td>2.18</td><td>0</td><td>0.458</td><td>6.430</td><td>58.7</td><td>6.0622</td><td>3</td><td>222</td><td>18.7</td><td>394.12</td><td>5.21</td><td>28.7</td></tr>\n",
       "</tbody>\n",
       "</table>\n"
      ],
      "text/latex": [
       "A data.frame: 6 × 14\n",
       "\\begin{tabular}{r|llllllllllllll}\n",
       "  & crim & zn & indus & chas & nox & rm & age & dis & rad & tax & ptratio & black & lstat & medv\\\\\n",
       "  & <dbl> & <dbl> & <dbl> & <int> & <dbl> & <dbl> & <dbl> & <dbl> & <int> & <dbl> & <dbl> & <dbl> & <dbl> & <dbl>\\\\\n",
       "\\hline\n",
       "\t1 & 0.00632 & 18 & 2.31 & 0 & 0.538 & 6.575 & 65.2 & 4.0900 & 1 & 296 & 15.3 & 396.90 & 4.98 & 24.0\\\\\n",
       "\t2 & 0.02731 &  0 & 7.07 & 0 & 0.469 & 6.421 & 78.9 & 4.9671 & 2 & 242 & 17.8 & 396.90 & 9.14 & 21.6\\\\\n",
       "\t3 & 0.02729 &  0 & 7.07 & 0 & 0.469 & 7.185 & 61.1 & 4.9671 & 2 & 242 & 17.8 & 392.83 & 4.03 & 34.7\\\\\n",
       "\t4 & 0.03237 &  0 & 2.18 & 0 & 0.458 & 6.998 & 45.8 & 6.0622 & 3 & 222 & 18.7 & 394.63 & 2.94 & 33.4\\\\\n",
       "\t5 & 0.06905 &  0 & 2.18 & 0 & 0.458 & 7.147 & 54.2 & 6.0622 & 3 & 222 & 18.7 & 396.90 & 5.33 & 36.2\\\\\n",
       "\t6 & 0.02985 &  0 & 2.18 & 0 & 0.458 & 6.430 & 58.7 & 6.0622 & 3 & 222 & 18.7 & 394.12 & 5.21 & 28.7\\\\\n",
       "\\end{tabular}\n"
      ],
      "text/markdown": [
       "\n",
       "A data.frame: 6 × 14\n",
       "\n",
       "| <!--/--> | crim &lt;dbl&gt; | zn &lt;dbl&gt; | indus &lt;dbl&gt; | chas &lt;int&gt; | nox &lt;dbl&gt; | rm &lt;dbl&gt; | age &lt;dbl&gt; | dis &lt;dbl&gt; | rad &lt;int&gt; | tax &lt;dbl&gt; | ptratio &lt;dbl&gt; | black &lt;dbl&gt; | lstat &lt;dbl&gt; | medv &lt;dbl&gt; |\n",
       "|---|---|---|---|---|---|---|---|---|---|---|---|---|---|---|\n",
       "| 1 | 0.00632 | 18 | 2.31 | 0 | 0.538 | 6.575 | 65.2 | 4.0900 | 1 | 296 | 15.3 | 396.90 | 4.98 | 24.0 |\n",
       "| 2 | 0.02731 |  0 | 7.07 | 0 | 0.469 | 6.421 | 78.9 | 4.9671 | 2 | 242 | 17.8 | 396.90 | 9.14 | 21.6 |\n",
       "| 3 | 0.02729 |  0 | 7.07 | 0 | 0.469 | 7.185 | 61.1 | 4.9671 | 2 | 242 | 17.8 | 392.83 | 4.03 | 34.7 |\n",
       "| 4 | 0.03237 |  0 | 2.18 | 0 | 0.458 | 6.998 | 45.8 | 6.0622 | 3 | 222 | 18.7 | 394.63 | 2.94 | 33.4 |\n",
       "| 5 | 0.06905 |  0 | 2.18 | 0 | 0.458 | 7.147 | 54.2 | 6.0622 | 3 | 222 | 18.7 | 396.90 | 5.33 | 36.2 |\n",
       "| 6 | 0.02985 |  0 | 2.18 | 0 | 0.458 | 6.430 | 58.7 | 6.0622 | 3 | 222 | 18.7 | 394.12 | 5.21 | 28.7 |\n",
       "\n"
      ],
      "text/plain": [
       "  crim    zn indus chas nox   rm    age  dis    rad tax ptratio black  lstat\n",
       "1 0.00632 18 2.31  0    0.538 6.575 65.2 4.0900 1   296 15.3    396.90 4.98 \n",
       "2 0.02731  0 7.07  0    0.469 6.421 78.9 4.9671 2   242 17.8    396.90 9.14 \n",
       "3 0.02729  0 7.07  0    0.469 7.185 61.1 4.9671 2   242 17.8    392.83 4.03 \n",
       "4 0.03237  0 2.18  0    0.458 6.998 45.8 6.0622 3   222 18.7    394.63 2.94 \n",
       "5 0.06905  0 2.18  0    0.458 7.147 54.2 6.0622 3   222 18.7    396.90 5.33 \n",
       "6 0.02985  0 2.18  0    0.458 6.430 58.7 6.0622 3   222 18.7    394.12 5.21 \n",
       "  medv\n",
       "1 24.0\n",
       "2 21.6\n",
       "3 34.7\n",
       "4 33.4\n",
       "5 36.2\n",
       "6 28.7"
      ]
     },
     "metadata": {},
     "output_type": "display_data"
    }
   ],
   "source": [
    "data %>% head()"
   ]
  },
  {
   "cell_type": "markdown",
   "id": "d6e72397-ff76-4bf0-a0a2-845aa8ac9b4b",
   "metadata": {},
   "source": [
    "Нормалізуємо значення за один раз у всьому датафреймі."
   ]
  },
  {
   "cell_type": "markdown",
   "id": "0800c7b1-1dcb-4940-9ffe-00000bdb9558",
   "metadata": {},
   "source": [
    "Переглянемо як змінився вигляд значень:"
   ]
  },
  {
   "cell_type": "code",
   "execution_count": 24,
   "id": "5ad11406-59ea-4880-8ab3-5d4a25e7cedd",
   "metadata": {},
   "outputs": [
    {
     "data": {
      "text/html": [
       "<table class=\"dataframe\">\n",
       "<caption>A data.frame: 6 × 14</caption>\n",
       "<thead>\n",
       "\t<tr><th></th><th scope=col>crim</th><th scope=col>zn</th><th scope=col>indus</th><th scope=col>chas</th><th scope=col>nox</th><th scope=col>rm</th><th scope=col>age</th><th scope=col>dis</th><th scope=col>rad</th><th scope=col>tax</th><th scope=col>ptratio</th><th scope=col>black</th><th scope=col>lstat</th><th scope=col>medv</th></tr>\n",
       "\t<tr><th></th><th scope=col>&lt;dbl&gt;</th><th scope=col>&lt;dbl&gt;</th><th scope=col>&lt;dbl&gt;</th><th scope=col>&lt;dbl&gt;</th><th scope=col>&lt;dbl&gt;</th><th scope=col>&lt;dbl&gt;</th><th scope=col>&lt;dbl&gt;</th><th scope=col>&lt;dbl&gt;</th><th scope=col>&lt;dbl&gt;</th><th scope=col>&lt;dbl&gt;</th><th scope=col>&lt;dbl&gt;</th><th scope=col>&lt;dbl&gt;</th><th scope=col>&lt;dbl&gt;</th><th scope=col>&lt;dbl&gt;</th></tr>\n",
       "</thead>\n",
       "<tbody>\n",
       "\t<tr><th scope=row>1</th><td>0.0000000000</td><td>0.18</td><td>0.06781525</td><td>0</td><td>0.3148148</td><td>0.5775053</td><td>0.6416066</td><td>0.2692031</td><td>0.00000000</td><td>0.20801527</td><td>0.2872340</td><td>1.0000000</td><td>0.08967991</td><td>0.4222222</td></tr>\n",
       "\t<tr><th scope=row>2</th><td>0.0002359225</td><td>0.00</td><td>0.24230205</td><td>0</td><td>0.1728395</td><td>0.5479977</td><td>0.7826982</td><td>0.3489620</td><td>0.04347826</td><td>0.10496183</td><td>0.5531915</td><td>1.0000000</td><td>0.20447020</td><td>0.3688889</td></tr>\n",
       "\t<tr><th scope=row>3</th><td>0.0002356977</td><td>0.00</td><td>0.24230205</td><td>0</td><td>0.1728395</td><td>0.6943859</td><td>0.5993821</td><td>0.3489620</td><td>0.04347826</td><td>0.10496183</td><td>0.5531915</td><td>0.9897373</td><td>0.06346578</td><td>0.6600000</td></tr>\n",
       "\t<tr><th scope=row>4</th><td>0.0002927957</td><td>0.00</td><td>0.06304985</td><td>0</td><td>0.1502058</td><td>0.6585553</td><td>0.4418126</td><td>0.4485446</td><td>0.08695652</td><td>0.06679389</td><td>0.6489362</td><td>0.9942761</td><td>0.03338852</td><td>0.6311111</td></tr>\n",
       "\t<tr><th scope=row>5</th><td>0.0007050701</td><td>0.00</td><td>0.06304985</td><td>0</td><td>0.1502058</td><td>0.6871048</td><td>0.5283213</td><td>0.4485446</td><td>0.08695652</td><td>0.06679389</td><td>0.6489362</td><td>1.0000000</td><td>0.09933775</td><td>0.6933333</td></tr>\n",
       "\t<tr><th scope=row>6</th><td>0.0002644715</td><td>0.00</td><td>0.06304985</td><td>0</td><td>0.1502058</td><td>0.5497222</td><td>0.5746653</td><td>0.4485446</td><td>0.08695652</td><td>0.06679389</td><td>0.6489362</td><td>0.9929901</td><td>0.09602649</td><td>0.5266667</td></tr>\n",
       "</tbody>\n",
       "</table>\n"
      ],
      "text/latex": [
       "A data.frame: 6 × 14\n",
       "\\begin{tabular}{r|llllllllllllll}\n",
       "  & crim & zn & indus & chas & nox & rm & age & dis & rad & tax & ptratio & black & lstat & medv\\\\\n",
       "  & <dbl> & <dbl> & <dbl> & <dbl> & <dbl> & <dbl> & <dbl> & <dbl> & <dbl> & <dbl> & <dbl> & <dbl> & <dbl> & <dbl>\\\\\n",
       "\\hline\n",
       "\t1 & 0.0000000000 & 0.18 & 0.06781525 & 0 & 0.3148148 & 0.5775053 & 0.6416066 & 0.2692031 & 0.00000000 & 0.20801527 & 0.2872340 & 1.0000000 & 0.08967991 & 0.4222222\\\\\n",
       "\t2 & 0.0002359225 & 0.00 & 0.24230205 & 0 & 0.1728395 & 0.5479977 & 0.7826982 & 0.3489620 & 0.04347826 & 0.10496183 & 0.5531915 & 1.0000000 & 0.20447020 & 0.3688889\\\\\n",
       "\t3 & 0.0002356977 & 0.00 & 0.24230205 & 0 & 0.1728395 & 0.6943859 & 0.5993821 & 0.3489620 & 0.04347826 & 0.10496183 & 0.5531915 & 0.9897373 & 0.06346578 & 0.6600000\\\\\n",
       "\t4 & 0.0002927957 & 0.00 & 0.06304985 & 0 & 0.1502058 & 0.6585553 & 0.4418126 & 0.4485446 & 0.08695652 & 0.06679389 & 0.6489362 & 0.9942761 & 0.03338852 & 0.6311111\\\\\n",
       "\t5 & 0.0007050701 & 0.00 & 0.06304985 & 0 & 0.1502058 & 0.6871048 & 0.5283213 & 0.4485446 & 0.08695652 & 0.06679389 & 0.6489362 & 1.0000000 & 0.09933775 & 0.6933333\\\\\n",
       "\t6 & 0.0002644715 & 0.00 & 0.06304985 & 0 & 0.1502058 & 0.5497222 & 0.5746653 & 0.4485446 & 0.08695652 & 0.06679389 & 0.6489362 & 0.9929901 & 0.09602649 & 0.5266667\\\\\n",
       "\\end{tabular}\n"
      ],
      "text/markdown": [
       "\n",
       "A data.frame: 6 × 14\n",
       "\n",
       "| <!--/--> | crim &lt;dbl&gt; | zn &lt;dbl&gt; | indus &lt;dbl&gt; | chas &lt;dbl&gt; | nox &lt;dbl&gt; | rm &lt;dbl&gt; | age &lt;dbl&gt; | dis &lt;dbl&gt; | rad &lt;dbl&gt; | tax &lt;dbl&gt; | ptratio &lt;dbl&gt; | black &lt;dbl&gt; | lstat &lt;dbl&gt; | medv &lt;dbl&gt; |\n",
       "|---|---|---|---|---|---|---|---|---|---|---|---|---|---|---|\n",
       "| 1 | 0.0000000000 | 0.18 | 0.06781525 | 0 | 0.3148148 | 0.5775053 | 0.6416066 | 0.2692031 | 0.00000000 | 0.20801527 | 0.2872340 | 1.0000000 | 0.08967991 | 0.4222222 |\n",
       "| 2 | 0.0002359225 | 0.00 | 0.24230205 | 0 | 0.1728395 | 0.5479977 | 0.7826982 | 0.3489620 | 0.04347826 | 0.10496183 | 0.5531915 | 1.0000000 | 0.20447020 | 0.3688889 |\n",
       "| 3 | 0.0002356977 | 0.00 | 0.24230205 | 0 | 0.1728395 | 0.6943859 | 0.5993821 | 0.3489620 | 0.04347826 | 0.10496183 | 0.5531915 | 0.9897373 | 0.06346578 | 0.6600000 |\n",
       "| 4 | 0.0002927957 | 0.00 | 0.06304985 | 0 | 0.1502058 | 0.6585553 | 0.4418126 | 0.4485446 | 0.08695652 | 0.06679389 | 0.6489362 | 0.9942761 | 0.03338852 | 0.6311111 |\n",
       "| 5 | 0.0007050701 | 0.00 | 0.06304985 | 0 | 0.1502058 | 0.6871048 | 0.5283213 | 0.4485446 | 0.08695652 | 0.06679389 | 0.6489362 | 1.0000000 | 0.09933775 | 0.6933333 |\n",
       "| 6 | 0.0002644715 | 0.00 | 0.06304985 | 0 | 0.1502058 | 0.5497222 | 0.5746653 | 0.4485446 | 0.08695652 | 0.06679389 | 0.6489362 | 0.9929901 | 0.09602649 | 0.5266667 |\n",
       "\n"
      ],
      "text/plain": [
       "  crim         zn   indus      chas nox       rm        age       dis      \n",
       "1 0.0000000000 0.18 0.06781525 0    0.3148148 0.5775053 0.6416066 0.2692031\n",
       "2 0.0002359225 0.00 0.24230205 0    0.1728395 0.5479977 0.7826982 0.3489620\n",
       "3 0.0002356977 0.00 0.24230205 0    0.1728395 0.6943859 0.5993821 0.3489620\n",
       "4 0.0002927957 0.00 0.06304985 0    0.1502058 0.6585553 0.4418126 0.4485446\n",
       "5 0.0007050701 0.00 0.06304985 0    0.1502058 0.6871048 0.5283213 0.4485446\n",
       "6 0.0002644715 0.00 0.06304985 0    0.1502058 0.5497222 0.5746653 0.4485446\n",
       "  rad        tax        ptratio   black     lstat      medv     \n",
       "1 0.00000000 0.20801527 0.2872340 1.0000000 0.08967991 0.4222222\n",
       "2 0.04347826 0.10496183 0.5531915 1.0000000 0.20447020 0.3688889\n",
       "3 0.04347826 0.10496183 0.5531915 0.9897373 0.06346578 0.6600000\n",
       "4 0.08695652 0.06679389 0.6489362 0.9942761 0.03338852 0.6311111\n",
       "5 0.08695652 0.06679389 0.6489362 1.0000000 0.09933775 0.6933333\n",
       "6 0.08695652 0.06679389 0.6489362 0.9929901 0.09602649 0.5266667"
      ]
     },
     "metadata": {},
     "output_type": "display_data"
    }
   ],
   "source": [
    "scaled_data <- sapply(X = data, FUN = normalizeData) %>% as.data.frame() \n",
    "scaled_data %>% head()"
   ]
  },
  {
   "cell_type": "code",
   "execution_count": 25,
   "id": "95aeafa9-576e-438c-8cec-9868f43c4170",
   "metadata": {},
   "outputs": [
    {
     "data": {
      "text/html": [
       "<table class=\"dataframe\">\n",
       "<caption>A data.frame: 6 × 1</caption>\n",
       "<thead>\n",
       "\t<tr><th></th><th scope=col>.</th></tr>\n",
       "\t<tr><th></th><th scope=col>&lt;dbl&gt;</th></tr>\n",
       "</thead>\n",
       "<tbody>\n",
       "\t<tr><th scope=row>1</th><td>24.0</td></tr>\n",
       "\t<tr><th scope=row>2</th><td>21.6</td></tr>\n",
       "\t<tr><th scope=row>3</th><td>34.7</td></tr>\n",
       "\t<tr><th scope=row>4</th><td>33.4</td></tr>\n",
       "\t<tr><th scope=row>5</th><td>36.2</td></tr>\n",
       "\t<tr><th scope=row>6</th><td>28.7</td></tr>\n",
       "</tbody>\n",
       "</table>\n"
      ],
      "text/latex": [
       "A data.frame: 6 × 1\n",
       "\\begin{tabular}{r|l}\n",
       "  & .\\\\\n",
       "  & <dbl>\\\\\n",
       "\\hline\n",
       "\t1 & 24.0\\\\\n",
       "\t2 & 21.6\\\\\n",
       "\t3 & 34.7\\\\\n",
       "\t4 & 33.4\\\\\n",
       "\t5 & 36.2\\\\\n",
       "\t6 & 28.7\\\\\n",
       "\\end{tabular}\n"
      ],
      "text/markdown": [
       "\n",
       "A data.frame: 6 × 1\n",
       "\n",
       "| <!--/--> | . &lt;dbl&gt; |\n",
       "|---|---|\n",
       "| 1 | 24.0 |\n",
       "| 2 | 21.6 |\n",
       "| 3 | 34.7 |\n",
       "| 4 | 33.4 |\n",
       "| 5 | 36.2 |\n",
       "| 6 | 28.7 |\n",
       "\n"
      ],
      "text/plain": [
       "  .   \n",
       "1 24.0\n",
       "2 21.6\n",
       "3 34.7\n",
       "4 33.4\n",
       "5 36.2\n",
       "6 28.7"
      ]
     },
     "metadata": {},
     "output_type": "display_data"
    }
   ],
   "source": [
    "re_data <- sapply(X = scaled_data$medv, original = data$medv, FUN = revertData) %>% as.data.frame() \n",
    "re_data %>% head()"
   ]
  },
  {
   "cell_type": "markdown",
   "id": "44586b26-a37d-478f-b899-bd5b313fb014",
   "metadata": {},
   "source": [
    "---"
   ]
  },
  {
   "cell_type": "markdown",
   "id": "2e5cdb1e-b2a2-4f8c-8d26-68929cc16f9a",
   "metadata": {},
   "source": [
    "## Train/test split"
   ]
  },
  {
   "cell_type": "markdown",
   "id": "6b41ba6a-8551-4e9f-af13-338a8af6e322",
   "metadata": {},
   "source": [
    "Сформуємо вибірки з пропорцією 70/30 % значень:"
   ]
  },
  {
   "cell_type": "code",
   "execution_count": 26,
   "id": "82958a5e-d678-470e-be2b-450f0a5b8f98",
   "metadata": {},
   "outputs": [],
   "source": [
    "library(caTools)\n",
    "set.seed(2023)\n",
    "split <- sample.split(scaled_data$medv, SplitRatio = 0.7)\n",
    "train_data <- subset(scaled_data, split)\n",
    "test_data <- subset(scaled_data, !split)"
   ]
  },
  {
   "cell_type": "markdown",
   "id": "3bec8664-81ac-44ab-9b51-8696ebb5b973",
   "metadata": {},
   "source": [
    "Let's check how target's are distrubuted in both samples:"
   ]
  },
  {
   "cell_type": "code",
   "execution_count": 27,
   "id": "e58b343c-4985-4e42-9bb8-31124c3261e2",
   "metadata": {},
   "outputs": [
    {
     "data": {
      "image/png": "[encoded data removed]",
      "text/plain": [
       "plot without title"
      ]
     },
     "metadata": {
      "image/png": {
       "height": 420,
       "width": 420
      }
     },
     "output_type": "display_data"
    }
   ],
   "source": [
    "# train\n",
    "ggplot(train_data, aes(medv)) + \n",
    "    geom_histogram(bins = 25, alpha = 0.5, fill = 'blue', color='black')  + \n",
    "    theme_bw()"
   ]
  },
  {
   "cell_type": "code",
   "execution_count": 28,
   "id": "296720a5-10c8-47a7-ade1-aae9b5947431",
   "metadata": {},
   "outputs": [
    {
     "data": {
      "image/png": "[encoded data removed]",
      "text/plain": [
       "plot without title"
      ]
     },
     "metadata": {
      "image/png": {
       "height": 420,
       "width": 420
      }
     },
     "output_type": "display_data"
    }
   ],
   "source": [
    "# test\n",
    "ggplot(test_data, aes(medv)) + \n",
    "    geom_histogram(bins = 25, alpha = 0.5, fill = 'blue', color='black')  + \n",
    "    theme_bw()"
   ]
  },
  {
   "cell_type": "markdown",
   "id": "61bb1e94-7417-4d36-85a0-439b17cebe35",
   "metadata": {},
   "source": [
    "---"
   ]
  },
  {
   "cell_type": "markdown",
   "id": "981ef8b8-ce54-4769-872b-c75ec2859b37",
   "metadata": {},
   "source": [
    "## Baseline (Linear regression)"
   ]
  },
  {
   "cell_type": "markdown",
   "id": "f1847ab8-fdc0-4ed0-971a-a4b5af70d149",
   "metadata": {},
   "source": [
    "Для порівняння ефективності використання нейронних мереж скористаємося для початку лінійною регресією:"
   ]
  },
  {
   "cell_type": "code",
   "execution_count": 29,
   "id": "76dc7895-9b20-4335-95ea-2a2a5f572615",
   "metadata": {},
   "outputs": [
    {
     "data": {
      "text/plain": [
       "\n",
       "Call:\n",
       "lm(formula = medv ~ ., data = train_data)\n",
       "\n",
       "Residuals:\n",
       "     Min       1Q   Median       3Q      Max \n",
       "-0.24556 -0.06405 -0.01292  0.04494  0.59898 \n",
       "\n",
       "Coefficients:\n",
       "            Estimate Std. Error t value Pr(>|t|)    \n",
       "(Intercept)  0.49370    0.06281   7.860 4.70e-14 ***\n",
       "crim        -0.14725    0.15139  -0.973 0.331410    \n",
       "zn           0.08336    0.03588   2.323 0.020751 *  \n",
       "indus        0.01499    0.04469   0.335 0.737541    \n",
       "chas         0.01520    0.02281   0.667 0.505425    \n",
       "nox         -0.18674    0.05028  -3.714 0.000237 ***\n",
       "rm           0.48617    0.05571   8.727  < 2e-16 ***\n",
       "age         -0.01314    0.03207  -0.410 0.682344    \n",
       "dis         -0.36140    0.05961  -6.063 3.43e-09 ***\n",
       "rad          0.14625    0.04369   3.347 0.000905 ***\n",
       "tax         -0.14304    0.05333  -2.682 0.007655 ** \n",
       "ptratio     -0.21909    0.03199  -6.850 3.30e-11 ***\n",
       "black        0.07181    0.02898   2.478 0.013692 *  \n",
       "lstat       -0.41460    0.04909  -8.446 7.94e-16 ***\n",
       "---\n",
       "Signif. codes:  0 '***' 0.001 '**' 0.01 '*' 0.05 '.' 0.1 ' ' 1\n",
       "\n",
       "Residual standard error: 0.1058 on 353 degrees of freedom\n",
       "Multiple R-squared:  0.7566,\tAdjusted R-squared:  0.7477 \n",
       "F-statistic: 84.42 on 13 and 353 DF,  p-value: < 2.2e-16\n"
      ]
     },
     "metadata": {},
     "output_type": "display_data"
    }
   ],
   "source": [
    "lm_model <- lm(medv ~ ., data = train_data)\n",
    "summary(lm_model)"
   ]
  },
  {
   "cell_type": "markdown",
   "id": "fd02a79e-1049-4259-bca5-a7fc58009e39",
   "metadata": {},
   "source": [
    "Здійснимо прогноз тестових значень:"
   ]
  },
  {
   "cell_type": "code",
   "execution_count": 30,
   "id": "5c25bb53-1605-42f3-9bd5-a188e790c856",
   "metadata": {},
   "outputs": [
    {
     "data": {
      "text/html": [
       "<style>\n",
       ".dl-inline {width: auto; margin:0; padding: 0}\n",
       ".dl-inline>dt, .dl-inline>dd {float: none; width: auto; display: inline-block}\n",
       ".dl-inline>dt::after {content: \":\\0020\"; padding-right: .5ex}\n",
       ".dl-inline>dt:not(:first-of-type) {padding-left: .5ex}\n",
       "</style><dl class=dl-inline><dt>1</dt><dd>0.56792431740972</dd><dt>5</dt><dd>0.523111676025518</dd><dt>20</dt><dd>0.295073007902457</dd><dt>29</dt><dd>0.32360237024043</dd><dt>30</dt><dd>0.355931690861336</dd><dt>35</dt><dd>0.195998476728651</dd></dl>\n"
      ],
      "text/latex": [
       "\\begin{description*}\n",
       "\\item[1] 0.56792431740972\n",
       "\\item[5] 0.523111676025518\n",
       "\\item[20] 0.295073007902457\n",
       "\\item[29] 0.32360237024043\n",
       "\\item[30] 0.355931690861336\n",
       "\\item[35] 0.195998476728651\n",
       "\\end{description*}\n"
      ],
      "text/markdown": [
       "1\n",
       ":   0.567924317409725\n",
       ":   0.52311167602551820\n",
       ":   0.29507300790245729\n",
       ":   0.3236023702404330\n",
       ":   0.35593169086133635\n",
       ":   0.195998476728651\n",
       "\n"
      ],
      "text/plain": [
       "        1         5        20        29        30        35 \n",
       "0.5679243 0.5231117 0.2950730 0.3236024 0.3559317 0.1959985 "
      ]
     },
     "metadata": {},
     "output_type": "display_data"
    }
   ],
   "source": [
    "test_lm_predicted_scaled <- predict(lm_model, test_data)\n",
    "head(test_lm_predicted_scaled)"
   ]
  },
  {
   "cell_type": "code",
   "execution_count": 31,
   "id": "99bfdf72-5fab-400f-abd3-4da30679bc20",
   "metadata": {},
   "outputs": [
    {
     "data": {
      "text/html": [
       "<table class=\"dataframe\">\n",
       "<caption>A data.frame: 6 × 1</caption>\n",
       "<thead>\n",
       "\t<tr><th></th><th scope=col>.</th></tr>\n",
       "\t<tr><th></th><th scope=col>&lt;dbl&gt;</th></tr>\n",
       "</thead>\n",
       "<tbody>\n",
       "\t<tr><th scope=row>1</th><td>30.55659</td></tr>\n",
       "\t<tr><th scope=row>5</th><td>28.54003</td></tr>\n",
       "\t<tr><th scope=row>20</th><td>18.27829</td></tr>\n",
       "\t<tr><th scope=row>29</th><td>19.56211</td></tr>\n",
       "\t<tr><th scope=row>30</th><td>21.01693</td></tr>\n",
       "\t<tr><th scope=row>35</th><td>13.81993</td></tr>\n",
       "</tbody>\n",
       "</table>\n"
      ],
      "text/latex": [
       "A data.frame: 6 × 1\n",
       "\\begin{tabular}{r|l}\n",
       "  & .\\\\\n",
       "  & <dbl>\\\\\n",
       "\\hline\n",
       "\t1 & 30.55659\\\\\n",
       "\t5 & 28.54003\\\\\n",
       "\t20 & 18.27829\\\\\n",
       "\t29 & 19.56211\\\\\n",
       "\t30 & 21.01693\\\\\n",
       "\t35 & 13.81993\\\\\n",
       "\\end{tabular}\n"
      ],
      "text/markdown": [
       "\n",
       "A data.frame: 6 × 1\n",
       "\n",
       "| <!--/--> | . &lt;dbl&gt; |\n",
       "|---|---|\n",
       "| 1 | 30.55659 |\n",
       "| 5 | 28.54003 |\n",
       "| 20 | 18.27829 |\n",
       "| 29 | 19.56211 |\n",
       "| 30 | 21.01693 |\n",
       "| 35 | 13.81993 |\n",
       "\n"
      ],
      "text/plain": [
       "   .       \n",
       "1  30.55659\n",
       "5  28.54003\n",
       "20 18.27829\n",
       "29 19.56211\n",
       "30 21.01693\n",
       "35 13.81993"
      ]
     },
     "metadata": {},
     "output_type": "display_data"
    }
   ],
   "source": [
    "test_lm_predicted <- sapply(X = test_lm_predicted_scaled, original = data$medv, FUN = revertData) %>% as.data.frame()\n",
    "head(test_lm_predicted)"
   ]
  },
  {
   "cell_type": "markdown",
   "id": "6382f1f3-da5d-423b-922c-9f8bd9f8bf69",
   "metadata": {},
   "source": [
    "Let's check errors and R^2:"
   ]
  },
  {
   "cell_type": "code",
   "execution_count": 32,
   "id": "6a1f614b-4910-4b30-b197-d04e1b8d74c1",
   "metadata": {},
   "outputs": [
    {
     "data": {
      "text/html": [
       "<table class=\"dataframe\">\n",
       "<caption>A data.frame: 1 × 4</caption>\n",
       "<thead>\n",
       "\t<tr><th></th><th scope=col>R2_train</th><th scope=col>R2_test</th><th scope=col>MSE_test</th><th scope=col>RMSE_test</th></tr>\n",
       "\t<tr><th></th><th scope=col>&lt;dbl&gt;</th><th scope=col>&lt;dbl&gt;</th><th scope=col>&lt;dbl&gt;</th><th scope=col>&lt;dbl&gt;</th></tr>\n",
       "</thead>\n",
       "<tbody>\n",
       "\t<tr><th scope=row>linear</th><td>0.7566</td><td>0.6611</td><td>0.0117</td><td>0.1081</td></tr>\n",
       "</tbody>\n",
       "</table>\n"
      ],
      "text/latex": [
       "A data.frame: 1 × 4\n",
       "\\begin{tabular}{r|llll}\n",
       "  & R2\\_train & R2\\_test & MSE\\_test & RMSE\\_test\\\\\n",
       "  & <dbl> & <dbl> & <dbl> & <dbl>\\\\\n",
       "\\hline\n",
       "\tlinear & 0.7566 & 0.6611 & 0.0117 & 0.1081\\\\\n",
       "\\end{tabular}\n"
      ],
      "text/markdown": [
       "\n",
       "A data.frame: 1 × 4\n",
       "\n",
       "| <!--/--> | R2_train &lt;dbl&gt; | R2_test &lt;dbl&gt; | MSE_test &lt;dbl&gt; | RMSE_test &lt;dbl&gt; |\n",
       "|---|---|---|---|---|\n",
       "| linear | 0.7566 | 0.6611 | 0.0117 | 0.1081 |\n",
       "\n"
      ],
      "text/plain": [
       "       R2_train R2_test MSE_test RMSE_test\n",
       "linear 0.7566   0.6611  0.0117   0.1081   "
      ]
     },
     "metadata": {},
     "output_type": "display_data"
    }
   ],
   "source": [
    "library(modelr)\n",
    "# need for next comparison\n",
    "linear_err <- data.frame(  \n",
    "  R2_train = round(modelr::rsquare(lm_model, data = train_data), 4),\n",
    "  R2_test = round(modelr::rsquare(lm_model, data = test_data), 4),\n",
    "  MSE_test = round(modelr::mse(lm_model, data = test_data), 4),\n",
    "  RMSE_test = round(modelr::rmse(lm_model, data = test_data), 4) \n",
    ")\n",
    "\n",
    "rownames(linear_err) <- c(\"linear\")\n",
    "linear_err"
   ]
  },
  {
   "cell_type": "markdown",
   "id": "82b13339-19ba-4e38-a34a-c5dade816d4b",
   "metadata": {},
   "source": [
    "---"
   ]
  },
  {
   "cell_type": "markdown",
   "id": "6ff13785-67ef-4684-a078-e5906acd0efc",
   "metadata": {},
   "source": [
    "## Побудова нейромережі за допомогою `neuralnet`"
   ]
  },
  {
   "cell_type": "markdown",
   "id": "e2ca2749-6431-4e37-a266-258832902148",
   "metadata": {},
   "source": [
    "Підключаємо пакет neuralnet:"
   ]
  },
  {
   "cell_type": "code",
   "execution_count": 33,
   "id": "1613ef26-a319-464f-9f10-637a7ff98c74",
   "metadata": {},
   "outputs": [
    {
     "name": "stderr",
     "output_type": "stream",
     "text": [
      "\n",
      "Attaching package: 'neuralnet'\n",
      "\n",
      "\n",
      "The following object is masked from 'package:dplyr':\n",
      "\n",
      "    compute\n",
      "\n",
      "\n"
     ]
    }
   ],
   "source": [
    "suppressMessages(library(neuralnet))"
   ]
  },
  {
   "cell_type": "markdown",
   "id": "3f1a55bd-3a71-40a8-8236-3de298fcbfab",
   "metadata": {},
   "source": [
    "Для побудови моделі потрібно згенерувати формулу у форматі $y ~ x_1 + x_2 + ... + x_n$"
   ]
  },
  {
   "cell_type": "code",
   "execution_count": 34,
   "id": "823ca5f6-d984-4abb-9781-8a8905fa8650",
   "metadata": {},
   "outputs": [
    {
     "data": {
      "text/plain": [
       "medv ~ crim + zn + indus + chas + nox + rm + age + dis + rad + \n",
       "    tax + ptratio + black + lstat"
      ]
     },
     "metadata": {},
     "output_type": "display_data"
    }
   ],
   "source": [
    "n <- colnames(data)\n",
    "n <- n[!n %in% \"medv\"]\n",
    "formula <- as.formula(paste(\"medv ~\", paste(n, collapse = \" + \")))\n",
    "formula"
   ]
  },
  {
   "cell_type": "markdown",
   "id": "305ab153-493a-493d-97d3-2d7588a30da0",
   "metadata": {},
   "source": [
    "Будуємо модель за допомогою фунуції `neuralnet()`:"
   ]
  },
  {
   "cell_type": "markdown",
   "id": "6d0928da-a09a-4961-b267-f258eb03fdb6",
   "metadata": {},
   "source": [
    "`hidden = c(3,4)` - перший прихований шар буде мати 3 нейрони, другий 4\n",
    "`linear.output` - вихідний показник неперервне число. Не класифікація"
   ]
  },
  {
   "cell_type": "code",
   "execution_count": 35,
   "id": "d9ab15ab-5e97-4ebf-a0d0-28e875d66e36",
   "metadata": {},
   "outputs": [],
   "source": [
    "nn_model <- neuralnet(formula = formula, data = train_data, hidden = c(3,4), linear.output = TRUE, rep = 1)"
   ]
  },
  {
   "cell_type": "markdown",
   "id": "b746cf70-6267-48bf-b0de-55a6be93738f",
   "metadata": {},
   "source": [
    "Візуалізуємо модель:"
   ]
  },
  {
   "cell_type": "code",
   "execution_count": 36,
   "id": "c1aaa849-025a-4ca1-9225-33a8087bdb1f",
   "metadata": {},
   "outputs": [],
   "source": [
    "plot(nn_model)"
   ]
  },
  {
   "cell_type": "code",
   "execution_count": 37,
   "id": "f4aa1ad9-b5d6-4f7c-97ff-fdc3f5a515d9",
   "metadata": {},
   "outputs": [
    {
     "data": {
      "text/html": [
       "<table class=\"dataframe\">\n",
       "<caption>A data.frame: 6 × 14</caption>\n",
       "<thead>\n",
       "\t<tr><th></th><th scope=col>crim</th><th scope=col>zn</th><th scope=col>indus</th><th scope=col>chas</th><th scope=col>nox</th><th scope=col>rm</th><th scope=col>age</th><th scope=col>dis</th><th scope=col>rad</th><th scope=col>tax</th><th scope=col>ptratio</th><th scope=col>black</th><th scope=col>lstat</th><th scope=col>medv</th></tr>\n",
       "\t<tr><th></th><th scope=col>&lt;dbl&gt;</th><th scope=col>&lt;dbl&gt;</th><th scope=col>&lt;dbl&gt;</th><th scope=col>&lt;dbl&gt;</th><th scope=col>&lt;dbl&gt;</th><th scope=col>&lt;dbl&gt;</th><th scope=col>&lt;dbl&gt;</th><th scope=col>&lt;dbl&gt;</th><th scope=col>&lt;dbl&gt;</th><th scope=col>&lt;dbl&gt;</th><th scope=col>&lt;dbl&gt;</th><th scope=col>&lt;dbl&gt;</th><th scope=col>&lt;dbl&gt;</th><th scope=col>&lt;dbl&gt;</th></tr>\n",
       "</thead>\n",
       "<tbody>\n",
       "\t<tr><th scope=row>2</th><td>0.0002359225</td><td>0.000</td><td>0.24230205</td><td>0</td><td>0.1728395</td><td>0.5479977</td><td>0.7826982</td><td>0.3489620</td><td>0.04347826</td><td>0.10496183</td><td>0.5531915</td><td>1.0000000</td><td>0.20447020</td><td>0.3688889</td></tr>\n",
       "\t<tr><th scope=row>3</th><td>0.0002356977</td><td>0.000</td><td>0.24230205</td><td>0</td><td>0.1728395</td><td>0.6943859</td><td>0.5993821</td><td>0.3489620</td><td>0.04347826</td><td>0.10496183</td><td>0.5531915</td><td>0.9897373</td><td>0.06346578</td><td>0.6600000</td></tr>\n",
       "\t<tr><th scope=row>4</th><td>0.0002927957</td><td>0.000</td><td>0.06304985</td><td>0</td><td>0.1502058</td><td>0.6585553</td><td>0.4418126</td><td>0.4485446</td><td>0.08695652</td><td>0.06679389</td><td>0.6489362</td><td>0.9942761</td><td>0.03338852</td><td>0.6311111</td></tr>\n",
       "\t<tr><th scope=row>6</th><td>0.0002644715</td><td>0.000</td><td>0.06304985</td><td>0</td><td>0.1502058</td><td>0.5497222</td><td>0.5746653</td><td>0.4485446</td><td>0.08695652</td><td>0.06679389</td><td>0.6489362</td><td>0.9929901</td><td>0.09602649</td><td>0.5266667</td></tr>\n",
       "\t<tr><th scope=row>7</th><td>0.0009213230</td><td>0.125</td><td>0.27162757</td><td>0</td><td>0.2860082</td><td>0.4696302</td><td>0.6560247</td><td>0.4029226</td><td>0.17391304</td><td>0.23664122</td><td>0.2765957</td><td>0.9967220</td><td>0.29525386</td><td>0.3977778</td></tr>\n",
       "\t<tr><th scope=row>8</th><td>0.0015536719</td><td>0.125</td><td>0.27162757</td><td>0</td><td>0.2860082</td><td>0.5002874</td><td>0.9598352</td><td>0.4383872</td><td>0.17391304</td><td>0.23664122</td><td>0.2765957</td><td>1.0000000</td><td>0.48068433</td><td>0.4911111</td></tr>\n",
       "</tbody>\n",
       "</table>\n"
      ],
      "text/latex": [
       "A data.frame: 6 × 14\n",
       "\\begin{tabular}{r|llllllllllllll}\n",
       "  & crim & zn & indus & chas & nox & rm & age & dis & rad & tax & ptratio & black & lstat & medv\\\\\n",
       "  & <dbl> & <dbl> & <dbl> & <dbl> & <dbl> & <dbl> & <dbl> & <dbl> & <dbl> & <dbl> & <dbl> & <dbl> & <dbl> & <dbl>\\\\\n",
       "\\hline\n",
       "\t2 & 0.0002359225 & 0.000 & 0.24230205 & 0 & 0.1728395 & 0.5479977 & 0.7826982 & 0.3489620 & 0.04347826 & 0.10496183 & 0.5531915 & 1.0000000 & 0.20447020 & 0.3688889\\\\\n",
       "\t3 & 0.0002356977 & 0.000 & 0.24230205 & 0 & 0.1728395 & 0.6943859 & 0.5993821 & 0.3489620 & 0.04347826 & 0.10496183 & 0.5531915 & 0.9897373 & 0.06346578 & 0.6600000\\\\\n",
       "\t4 & 0.0002927957 & 0.000 & 0.06304985 & 0 & 0.1502058 & 0.6585553 & 0.4418126 & 0.4485446 & 0.08695652 & 0.06679389 & 0.6489362 & 0.9942761 & 0.03338852 & 0.6311111\\\\\n",
       "\t6 & 0.0002644715 & 0.000 & 0.06304985 & 0 & 0.1502058 & 0.5497222 & 0.5746653 & 0.4485446 & 0.08695652 & 0.06679389 & 0.6489362 & 0.9929901 & 0.09602649 & 0.5266667\\\\\n",
       "\t7 & 0.0009213230 & 0.125 & 0.27162757 & 0 & 0.2860082 & 0.4696302 & 0.6560247 & 0.4029226 & 0.17391304 & 0.23664122 & 0.2765957 & 0.9967220 & 0.29525386 & 0.3977778\\\\\n",
       "\t8 & 0.0015536719 & 0.125 & 0.27162757 & 0 & 0.2860082 & 0.5002874 & 0.9598352 & 0.4383872 & 0.17391304 & 0.23664122 & 0.2765957 & 1.0000000 & 0.48068433 & 0.4911111\\\\\n",
       "\\end{tabular}\n"
      ],
      "text/markdown": [
       "\n",
       "A data.frame: 6 × 14\n",
       "\n",
       "| <!--/--> | crim &lt;dbl&gt; | zn &lt;dbl&gt; | indus &lt;dbl&gt; | chas &lt;dbl&gt; | nox &lt;dbl&gt; | rm &lt;dbl&gt; | age &lt;dbl&gt; | dis &lt;dbl&gt; | rad &lt;dbl&gt; | tax &lt;dbl&gt; | ptratio &lt;dbl&gt; | black &lt;dbl&gt; | lstat &lt;dbl&gt; | medv &lt;dbl&gt; |\n",
       "|---|---|---|---|---|---|---|---|---|---|---|---|---|---|---|\n",
       "| 2 | 0.0002359225 | 0.000 | 0.24230205 | 0 | 0.1728395 | 0.5479977 | 0.7826982 | 0.3489620 | 0.04347826 | 0.10496183 | 0.5531915 | 1.0000000 | 0.20447020 | 0.3688889 |\n",
       "| 3 | 0.0002356977 | 0.000 | 0.24230205 | 0 | 0.1728395 | 0.6943859 | 0.5993821 | 0.3489620 | 0.04347826 | 0.10496183 | 0.5531915 | 0.9897373 | 0.06346578 | 0.6600000 |\n",
       "| 4 | 0.0002927957 | 0.000 | 0.06304985 | 0 | 0.1502058 | 0.6585553 | 0.4418126 | 0.4485446 | 0.08695652 | 0.06679389 | 0.6489362 | 0.9942761 | 0.03338852 | 0.6311111 |\n",
       "| 6 | 0.0002644715 | 0.000 | 0.06304985 | 0 | 0.1502058 | 0.5497222 | 0.5746653 | 0.4485446 | 0.08695652 | 0.06679389 | 0.6489362 | 0.9929901 | 0.09602649 | 0.5266667 |\n",
       "| 7 | 0.0009213230 | 0.125 | 0.27162757 | 0 | 0.2860082 | 0.4696302 | 0.6560247 | 0.4029226 | 0.17391304 | 0.23664122 | 0.2765957 | 0.9967220 | 0.29525386 | 0.3977778 |\n",
       "| 8 | 0.0015536719 | 0.125 | 0.27162757 | 0 | 0.2860082 | 0.5002874 | 0.9598352 | 0.4383872 | 0.17391304 | 0.23664122 | 0.2765957 | 1.0000000 | 0.48068433 | 0.4911111 |\n",
       "\n"
      ],
      "text/plain": [
       "  crim         zn    indus      chas nox       rm        age       dis      \n",
       "2 0.0002359225 0.000 0.24230205 0    0.1728395 0.5479977 0.7826982 0.3489620\n",
       "3 0.0002356977 0.000 0.24230205 0    0.1728395 0.6943859 0.5993821 0.3489620\n",
       "4 0.0002927957 0.000 0.06304985 0    0.1502058 0.6585553 0.4418126 0.4485446\n",
       "6 0.0002644715 0.000 0.06304985 0    0.1502058 0.5497222 0.5746653 0.4485446\n",
       "7 0.0009213230 0.125 0.27162757 0    0.2860082 0.4696302 0.6560247 0.4029226\n",
       "8 0.0015536719 0.125 0.27162757 0    0.2860082 0.5002874 0.9598352 0.4383872\n",
       "  rad        tax        ptratio   black     lstat      medv     \n",
       "2 0.04347826 0.10496183 0.5531915 1.0000000 0.20447020 0.3688889\n",
       "3 0.04347826 0.10496183 0.5531915 0.9897373 0.06346578 0.6600000\n",
       "4 0.08695652 0.06679389 0.6489362 0.9942761 0.03338852 0.6311111\n",
       "6 0.08695652 0.06679389 0.6489362 0.9929901 0.09602649 0.5266667\n",
       "7 0.17391304 0.23664122 0.2765957 0.9967220 0.29525386 0.3977778\n",
       "8 0.17391304 0.23664122 0.2765957 1.0000000 0.48068433 0.4911111"
      ]
     },
     "metadata": {},
     "output_type": "display_data"
    }
   ],
   "source": [
    "train_data %>% head()"
   ]
  },
  {
   "cell_type": "markdown",
   "id": "be856841-26ba-4a28-94f3-b4c7e0555543",
   "metadata": {},
   "source": [
    "Також для візуалізація можна скористатися функцією `plot.nnet()`, опубілкованою на відкритому ресурсі одним із користувачів мережі Інтернет:"
   ]
  },
  {
   "cell_type": "code",
   "execution_count": 38,
   "id": "61a2e881-1957-469c-b7da-b1068dcd73c9",
   "metadata": {},
   "outputs": [],
   "source": [
    "suppressMessages(library(devtools))"
   ]
  },
  {
   "cell_type": "code",
   "execution_count": 39,
   "id": "a1dfa2ed-f91c-4b6a-8f45-760ab719f94d",
   "metadata": {},
   "outputs": [],
   "source": [
    "library(clusterGeneration)"
   ]
  },
  {
   "cell_type": "code",
   "execution_count": 40,
   "id": "0d7b59db-51d7-437b-9aa2-dd0e3a9c3bcc",
   "metadata": {},
   "outputs": [],
   "source": [
    "suppressMessages(source_url('https://gist.githubusercontent.com/fawda123/7471137/raw/466c1474d0a505ff044412703516c34f1a4684a5/nnet_plot_update.r'))"
   ]
  },
  {
   "cell_type": "code",
   "execution_count": 41,
   "id": "f1349c6e-a682-4365-af94-053dc5f48a58",
   "metadata": {},
   "outputs": [
    {
     "data": {
      "image/png": "[encoded data removed]",
      "text/plain": [
       "plot without title"
      ]
     },
     "metadata": {
      "image/png": {
       "height": 420,
       "width": 420
      }
     },
     "output_type": "display_data"
    }
   ],
   "source": [
    "suppressMessages(plot.nnet(nn_model))"
   ]
  },
  {
   "cell_type": "markdown",
   "id": "cfb30d22-f4ba-43d1-a47e-2ef75ee77ffc",
   "metadata": {},
   "source": [
    "Preview neural network matrix as text:"
   ]
  },
  {
   "cell_type": "code",
   "execution_count": 42,
   "id": "7deb91e0-a295-42c2-bb73-54589d1d34c3",
   "metadata": {},
   "outputs": [
    {
     "data": {
      "text/html": [
       "<table class=\"dataframe\">\n",
       "<caption>A matrix: 6 × 1 of type dbl</caption>\n",
       "<tbody>\n",
       "\t<tr><th scope=row>error</th><td> 5.182582e-01</td></tr>\n",
       "\t<tr><th scope=row>reached.threshold</th><td> 9.322212e-03</td></tr>\n",
       "\t<tr><th scope=row>steps</th><td> 3.503000e+03</td></tr>\n",
       "\t<tr><th scope=row>Intercept.to.1layhid1</th><td> 5.249092e-01</td></tr>\n",
       "\t<tr><th scope=row>crim.to.1layhid1</th><td>-2.880638e+00</td></tr>\n",
       "\t<tr><th scope=row>zn.to.1layhid1</th><td>-9.485175e+01</td></tr>\n",
       "</tbody>\n",
       "</table>\n"
      ],
      "text/latex": [
       "A matrix: 6 × 1 of type dbl\n",
       "\\begin{tabular}{r|l}\n",
       "\terror &  5.182582e-01\\\\\n",
       "\treached.threshold &  9.322212e-03\\\\\n",
       "\tsteps &  3.503000e+03\\\\\n",
       "\tIntercept.to.1layhid1 &  5.249092e-01\\\\\n",
       "\tcrim.to.1layhid1 & -2.880638e+00\\\\\n",
       "\tzn.to.1layhid1 & -9.485175e+01\\\\\n",
       "\\end{tabular}\n"
      ],
      "text/markdown": [
       "\n",
       "A matrix: 6 × 1 of type dbl\n",
       "\n",
       "| error |  5.182582e-01 |\n",
       "| reached.threshold |  9.322212e-03 |\n",
       "| steps |  3.503000e+03 |\n",
       "| Intercept.to.1layhid1 |  5.249092e-01 |\n",
       "| crim.to.1layhid1 | -2.880638e+00 |\n",
       "| zn.to.1layhid1 | -9.485175e+01 |\n",
       "\n"
      ],
      "text/plain": [
       "                      [,1]         \n",
       "error                  5.182582e-01\n",
       "reached.threshold      9.322212e-03\n",
       "steps                  3.503000e+03\n",
       "Intercept.to.1layhid1  5.249092e-01\n",
       "crim.to.1layhid1      -2.880638e+00\n",
       "zn.to.1layhid1        -9.485175e+01"
      ]
     },
     "metadata": {},
     "output_type": "display_data"
    }
   ],
   "source": [
    "nn_model$result.matrix %>% head()"
   ]
  },
  {
   "cell_type": "markdown",
   "id": "90d26b73-49fd-41a0-90d9-d928990df626",
   "metadata": {},
   "source": [
    "Здійснимо прогноз для тестової вибірки та повернемо значення до базового виміру:"
   ]
  },
  {
   "cell_type": "code",
   "execution_count": 43,
   "id": "2905f706-d6f1-4b88-aee5-cb08f2fdbaf2",
   "metadata": {},
   "outputs": [],
   "source": [
    "test_predicted_scaled <- compute(nn_model, test_data%>%select(-medv))"
   ]
  },
  {
   "cell_type": "markdown",
   "id": "ec896848-ccb5-4a77-806a-0639f8814c39",
   "metadata": {},
   "source": [
    "Convert `$net.result` to original form:"
   ]
  },
  {
   "cell_type": "code",
   "execution_count": 44,
   "id": "d758cce6-bb6e-495a-95d7-4a0dcc552342",
   "metadata": {},
   "outputs": [
    {
     "data": {
      "text/html": [
       "<table class=\"dataframe\">\n",
       "<caption>A data.frame: 6 × 1</caption>\n",
       "<thead>\n",
       "\t<tr><th></th><th scope=col>.</th></tr>\n",
       "\t<tr><th></th><th scope=col>&lt;dbl&gt;</th></tr>\n",
       "</thead>\n",
       "<tbody>\n",
       "\t<tr><th scope=row>1</th><td>28.74649</td></tr>\n",
       "\t<tr><th scope=row>2</th><td>31.34932</td></tr>\n",
       "\t<tr><th scope=row>3</th><td>18.86595</td></tr>\n",
       "\t<tr><th scope=row>4</th><td>18.92882</td></tr>\n",
       "\t<tr><th scope=row>5</th><td>19.89660</td></tr>\n",
       "\t<tr><th scope=row>6</th><td>11.69719</td></tr>\n",
       "</tbody>\n",
       "</table>\n"
      ],
      "text/latex": [
       "A data.frame: 6 × 1\n",
       "\\begin{tabular}{r|l}\n",
       "  & .\\\\\n",
       "  & <dbl>\\\\\n",
       "\\hline\n",
       "\t1 & 28.74649\\\\\n",
       "\t2 & 31.34932\\\\\n",
       "\t3 & 18.86595\\\\\n",
       "\t4 & 18.92882\\\\\n",
       "\t5 & 19.89660\\\\\n",
       "\t6 & 11.69719\\\\\n",
       "\\end{tabular}\n"
      ],
      "text/markdown": [
       "\n",
       "A data.frame: 6 × 1\n",
       "\n",
       "| <!--/--> | . &lt;dbl&gt; |\n",
       "|---|---|\n",
       "| 1 | 28.74649 |\n",
       "| 2 | 31.34932 |\n",
       "| 3 | 18.86595 |\n",
       "| 4 | 18.92882 |\n",
       "| 5 | 19.89660 |\n",
       "| 6 | 11.69719 |\n",
       "\n"
      ],
      "text/plain": [
       "  .       \n",
       "1 28.74649\n",
       "2 31.34932\n",
       "3 18.86595\n",
       "4 18.92882\n",
       "5 19.89660\n",
       "6 11.69719"
      ]
     },
     "metadata": {},
     "output_type": "display_data"
    }
   ],
   "source": [
    "test_nn_predicted <- sapply(X = test_predicted_scaled$net.result, original = data$medv, FUN = revertData) %>% as.data.frame()\n",
    "head(test_nn_predicted)"
   ]
  },
  {
   "cell_type": "markdown",
   "id": "7d30858c-bcb9-4076-8ab3-6e707a620786",
   "metadata": {},
   "source": [
    "Порівняємо похибки та $R^2$ по лінійній регресії та першій нейронній мережі:"
   ]
  },
  {
   "cell_type": "code",
   "execution_count": 45,
   "id": "c4967c8e-806b-4cff-a28f-361e08b53f32",
   "metadata": {},
   "outputs": [
    {
     "data": {
      "text/html": [
       "<table class=\"dataframe\">\n",
       "<caption>A data.frame: 6 × 14</caption>\n",
       "<thead>\n",
       "\t<tr><th></th><th scope=col>crim</th><th scope=col>zn</th><th scope=col>indus</th><th scope=col>chas</th><th scope=col>nox</th><th scope=col>rm</th><th scope=col>age</th><th scope=col>dis</th><th scope=col>rad</th><th scope=col>tax</th><th scope=col>ptratio</th><th scope=col>black</th><th scope=col>lstat</th><th scope=col>medv</th></tr>\n",
       "\t<tr><th></th><th scope=col>&lt;dbl&gt;</th><th scope=col>&lt;dbl&gt;</th><th scope=col>&lt;dbl&gt;</th><th scope=col>&lt;dbl&gt;</th><th scope=col>&lt;dbl&gt;</th><th scope=col>&lt;dbl&gt;</th><th scope=col>&lt;dbl&gt;</th><th scope=col>&lt;dbl&gt;</th><th scope=col>&lt;dbl&gt;</th><th scope=col>&lt;dbl&gt;</th><th scope=col>&lt;dbl&gt;</th><th scope=col>&lt;dbl&gt;</th><th scope=col>&lt;dbl&gt;</th><th scope=col>&lt;dbl&gt;</th></tr>\n",
       "</thead>\n",
       "<tbody>\n",
       "\t<tr><th scope=row>1</th><td>0.0000000000</td><td>0.18</td><td>0.06781525</td><td>0</td><td>0.3148148</td><td>0.5775053</td><td>0.6416066</td><td>0.2692031</td><td>0.00000000</td><td>0.20801527</td><td>0.2872340</td><td>1.0000000</td><td>0.08967991</td><td>0.4222222</td></tr>\n",
       "\t<tr><th scope=row>5</th><td>0.0007050701</td><td>0.00</td><td>0.06304985</td><td>0</td><td>0.1502058</td><td>0.6871048</td><td>0.5283213</td><td>0.4485446</td><td>0.08695652</td><td>0.06679389</td><td>0.6489362</td><td>1.0000000</td><td>0.09933775</td><td>0.6933333</td></tr>\n",
       "\t<tr><th scope=row>20</th><td>0.0080867817</td><td>0.00</td><td>0.28152493</td><td>0</td><td>0.3148148</td><td>0.4150220</td><td>0.6858908</td><td>0.2425138</td><td>0.13043478</td><td>0.22900763</td><td>0.8936170</td><td>0.9849967</td><td>0.26352097</td><td>0.2933333</td></tr>\n",
       "\t<tr><th scope=row>29</th><td>0.0086171860</td><td>0.00</td><td>0.28152493</td><td>0</td><td>0.3148148</td><td>0.5621767</td><td>0.9423275</td><td>0.3023670</td><td>0.13043478</td><td>0.22900763</td><td>0.8936170</td><td>0.9774068</td><td>0.30546358</td><td>0.2977778</td></tr>\n",
       "\t<tr><th scope=row>30</th><td>0.0111962610</td><td>0.00</td><td>0.28152493</td><td>0</td><td>0.3148148</td><td>0.5964744</td><td>0.8692070</td><td>0.2827524</td><td>0.13043478</td><td>0.22900763</td><td>0.8936170</td><td>0.9579656</td><td>0.28283664</td><td>0.3555556</td></tr>\n",
       "\t<tr><th scope=row>35</th><td>0.0180566727</td><td>0.00</td><td>0.28152493</td><td>0</td><td>0.3148148</td><td>0.4857252</td><td>0.9680742</td><td>0.2391765</td><td>0.13043478</td><td>0.22900763</td><td>0.8936170</td><td>0.6253215</td><td>0.51352097</td><td>0.1888889</td></tr>\n",
       "</tbody>\n",
       "</table>\n"
      ],
      "text/latex": [
       "A data.frame: 6 × 14\n",
       "\\begin{tabular}{r|llllllllllllll}\n",
       "  & crim & zn & indus & chas & nox & rm & age & dis & rad & tax & ptratio & black & lstat & medv\\\\\n",
       "  & <dbl> & <dbl> & <dbl> & <dbl> & <dbl> & <dbl> & <dbl> & <dbl> & <dbl> & <dbl> & <dbl> & <dbl> & <dbl> & <dbl>\\\\\n",
       "\\hline\n",
       "\t1 & 0.0000000000 & 0.18 & 0.06781525 & 0 & 0.3148148 & 0.5775053 & 0.6416066 & 0.2692031 & 0.00000000 & 0.20801527 & 0.2872340 & 1.0000000 & 0.08967991 & 0.4222222\\\\\n",
       "\t5 & 0.0007050701 & 0.00 & 0.06304985 & 0 & 0.1502058 & 0.6871048 & 0.5283213 & 0.4485446 & 0.08695652 & 0.06679389 & 0.6489362 & 1.0000000 & 0.09933775 & 0.6933333\\\\\n",
       "\t20 & 0.0080867817 & 0.00 & 0.28152493 & 0 & 0.3148148 & 0.4150220 & 0.6858908 & 0.2425138 & 0.13043478 & 0.22900763 & 0.8936170 & 0.9849967 & 0.26352097 & 0.2933333\\\\\n",
       "\t29 & 0.0086171860 & 0.00 & 0.28152493 & 0 & 0.3148148 & 0.5621767 & 0.9423275 & 0.3023670 & 0.13043478 & 0.22900763 & 0.8936170 & 0.9774068 & 0.30546358 & 0.2977778\\\\\n",
       "\t30 & 0.0111962610 & 0.00 & 0.28152493 & 0 & 0.3148148 & 0.5964744 & 0.8692070 & 0.2827524 & 0.13043478 & 0.22900763 & 0.8936170 & 0.9579656 & 0.28283664 & 0.3555556\\\\\n",
       "\t35 & 0.0180566727 & 0.00 & 0.28152493 & 0 & 0.3148148 & 0.4857252 & 0.9680742 & 0.2391765 & 0.13043478 & 0.22900763 & 0.8936170 & 0.6253215 & 0.51352097 & 0.1888889\\\\\n",
       "\\end{tabular}\n"
      ],
      "text/markdown": [
       "\n",
       "A data.frame: 6 × 14\n",
       "\n",
       "| <!--/--> | crim &lt;dbl&gt; | zn &lt;dbl&gt; | indus &lt;dbl&gt; | chas &lt;dbl&gt; | nox &lt;dbl&gt; | rm &lt;dbl&gt; | age &lt;dbl&gt; | dis &lt;dbl&gt; | rad &lt;dbl&gt; | tax &lt;dbl&gt; | ptratio &lt;dbl&gt; | black &lt;dbl&gt; | lstat &lt;dbl&gt; | medv &lt;dbl&gt; |\n",
       "|---|---|---|---|---|---|---|---|---|---|---|---|---|---|---|\n",
       "| 1 | 0.0000000000 | 0.18 | 0.06781525 | 0 | 0.3148148 | 0.5775053 | 0.6416066 | 0.2692031 | 0.00000000 | 0.20801527 | 0.2872340 | 1.0000000 | 0.08967991 | 0.4222222 |\n",
       "| 5 | 0.0007050701 | 0.00 | 0.06304985 | 0 | 0.1502058 | 0.6871048 | 0.5283213 | 0.4485446 | 0.08695652 | 0.06679389 | 0.6489362 | 1.0000000 | 0.09933775 | 0.6933333 |\n",
       "| 20 | 0.0080867817 | 0.00 | 0.28152493 | 0 | 0.3148148 | 0.4150220 | 0.6858908 | 0.2425138 | 0.13043478 | 0.22900763 | 0.8936170 | 0.9849967 | 0.26352097 | 0.2933333 |\n",
       "| 29 | 0.0086171860 | 0.00 | 0.28152493 | 0 | 0.3148148 | 0.5621767 | 0.9423275 | 0.3023670 | 0.13043478 | 0.22900763 | 0.8936170 | 0.9774068 | 0.30546358 | 0.2977778 |\n",
       "| 30 | 0.0111962610 | 0.00 | 0.28152493 | 0 | 0.3148148 | 0.5964744 | 0.8692070 | 0.2827524 | 0.13043478 | 0.22900763 | 0.8936170 | 0.9579656 | 0.28283664 | 0.3555556 |\n",
       "| 35 | 0.0180566727 | 0.00 | 0.28152493 | 0 | 0.3148148 | 0.4857252 | 0.9680742 | 0.2391765 | 0.13043478 | 0.22900763 | 0.8936170 | 0.6253215 | 0.51352097 | 0.1888889 |\n",
       "\n"
      ],
      "text/plain": [
       "   crim         zn   indus      chas nox       rm        age       dis      \n",
       "1  0.0000000000 0.18 0.06781525 0    0.3148148 0.5775053 0.6416066 0.2692031\n",
       "5  0.0007050701 0.00 0.06304985 0    0.1502058 0.6871048 0.5283213 0.4485446\n",
       "20 0.0080867817 0.00 0.28152493 0    0.3148148 0.4150220 0.6858908 0.2425138\n",
       "29 0.0086171860 0.00 0.28152493 0    0.3148148 0.5621767 0.9423275 0.3023670\n",
       "30 0.0111962610 0.00 0.28152493 0    0.3148148 0.5964744 0.8692070 0.2827524\n",
       "35 0.0180566727 0.00 0.28152493 0    0.3148148 0.4857252 0.9680742 0.2391765\n",
       "   rad        tax        ptratio   black     lstat      medv     \n",
       "1  0.00000000 0.20801527 0.2872340 1.0000000 0.08967991 0.4222222\n",
       "5  0.08695652 0.06679389 0.6489362 1.0000000 0.09933775 0.6933333\n",
       "20 0.13043478 0.22900763 0.8936170 0.9849967 0.26352097 0.2933333\n",
       "29 0.13043478 0.22900763 0.8936170 0.9774068 0.30546358 0.2977778\n",
       "30 0.13043478 0.22900763 0.8936170 0.9579656 0.28283664 0.3555556\n",
       "35 0.13043478 0.22900763 0.8936170 0.6253215 0.51352097 0.1888889"
      ]
     },
     "metadata": {},
     "output_type": "display_data"
    }
   ],
   "source": [
    "head(test_data)"
   ]
  },
  {
   "cell_type": "code",
   "execution_count": 46,
   "id": "746032aa-0dd5-4add-979e-a948ecba2752",
   "metadata": {},
   "outputs": [],
   "source": [
    "suppressMessages(library(Metrics))"
   ]
  },
  {
   "cell_type": "code",
   "execution_count": 47,
   "id": "0ccf518e-b3f2-4d24-89a7-844804b52f34",
   "metadata": {},
   "outputs": [
    {
     "data": {
      "text/html": [
       "<table class=\"dataframe\">\n",
       "<caption>A data.frame: 2 × 4</caption>\n",
       "<thead>\n",
       "\t<tr><th></th><th scope=col>R2_train</th><th scope=col>R2_test</th><th scope=col>MSE_test</th><th scope=col>RMSE_test</th></tr>\n",
       "\t<tr><th></th><th scope=col>&lt;dbl&gt;</th><th scope=col>&lt;dbl&gt;</th><th scope=col>&lt;dbl&gt;</th><th scope=col>&lt;dbl&gt;</th></tr>\n",
       "</thead>\n",
       "<tbody>\n",
       "\t<tr><th scope=row>linear</th><td>0.7566</td><td>0.6611</td><td>0.0117</td><td>0.1081</td></tr>\n",
       "\t<tr><th scope=row>neuralnet</th><td>1.0000</td><td>0.7799</td><td>0.0077</td><td>0.0876</td></tr>\n",
       "</tbody>\n",
       "</table>\n"
      ],
      "text/latex": [
       "A data.frame: 2 × 4\n",
       "\\begin{tabular}{r|llll}\n",
       "  & R2\\_train & R2\\_test & MSE\\_test & RMSE\\_test\\\\\n",
       "  & <dbl> & <dbl> & <dbl> & <dbl>\\\\\n",
       "\\hline\n",
       "\tlinear & 0.7566 & 0.6611 & 0.0117 & 0.1081\\\\\n",
       "\tneuralnet & 1.0000 & 0.7799 & 0.0077 & 0.0876\\\\\n",
       "\\end{tabular}\n"
      ],
      "text/markdown": [
       "\n",
       "A data.frame: 2 × 4\n",
       "\n",
       "| <!--/--> | R2_train &lt;dbl&gt; | R2_test &lt;dbl&gt; | MSE_test &lt;dbl&gt; | RMSE_test &lt;dbl&gt; |\n",
       "|---|---|---|---|---|\n",
       "| linear | 0.7566 | 0.6611 | 0.0117 | 0.1081 |\n",
       "| neuralnet | 1.0000 | 0.7799 | 0.0077 | 0.0876 |\n",
       "\n"
      ],
      "text/plain": [
       "          R2_train R2_test MSE_test RMSE_test\n",
       "linear    0.7566   0.6611  0.0117   0.1081   \n",
       "neuralnet 1.0000   0.7799  0.0077   0.0876   "
      ]
     },
     "metadata": {},
     "output_type": "display_data"
    }
   ],
   "source": [
    "library(Metrics) # for rmse function\n",
    "neuralnet_err <- data.frame(\n",
    "  R2_train = round(cor(train_data$medv, nn_model$response[,\"medv\"])^2, 4),\n",
    "  R2_test = round(cor(test_data$medv, test_predicted_scaled$net.result)^2, 4),\n",
    "  MSE_test = round(mse(test_data$medv, test_predicted_scaled$net.result), 4),\n",
    "  RMSE_test = round(rmse(test_data$medv, test_predicted_scaled$net.result), 4)  \n",
    ")\n",
    "\n",
    "rownames(neuralnet_err) <- \"neuralnet\"\n",
    "linear_err |> bind_rows(neuralnet_err)\n",
    "\n",
    "# Model is much better by all metrics but overfitted on train"
   ]
  },
  {
   "cell_type": "markdown",
   "id": "3bd770a8-94cb-44d4-b412-077d2a2d6f0c",
   "metadata": {},
   "source": [
    "## `neuralnet` + `caret`"
   ]
  },
  {
   "cell_type": "code",
   "execution_count": 48,
   "id": "59fcaa0f-33c3-4497-bd17-6e7534ebfdd2",
   "metadata": {},
   "outputs": [],
   "source": [
    "suppressMessages(library(caret))"
   ]
  },
  {
   "cell_type": "code",
   "execution_count": 49,
   "id": "6067b5e3-1be4-4963-8514-2a7f13b5407c",
   "metadata": {},
   "outputs": [
    {
     "name": "stderr",
     "output_type": "stream",
     "text": [
      "Warning message in cbind(intercept = 1, as.matrix(data[, model.list$variables])):\n",
      "\"number of rows of result is not a multiple of vector length (arg 1)\"\n",
      "Warning message in cbind(1, act.temp):\n",
      "\"number of rows of result is not a multiple of vector length (arg 1)\"\n",
      "Warning message in cbind(1, act.temp):\n",
      "\"number of rows of result is not a multiple of vector length (arg 1)\"\n",
      "Warning message in cbind(1, act.temp):\n",
      "\"number of rows of result is not a multiple of vector length (arg 1)\"\n",
      "Warning message in cbind(intercept = 1, as.matrix(data[, model.list$variables])):\n",
      "\"number of rows of result is not a multiple of vector length (arg 1)\"\n",
      "Warning message in cbind(1, act.temp):\n",
      "\"number of rows of result is not a multiple of vector length (arg 1)\"\n",
      "Warning message in cbind(1, act.temp):\n",
      "\"number of rows of result is not a multiple of vector length (arg 1)\"\n",
      "Warning message in cbind(1, act.temp):\n",
      "\"number of rows of result is not a multiple of vector length (arg 1)\"\n",
      "Warning message in cbind(intercept = 1, as.matrix(data[, model.list$variables])):\n",
      "\"number of rows of result is not a multiple of vector length (arg 1)\"\n",
      "Warning message in cbind(1, act.temp):\n",
      "\"number of rows of result is not a multiple of vector length (arg 1)\"\n",
      "Warning message in cbind(1, act.temp):\n",
      "\"number of rows of result is not a multiple of vector length (arg 1)\"\n",
      "Warning message in cbind(1, act.temp):\n",
      "\"number of rows of result is not a multiple of vector length (arg 1)\"\n"
     ]
    },
    {
     "data": {
      "text/html": [
       "<dl>\n",
       "\t<dt>$method</dt>\n",
       "\t\t<dd>'neuralnet'</dd>\n",
       "\t<dt>$modelInfo</dt>\n",
       "\t\t<dd><dl>\n",
       "\t<dt>$label</dt>\n",
       "\t\t<dd>'Neural Network'</dd>\n",
       "\t<dt>$library</dt>\n",
       "\t\t<dd>'neuralnet'</dd>\n",
       "\t<dt>$loop</dt>\n",
       "\t\t<dd>NULL</dd>\n",
       "\t<dt>$type</dt>\n",
       "\t\t<dd>'Regression'</dd>\n",
       "\t<dt>$parameters</dt>\n",
       "\t\t<dd><table class=\"dataframe\">\n",
       "<caption>A data.frame: 3 × 3</caption>\n",
       "<thead>\n",
       "\t<tr><th scope=col>parameter</th><th scope=col>class</th><th scope=col>label</th></tr>\n",
       "\t<tr><th scope=col>&lt;chr&gt;</th><th scope=col>&lt;chr&gt;</th><th scope=col>&lt;chr&gt;</th></tr>\n",
       "</thead>\n",
       "<tbody>\n",
       "\t<tr><td>layer1</td><td>numeric</td><td>#Hidden Units in Layer 1</td></tr>\n",
       "\t<tr><td>layer2</td><td>numeric</td><td>#Hidden Units in Layer 2</td></tr>\n",
       "\t<tr><td>layer3</td><td>numeric</td><td>#Hidden Units in Layer 3</td></tr>\n",
       "</tbody>\n",
       "</table>\n",
       "</dd>\n",
       "\t<dt>$grid</dt>\n",
       "\t\t<dd><pre class=language-r><code>function (x, y, len = NULL, search = \"grid\") \n",
       "{\n",
       "<span style=white-space:pre-wrap>    if (search == \"grid\") {</span>\n",
       "<span style=white-space:pre-wrap>        out &lt;- expand.grid(layer1 = ((1:len) * 2) - 1, layer2 = 0, </span>\n",
       "<span style=white-space:pre-wrap>            layer3 = 0)</span>\n",
       "<span style=white-space:pre-wrap>    }</span>\n",
       "<span style=white-space:pre-wrap>    else {</span>\n",
       "<span style=white-space:pre-wrap>        out &lt;- data.frame(layer1 = sample(2:20, replace = TRUE, </span>\n",
       "<span style=white-space:pre-wrap>            size = len), layer2 = sample(c(0, 2:20), replace = TRUE, </span>\n",
       "<span style=white-space:pre-wrap>            size = len), layer3 = sample(c(0, 2:20), replace = TRUE, </span>\n",
       "<span style=white-space:pre-wrap>            size = len))</span>\n",
       "<span style=white-space:pre-wrap>    }</span>\n",
       "<span style=white-space:pre-wrap>    out</span>\n",
       "}</code></pre></dd>\n",
       "\t<dt>$fit</dt>\n",
       "\t\t<dd><pre class=language-r><code>function (x, y, wts, param, lev, last, classProbs, ...) \n",
       "{\n",
       "<span style=white-space:pre-wrap>    colNames &lt;- colnames(x)</span>\n",
       "<span style=white-space:pre-wrap>    dat &lt;- if (is.data.frame(x)) </span>\n",
       "<span style=white-space:pre-wrap>        x</span>\n",
       "<span style=white-space:pre-wrap>    else as.data.frame(x, stringsAsFactors = TRUE)</span>\n",
       "<span style=white-space:pre-wrap>    dat$.outcome &lt;- y</span>\n",
       "<span style=white-space:pre-wrap>    form &lt;- as.formula(paste(\".outcome ~\", paste(colNames, collapse = \"+\")))</span>\n",
       "<span style=white-space:pre-wrap>    if (param$layer1 == 0) </span>\n",
       "<span style=white-space:pre-wrap>        stop(\"the first layer must have at least one hidden unit\")</span>\n",
       "<span style=white-space:pre-wrap>    if (param$layer2 == 0 &amp; param$layer2 &gt; 0) </span>\n",
       "<span style=white-space:pre-wrap>        stop(\"the second layer must have at least one hidden unit if a third layer is specified\")</span>\n",
       "<span style=white-space:pre-wrap>    nodes &lt;- c(param$layer1)</span>\n",
       "<span style=white-space:pre-wrap>    if (param$layer2 &gt; 0) {</span>\n",
       "<span style=white-space:pre-wrap>        nodes &lt;- c(nodes, param$layer2)</span>\n",
       "<span style=white-space:pre-wrap>        if (param$layer3 &gt; 0) </span>\n",
       "<span style=white-space:pre-wrap>            nodes &lt;- c(nodes, param$layer3)</span>\n",
       "<span style=white-space:pre-wrap>    }</span>\n",
       "<span style=white-space:pre-wrap>    neuralnet::neuralnet(form, data = dat, hidden = nodes, ...)</span>\n",
       "}</code></pre></dd>\n",
       "\t<dt>$predict</dt>\n",
       "\t\t<dd><pre class=language-r><code>function (modelFit, newdata, submodels = NULL) \n",
       "{\n",
       "<span style=white-space:pre-wrap>    newdata &lt;- newdata[, modelFit$model.list$variables, drop = FALSE]</span>\n",
       "<span style=white-space:pre-wrap>    neuralnet::compute(modelFit, covariate = newdata)$net.result[, </span>\n",
       "<span style=white-space:pre-wrap>        1]</span>\n",
       "}</code></pre></dd>\n",
       "\t<dt>$prob</dt>\n",
       "\t\t<dd>NULL</dd>\n",
       "\t<dt>$tags</dt>\n",
       "\t\t<dd>'Neural Network'</dd>\n",
       "\t<dt>$sort</dt>\n",
       "\t\t<dd><pre class=language-r><code>function (x) \n",
       "x[order(x$layer1, x$layer2, x$layer3), ]</code></pre></dd>\n",
       "</dl>\n",
       "</dd>\n",
       "\t<dt>$modelType</dt>\n",
       "\t\t<dd>'Regression'</dd>\n",
       "\t<dt>$results</dt>\n",
       "\t\t<dd><table class=\"dataframe\">\n",
       "<caption>A data.frame: 3 × 9</caption>\n",
       "<thead>\n",
       "\t<tr><th></th><th scope=col>layer1</th><th scope=col>layer2</th><th scope=col>layer3</th><th scope=col>RMSE</th><th scope=col>Rsquared</th><th scope=col>MAE</th><th scope=col>RMSESD</th><th scope=col>RsquaredSD</th><th scope=col>MAESD</th></tr>\n",
       "\t<tr><th></th><th scope=col>&lt;int&gt;</th><th scope=col>&lt;dbl&gt;</th><th scope=col>&lt;dbl&gt;</th><th scope=col>&lt;dbl&gt;</th><th scope=col>&lt;dbl&gt;</th><th scope=col>&lt;dbl&gt;</th><th scope=col>&lt;dbl&gt;</th><th scope=col>&lt;dbl&gt;</th><th scope=col>&lt;dbl&gt;</th></tr>\n",
       "</thead>\n",
       "<tbody>\n",
       "\t<tr><th scope=row>1</th><td> 4</td><td>2</td><td>15</td><td>4.317601</td><td>0.0009609744</td><td>4.312419</td><td>NA</td><td>NA</td><td>NA</td></tr>\n",
       "\t<tr><th scope=row>2</th><td>11</td><td>7</td><td>10</td><td>2.110006</td><td>0.1077528131</td><td>2.098059</td><td>NA</td><td>NA</td><td>NA</td></tr>\n",
       "\t<tr><th scope=row>3</th><td>15</td><td>6</td><td> 7</td><td>2.774424</td><td>0.0840212438</td><td>2.766978</td><td>NA</td><td>NA</td><td>NA</td></tr>\n",
       "</tbody>\n",
       "</table>\n",
       "</dd>\n",
       "\t<dt>$pred</dt>\n",
       "\t\t<dd>NULL</dd>\n",
       "\t<dt>$bestTune</dt>\n",
       "\t\t<dd><table class=\"dataframe\">\n",
       "<caption>A data.frame: 1 × 3</caption>\n",
       "<thead>\n",
       "\t<tr><th></th><th scope=col>layer1</th><th scope=col>layer2</th><th scope=col>layer3</th></tr>\n",
       "\t<tr><th></th><th scope=col>&lt;int&gt;</th><th scope=col>&lt;dbl&gt;</th><th scope=col>&lt;dbl&gt;</th></tr>\n",
       "</thead>\n",
       "<tbody>\n",
       "\t<tr><th scope=row>2</th><td>11</td><td>7</td><td>10</td></tr>\n",
       "</tbody>\n",
       "</table>\n",
       "</dd>\n",
       "</dl>\n"
      ],
      "text/latex": [
       "\\begin{description}\n",
       "\\item[\\$method] 'neuralnet'\n",
       "\\item[\\$modelInfo] \\begin{description}\n",
       "\\item[\\$label] 'Neural Network'\n",
       "\\item[\\$library] 'neuralnet'\n",
       "\\item[\\$loop] NULL\n",
       "\\item[\\$type] 'Regression'\n",
       "\\item[\\$parameters] A data.frame: 3 × 3\n",
       "\\begin{tabular}{lll}\n",
       " parameter & class & label\\\\\n",
       " <chr> & <chr> & <chr>\\\\\n",
       "\\hline\n",
       "\t layer1 & numeric & \\#Hidden Units in Layer 1\\\\\n",
       "\t layer2 & numeric & \\#Hidden Units in Layer 2\\\\\n",
       "\t layer3 & numeric & \\#Hidden Units in Layer 3\\\\\n",
       "\\end{tabular}\n",
       "\n",
       "\\item[\\$grid] \\begin{minted}{r}\n",
       "function (x, y, len = NULL, search = \"grid\") \n",
       "\\{\n",
       "    if (search == \"grid\") \\{\n",
       "        out <- expand.grid(layer1 = ((1:len) * 2) - 1, layer2 = 0, \n",
       "            layer3 = 0)\n",
       "    \\}\n",
       "    else \\{\n",
       "        out <- data.frame(layer1 = sample(2:20, replace = TRUE, \n",
       "            size = len), layer2 = sample(c(0, 2:20), replace = TRUE, \n",
       "            size = len), layer3 = sample(c(0, 2:20), replace = TRUE, \n",
       "            size = len))\n",
       "    \\}\n",
       "    out\n",
       "\\}\n",
       "\\end{minted}\n",
       "\\item[\\$fit] \\begin{minted}{r}\n",
       "function (x, y, wts, param, lev, last, classProbs, ...) \n",
       "\\{\n",
       "    colNames <- colnames(x)\n",
       "    dat <- if (is.data.frame(x)) \n",
       "        x\n",
       "    else as.data.frame(x, stringsAsFactors = TRUE)\n",
       "    dat\\$.outcome <- y\n",
       "    form <- as.formula(paste(\".outcome \\textasciitilde{}\", paste(colNames, collapse = \"+\")))\n",
       "    if (param\\$layer1 == 0) \n",
       "        stop(\"the first layer must have at least one hidden unit\")\n",
       "    if (param\\$layer2 == 0 \\& param\\$layer2 > 0) \n",
       "        stop(\"the second layer must have at least one hidden unit if a third layer is specified\")\n",
       "    nodes <- c(param\\$layer1)\n",
       "    if (param\\$layer2 > 0) \\{\n",
       "        nodes <- c(nodes, param\\$layer2)\n",
       "        if (param\\$layer3 > 0) \n",
       "            nodes <- c(nodes, param\\$layer3)\n",
       "    \\}\n",
       "    neuralnet::neuralnet(form, data = dat, hidden = nodes, ...)\n",
       "\\}\n",
       "\\end{minted}\n",
       "\\item[\\$predict] \\begin{minted}{r}\n",
       "function (modelFit, newdata, submodels = NULL) \n",
       "\\{\n",
       "    newdata <- newdata{[}, modelFit\\$model.list\\$variables, drop = FALSE{]}\n",
       "    neuralnet::compute(modelFit, covariate = newdata)\\$net.result{[}, \n",
       "        1{]}\n",
       "\\}\n",
       "\\end{minted}\n",
       "\\item[\\$prob] NULL\n",
       "\\item[\\$tags] 'Neural Network'\n",
       "\\item[\\$sort] \\begin{minted}{r}\n",
       "function (x) \n",
       "x{[}order(x\\$layer1, x\\$layer2, x\\$layer3), {]}\n",
       "\\end{minted}\n",
       "\\end{description}\n",
       "\n",
       "\\item[\\$modelType] 'Regression'\n",
       "\\item[\\$results] A data.frame: 3 × 9\n",
       "\\begin{tabular}{r|lllllllll}\n",
       "  & layer1 & layer2 & layer3 & RMSE & Rsquared & MAE & RMSESD & RsquaredSD & MAESD\\\\\n",
       "  & <int> & <dbl> & <dbl> & <dbl> & <dbl> & <dbl> & <dbl> & <dbl> & <dbl>\\\\\n",
       "\\hline\n",
       "\t1 &  4 & 2 & 15 & 4.317601 & 0.0009609744 & 4.312419 & NA & NA & NA\\\\\n",
       "\t2 & 11 & 7 & 10 & 2.110006 & 0.1077528131 & 2.098059 & NA & NA & NA\\\\\n",
       "\t3 & 15 & 6 &  7 & 2.774424 & 0.0840212438 & 2.766978 & NA & NA & NA\\\\\n",
       "\\end{tabular}\n",
       "\n",
       "\\item[\\$pred] NULL\n",
       "\\item[\\$bestTune] A data.frame: 1 × 3\n",
       "\\begin{tabular}{r|lll}\n",
       "  & layer1 & layer2 & layer3\\\\\n",
       "  & <int> & <dbl> & <dbl>\\\\\n",
       "\\hline\n",
       "\t2 & 11 & 7 & 10\\\\\n",
       "\\end{tabular}\n",
       "\n",
       "\\end{description}\n"
      ],
      "text/markdown": [
       "$method\n",
       ":   'neuralnet'\n",
       "$modelInfo\n",
       ":   $label\n",
       ":   'Neural Network'\n",
       "$library\n",
       ":   'neuralnet'\n",
       "$loop\n",
       ":   NULL\n",
       "$type\n",
       ":   'Regression'\n",
       "$parameters\n",
       ":   \n",
       "A data.frame: 3 × 3\n",
       "\n",
       "| parameter &lt;chr&gt; | class &lt;chr&gt; | label &lt;chr&gt; |\n",
       "|---|---|---|\n",
       "| layer1 | numeric | #Hidden Units in Layer 1 |\n",
       "| layer2 | numeric | #Hidden Units in Layer 2 |\n",
       "| layer3 | numeric | #Hidden Units in Layer 3 |\n",
       "\n",
       "\n",
       "$grid\n",
       ":   ```r\n",
       "function (x, y, len = NULL, search = \"grid\") \n",
       "{\n",
       "    if (search == \"grid\") {\n",
       "        out <- expand.grid(layer1 = ((1:len) * 2) - 1, layer2 = 0, \n",
       "            layer3 = 0)\n",
       "    }\n",
       "    else {\n",
       "        out <- data.frame(layer1 = sample(2:20, replace = TRUE, \n",
       "            size = len), layer2 = sample(c(0, 2:20), replace = TRUE, \n",
       "            size = len), layer3 = sample(c(0, 2:20), replace = TRUE, \n",
       "            size = len))\n",
       "    }\n",
       "    out\n",
       "}\n",
       "```\n",
       "$fit\n",
       ":   ```r\n",
       "function (x, y, wts, param, lev, last, classProbs, ...) \n",
       "{\n",
       "    colNames <- colnames(x)\n",
       "    dat <- if (is.data.frame(x)) \n",
       "        x\n",
       "    else as.data.frame(x, stringsAsFactors = TRUE)\n",
       "    dat$.outcome <- y\n",
       "    form <- as.formula(paste(\".outcome ~\", paste(colNames, collapse = \"+\")))\n",
       "    if (param$layer1 == 0) \n",
       "        stop(\"the first layer must have at least one hidden unit\")\n",
       "    if (param$layer2 == 0 & param$layer2 > 0) \n",
       "        stop(\"the second layer must have at least one hidden unit if a third layer is specified\")\n",
       "    nodes <- c(param$layer1)\n",
       "    if (param$layer2 > 0) {\n",
       "        nodes <- c(nodes, param$layer2)\n",
       "        if (param$layer3 > 0) \n",
       "            nodes <- c(nodes, param$layer3)\n",
       "    }\n",
       "    neuralnet::neuralnet(form, data = dat, hidden = nodes, ...)\n",
       "}\n",
       "```\n",
       "$predict\n",
       ":   ```r\n",
       "function (modelFit, newdata, submodels = NULL) \n",
       "{\n",
       "    newdata <- newdata[, modelFit$model.list$variables, drop = FALSE]\n",
       "    neuralnet::compute(modelFit, covariate = newdata)$net.result[, \n",
       "        1]\n",
       "}\n",
       "```\n",
       "$prob\n",
       ":   NULL\n",
       "$tags\n",
       ":   'Neural Network'\n",
       "$sort\n",
       ":   ```r\n",
       "function (x) \n",
       "x[order(x$layer1, x$layer2, x$layer3), ]\n",
       "```\n",
       "\n",
       "\n",
       "\n",
       "$modelType\n",
       ":   'Regression'\n",
       "$results\n",
       ":   \n",
       "A data.frame: 3 × 9\n",
       "\n",
       "| <!--/--> | layer1 &lt;int&gt; | layer2 &lt;dbl&gt; | layer3 &lt;dbl&gt; | RMSE &lt;dbl&gt; | Rsquared &lt;dbl&gt; | MAE &lt;dbl&gt; | RMSESD &lt;dbl&gt; | RsquaredSD &lt;dbl&gt; | MAESD &lt;dbl&gt; |\n",
       "|---|---|---|---|---|---|---|---|---|---|\n",
       "| 1 |  4 | 2 | 15 | 4.317601 | 0.0009609744 | 4.312419 | NA | NA | NA |\n",
       "| 2 | 11 | 7 | 10 | 2.110006 | 0.1077528131 | 2.098059 | NA | NA | NA |\n",
       "| 3 | 15 | 6 |  7 | 2.774424 | 0.0840212438 | 2.766978 | NA | NA | NA |\n",
       "\n",
       "\n",
       "$pred\n",
       ":   NULL\n",
       "$bestTune\n",
       ":   \n",
       "A data.frame: 1 × 3\n",
       "\n",
       "| <!--/--> | layer1 &lt;int&gt; | layer2 &lt;dbl&gt; | layer3 &lt;dbl&gt; |\n",
       "|---|---|---|---|\n",
       "| 2 | 11 | 7 | 10 |\n",
       "\n",
       "\n",
       "\n",
       "\n"
      ],
      "text/plain": [
       "$method\n",
       "[1] \"neuralnet\"\n",
       "\n",
       "$modelInfo\n",
       "$modelInfo$label\n",
       "[1] \"Neural Network\"\n",
       "\n",
       "$modelInfo$library\n",
       "[1] \"neuralnet\"\n",
       "\n",
       "$modelInfo$loop\n",
       "NULL\n",
       "\n",
       "$modelInfo$type\n",
       "[1] \"Regression\"\n",
       "\n",
       "$modelInfo$parameters\n",
       "  parameter   class                    label\n",
       "1    layer1 numeric #Hidden Units in Layer 1\n",
       "2    layer2 numeric #Hidden Units in Layer 2\n",
       "3    layer3 numeric #Hidden Units in Layer 3\n",
       "\n",
       "$modelInfo$grid\n",
       "function (x, y, len = NULL, search = \"grid\") \n",
       "{\n",
       "    if (search == \"grid\") {\n",
       "        out <- expand.grid(layer1 = ((1:len) * 2) - 1, layer2 = 0, \n",
       "            layer3 = 0)\n",
       "    }\n",
       "    else {\n",
       "        out <- data.frame(layer1 = sample(2:20, replace = TRUE, \n",
       "            size = len), layer2 = sample(c(0, 2:20), replace = TRUE, \n",
       "            size = len), layer3 = sample(c(0, 2:20), replace = TRUE, \n",
       "            size = len))\n",
       "    }\n",
       "    out\n",
       "}\n",
       "\n",
       "$modelInfo$fit\n",
       "function (x, y, wts, param, lev, last, classProbs, ...) \n",
       "{\n",
       "    colNames <- colnames(x)\n",
       "    dat <- if (is.data.frame(x)) \n",
       "        x\n",
       "    else as.data.frame(x, stringsAsFactors = TRUE)\n",
       "    dat$.outcome <- y\n",
       "    form <- as.formula(paste(\".outcome ~\", paste(colNames, collapse = \"+\")))\n",
       "    if (param$layer1 == 0) \n",
       "        stop(\"the first layer must have at least one hidden unit\")\n",
       "    if (param$layer2 == 0 & param$layer2 > 0) \n",
       "        stop(\"the second layer must have at least one hidden unit if a third layer is specified\")\n",
       "    nodes <- c(param$layer1)\n",
       "    if (param$layer2 > 0) {\n",
       "        nodes <- c(nodes, param$layer2)\n",
       "        if (param$layer3 > 0) \n",
       "            nodes <- c(nodes, param$layer3)\n",
       "    }\n",
       "    neuralnet::neuralnet(form, data = dat, hidden = nodes, ...)\n",
       "}\n",
       "<bytecode: 0x00000000433b0618>\n",
       "\n",
       "$modelInfo$predict\n",
       "function (modelFit, newdata, submodels = NULL) \n",
       "{\n",
       "    newdata <- newdata[, modelFit$model.list$variables, drop = FALSE]\n",
       "    neuralnet::compute(modelFit, covariate = newdata)$net.result[, \n",
       "        1]\n",
       "}\n",
       "<bytecode: 0x0000000043ba6ac8>\n",
       "\n",
       "$modelInfo$prob\n",
       "NULL\n",
       "\n",
       "$modelInfo$tags\n",
       "[1] \"Neural Network\"\n",
       "\n",
       "$modelInfo$sort\n",
       "function (x) \n",
       "x[order(x$layer1, x$layer2, x$layer3), ]\n",
       "\n",
       "\n",
       "$modelType\n",
       "[1] \"Regression\"\n",
       "\n",
       "$results\n",
       "  layer1 layer2 layer3     RMSE     Rsquared      MAE RMSESD RsquaredSD MAESD\n",
       "1      4      2     15 4.317601 0.0009609744 4.312419     NA         NA    NA\n",
       "2     11      7     10 2.110006 0.1077528131 2.098059     NA         NA    NA\n",
       "3     15      6      7 2.774424 0.0840212438 2.766978     NA         NA    NA\n",
       "\n",
       "$pred\n",
       "NULL\n",
       "\n",
       "$bestTune\n",
       "  layer1 layer2 layer3\n",
       "2     11      7     10\n"
      ]
     },
     "metadata": {},
     "output_type": "display_data"
    }
   ],
   "source": [
    "ctrl<- trainControl(method=\"cv\", number=1, search=\"random\")\n",
    "\n",
    "suppressMessages(nn2_model <- train(formula, \n",
    "             data = train_data, \n",
    "             trControl = ctrl,\n",
    "             metric = \"RMSE\",\n",
    "             method = \"neuralnet\"))\n",
    "\n",
    "head(nn2_model)"
   ]
  },
  {
   "cell_type": "code",
   "execution_count": 50,
   "id": "0c5b3f53-519a-48a4-bda6-d8ea24f5ab6f",
   "metadata": {},
   "outputs": [
    {
     "data": {
      "text/html": [
       "<style>\n",
       ".dl-inline {width: auto; margin:0; padding: 0}\n",
       ".dl-inline>dt, .dl-inline>dd {float: none; width: auto; display: inline-block}\n",
       ".dl-inline>dt::after {content: \":\\0020\"; padding-right: .5ex}\n",
       ".dl-inline>dt:not(:first-of-type) {padding-left: .5ex}\n",
       "</style><dl class=dl-inline><dt>1</dt><dd>0.487043261409714</dd><dt>5</dt><dd>0.621601182176565</dd><dt>20</dt><dd>0.296898662765632</dd><dt>29</dt><dd>0.311093959706198</dd><dt>30</dt><dd>0.358306907905892</dd><dt>35</dt><dd>0.207608926759425</dd></dl>\n"
      ],
      "text/latex": [
       "\\begin{description*}\n",
       "\\item[1] 0.487043261409714\n",
       "\\item[5] 0.621601182176565\n",
       "\\item[20] 0.296898662765632\n",
       "\\item[29] 0.311093959706198\n",
       "\\item[30] 0.358306907905892\n",
       "\\item[35] 0.207608926759425\n",
       "\\end{description*}\n"
      ],
      "text/markdown": [
       "1\n",
       ":   0.4870432614097145\n",
       ":   0.62160118217656520\n",
       ":   0.29689866276563229\n",
       ":   0.31109395970619830\n",
       ":   0.35830690790589235\n",
       ":   0.207608926759425\n",
       "\n"
      ],
      "text/plain": [
       "        1         5        20        29        30        35 \n",
       "0.4870433 0.6216012 0.2968987 0.3110940 0.3583069 0.2076089 "
      ]
     },
     "metadata": {},
     "output_type": "display_data"
    },
    {
     "data": {
      "text/html": [
       "<style>\n",
       ".dl-inline {width: auto; margin:0; padding: 0}\n",
       ".dl-inline>dt, .dl-inline>dd {float: none; width: auto; display: inline-block}\n",
       ".dl-inline>dt::after {content: \":\\0020\"; padding-right: .5ex}\n",
       ".dl-inline>dt:not(:first-of-type) {padding-left: .5ex}\n",
       "</style><dl class=dl-inline><dt>2</dt><dd>0.404953900784053</dd><dt>3</dt><dd>0.631590265523993</dd><dt>4</dt><dd>0.616779701435411</dd><dt>6</dt><dd>0.485288600524427</dd><dt>7</dt><dd>0.344873486827333</dd><dt>8</dt><dd>0.321661962365258</dd></dl>\n"
      ],
      "text/latex": [
       "\\begin{description*}\n",
       "\\item[2] 0.404953900784053\n",
       "\\item[3] 0.631590265523993\n",
       "\\item[4] 0.616779701435411\n",
       "\\item[6] 0.485288600524427\n",
       "\\item[7] 0.344873486827333\n",
       "\\item[8] 0.321661962365258\n",
       "\\end{description*}\n"
      ],
      "text/markdown": [
       "2\n",
       ":   0.4049539007840533\n",
       ":   0.6315902655239934\n",
       ":   0.6167797014354116\n",
       ":   0.4852886005244277\n",
       ":   0.3448734868273338\n",
       ":   0.321661962365258\n",
       "\n"
      ],
      "text/plain": [
       "        2         3         4         6         7         8 \n",
       "0.4049539 0.6315903 0.6167797 0.4852886 0.3448735 0.3216620 "
      ]
     },
     "metadata": {},
     "output_type": "display_data"
    }
   ],
   "source": [
    "test_predicted_scaled <- predict(nn2_model, test_data%>%select(-medv))\n",
    "head(test_predicted_scaled)\n",
    "train_predicted_scaled <- predict(nn2_model, train_data%>%select(-medv))\n",
    "head(train_predicted_scaled)"
   ]
  },
  {
   "cell_type": "code",
   "execution_count": 51,
   "id": "42fb5b83-ac37-4b8e-bd6c-700e719ad5a6",
   "metadata": {},
   "outputs": [
    {
     "data": {
      "text/html": [
       "<table class=\"dataframe\">\n",
       "<caption>A data.frame: 6 × 1</caption>\n",
       "<thead>\n",
       "\t<tr><th></th><th scope=col>.</th></tr>\n",
       "\t<tr><th></th><th scope=col>&lt;dbl&gt;</th></tr>\n",
       "</thead>\n",
       "<tbody>\n",
       "\t<tr><th scope=row>1</th><td>26.91695</td></tr>\n",
       "\t<tr><th scope=row>5</th><td>32.97205</td></tr>\n",
       "\t<tr><th scope=row>20</th><td>18.36044</td></tr>\n",
       "\t<tr><th scope=row>29</th><td>18.99923</td></tr>\n",
       "\t<tr><th scope=row>30</th><td>21.12381</td></tr>\n",
       "\t<tr><th scope=row>35</th><td>14.34240</td></tr>\n",
       "</tbody>\n",
       "</table>\n"
      ],
      "text/latex": [
       "A data.frame: 6 × 1\n",
       "\\begin{tabular}{r|l}\n",
       "  & .\\\\\n",
       "  & <dbl>\\\\\n",
       "\\hline\n",
       "\t1 & 26.91695\\\\\n",
       "\t5 & 32.97205\\\\\n",
       "\t20 & 18.36044\\\\\n",
       "\t29 & 18.99923\\\\\n",
       "\t30 & 21.12381\\\\\n",
       "\t35 & 14.34240\\\\\n",
       "\\end{tabular}\n"
      ],
      "text/markdown": [
       "\n",
       "A data.frame: 6 × 1\n",
       "\n",
       "| <!--/--> | . &lt;dbl&gt; |\n",
       "|---|---|\n",
       "| 1 | 26.91695 |\n",
       "| 5 | 32.97205 |\n",
       "| 20 | 18.36044 |\n",
       "| 29 | 18.99923 |\n",
       "| 30 | 21.12381 |\n",
       "| 35 | 14.34240 |\n",
       "\n"
      ],
      "text/plain": [
       "   .       \n",
       "1  26.91695\n",
       "5  32.97205\n",
       "20 18.36044\n",
       "29 18.99923\n",
       "30 21.12381\n",
       "35 14.34240"
      ]
     },
     "metadata": {},
     "output_type": "display_data"
    }
   ],
   "source": [
    "test_nn2_predicted <- sapply(X = test_predicted_scaled, original = data$medv, FUN = revertData) %>% as.data.frame()\n",
    "head(test_nn2_predicted)"
   ]
  },
  {
   "cell_type": "code",
   "execution_count": 52,
   "id": "5b036dd9-66ac-4264-8792-32b10546698f",
   "metadata": {},
   "outputs": [
    {
     "data": {
      "text/html": [
       "<table class=\"dataframe\">\n",
       "<caption>A data.frame: 3 × 4</caption>\n",
       "<thead>\n",
       "\t<tr><th></th><th scope=col>R2_train</th><th scope=col>R2_test</th><th scope=col>MSE_test</th><th scope=col>RMSE_test</th></tr>\n",
       "\t<tr><th></th><th scope=col>&lt;dbl&gt;</th><th scope=col>&lt;dbl&gt;</th><th scope=col>&lt;dbl&gt;</th><th scope=col>&lt;dbl&gt;</th></tr>\n",
       "</thead>\n",
       "<tbody>\n",
       "\t<tr><th scope=row>linear</th><td>0.7566</td><td>0.6611</td><td>0.0117</td><td>0.1081</td></tr>\n",
       "\t<tr><th scope=row>neuralnet</th><td>1.0000</td><td>0.7799</td><td>0.0077</td><td>0.0876</td></tr>\n",
       "\t<tr><th scope=row>neuralnet_caret</th><td>0.9767</td><td>0.8251</td><td>0.0063</td><td>0.0793</td></tr>\n",
       "</tbody>\n",
       "</table>\n"
      ],
      "text/latex": [
       "A data.frame: 3 × 4\n",
       "\\begin{tabular}{r|llll}\n",
       "  & R2\\_train & R2\\_test & MSE\\_test & RMSE\\_test\\\\\n",
       "  & <dbl> & <dbl> & <dbl> & <dbl>\\\\\n",
       "\\hline\n",
       "\tlinear & 0.7566 & 0.6611 & 0.0117 & 0.1081\\\\\n",
       "\tneuralnet & 1.0000 & 0.7799 & 0.0077 & 0.0876\\\\\n",
       "\tneuralnet\\_caret & 0.9767 & 0.8251 & 0.0063 & 0.0793\\\\\n",
       "\\end{tabular}\n"
      ],
      "text/markdown": [
       "\n",
       "A data.frame: 3 × 4\n",
       "\n",
       "| <!--/--> | R2_train &lt;dbl&gt; | R2_test &lt;dbl&gt; | MSE_test &lt;dbl&gt; | RMSE_test &lt;dbl&gt; |\n",
       "|---|---|---|---|---|\n",
       "| linear | 0.7566 | 0.6611 | 0.0117 | 0.1081 |\n",
       "| neuralnet | 1.0000 | 0.7799 | 0.0077 | 0.0876 |\n",
       "| neuralnet_caret | 0.9767 | 0.8251 | 0.0063 | 0.0793 |\n",
       "\n"
      ],
      "text/plain": [
       "                R2_train R2_test MSE_test RMSE_test\n",
       "linear          0.7566   0.6611  0.0117   0.1081   \n",
       "neuralnet       1.0000   0.7799  0.0077   0.0876   \n",
       "neuralnet_caret 0.9767   0.8251  0.0063   0.0793   "
      ]
     },
     "metadata": {},
     "output_type": "display_data"
    }
   ],
   "source": [
    "neuralnet2_err <- data.frame(\n",
    "  R2_train = round(cor(train_data$medv, train_predicted_scaled)^2, 4),\n",
    "  R2_test = round(cor(test_data$medv, test_predicted_scaled)^2, 4),\n",
    "  MSE_test = round(mse(test_data$medv, test_predicted_scaled), 4),\n",
    "  RMSE_test = round(rmse(test_data$medv, test_predicted_scaled), 4)  \n",
    ")\n",
    "\n",
    "rownames(neuralnet2_err) <- \"neuralnet_caret\"\n",
    "linear_err |> bind_rows(neuralnet_err) |> bind_rows(neuralnet2_err)"
   ]
  },
  {
   "cell_type": "markdown",
   "id": "768b37ec-d572-420f-a121-73ba83c3e7f5",
   "metadata": {},
   "source": [
    "---"
   ]
  },
  {
   "cell_type": "markdown",
   "id": "c7c8169e-4503-4f85-b64d-786858c70dff",
   "metadata": {},
   "source": [
    "## Neural network with `nnet`"
   ]
  },
  {
   "cell_type": "markdown",
   "id": "457c27dc-d2d3-47d7-9df4-5e11280ca3e0",
   "metadata": {},
   "source": [
    "Підключаємо пакет `nnet` для побудови нейромережі із `2-ма` прихованими шарами, для прикладу."
   ]
  },
  {
   "cell_type": "code",
   "execution_count": 53,
   "id": "4079c13a-4fcf-47c9-926f-a04474e45332",
   "metadata": {},
   "outputs": [],
   "source": [
    "library(nnet)"
   ]
  },
  {
   "cell_type": "markdown",
   "id": "e4d35aa0-0b88-4ecf-9a69-83706e866e5b",
   "metadata": {},
   "source": [
    "Будуємо модель на основі формули створеної для попередньої моделі:\n",
    "\n",
    "* `size` - кількість нейронів у прихованому шарі"
   ]
  },
  {
   "cell_type": "code",
   "execution_count": 54,
   "id": "ebc668f3-b84b-4c91-b872-1c5f1e198367",
   "metadata": {},
   "outputs": [
    {
     "name": "stderr",
     "output_type": "stream",
     "text": [
      "Your code contains a unicode char which cannot be displayed in your\n",
      "current locale and R will silently convert it to an escaped form when the\n",
      "R kernel executes this code. This can lead to subtle errors if you use\n",
      "such chars to do comparisons. For more information, please see\n",
      "https://github.com/IRkernel/repr/wiki/Problems-with-unicode-on-windows"
     ]
    },
    {
     "name": "stdout",
     "output_type": "stream",
     "text": [
      "# weights:  31\n",
      "initial  value 17.172411 \n",
      "iter  10 value 3.798860\n",
      "iter  20 value 2.477108\n",
      "iter  30 value 2.048115\n",
      "iter  40 value 1.889895\n",
      "iter  50 value 1.692867\n",
      "iter  60 value 1.452958\n",
      "iter  70 value 1.436145\n",
      "iter  80 value 1.420405\n",
      "iter  90 value 1.398269\n",
      "iter 100 value 1.390185\n",
      "final  value 1.390185 \n",
      "stopped after 100 iterations\n"
     ]
    }
   ],
   "source": [
    "nnet_model <- nnet(formula, data = train_data, size = 2, maxit = 100)\n",
    "# Не забудьте поекспериментувати зі зміною кількості вузлів"
   ]
  },
  {
   "cell_type": "code",
   "execution_count": 55,
   "id": "d7b0569a-0748-48ed-97a0-dfcc1083d7dd",
   "metadata": {},
   "outputs": [
    {
     "data": {
      "text/plain": [
       "a 13-2-1 network with 31 weights\n",
       "options were -\n",
       "  b->h1  i1->h1  i2->h1  i3->h1  i4->h1  i5->h1  i6->h1  i7->h1  i8->h1  i9->h1 \n",
       "   3.21   11.13    0.13    0.14   -0.03   -0.12   -2.78    0.39    0.45   -0.59 \n",
       "i10->h1 i11->h1 i12->h1 i13->h1 \n",
       "   0.46    0.36   -0.51    0.46 \n",
       "  b->h2  i1->h2  i2->h2  i3->h2  i4->h2  i5->h2  i6->h2  i7->h2  i8->h2  i9->h2 \n",
       " -10.30   -2.70   14.50    3.19    0.10   -2.68    1.65    7.43  -14.01    0.98 \n",
       "i10->h2 i11->h2 i12->h2 i13->h2 \n",
       "   8.10   -2.17   -1.77  -14.95 \n",
       "  b->o  h1->o  h2->o \n",
       " 10.26 -12.12   8.44 "
      ]
     },
     "metadata": {},
     "output_type": "display_data"
    }
   ],
   "source": [
    "summary(nnet_model)"
   ]
  },
  {
   "cell_type": "markdown",
   "id": "01b16baa-2853-4dd3-889b-0d7c09dea703",
   "metadata": {},
   "source": [
    "Візуалізуємо модель:"
   ]
  },
  {
   "cell_type": "code",
   "execution_count": 56,
   "id": "37fba009-8184-47e2-b0de-bae753ff601d",
   "metadata": {},
   "outputs": [
    {
     "data": {
      "image/png": "[encoded data removed]",
      "text/plain": [
       "plot without title"
      ]
     },
     "metadata": {
      "image/png": {
       "height": 420,
       "width": 420
      }
     },
     "output_type": "display_data"
    }
   ],
   "source": [
    "plot.nnet(nnet_model)"
   ]
  },
  {
   "cell_type": "markdown",
   "id": "d17d6d7c-d95d-4ec0-825e-a2bc370a7b8d",
   "metadata": {},
   "source": [
    "Здійснимо прогноз для тестової вибірки та повернемо значення до базового виміру:"
   ]
  },
  {
   "cell_type": "code",
   "execution_count": 57,
   "id": "46581210-4eca-4ca5-83f8-7ef04ddc4c99",
   "metadata": {},
   "outputs": [
    {
     "data": {
      "text/html": [
       "<table class=\"dataframe\">\n",
       "<caption>A matrix: 6 × 1 of type dbl</caption>\n",
       "<tbody>\n",
       "\t<tr><th scope=row>1</th><td>0.5002897</td></tr>\n",
       "\t<tr><th scope=row>5</th><td>0.6030015</td></tr>\n",
       "\t<tr><th scope=row>20</th><td>0.2798733</td></tr>\n",
       "\t<tr><th scope=row>29</th><td>0.3302058</td></tr>\n",
       "\t<tr><th scope=row>30</th><td>0.3558518</td></tr>\n",
       "\t<tr><th scope=row>35</th><td>0.2345779</td></tr>\n",
       "</tbody>\n",
       "</table>\n"
      ],
      "text/latex": [
       "A matrix: 6 × 1 of type dbl\n",
       "\\begin{tabular}{r|l}\n",
       "\t1 & 0.5002897\\\\\n",
       "\t5 & 0.6030015\\\\\n",
       "\t20 & 0.2798733\\\\\n",
       "\t29 & 0.3302058\\\\\n",
       "\t30 & 0.3558518\\\\\n",
       "\t35 & 0.2345779\\\\\n",
       "\\end{tabular}\n"
      ],
      "text/markdown": [
       "\n",
       "A matrix: 6 × 1 of type dbl\n",
       "\n",
       "| 1 | 0.5002897 |\n",
       "| 5 | 0.6030015 |\n",
       "| 20 | 0.2798733 |\n",
       "| 29 | 0.3302058 |\n",
       "| 30 | 0.3558518 |\n",
       "| 35 | 0.2345779 |\n",
       "\n"
      ],
      "text/plain": [
       "   [,1]     \n",
       "1  0.5002897\n",
       "5  0.6030015\n",
       "20 0.2798733\n",
       "29 0.3302058\n",
       "30 0.3558518\n",
       "35 0.2345779"
      ]
     },
     "metadata": {},
     "output_type": "display_data"
    }
   ],
   "source": [
    "test_predicted_scaled <- predict(nnet_model, test_data)\n",
    "head(test_predicted_scaled)\n",
    "test_nnet_predicted <- sapply(X = test_predicted_scaled, original = data$medv, FUN = revertData) %>% as.data.frame()"
   ]
  },
  {
   "cell_type": "code",
   "execution_count": 58,
   "id": "e4851a3f-1835-4f73-9193-f5891a034e91",
   "metadata": {},
   "outputs": [
    {
     "data": {
      "text/plain": [
       "a 13-2-1 network with 31 weights\n",
       "inputs: crim zn indus chas nox rm age dis rad tax ptratio black lstat \n",
       "output(s): medv \n",
       "options were -"
      ]
     },
     "metadata": {},
     "output_type": "display_data"
    }
   ],
   "source": [
    "nnet_model"
   ]
  },
  {
   "cell_type": "markdown",
   "id": "a6e0a4a9-7fbc-4d61-a36a-94aafb3933a3",
   "metadata": {},
   "source": [
    "Порівняємо похибки по лінійній регресії та нейронних мереж:"
   ]
  },
  {
   "cell_type": "code",
   "execution_count": 59,
   "id": "d55bd937-73a5-4b37-b6b6-bcd17861add5",
   "metadata": {},
   "outputs": [
    {
     "data": {
      "text/html": [
       "<table class=\"dataframe\">\n",
       "<caption>A data.frame: 4 × 4</caption>\n",
       "<thead>\n",
       "\t<tr><th></th><th scope=col>R2_train</th><th scope=col>R2_test</th><th scope=col>MSE_test</th><th scope=col>RMSE_test</th></tr>\n",
       "\t<tr><th></th><th scope=col>&lt;dbl&gt;</th><th scope=col>&lt;dbl&gt;</th><th scope=col>&lt;dbl&gt;</th><th scope=col>&lt;dbl&gt;</th></tr>\n",
       "</thead>\n",
       "<tbody>\n",
       "\t<tr><th scope=row>linear</th><td>0.7566</td><td>0.6611</td><td>0.0117</td><td>0.1081</td></tr>\n",
       "\t<tr><th scope=row>neuralnet</th><td>1.0000</td><td>0.7799</td><td>0.0077</td><td>0.0876</td></tr>\n",
       "\t<tr><th scope=row>neuralnet_caret</th><td>0.9767</td><td>0.8251</td><td>0.0063</td><td>0.0793</td></tr>\n",
       "\t<tr><th scope=row>nnet</th><td>0.9148</td><td>0.7276</td><td>0.0103</td><td>0.1013</td></tr>\n",
       "</tbody>\n",
       "</table>\n"
      ],
      "text/latex": [
       "A data.frame: 4 × 4\n",
       "\\begin{tabular}{r|llll}\n",
       "  & R2\\_train & R2\\_test & MSE\\_test & RMSE\\_test\\\\\n",
       "  & <dbl> & <dbl> & <dbl> & <dbl>\\\\\n",
       "\\hline\n",
       "\tlinear & 0.7566 & 0.6611 & 0.0117 & 0.1081\\\\\n",
       "\tneuralnet & 1.0000 & 0.7799 & 0.0077 & 0.0876\\\\\n",
       "\tneuralnet\\_caret & 0.9767 & 0.8251 & 0.0063 & 0.0793\\\\\n",
       "\tnnet & 0.9148 & 0.7276 & 0.0103 & 0.1013\\\\\n",
       "\\end{tabular}\n"
      ],
      "text/markdown": [
       "\n",
       "A data.frame: 4 × 4\n",
       "\n",
       "| <!--/--> | R2_train &lt;dbl&gt; | R2_test &lt;dbl&gt; | MSE_test &lt;dbl&gt; | RMSE_test &lt;dbl&gt; |\n",
       "|---|---|---|---|---|\n",
       "| linear | 0.7566 | 0.6611 | 0.0117 | 0.1081 |\n",
       "| neuralnet | 1.0000 | 0.7799 | 0.0077 | 0.0876 |\n",
       "| neuralnet_caret | 0.9767 | 0.8251 | 0.0063 | 0.0793 |\n",
       "| nnet | 0.9148 | 0.7276 | 0.0103 | 0.1013 |\n",
       "\n"
      ],
      "text/plain": [
       "                R2_train R2_test MSE_test RMSE_test\n",
       "linear          0.7566   0.6611  0.0117   0.1081   \n",
       "neuralnet       1.0000   0.7799  0.0077   0.0876   \n",
       "neuralnet_caret 0.9767   0.8251  0.0063   0.0793   \n",
       "nnet            0.9148   0.7276  0.0103   0.1013   "
      ]
     },
     "metadata": {},
     "output_type": "display_data"
    }
   ],
   "source": [
    "nnet_err <- data.frame(\n",
    "  R2_train = round(cor(train_data$medv, predict(nnet_model, new=train_data))^2, 4),\n",
    "  R2_test = round(cor(test_data$medv, test_predicted_scaled)^2, 4),\n",
    "  MSE_test = round(mse(test_data$medv, test_predicted_scaled), 4),\n",
    "  RMSE_test = round(rmse(test_data$medv, test_predicted_scaled), 4)  \n",
    ")\n",
    "\n",
    "rownames(nnet_err) <- \"nnet\"\n",
    "linear_err |> bind_rows(neuralnet_err) |> bind_rows(neuralnet2_err) |> bind_rows(nnet_err)\n",
    "\n",
    "# neuralnet wins! but remember it has more layers"
   ]
  },
  {
   "cell_type": "markdown",
   "id": "0bbf9fa0-3e24-4dfe-879d-52dda6086c6e",
   "metadata": {},
   "source": [
    "---"
   ]
  },
  {
   "cell_type": "markdown",
   "id": "cad20424-9224-46a0-ab5b-c9c4dd144c26",
   "metadata": {},
   "source": [
    "## Final models compare"
   ]
  },
  {
   "cell_type": "markdown",
   "id": "72c33f78-fa9d-47c3-baa3-e4e62f9e25e7",
   "metadata": {},
   "source": [
    "Побудуємо графік розподілу пронозованих значень показників по усх моделях:"
   ]
  },
  {
   "cell_type": "code",
   "execution_count": 60,
   "id": "6cf18b8f-f829-4010-a9fd-0e82f64cf833",
   "metadata": {},
   "outputs": [
    {
     "data": {
      "text/html": [
       "<table class=\"dataframe\">\n",
       "<caption>A data.frame: 6 × 1</caption>\n",
       "<thead>\n",
       "\t<tr><th></th><th scope=col>.</th></tr>\n",
       "\t<tr><th></th><th scope=col>&lt;dbl&gt;</th></tr>\n",
       "</thead>\n",
       "<tbody>\n",
       "\t<tr><th scope=row>1</th><td>30.55659</td></tr>\n",
       "\t<tr><th scope=row>5</th><td>28.54003</td></tr>\n",
       "\t<tr><th scope=row>20</th><td>18.27829</td></tr>\n",
       "\t<tr><th scope=row>29</th><td>19.56211</td></tr>\n",
       "\t<tr><th scope=row>30</th><td>21.01693</td></tr>\n",
       "\t<tr><th scope=row>35</th><td>13.81993</td></tr>\n",
       "</tbody>\n",
       "</table>\n"
      ],
      "text/latex": [
       "A data.frame: 6 × 1\n",
       "\\begin{tabular}{r|l}\n",
       "  & .\\\\\n",
       "  & <dbl>\\\\\n",
       "\\hline\n",
       "\t1 & 30.55659\\\\\n",
       "\t5 & 28.54003\\\\\n",
       "\t20 & 18.27829\\\\\n",
       "\t29 & 19.56211\\\\\n",
       "\t30 & 21.01693\\\\\n",
       "\t35 & 13.81993\\\\\n",
       "\\end{tabular}\n"
      ],
      "text/markdown": [
       "\n",
       "A data.frame: 6 × 1\n",
       "\n",
       "| <!--/--> | . &lt;dbl&gt; |\n",
       "|---|---|\n",
       "| 1 | 30.55659 |\n",
       "| 5 | 28.54003 |\n",
       "| 20 | 18.27829 |\n",
       "| 29 | 19.56211 |\n",
       "| 30 | 21.01693 |\n",
       "| 35 | 13.81993 |\n",
       "\n"
      ],
      "text/plain": [
       "   .       \n",
       "1  30.55659\n",
       "5  28.54003\n",
       "20 18.27829\n",
       "29 19.56211\n",
       "30 21.01693\n",
       "35 13.81993"
      ]
     },
     "metadata": {},
     "output_type": "display_data"
    },
    {
     "data": {
      "text/html": [
       "<table class=\"dataframe\">\n",
       "<caption>A data.frame: 6 × 1</caption>\n",
       "<thead>\n",
       "\t<tr><th></th><th scope=col>.</th></tr>\n",
       "\t<tr><th></th><th scope=col>&lt;dbl&gt;</th></tr>\n",
       "</thead>\n",
       "<tbody>\n",
       "\t<tr><th scope=row>1</th><td>28.74649</td></tr>\n",
       "\t<tr><th scope=row>2</th><td>31.34932</td></tr>\n",
       "\t<tr><th scope=row>3</th><td>18.86595</td></tr>\n",
       "\t<tr><th scope=row>4</th><td>18.92882</td></tr>\n",
       "\t<tr><th scope=row>5</th><td>19.89660</td></tr>\n",
       "\t<tr><th scope=row>6</th><td>11.69719</td></tr>\n",
       "</tbody>\n",
       "</table>\n"
      ],
      "text/latex": [
       "A data.frame: 6 × 1\n",
       "\\begin{tabular}{r|l}\n",
       "  & .\\\\\n",
       "  & <dbl>\\\\\n",
       "\\hline\n",
       "\t1 & 28.74649\\\\\n",
       "\t2 & 31.34932\\\\\n",
       "\t3 & 18.86595\\\\\n",
       "\t4 & 18.92882\\\\\n",
       "\t5 & 19.89660\\\\\n",
       "\t6 & 11.69719\\\\\n",
       "\\end{tabular}\n"
      ],
      "text/markdown": [
       "\n",
       "A data.frame: 6 × 1\n",
       "\n",
       "| <!--/--> | . &lt;dbl&gt; |\n",
       "|---|---|\n",
       "| 1 | 28.74649 |\n",
       "| 2 | 31.34932 |\n",
       "| 3 | 18.86595 |\n",
       "| 4 | 18.92882 |\n",
       "| 5 | 19.89660 |\n",
       "| 6 | 11.69719 |\n",
       "\n"
      ],
      "text/plain": [
       "  .       \n",
       "1 28.74649\n",
       "2 31.34932\n",
       "3 18.86595\n",
       "4 18.92882\n",
       "5 19.89660\n",
       "6 11.69719"
      ]
     },
     "metadata": {},
     "output_type": "display_data"
    },
    {
     "data": {
      "text/html": [
       "<table class=\"dataframe\">\n",
       "<caption>A data.frame: 6 × 1</caption>\n",
       "<thead>\n",
       "\t<tr><th></th><th scope=col>.</th></tr>\n",
       "\t<tr><th></th><th scope=col>&lt;dbl&gt;</th></tr>\n",
       "</thead>\n",
       "<tbody>\n",
       "\t<tr><th scope=row>1</th><td>27.51304</td></tr>\n",
       "\t<tr><th scope=row>2</th><td>32.13507</td></tr>\n",
       "\t<tr><th scope=row>3</th><td>17.59430</td></tr>\n",
       "\t<tr><th scope=row>4</th><td>19.85926</td></tr>\n",
       "\t<tr><th scope=row>5</th><td>21.01333</td></tr>\n",
       "\t<tr><th scope=row>6</th><td>15.55600</td></tr>\n",
       "</tbody>\n",
       "</table>\n"
      ],
      "text/latex": [
       "A data.frame: 6 × 1\n",
       "\\begin{tabular}{r|l}\n",
       "  & .\\\\\n",
       "  & <dbl>\\\\\n",
       "\\hline\n",
       "\t1 & 27.51304\\\\\n",
       "\t2 & 32.13507\\\\\n",
       "\t3 & 17.59430\\\\\n",
       "\t4 & 19.85926\\\\\n",
       "\t5 & 21.01333\\\\\n",
       "\t6 & 15.55600\\\\\n",
       "\\end{tabular}\n"
      ],
      "text/markdown": [
       "\n",
       "A data.frame: 6 × 1\n",
       "\n",
       "| <!--/--> | . &lt;dbl&gt; |\n",
       "|---|---|\n",
       "| 1 | 27.51304 |\n",
       "| 2 | 32.13507 |\n",
       "| 3 | 17.59430 |\n",
       "| 4 | 19.85926 |\n",
       "| 5 | 21.01333 |\n",
       "| 6 | 15.55600 |\n",
       "\n"
      ],
      "text/plain": [
       "  .       \n",
       "1 27.51304\n",
       "2 32.13507\n",
       "3 17.59430\n",
       "4 19.85926\n",
       "5 21.01333\n",
       "6 15.55600"
      ]
     },
     "metadata": {},
     "output_type": "display_data"
    }
   ],
   "source": [
    "head(test_lm_predicted)\n",
    "head(test_nn_predicted)\n",
    "head(test_nnet_predicted)"
   ]
  },
  {
   "cell_type": "code",
   "execution_count": 61,
   "id": "42bf6927-cf7c-4e89-a05a-019097af980b",
   "metadata": {},
   "outputs": [
    {
     "data": {
      "text/html": [
       "<style>\n",
       ".dl-inline {width: auto; margin:0; padding: 0}\n",
       ".dl-inline>dt, .dl-inline>dd {float: none; width: auto; display: inline-block}\n",
       ".dl-inline>dt::after {content: \":\\0020\"; padding-right: .5ex}\n",
       ".dl-inline>dt:not(:first-of-type) {padding-left: .5ex}\n",
       "</style><dl class=dl-inline><dt>medv1</dt><dd>24</dd><dt>medv2</dt><dd>36.2</dd><dt>medv3</dt><dd>18.2</dd><dt>medv4</dt><dd>18.4</dd><dt>medv5</dt><dd>21</dd><dt>medv6</dt><dd>13.5</dd></dl>\n"
      ],
      "text/latex": [
       "\\begin{description*}\n",
       "\\item[medv1] 24\n",
       "\\item[medv2] 36.2\n",
       "\\item[medv3] 18.2\n",
       "\\item[medv4] 18.4\n",
       "\\item[medv5] 21\n",
       "\\item[medv6] 13.5\n",
       "\\end{description*}\n"
      ],
      "text/markdown": [
       "medv1\n",
       ":   24medv2\n",
       ":   36.2medv3\n",
       ":   18.2medv4\n",
       ":   18.4medv5\n",
       ":   21medv6\n",
       ":   13.5\n",
       "\n"
      ],
      "text/plain": [
       "medv1 medv2 medv3 medv4 medv5 medv6 \n",
       " 24.0  36.2  18.2  18.4  21.0  13.5 "
      ]
     },
     "metadata": {},
     "output_type": "display_data"
    }
   ],
   "source": [
    "test_medv <- subset(data, !split) |> select(medv) |> unlist()\n",
    "head(test_medv)"
   ]
  },
  {
   "cell_type": "code",
   "execution_count": 62,
   "id": "0e8119c5-1130-4643-969b-bc04a899499b",
   "metadata": {},
   "outputs": [
    {
     "data": {
      "text/html": [
       "<table class=\"dataframe\">\n",
       "<caption>A data.frame: 6 × 14</caption>\n",
       "<thead>\n",
       "\t<tr><th></th><th scope=col>crim</th><th scope=col>zn</th><th scope=col>indus</th><th scope=col>chas</th><th scope=col>nox</th><th scope=col>rm</th><th scope=col>age</th><th scope=col>dis</th><th scope=col>rad</th><th scope=col>tax</th><th scope=col>ptratio</th><th scope=col>black</th><th scope=col>lstat</th><th scope=col>medv</th></tr>\n",
       "\t<tr><th></th><th scope=col>&lt;dbl&gt;</th><th scope=col>&lt;dbl&gt;</th><th scope=col>&lt;dbl&gt;</th><th scope=col>&lt;dbl&gt;</th><th scope=col>&lt;dbl&gt;</th><th scope=col>&lt;dbl&gt;</th><th scope=col>&lt;dbl&gt;</th><th scope=col>&lt;dbl&gt;</th><th scope=col>&lt;dbl&gt;</th><th scope=col>&lt;dbl&gt;</th><th scope=col>&lt;dbl&gt;</th><th scope=col>&lt;dbl&gt;</th><th scope=col>&lt;dbl&gt;</th><th scope=col>&lt;dbl&gt;</th></tr>\n",
       "</thead>\n",
       "<tbody>\n",
       "\t<tr><th scope=row>1</th><td>0.0000000000</td><td>0.18</td><td>0.06781525</td><td>0</td><td>0.3148148</td><td>0.5775053</td><td>0.6416066</td><td>0.2692031</td><td>0.00000000</td><td>0.20801527</td><td>0.2872340</td><td>1.0000000</td><td>0.08967991</td><td>0.4222222</td></tr>\n",
       "\t<tr><th scope=row>5</th><td>0.0007050701</td><td>0.00</td><td>0.06304985</td><td>0</td><td>0.1502058</td><td>0.6871048</td><td>0.5283213</td><td>0.4485446</td><td>0.08695652</td><td>0.06679389</td><td>0.6489362</td><td>1.0000000</td><td>0.09933775</td><td>0.6933333</td></tr>\n",
       "\t<tr><th scope=row>20</th><td>0.0080867817</td><td>0.00</td><td>0.28152493</td><td>0</td><td>0.3148148</td><td>0.4150220</td><td>0.6858908</td><td>0.2425138</td><td>0.13043478</td><td>0.22900763</td><td>0.8936170</td><td>0.9849967</td><td>0.26352097</td><td>0.2933333</td></tr>\n",
       "\t<tr><th scope=row>29</th><td>0.0086171860</td><td>0.00</td><td>0.28152493</td><td>0</td><td>0.3148148</td><td>0.5621767</td><td>0.9423275</td><td>0.3023670</td><td>0.13043478</td><td>0.22900763</td><td>0.8936170</td><td>0.9774068</td><td>0.30546358</td><td>0.2977778</td></tr>\n",
       "\t<tr><th scope=row>30</th><td>0.0111962610</td><td>0.00</td><td>0.28152493</td><td>0</td><td>0.3148148</td><td>0.5964744</td><td>0.8692070</td><td>0.2827524</td><td>0.13043478</td><td>0.22900763</td><td>0.8936170</td><td>0.9579656</td><td>0.28283664</td><td>0.3555556</td></tr>\n",
       "\t<tr><th scope=row>35</th><td>0.0180566727</td><td>0.00</td><td>0.28152493</td><td>0</td><td>0.3148148</td><td>0.4857252</td><td>0.9680742</td><td>0.2391765</td><td>0.13043478</td><td>0.22900763</td><td>0.8936170</td><td>0.6253215</td><td>0.51352097</td><td>0.1888889</td></tr>\n",
       "</tbody>\n",
       "</table>\n"
      ],
      "text/latex": [
       "A data.frame: 6 × 14\n",
       "\\begin{tabular}{r|llllllllllllll}\n",
       "  & crim & zn & indus & chas & nox & rm & age & dis & rad & tax & ptratio & black & lstat & medv\\\\\n",
       "  & <dbl> & <dbl> & <dbl> & <dbl> & <dbl> & <dbl> & <dbl> & <dbl> & <dbl> & <dbl> & <dbl> & <dbl> & <dbl> & <dbl>\\\\\n",
       "\\hline\n",
       "\t1 & 0.0000000000 & 0.18 & 0.06781525 & 0 & 0.3148148 & 0.5775053 & 0.6416066 & 0.2692031 & 0.00000000 & 0.20801527 & 0.2872340 & 1.0000000 & 0.08967991 & 0.4222222\\\\\n",
       "\t5 & 0.0007050701 & 0.00 & 0.06304985 & 0 & 0.1502058 & 0.6871048 & 0.5283213 & 0.4485446 & 0.08695652 & 0.06679389 & 0.6489362 & 1.0000000 & 0.09933775 & 0.6933333\\\\\n",
       "\t20 & 0.0080867817 & 0.00 & 0.28152493 & 0 & 0.3148148 & 0.4150220 & 0.6858908 & 0.2425138 & 0.13043478 & 0.22900763 & 0.8936170 & 0.9849967 & 0.26352097 & 0.2933333\\\\\n",
       "\t29 & 0.0086171860 & 0.00 & 0.28152493 & 0 & 0.3148148 & 0.5621767 & 0.9423275 & 0.3023670 & 0.13043478 & 0.22900763 & 0.8936170 & 0.9774068 & 0.30546358 & 0.2977778\\\\\n",
       "\t30 & 0.0111962610 & 0.00 & 0.28152493 & 0 & 0.3148148 & 0.5964744 & 0.8692070 & 0.2827524 & 0.13043478 & 0.22900763 & 0.8936170 & 0.9579656 & 0.28283664 & 0.3555556\\\\\n",
       "\t35 & 0.0180566727 & 0.00 & 0.28152493 & 0 & 0.3148148 & 0.4857252 & 0.9680742 & 0.2391765 & 0.13043478 & 0.22900763 & 0.8936170 & 0.6253215 & 0.51352097 & 0.1888889\\\\\n",
       "\\end{tabular}\n"
      ],
      "text/markdown": [
       "\n",
       "A data.frame: 6 × 14\n",
       "\n",
       "| <!--/--> | crim &lt;dbl&gt; | zn &lt;dbl&gt; | indus &lt;dbl&gt; | chas &lt;dbl&gt; | nox &lt;dbl&gt; | rm &lt;dbl&gt; | age &lt;dbl&gt; | dis &lt;dbl&gt; | rad &lt;dbl&gt; | tax &lt;dbl&gt; | ptratio &lt;dbl&gt; | black &lt;dbl&gt; | lstat &lt;dbl&gt; | medv &lt;dbl&gt; |\n",
       "|---|---|---|---|---|---|---|---|---|---|---|---|---|---|---|\n",
       "| 1 | 0.0000000000 | 0.18 | 0.06781525 | 0 | 0.3148148 | 0.5775053 | 0.6416066 | 0.2692031 | 0.00000000 | 0.20801527 | 0.2872340 | 1.0000000 | 0.08967991 | 0.4222222 |\n",
       "| 5 | 0.0007050701 | 0.00 | 0.06304985 | 0 | 0.1502058 | 0.6871048 | 0.5283213 | 0.4485446 | 0.08695652 | 0.06679389 | 0.6489362 | 1.0000000 | 0.09933775 | 0.6933333 |\n",
       "| 20 | 0.0080867817 | 0.00 | 0.28152493 | 0 | 0.3148148 | 0.4150220 | 0.6858908 | 0.2425138 | 0.13043478 | 0.22900763 | 0.8936170 | 0.9849967 | 0.26352097 | 0.2933333 |\n",
       "| 29 | 0.0086171860 | 0.00 | 0.28152493 | 0 | 0.3148148 | 0.5621767 | 0.9423275 | 0.3023670 | 0.13043478 | 0.22900763 | 0.8936170 | 0.9774068 | 0.30546358 | 0.2977778 |\n",
       "| 30 | 0.0111962610 | 0.00 | 0.28152493 | 0 | 0.3148148 | 0.5964744 | 0.8692070 | 0.2827524 | 0.13043478 | 0.22900763 | 0.8936170 | 0.9579656 | 0.28283664 | 0.3555556 |\n",
       "| 35 | 0.0180566727 | 0.00 | 0.28152493 | 0 | 0.3148148 | 0.4857252 | 0.9680742 | 0.2391765 | 0.13043478 | 0.22900763 | 0.8936170 | 0.6253215 | 0.51352097 | 0.1888889 |\n",
       "\n"
      ],
      "text/plain": [
       "   crim         zn   indus      chas nox       rm        age       dis      \n",
       "1  0.0000000000 0.18 0.06781525 0    0.3148148 0.5775053 0.6416066 0.2692031\n",
       "5  0.0007050701 0.00 0.06304985 0    0.1502058 0.6871048 0.5283213 0.4485446\n",
       "20 0.0080867817 0.00 0.28152493 0    0.3148148 0.4150220 0.6858908 0.2425138\n",
       "29 0.0086171860 0.00 0.28152493 0    0.3148148 0.5621767 0.9423275 0.3023670\n",
       "30 0.0111962610 0.00 0.28152493 0    0.3148148 0.5964744 0.8692070 0.2827524\n",
       "35 0.0180566727 0.00 0.28152493 0    0.3148148 0.4857252 0.9680742 0.2391765\n",
       "   rad        tax        ptratio   black     lstat      medv     \n",
       "1  0.00000000 0.20801527 0.2872340 1.0000000 0.08967991 0.4222222\n",
       "5  0.08695652 0.06679389 0.6489362 1.0000000 0.09933775 0.6933333\n",
       "20 0.13043478 0.22900763 0.8936170 0.9849967 0.26352097 0.2933333\n",
       "29 0.13043478 0.22900763 0.8936170 0.9774068 0.30546358 0.2977778\n",
       "30 0.13043478 0.22900763 0.8936170 0.9579656 0.28283664 0.3555556\n",
       "35 0.13043478 0.22900763 0.8936170 0.6253215 0.51352097 0.1888889"
      ]
     },
     "metadata": {},
     "output_type": "display_data"
    }
   ],
   "source": [
    "head(test_data)"
   ]
  },
  {
   "cell_type": "code",
   "execution_count": 63,
   "id": "da4c72d7-c927-41da-b424-421b4221401e",
   "metadata": {},
   "outputs": [
    {
     "name": "stderr",
     "output_type": "stream",
     "text": [
      "Your code contains a unicode char which cannot be displayed in your\n",
      "current locale and R will silently convert it to an escaped form when the\n",
      "R kernel executes this code. This can lead to subtle errors if you use\n",
      "such chars to do comparisons. For more information, please see\n",
      "https://github.com/IRkernel/repr/wiki/Problems-with-unicode-on-windows"
     ]
    },
    {
     "data": {
      "image/png": "[encoded data removed]",
      "text/plain": [
       "Plot with title \"Real vs predicted NNET\""
      ]
     },
     "metadata": {
      "image/png": {
       "height": 420,
       "width": 420
      }
     },
     "output_type": "display_data"
    }
   ],
   "source": [
    "#Однакові межі для усіх графіків по Y\n",
    "plot_ylim <- c(5,40)\n",
    "\n",
    "par(mfrow=c(1,3)) # три стовпці, 1 рядок\n",
    "# pch  - тип точки для графіку\n",
    "plot(test_medv, test_lm_predicted[,1], col='black', ylim=plot_ylim, main='Real vs predicted LM', pch=25, cex=0.7)\n",
    "abline(0,1,lwd=2)\n",
    "legend('bottomright',legend='LM',pch=25,col='black', bty='n')\n",
    "\n",
    "plot(test_medv,test_nn_predicted[,1], col='red', ylim=plot_ylim, main='Real vs predicted NN',pch=18,cex=0.7)\n",
    "abline(0,1,lwd=2)\n",
    "legend('bottomright',legend='NN',pch=18,col='red', bty='n')\n",
    "\n",
    "plot(test_medv,test_nnet_predicted[,1], col='blue', ylim=plot_ylim, main='Real vs predicted NNET',pch=18,cex=0.7)\n",
    "abline(0,1,lwd=2)\n",
    "\n",
    "legend('bottomright',legend='NNET',pch=18, col='black', bty='n')\n"
   ]
  },
  {
   "cell_type": "markdown",
   "id": "a2944d76-304c-4be0-969d-264f04b6cc82",
   "metadata": {},
   "source": [
    "Combine all to one chart:"
   ]
  },
  {
   "cell_type": "code",
   "execution_count": 64,
   "id": "20eba1eb-94ec-49fc-9206-a16ad0dc07ee",
   "metadata": {},
   "outputs": [
    {
     "data": {
      "image/png": "[encoded data removed]",
      "text/plain": [
       "Plot with title \"Real vs predicted NN + LM\""
      ]
     },
     "metadata": {
      "image/png": {
       "height": 420,
       "width": 420
      }
     },
     "output_type": "display_data"
    }
   ],
   "source": [
    "par(mfrow=c(1,1))\n",
    "\n",
    "plot(test_medv,test_lm_predicted[,1],col='black',main='Real vs predicted NN + LM',pch=25,cex=0.7)\n",
    "points(test_medv,test_nn_predicted[,1],col='red',pch=19,cex=0.7)\n",
    "points(test_medv,test_nnet_predicted[,1],col='blue',pch=18,cex=0.7)\n",
    "abline(0,1,lwd=2)\n",
    "legend('bottomright',legend=c('lm','neuralnet','nnet'),pch=c(25,19,18),col=c('black', 'red','blue'))"
   ]
  },
  {
   "cell_type": "markdown",
   "id": "134b02cb-4b69-4eb8-92c3-6c227cc5676f",
   "metadata": {},
   "source": [
    "---"
   ]
  },
  {
   "cell_type": "markdown",
   "id": "76e2948c-cf61-451d-a5e4-ca63f20e3d4e",
   "metadata": {},
   "source": [
    "## Валідація моделі на різних розмірах вибірки"
   ]
  },
  {
   "cell_type": "code",
   "execution_count": 65,
   "id": "0219b6db-9330-468d-bbef-1ca52293aae6",
   "metadata": {},
   "outputs": [
    {
     "name": "stderr",
     "output_type": "stream",
     "text": [
      "\n",
      "Attaching package: 'boot'\n",
      "\n",
      "\n",
      "The following object is masked from 'package:lattice':\n",
      "\n",
      "    melanoma\n",
      "\n",
      "\n",
      "------------------------------------------------------------------------------\n",
      "\n",
      "You have loaded plyr after dplyr - this is likely to cause problems.\n",
      "If you need functions from both plyr and dplyr, please load plyr first, then dplyr:\n",
      "library(plyr); library(dplyr)\n",
      "\n",
      "------------------------------------------------------------------------------\n",
      "\n",
      "\n",
      "Attaching package: 'plyr'\n",
      "\n",
      "\n",
      "The following objects are masked from 'package:reshape':\n",
      "\n",
      "    rename, round_any\n",
      "\n",
      "\n",
      "The following objects are masked from 'package:dplyr':\n",
      "\n",
      "    arrange, count, desc, failwith, id, mutate, rename, summarise,\n",
      "    summarize\n",
      "\n",
      "\n",
      "Loading required package: grid\n",
      "\n",
      "Registered S3 method overwritten by 'quantmod':\n",
      "  method            from\n",
      "  as.zoo.data.frame zoo \n",
      "\n",
      "\n",
      "Attaching package: 'DMwR'\n",
      "\n",
      "\n",
      "The following object is masked from 'package:plyr':\n",
      "\n",
      "    join\n",
      "\n",
      "\n",
      "The following object is masked from 'package:modelr':\n",
      "\n",
      "    bootstrap\n",
      "\n",
      "\n"
     ]
    }
   ],
   "source": [
    "suppressMessages(library(boot))\n",
    "suppressMessages(library(plyr))\n",
    "suppressMessages(library(DMwR))\n",
    "\n",
    "set.seed(2023)\n",
    "errors <- data.frame(TrainSize = c(1:90), RMSE1 = c(0), RMSE2 = c(0))\n",
    "\n",
    "for(i in 1:10) {\n",
    "\n",
    "    for(j in 1:90){\n",
    "  \n",
    "      split <- c(1:(nrow(scaled_data)*j/100))\n",
    "  \n",
    "      train_data <- scaled_data[split,]\n",
    "      test_data <- scaled_data[-split,]\n",
    "  \n",
    "      nnet_model <- nnet(formula, data = train_data,  size = 3, maxit = 100, trace = F)\n",
    "  \n",
    "      nnet_predicted_prob_scaled <- predict(nnet_model, test_data)\n",
    "      nnet_predicted <- nnet_predicted_prob_scaled * (max(data$medv) - min(data$medv)) + min(data$medv)\n",
    "  \n",
    "      errors_list <- regr.eval(test_data$medv, nnet_predicted)\n",
    "  \n",
    "      errors[errors$TrainSize == j, ]$RMSE1 <- errors[errors$TrainSize == j, ]$RMSE1 + errors_list[3]\n",
    "    }\n",
    "}\n"
   ]
  },
  {
   "cell_type": "code",
   "execution_count": 66,
   "id": "4d12aced-3821-4979-84c3-58455c6520fe",
   "metadata": {},
   "outputs": [
    {
     "data": {
      "image/png": "[encoded data removed]",
      "text/plain": [
       "Plot with title \"Variation of RMSE with length of training set\""
      ]
     },
     "metadata": {
      "image/png": {
       "height": 420,
       "width": 420
      }
     },
     "output_type": "display_data"
    }
   ],
   "source": [
    "errors$RMSE1 <- errors$RMSE1/10\n",
    "plot (x = errors$TrainSize, \n",
    "      y = errors$RMSE1, \n",
    "      ylim = c(min(errors$RMSE1), \n",
    "               max(errors$RMSE1)), \n",
    "      type = \"l\", \n",
    "      xlab = \"length of training set\", \n",
    "      ylab = \"mean RMSE\", \n",
    "      main = \"Variation of RMSE with length of training set\")"
   ]
  },
  {
   "cell_type": "code",
   "execution_count": 67,
   "id": "4fd893d9-0d85-442a-bb05-8922f11d7043",
   "metadata": {},
   "outputs": [],
   "source": [
    "for(i in 1:10) {\n",
    "  \n",
    "  for(j in 1:90){\n",
    "    \n",
    "    split <- sample.split(scaled_data$medv, SplitRatio = j/100)\n",
    "    \n",
    "    train_data <- subset(scaled_data, split == TRUE)\n",
    "    test_data <- subset(scaled_data, split == FALSE)\n",
    "    \n",
    "    nnet_model <- nnet(formula, data = train_data,  size = 3, maxit = 100, trace = F)\n",
    "    \n",
    "    nnet_predicted_prob_scaled <- predict(nnet_model, test_data)\n",
    "    nnet_predicted <- nnet_predicted_prob_scaled * (max(data$medv) - min(data$medv)) + min(data$medv)\n",
    "      \n",
    "    errors_list <- regr.eval(test_data$medv, nnet_predicted)\n",
    "    \n",
    "    errors[errors$TrainSize == j, ]$RMSE2 <- errors[errors$TrainSize == j, ]$RMSE2 + errors_list[3]\n",
    "  }\n",
    "}"
   ]
  },
  {
   "cell_type": "code",
   "execution_count": 68,
   "id": "996b49dd-cdc5-49ff-832a-0be99e3b95af",
   "metadata": {},
   "outputs": [
    {
     "data": {
      "image/png": "[encoded data removed]",
      "text/plain": [
       "Plot with title \"Variation of RMSE with length of training set\""
      ]
     },
     "metadata": {
      "image/png": {
       "height": 420,
       "width": 420
      }
     },
     "output_type": "display_data"
    }
   ],
   "source": [
    "errors$RMSE2 <- errors$RMSE2/10\n",
    "plot (x = errors$TrainSize, \n",
    "      y = errors$RMSE2, \n",
    "      ylim = c(min(errors$RMSE2), \n",
    "               max(errors$RMSE2)), \n",
    "      type = \"l\", \n",
    "      xlab = \"length of training set\", \n",
    "      ylab = \"mean RMSE\", \n",
    "      main = \"Variation of RMSE with length of training set\")"
   ]
  },
  {
   "cell_type": "code",
   "execution_count": 69,
   "id": "9959d7ed-e589-4c24-a146-8e4eca7e24b4",
   "metadata": {},
   "outputs": [
    {
     "data": {
      "text/html": [
       "<table class=\"dataframe\">\n",
       "<caption>A data.frame: 6 × 3</caption>\n",
       "<thead>\n",
       "\t<tr><th></th><th scope=col>TrainSize</th><th scope=col>RMSE1</th><th scope=col>RMSE2</th></tr>\n",
       "\t<tr><th></th><th scope=col>&lt;int&gt;</th><th scope=col>&lt;dbl&gt;</th><th scope=col>&lt;dbl&gt;</th></tr>\n",
       "</thead>\n",
       "<tbody>\n",
       "\t<tr><th scope=row>1</th><td>1</td><td>22.65845</td><td>22.34442</td></tr>\n",
       "\t<tr><th scope=row>2</th><td>2</td><td>32.76667</td><td>22.23155</td></tr>\n",
       "\t<tr><th scope=row>3</th><td>3</td><td>30.06977</td><td>22.14714</td></tr>\n",
       "\t<tr><th scope=row>4</th><td>4</td><td>34.59365</td><td>22.05084</td></tr>\n",
       "\t<tr><th scope=row>5</th><td>5</td><td>29.49516</td><td>22.39201</td></tr>\n",
       "\t<tr><th scope=row>6</th><td>6</td><td>27.93207</td><td>22.22010</td></tr>\n",
       "</tbody>\n",
       "</table>\n"
      ],
      "text/latex": [
       "A data.frame: 6 × 3\n",
       "\\begin{tabular}{r|lll}\n",
       "  & TrainSize & RMSE1 & RMSE2\\\\\n",
       "  & <int> & <dbl> & <dbl>\\\\\n",
       "\\hline\n",
       "\t1 & 1 & 22.65845 & 22.34442\\\\\n",
       "\t2 & 2 & 32.76667 & 22.23155\\\\\n",
       "\t3 & 3 & 30.06977 & 22.14714\\\\\n",
       "\t4 & 4 & 34.59365 & 22.05084\\\\\n",
       "\t5 & 5 & 29.49516 & 22.39201\\\\\n",
       "\t6 & 6 & 27.93207 & 22.22010\\\\\n",
       "\\end{tabular}\n"
      ],
      "text/markdown": [
       "\n",
       "A data.frame: 6 × 3\n",
       "\n",
       "| <!--/--> | TrainSize &lt;int&gt; | RMSE1 &lt;dbl&gt; | RMSE2 &lt;dbl&gt; |\n",
       "|---|---|---|---|\n",
       "| 1 | 1 | 22.65845 | 22.34442 |\n",
       "| 2 | 2 | 32.76667 | 22.23155 |\n",
       "| 3 | 3 | 30.06977 | 22.14714 |\n",
       "| 4 | 4 | 34.59365 | 22.05084 |\n",
       "| 5 | 5 | 29.49516 | 22.39201 |\n",
       "| 6 | 6 | 27.93207 | 22.22010 |\n",
       "\n"
      ],
      "text/plain": [
       "  TrainSize RMSE1    RMSE2   \n",
       "1 1         22.65845 22.34442\n",
       "2 2         32.76667 22.23155\n",
       "3 3         30.06977 22.14714\n",
       "4 4         34.59365 22.05084\n",
       "5 5         29.49516 22.39201\n",
       "6 6         27.93207 22.22010"
      ]
     },
     "metadata": {},
     "output_type": "display_data"
    }
   ],
   "source": [
    "head(errors)"
   ]
  },
  {
   "cell_type": "markdown",
   "id": "a51885bf-deb7-4c66-a09c-c1da94798b8f",
   "metadata": {},
   "source": [
    "---"
   ]
  },
  {
   "cell_type": "code",
   "execution_count": 70,
   "id": "fb5edfac-35f2-4db9-8d85-b3273b52ebc3",
   "metadata": {},
   "outputs": [],
   "source": [
    "require(caret)"
   ]
  },
  {
   "cell_type": "code",
   "execution_count": 71,
   "id": "9907654b-c5be-422e-a283-a096fd2d2a76",
   "metadata": {},
   "outputs": [],
   "source": [
    "folds <- createFolds(scaled_data$medv, k = 10, list = TRUE, returnTrain = FALSE)\n",
    "errors2 <- data.frame(FoldExcluded = c(1:10), RMSE = c(0))"
   ]
  },
  {
   "cell_type": "code",
   "execution_count": 72,
   "id": "d11f14b5-ef64-42b3-ad6a-dcc6bf495b38",
   "metadata": {},
   "outputs": [
    {
     "data": {
      "text/html": [
       "<dl>\n",
       "\t<dt>$Fold01</dt>\n",
       "\t\t<dd><style>\n",
       ".list-inline {list-style: none; margin:0; padding: 0}\n",
       ".list-inline>li {display: inline-block}\n",
       ".list-inline>li:not(:last-child)::after {content: \"\\00b7\"; padding: 0 .5ex}\n",
       "</style>\n",
       "<ol class=list-inline><li>16</li><li>20</li><li>21</li><li>39</li><li>46</li><li>47</li><li>48</li><li>56</li><li>69</li><li>91</li><li>120</li><li>127</li><li>132</li><li>143</li><li>151</li><li>186</li><li>187</li><li>191</li><li>196</li><li>227</li><li>231</li><li>236</li><li>239</li><li>252</li><li>258</li><li>259</li><li>279</li><li>280</li><li>289</li><li>314</li><li>320</li><li>335</li><li>337</li><li>350</li><li>352</li><li>360</li><li>372</li><li>373</li><li>380</li><li>385</li><li>392</li><li>409</li><li>415</li><li>419</li><li>420</li><li>431</li><li>439</li><li>445</li><li>452</li><li>468</li><li>484</li><li>486</li></ol>\n",
       "</dd>\n",
       "\t<dt>$Fold02</dt>\n",
       "\t\t<dd><style>\n",
       ".list-inline {list-style: none; margin:0; padding: 0}\n",
       ".list-inline>li {display: inline-block}\n",
       ".list-inline>li:not(:last-child)::after {content: \"\\00b7\"; padding: 0 .5ex}\n",
       "</style>\n",
       "<ol class=list-inline><li>5</li><li>15</li><li>22</li><li>23</li><li>33</li><li>34</li><li>35</li><li>52</li><li>79</li><li>80</li><li>88</li><li>97</li><li>98</li><li>126</li><li>130</li><li>135</li><li>160</li><li>168</li><li>184</li><li>205</li><li>230</li><li>243</li><li>253</li><li>261</li><li>263</li><li>267</li><li>270</li><li>273</li><li>304</li><li>313</li><li>319</li><li>354</li><li>366</li><li>387</li><li>389</li><li>411</li><li>422</li><li>423</li><li>440</li><li>451</li><li>454</li><li>463</li><li>467</li><li>478</li><li>480</li><li>482</li><li>483</li><li>498</li><li>504</li></ol>\n",
       "</dd>\n",
       "\t<dt>$Fold03</dt>\n",
       "\t\t<dd><style>\n",
       ".list-inline {list-style: none; margin:0; padding: 0}\n",
       ".list-inline>li {display: inline-block}\n",
       ".list-inline>li:not(:last-child)::after {content: \"\\00b7\"; padding: 0 .5ex}\n",
       "</style>\n",
       "<ol class=list-inline><li>4</li><li>17</li><li>26</li><li>38</li><li>53</li><li>70</li><li>71</li><li>82</li><li>86</li><li>100</li><li>104</li><li>128</li><li>133</li><li>134</li><li>141</li><li>147</li><li>201</li><li>208</li><li>209</li><li>212</li><li>214</li><li>217</li><li>224</li><li>246</li><li>269</li><li>274</li><li>305</li><li>325</li><li>326</li><li>332</li><li>341</li><li>348</li><li>353</li><li>355</li><li>356</li><li>362</li><li>365</li><li>369</li><li>370</li><li>377</li><li>382</li><li>390</li><li>400</li><li>404</li><li>407</li><li>408</li><li>417</li><li>418</li><li>470</li><li>495</li><li>501</li></ol>\n",
       "</dd>\n",
       "\t<dt>$Fold04</dt>\n",
       "\t\t<dd><style>\n",
       ".list-inline {list-style: none; margin:0; padding: 0}\n",
       ".list-inline>li {display: inline-block}\n",
       ".list-inline>li:not(:last-child)::after {content: \"\\00b7\"; padding: 0 .5ex}\n",
       "</style>\n",
       "<ol class=list-inline><li>3</li><li>9</li><li>28</li><li>68</li><li>72</li><li>77</li><li>87</li><li>89</li><li>93</li><li>95</li><li>131</li><li>139</li><li>140</li><li>144</li><li>163</li><li>195</li><li>197</li><li>204</li><li>213</li><li>229</li><li>233</li><li>248</li><li>254</li><li>284</li><li>290</li><li>291</li><li>299</li><li>300</li><li>301</li><li>303</li><li>316</li><li>317</li><li>318</li><li>327</li><li>329</li><li>333</li><li>339</li><li>342</li><li>346</li><li>349</li><li>351</li><li>363</li><li>391</li><li>393</li><li>399</li><li>406</li><li>426</li><li>441</li><li>450</li><li>472</li><li>473</li><li>476</li></ol>\n",
       "</dd>\n",
       "\t<dt>$Fold05</dt>\n",
       "\t\t<dd><style>\n",
       ".list-inline {list-style: none; margin:0; padding: 0}\n",
       ".list-inline>li {display: inline-block}\n",
       ".list-inline>li:not(:last-child)::after {content: \"\\00b7\"; padding: 0 .5ex}\n",
       "</style>\n",
       "<ol class=list-inline><li>55</li><li>76</li><li>85</li><li>94</li><li>113</li><li>117</li><li>118</li><li>125</li><li>142</li><li>156</li><li>157</li><li>159</li><li>167</li><li>170</li><li>172</li><li>179</li><li>189</li><li>190</li><li>192</li><li>194</li><li>203</li><li>221</li><li>240</li><li>262</li><li>272</li><li>285</li><li>286</li><li>310</li><li>324</li><li>330</li><li>338</li><li>344</li><li>358</li><li>368</li><li>371</li><li>388</li><li>414</li><li>425</li><li>427</li><li>429</li><li>434</li><li>449</li><li>459</li><li>475</li><li>493</li><li>497</li><li>500</li><li>503</li><li>505</li></ol>\n",
       "</dd>\n",
       "\t<dt>$Fold06</dt>\n",
       "\t\t<dd><style>\n",
       ".list-inline {list-style: none; margin:0; padding: 0}\n",
       ".list-inline>li {display: inline-block}\n",
       ".list-inline>li:not(:last-child)::after {content: \"\\00b7\"; padding: 0 .5ex}\n",
       "</style>\n",
       "<ol class=list-inline><li>11</li><li>13</li><li>14</li><li>41</li><li>42</li><li>45</li><li>57</li><li>62</li><li>63</li><li>106</li><li>108</li><li>114</li><li>116</li><li>119</li><li>121</li><li>136</li><li>137</li><li>153</li><li>171</li><li>176</li><li>177</li><li>199</li><li>202</li><li>207</li><li>215</li><li>223</li><li>226</li><li>234</li><li>235</li><li>244</li><li>257</li><li>281</li><li>282</li><li>288</li><li>292</li><li>302</li><li>307</li><li>312</li><li>334</li><li>336</li><li>379</li><li>395</li><li>413</li><li>428</li><li>433</li><li>435</li><li>444</li><li>446</li><li>453</li><li>456</li><li>485</li></ol>\n",
       "</dd>\n",
       "\t<dt>$Fold07</dt>\n",
       "\t\t<dd><style>\n",
       ".list-inline {list-style: none; margin:0; padding: 0}\n",
       ".list-inline>li {display: inline-block}\n",
       ".list-inline>li:not(:last-child)::after {content: \"\\00b7\"; padding: 0 .5ex}\n",
       "</style>\n",
       "<ol class=list-inline><li>1</li><li>7</li><li>10</li><li>12</li><li>27</li><li>30</li><li>40</li><li>58</li><li>60</li><li>73</li><li>74</li><li>78</li><li>81</li><li>83</li><li>92</li><li>96</li><li>152</li><li>154</li><li>158</li><li>162</li><li>169</li><li>206</li><li>210</li><li>216</li><li>218</li><li>237</li><li>242</li><li>245</li><li>249</li><li>260</li><li>266</li><li>276</li><li>293</li><li>295</li><li>311</li><li>321</li><li>345</li><li>347</li><li>357</li><li>378</li><li>383</li><li>386</li><li>405</li><li>424</li><li>438</li><li>447</li><li>448</li><li>455</li><li>457</li><li>458</li><li>460</li></ol>\n",
       "</dd>\n",
       "\t<dt>$Fold08</dt>\n",
       "\t\t<dd><style>\n",
       ".list-inline {list-style: none; margin:0; padding: 0}\n",
       ".list-inline>li {display: inline-block}\n",
       ".list-inline>li:not(:last-child)::after {content: \"\\00b7\"; padding: 0 .5ex}\n",
       "</style>\n",
       "<ol class=list-inline><li>8</li><li>24</li><li>29</li><li>32</li><li>43</li><li>102</li><li>105</li><li>110</li><li>111</li><li>112</li><li>123</li><li>124</li><li>146</li><li>149</li><li>165</li><li>166</li><li>173</li><li>175</li><li>181</li><li>183</li><li>200</li><li>220</li><li>222</li><li>225</li><li>247</li><li>251</li><li>264</li><li>271</li><li>278</li><li>283</li><li>287</li><li>296</li><li>297</li><li>331</li><li>340</li><li>359</li><li>364</li><li>376</li><li>394</li><li>398</li><li>432</li><li>443</li><li>461</li><li>469</li><li>479</li><li>488</li><li>490</li><li>491</li><li>496</li><li>506</li></ol>\n",
       "</dd>\n",
       "\t<dt>$Fold09</dt>\n",
       "\t\t<dd><style>\n",
       ".list-inline {list-style: none; margin:0; padding: 0}\n",
       ".list-inline>li {display: inline-block}\n",
       ".list-inline>li:not(:last-child)::after {content: \"\\00b7\"; padding: 0 .5ex}\n",
       "</style>\n",
       "<ol class=list-inline><li>6</li><li>18</li><li>19</li><li>25</li><li>36</li><li>50</li><li>54</li><li>59</li><li>61</li><li>66</li><li>90</li><li>99</li><li>103</li><li>107</li><li>109</li><li>155</li><li>161</li><li>164</li><li>174</li><li>178</li><li>180</li><li>182</li><li>198</li><li>211</li><li>219</li><li>250</li><li>265</li><li>275</li><li>306</li><li>328</li><li>361</li><li>367</li><li>375</li><li>381</li><li>384</li><li>396</li><li>397</li><li>402</li><li>403</li><li>412</li><li>416</li><li>437</li><li>442</li><li>464</li><li>465</li><li>466</li><li>471</li><li>477</li><li>481</li><li>502</li></ol>\n",
       "</dd>\n",
       "\t<dt>$Fold10</dt>\n",
       "\t\t<dd><style>\n",
       ".list-inline {list-style: none; margin:0; padding: 0}\n",
       ".list-inline>li {display: inline-block}\n",
       ".list-inline>li:not(:last-child)::after {content: \"\\00b7\"; padding: 0 .5ex}\n",
       "</style>\n",
       "<ol class=list-inline><li>2</li><li>31</li><li>37</li><li>44</li><li>49</li><li>51</li><li>64</li><li>65</li><li>67</li><li>75</li><li>84</li><li>101</li><li>115</li><li>122</li><li>129</li><li>138</li><li>145</li><li>148</li><li>150</li><li>185</li><li>188</li><li>193</li><li>228</li><li>232</li><li>238</li><li>241</li><li>255</li><li>256</li><li>268</li><li>277</li><li>294</li><li>298</li><li>308</li><li>309</li><li>315</li><li>322</li><li>323</li><li>343</li><li>374</li><li>401</li><li>410</li><li>421</li><li>430</li><li>436</li><li>462</li><li>474</li><li>487</li><li>489</li><li>492</li><li>494</li><li>499</li></ol>\n",
       "</dd>\n",
       "</dl>\n"
      ],
      "text/latex": [
       "\\begin{description}\n",
       "\\item[\\$Fold01] \\begin{enumerate*}\n",
       "\\item 16\n",
       "\\item 20\n",
       "\\item 21\n",
       "\\item 39\n",
       "\\item 46\n",
       "\\item 47\n",
       "\\item 48\n",
       "\\item 56\n",
       "\\item 69\n",
       "\\item 91\n",
       "\\item 120\n",
       "\\item 127\n",
       "\\item 132\n",
       "\\item 143\n",
       "\\item 151\n",
       "\\item 186\n",
       "\\item 187\n",
       "\\item 191\n",
       "\\item 196\n",
       "\\item 227\n",
       "\\item 231\n",
       "\\item 236\n",
       "\\item 239\n",
       "\\item 252\n",
       "\\item 258\n",
       "\\item 259\n",
       "\\item 279\n",
       "\\item 280\n",
       "\\item 289\n",
       "\\item 314\n",
       "\\item 320\n",
       "\\item 335\n",
       "\\item 337\n",
       "\\item 350\n",
       "\\item 352\n",
       "\\item 360\n",
       "\\item 372\n",
       "\\item 373\n",
       "\\item 380\n",
       "\\item 385\n",
       "\\item 392\n",
       "\\item 409\n",
       "\\item 415\n",
       "\\item 419\n",
       "\\item 420\n",
       "\\item 431\n",
       "\\item 439\n",
       "\\item 445\n",
       "\\item 452\n",
       "\\item 468\n",
       "\\item 484\n",
       "\\item 486\n",
       "\\end{enumerate*}\n",
       "\n",
       "\\item[\\$Fold02] \\begin{enumerate*}\n",
       "\\item 5\n",
       "\\item 15\n",
       "\\item 22\n",
       "\\item 23\n",
       "\\item 33\n",
       "\\item 34\n",
       "\\item 35\n",
       "\\item 52\n",
       "\\item 79\n",
       "\\item 80\n",
       "\\item 88\n",
       "\\item 97\n",
       "\\item 98\n",
       "\\item 126\n",
       "\\item 130\n",
       "\\item 135\n",
       "\\item 160\n",
       "\\item 168\n",
       "\\item 184\n",
       "\\item 205\n",
       "\\item 230\n",
       "\\item 243\n",
       "\\item 253\n",
       "\\item 261\n",
       "\\item 263\n",
       "\\item 267\n",
       "\\item 270\n",
       "\\item 273\n",
       "\\item 304\n",
       "\\item 313\n",
       "\\item 319\n",
       "\\item 354\n",
       "\\item 366\n",
       "\\item 387\n",
       "\\item 389\n",
       "\\item 411\n",
       "\\item 422\n",
       "\\item 423\n",
       "\\item 440\n",
       "\\item 451\n",
       "\\item 454\n",
       "\\item 463\n",
       "\\item 467\n",
       "\\item 478\n",
       "\\item 480\n",
       "\\item 482\n",
       "\\item 483\n",
       "\\item 498\n",
       "\\item 504\n",
       "\\end{enumerate*}\n",
       "\n",
       "\\item[\\$Fold03] \\begin{enumerate*}\n",
       "\\item 4\n",
       "\\item 17\n",
       "\\item 26\n",
       "\\item 38\n",
       "\\item 53\n",
       "\\item 70\n",
       "\\item 71\n",
       "\\item 82\n",
       "\\item 86\n",
       "\\item 100\n",
       "\\item 104\n",
       "\\item 128\n",
       "\\item 133\n",
       "\\item 134\n",
       "\\item 141\n",
       "\\item 147\n",
       "\\item 201\n",
       "\\item 208\n",
       "\\item 209\n",
       "\\item 212\n",
       "\\item 214\n",
       "\\item 217\n",
       "\\item 224\n",
       "\\item 246\n",
       "\\item 269\n",
       "\\item 274\n",
       "\\item 305\n",
       "\\item 325\n",
       "\\item 326\n",
       "\\item 332\n",
       "\\item 341\n",
       "\\item 348\n",
       "\\item 353\n",
       "\\item 355\n",
       "\\item 356\n",
       "\\item 362\n",
       "\\item 365\n",
       "\\item 369\n",
       "\\item 370\n",
       "\\item 377\n",
       "\\item 382\n",
       "\\item 390\n",
       "\\item 400\n",
       "\\item 404\n",
       "\\item 407\n",
       "\\item 408\n",
       "\\item 417\n",
       "\\item 418\n",
       "\\item 470\n",
       "\\item 495\n",
       "\\item 501\n",
       "\\end{enumerate*}\n",
       "\n",
       "\\item[\\$Fold04] \\begin{enumerate*}\n",
       "\\item 3\n",
       "\\item 9\n",
       "\\item 28\n",
       "\\item 68\n",
       "\\item 72\n",
       "\\item 77\n",
       "\\item 87\n",
       "\\item 89\n",
       "\\item 93\n",
       "\\item 95\n",
       "\\item 131\n",
       "\\item 139\n",
       "\\item 140\n",
       "\\item 144\n",
       "\\item 163\n",
       "\\item 195\n",
       "\\item 197\n",
       "\\item 204\n",
       "\\item 213\n",
       "\\item 229\n",
       "\\item 233\n",
       "\\item 248\n",
       "\\item 254\n",
       "\\item 284\n",
       "\\item 290\n",
       "\\item 291\n",
       "\\item 299\n",
       "\\item 300\n",
       "\\item 301\n",
       "\\item 303\n",
       "\\item 316\n",
       "\\item 317\n",
       "\\item 318\n",
       "\\item 327\n",
       "\\item 329\n",
       "\\item 333\n",
       "\\item 339\n",
       "\\item 342\n",
       "\\item 346\n",
       "\\item 349\n",
       "\\item 351\n",
       "\\item 363\n",
       "\\item 391\n",
       "\\item 393\n",
       "\\item 399\n",
       "\\item 406\n",
       "\\item 426\n",
       "\\item 441\n",
       "\\item 450\n",
       "\\item 472\n",
       "\\item 473\n",
       "\\item 476\n",
       "\\end{enumerate*}\n",
       "\n",
       "\\item[\\$Fold05] \\begin{enumerate*}\n",
       "\\item 55\n",
       "\\item 76\n",
       "\\item 85\n",
       "\\item 94\n",
       "\\item 113\n",
       "\\item 117\n",
       "\\item 118\n",
       "\\item 125\n",
       "\\item 142\n",
       "\\item 156\n",
       "\\item 157\n",
       "\\item 159\n",
       "\\item 167\n",
       "\\item 170\n",
       "\\item 172\n",
       "\\item 179\n",
       "\\item 189\n",
       "\\item 190\n",
       "\\item 192\n",
       "\\item 194\n",
       "\\item 203\n",
       "\\item 221\n",
       "\\item 240\n",
       "\\item 262\n",
       "\\item 272\n",
       "\\item 285\n",
       "\\item 286\n",
       "\\item 310\n",
       "\\item 324\n",
       "\\item 330\n",
       "\\item 338\n",
       "\\item 344\n",
       "\\item 358\n",
       "\\item 368\n",
       "\\item 371\n",
       "\\item 388\n",
       "\\item 414\n",
       "\\item 425\n",
       "\\item 427\n",
       "\\item 429\n",
       "\\item 434\n",
       "\\item 449\n",
       "\\item 459\n",
       "\\item 475\n",
       "\\item 493\n",
       "\\item 497\n",
       "\\item 500\n",
       "\\item 503\n",
       "\\item 505\n",
       "\\end{enumerate*}\n",
       "\n",
       "\\item[\\$Fold06] \\begin{enumerate*}\n",
       "\\item 11\n",
       "\\item 13\n",
       "\\item 14\n",
       "\\item 41\n",
       "\\item 42\n",
       "\\item 45\n",
       "\\item 57\n",
       "\\item 62\n",
       "\\item 63\n",
       "\\item 106\n",
       "\\item 108\n",
       "\\item 114\n",
       "\\item 116\n",
       "\\item 119\n",
       "\\item 121\n",
       "\\item 136\n",
       "\\item 137\n",
       "\\item 153\n",
       "\\item 171\n",
       "\\item 176\n",
       "\\item 177\n",
       "\\item 199\n",
       "\\item 202\n",
       "\\item 207\n",
       "\\item 215\n",
       "\\item 223\n",
       "\\item 226\n",
       "\\item 234\n",
       "\\item 235\n",
       "\\item 244\n",
       "\\item 257\n",
       "\\item 281\n",
       "\\item 282\n",
       "\\item 288\n",
       "\\item 292\n",
       "\\item 302\n",
       "\\item 307\n",
       "\\item 312\n",
       "\\item 334\n",
       "\\item 336\n",
       "\\item 379\n",
       "\\item 395\n",
       "\\item 413\n",
       "\\item 428\n",
       "\\item 433\n",
       "\\item 435\n",
       "\\item 444\n",
       "\\item 446\n",
       "\\item 453\n",
       "\\item 456\n",
       "\\item 485\n",
       "\\end{enumerate*}\n",
       "\n",
       "\\item[\\$Fold07] \\begin{enumerate*}\n",
       "\\item 1\n",
       "\\item 7\n",
       "\\item 10\n",
       "\\item 12\n",
       "\\item 27\n",
       "\\item 30\n",
       "\\item 40\n",
       "\\item 58\n",
       "\\item 60\n",
       "\\item 73\n",
       "\\item 74\n",
       "\\item 78\n",
       "\\item 81\n",
       "\\item 83\n",
       "\\item 92\n",
       "\\item 96\n",
       "\\item 152\n",
       "\\item 154\n",
       "\\item 158\n",
       "\\item 162\n",
       "\\item 169\n",
       "\\item 206\n",
       "\\item 210\n",
       "\\item 216\n",
       "\\item 218\n",
       "\\item 237\n",
       "\\item 242\n",
       "\\item 245\n",
       "\\item 249\n",
       "\\item 260\n",
       "\\item 266\n",
       "\\item 276\n",
       "\\item 293\n",
       "\\item 295\n",
       "\\item 311\n",
       "\\item 321\n",
       "\\item 345\n",
       "\\item 347\n",
       "\\item 357\n",
       "\\item 378\n",
       "\\item 383\n",
       "\\item 386\n",
       "\\item 405\n",
       "\\item 424\n",
       "\\item 438\n",
       "\\item 447\n",
       "\\item 448\n",
       "\\item 455\n",
       "\\item 457\n",
       "\\item 458\n",
       "\\item 460\n",
       "\\end{enumerate*}\n",
       "\n",
       "\\item[\\$Fold08] \\begin{enumerate*}\n",
       "\\item 8\n",
       "\\item 24\n",
       "\\item 29\n",
       "\\item 32\n",
       "\\item 43\n",
       "\\item 102\n",
       "\\item 105\n",
       "\\item 110\n",
       "\\item 111\n",
       "\\item 112\n",
       "\\item 123\n",
       "\\item 124\n",
       "\\item 146\n",
       "\\item 149\n",
       "\\item 165\n",
       "\\item 166\n",
       "\\item 173\n",
       "\\item 175\n",
       "\\item 181\n",
       "\\item 183\n",
       "\\item 200\n",
       "\\item 220\n",
       "\\item 222\n",
       "\\item 225\n",
       "\\item 247\n",
       "\\item 251\n",
       "\\item 264\n",
       "\\item 271\n",
       "\\item 278\n",
       "\\item 283\n",
       "\\item 287\n",
       "\\item 296\n",
       "\\item 297\n",
       "\\item 331\n",
       "\\item 340\n",
       "\\item 359\n",
       "\\item 364\n",
       "\\item 376\n",
       "\\item 394\n",
       "\\item 398\n",
       "\\item 432\n",
       "\\item 443\n",
       "\\item 461\n",
       "\\item 469\n",
       "\\item 479\n",
       "\\item 488\n",
       "\\item 490\n",
       "\\item 491\n",
       "\\item 496\n",
       "\\item 506\n",
       "\\end{enumerate*}\n",
       "\n",
       "\\item[\\$Fold09] \\begin{enumerate*}\n",
       "\\item 6\n",
       "\\item 18\n",
       "\\item 19\n",
       "\\item 25\n",
       "\\item 36\n",
       "\\item 50\n",
       "\\item 54\n",
       "\\item 59\n",
       "\\item 61\n",
       "\\item 66\n",
       "\\item 90\n",
       "\\item 99\n",
       "\\item 103\n",
       "\\item 107\n",
       "\\item 109\n",
       "\\item 155\n",
       "\\item 161\n",
       "\\item 164\n",
       "\\item 174\n",
       "\\item 178\n",
       "\\item 180\n",
       "\\item 182\n",
       "\\item 198\n",
       "\\item 211\n",
       "\\item 219\n",
       "\\item 250\n",
       "\\item 265\n",
       "\\item 275\n",
       "\\item 306\n",
       "\\item 328\n",
       "\\item 361\n",
       "\\item 367\n",
       "\\item 375\n",
       "\\item 381\n",
       "\\item 384\n",
       "\\item 396\n",
       "\\item 397\n",
       "\\item 402\n",
       "\\item 403\n",
       "\\item 412\n",
       "\\item 416\n",
       "\\item 437\n",
       "\\item 442\n",
       "\\item 464\n",
       "\\item 465\n",
       "\\item 466\n",
       "\\item 471\n",
       "\\item 477\n",
       "\\item 481\n",
       "\\item 502\n",
       "\\end{enumerate*}\n",
       "\n",
       "\\item[\\$Fold10] \\begin{enumerate*}\n",
       "\\item 2\n",
       "\\item 31\n",
       "\\item 37\n",
       "\\item 44\n",
       "\\item 49\n",
       "\\item 51\n",
       "\\item 64\n",
       "\\item 65\n",
       "\\item 67\n",
       "\\item 75\n",
       "\\item 84\n",
       "\\item 101\n",
       "\\item 115\n",
       "\\item 122\n",
       "\\item 129\n",
       "\\item 138\n",
       "\\item 145\n",
       "\\item 148\n",
       "\\item 150\n",
       "\\item 185\n",
       "\\item 188\n",
       "\\item 193\n",
       "\\item 228\n",
       "\\item 232\n",
       "\\item 238\n",
       "\\item 241\n",
       "\\item 255\n",
       "\\item 256\n",
       "\\item 268\n",
       "\\item 277\n",
       "\\item 294\n",
       "\\item 298\n",
       "\\item 308\n",
       "\\item 309\n",
       "\\item 315\n",
       "\\item 322\n",
       "\\item 323\n",
       "\\item 343\n",
       "\\item 374\n",
       "\\item 401\n",
       "\\item 410\n",
       "\\item 421\n",
       "\\item 430\n",
       "\\item 436\n",
       "\\item 462\n",
       "\\item 474\n",
       "\\item 487\n",
       "\\item 489\n",
       "\\item 492\n",
       "\\item 494\n",
       "\\item 499\n",
       "\\end{enumerate*}\n",
       "\n",
       "\\end{description}\n"
      ],
      "text/markdown": [
       "$Fold01\n",
       ":   1. 16\n",
       "2. 20\n",
       "3. 21\n",
       "4. 39\n",
       "5. 46\n",
       "6. 47\n",
       "7. 48\n",
       "8. 56\n",
       "9. 69\n",
       "10. 91\n",
       "11. 120\n",
       "12. 127\n",
       "13. 132\n",
       "14. 143\n",
       "15. 151\n",
       "16. 186\n",
       "17. 187\n",
       "18. 191\n",
       "19. 196\n",
       "20. 227\n",
       "21. 231\n",
       "22. 236\n",
       "23. 239\n",
       "24. 252\n",
       "25. 258\n",
       "26. 259\n",
       "27. 279\n",
       "28. 280\n",
       "29. 289\n",
       "30. 314\n",
       "31. 320\n",
       "32. 335\n",
       "33. 337\n",
       "34. 350\n",
       "35. 352\n",
       "36. 360\n",
       "37. 372\n",
       "38. 373\n",
       "39. 380\n",
       "40. 385\n",
       "41. 392\n",
       "42. 409\n",
       "43. 415\n",
       "44. 419\n",
       "45. 420\n",
       "46. 431\n",
       "47. 439\n",
       "48. 445\n",
       "49. 452\n",
       "50. 468\n",
       "51. 484\n",
       "52. 486\n",
       "\n",
       "\n",
       "\n",
       "$Fold02\n",
       ":   1. 5\n",
       "2. 15\n",
       "3. 22\n",
       "4. 23\n",
       "5. 33\n",
       "6. 34\n",
       "7. 35\n",
       "8. 52\n",
       "9. 79\n",
       "10. 80\n",
       "11. 88\n",
       "12. 97\n",
       "13. 98\n",
       "14. 126\n",
       "15. 130\n",
       "16. 135\n",
       "17. 160\n",
       "18. 168\n",
       "19. 184\n",
       "20. 205\n",
       "21. 230\n",
       "22. 243\n",
       "23. 253\n",
       "24. 261\n",
       "25. 263\n",
       "26. 267\n",
       "27. 270\n",
       "28. 273\n",
       "29. 304\n",
       "30. 313\n",
       "31. 319\n",
       "32. 354\n",
       "33. 366\n",
       "34. 387\n",
       "35. 389\n",
       "36. 411\n",
       "37. 422\n",
       "38. 423\n",
       "39. 440\n",
       "40. 451\n",
       "41. 454\n",
       "42. 463\n",
       "43. 467\n",
       "44. 478\n",
       "45. 480\n",
       "46. 482\n",
       "47. 483\n",
       "48. 498\n",
       "49. 504\n",
       "\n",
       "\n",
       "\n",
       "$Fold03\n",
       ":   1. 4\n",
       "2. 17\n",
       "3. 26\n",
       "4. 38\n",
       "5. 53\n",
       "6. 70\n",
       "7. 71\n",
       "8. 82\n",
       "9. 86\n",
       "10. 100\n",
       "11. 104\n",
       "12. 128\n",
       "13. 133\n",
       "14. 134\n",
       "15. 141\n",
       "16. 147\n",
       "17. 201\n",
       "18. 208\n",
       "19. 209\n",
       "20. 212\n",
       "21. 214\n",
       "22. 217\n",
       "23. 224\n",
       "24. 246\n",
       "25. 269\n",
       "26. 274\n",
       "27. 305\n",
       "28. 325\n",
       "29. 326\n",
       "30. 332\n",
       "31. 341\n",
       "32. 348\n",
       "33. 353\n",
       "34. 355\n",
       "35. 356\n",
       "36. 362\n",
       "37. 365\n",
       "38. 369\n",
       "39. 370\n",
       "40. 377\n",
       "41. 382\n",
       "42. 390\n",
       "43. 400\n",
       "44. 404\n",
       "45. 407\n",
       "46. 408\n",
       "47. 417\n",
       "48. 418\n",
       "49. 470\n",
       "50. 495\n",
       "51. 501\n",
       "\n",
       "\n",
       "\n",
       "$Fold04\n",
       ":   1. 3\n",
       "2. 9\n",
       "3. 28\n",
       "4. 68\n",
       "5. 72\n",
       "6. 77\n",
       "7. 87\n",
       "8. 89\n",
       "9. 93\n",
       "10. 95\n",
       "11. 131\n",
       "12. 139\n",
       "13. 140\n",
       "14. 144\n",
       "15. 163\n",
       "16. 195\n",
       "17. 197\n",
       "18. 204\n",
       "19. 213\n",
       "20. 229\n",
       "21. 233\n",
       "22. 248\n",
       "23. 254\n",
       "24. 284\n",
       "25. 290\n",
       "26. 291\n",
       "27. 299\n",
       "28. 300\n",
       "29. 301\n",
       "30. 303\n",
       "31. 316\n",
       "32. 317\n",
       "33. 318\n",
       "34. 327\n",
       "35. 329\n",
       "36. 333\n",
       "37. 339\n",
       "38. 342\n",
       "39. 346\n",
       "40. 349\n",
       "41. 351\n",
       "42. 363\n",
       "43. 391\n",
       "44. 393\n",
       "45. 399\n",
       "46. 406\n",
       "47. 426\n",
       "48. 441\n",
       "49. 450\n",
       "50. 472\n",
       "51. 473\n",
       "52. 476\n",
       "\n",
       "\n",
       "\n",
       "$Fold05\n",
       ":   1. 55\n",
       "2. 76\n",
       "3. 85\n",
       "4. 94\n",
       "5. 113\n",
       "6. 117\n",
       "7. 118\n",
       "8. 125\n",
       "9. 142\n",
       "10. 156\n",
       "11. 157\n",
       "12. 159\n",
       "13. 167\n",
       "14. 170\n",
       "15. 172\n",
       "16. 179\n",
       "17. 189\n",
       "18. 190\n",
       "19. 192\n",
       "20. 194\n",
       "21. 203\n",
       "22. 221\n",
       "23. 240\n",
       "24. 262\n",
       "25. 272\n",
       "26. 285\n",
       "27. 286\n",
       "28. 310\n",
       "29. 324\n",
       "30. 330\n",
       "31. 338\n",
       "32. 344\n",
       "33. 358\n",
       "34. 368\n",
       "35. 371\n",
       "36. 388\n",
       "37. 414\n",
       "38. 425\n",
       "39. 427\n",
       "40. 429\n",
       "41. 434\n",
       "42. 449\n",
       "43. 459\n",
       "44. 475\n",
       "45. 493\n",
       "46. 497\n",
       "47. 500\n",
       "48. 503\n",
       "49. 505\n",
       "\n",
       "\n",
       "\n",
       "$Fold06\n",
       ":   1. 11\n",
       "2. 13\n",
       "3. 14\n",
       "4. 41\n",
       "5. 42\n",
       "6. 45\n",
       "7. 57\n",
       "8. 62\n",
       "9. 63\n",
       "10. 106\n",
       "11. 108\n",
       "12. 114\n",
       "13. 116\n",
       "14. 119\n",
       "15. 121\n",
       "16. 136\n",
       "17. 137\n",
       "18. 153\n",
       "19. 171\n",
       "20. 176\n",
       "21. 177\n",
       "22. 199\n",
       "23. 202\n",
       "24. 207\n",
       "25. 215\n",
       "26. 223\n",
       "27. 226\n",
       "28. 234\n",
       "29. 235\n",
       "30. 244\n",
       "31. 257\n",
       "32. 281\n",
       "33. 282\n",
       "34. 288\n",
       "35. 292\n",
       "36. 302\n",
       "37. 307\n",
       "38. 312\n",
       "39. 334\n",
       "40. 336\n",
       "41. 379\n",
       "42. 395\n",
       "43. 413\n",
       "44. 428\n",
       "45. 433\n",
       "46. 435\n",
       "47. 444\n",
       "48. 446\n",
       "49. 453\n",
       "50. 456\n",
       "51. 485\n",
       "\n",
       "\n",
       "\n",
       "$Fold07\n",
       ":   1. 1\n",
       "2. 7\n",
       "3. 10\n",
       "4. 12\n",
       "5. 27\n",
       "6. 30\n",
       "7. 40\n",
       "8. 58\n",
       "9. 60\n",
       "10. 73\n",
       "11. 74\n",
       "12. 78\n",
       "13. 81\n",
       "14. 83\n",
       "15. 92\n",
       "16. 96\n",
       "17. 152\n",
       "18. 154\n",
       "19. 158\n",
       "20. 162\n",
       "21. 169\n",
       "22. 206\n",
       "23. 210\n",
       "24. 216\n",
       "25. 218\n",
       "26. 237\n",
       "27. 242\n",
       "28. 245\n",
       "29. 249\n",
       "30. 260\n",
       "31. 266\n",
       "32. 276\n",
       "33. 293\n",
       "34. 295\n",
       "35. 311\n",
       "36. 321\n",
       "37. 345\n",
       "38. 347\n",
       "39. 357\n",
       "40. 378\n",
       "41. 383\n",
       "42. 386\n",
       "43. 405\n",
       "44. 424\n",
       "45. 438\n",
       "46. 447\n",
       "47. 448\n",
       "48. 455\n",
       "49. 457\n",
       "50. 458\n",
       "51. 460\n",
       "\n",
       "\n",
       "\n",
       "$Fold08\n",
       ":   1. 8\n",
       "2. 24\n",
       "3. 29\n",
       "4. 32\n",
       "5. 43\n",
       "6. 102\n",
       "7. 105\n",
       "8. 110\n",
       "9. 111\n",
       "10. 112\n",
       "11. 123\n",
       "12. 124\n",
       "13. 146\n",
       "14. 149\n",
       "15. 165\n",
       "16. 166\n",
       "17. 173\n",
       "18. 175\n",
       "19. 181\n",
       "20. 183\n",
       "21. 200\n",
       "22. 220\n",
       "23. 222\n",
       "24. 225\n",
       "25. 247\n",
       "26. 251\n",
       "27. 264\n",
       "28. 271\n",
       "29. 278\n",
       "30. 283\n",
       "31. 287\n",
       "32. 296\n",
       "33. 297\n",
       "34. 331\n",
       "35. 340\n",
       "36. 359\n",
       "37. 364\n",
       "38. 376\n",
       "39. 394\n",
       "40. 398\n",
       "41. 432\n",
       "42. 443\n",
       "43. 461\n",
       "44. 469\n",
       "45. 479\n",
       "46. 488\n",
       "47. 490\n",
       "48. 491\n",
       "49. 496\n",
       "50. 506\n",
       "\n",
       "\n",
       "\n",
       "$Fold09\n",
       ":   1. 6\n",
       "2. 18\n",
       "3. 19\n",
       "4. 25\n",
       "5. 36\n",
       "6. 50\n",
       "7. 54\n",
       "8. 59\n",
       "9. 61\n",
       "10. 66\n",
       "11. 90\n",
       "12. 99\n",
       "13. 103\n",
       "14. 107\n",
       "15. 109\n",
       "16. 155\n",
       "17. 161\n",
       "18. 164\n",
       "19. 174\n",
       "20. 178\n",
       "21. 180\n",
       "22. 182\n",
       "23. 198\n",
       "24. 211\n",
       "25. 219\n",
       "26. 250\n",
       "27. 265\n",
       "28. 275\n",
       "29. 306\n",
       "30. 328\n",
       "31. 361\n",
       "32. 367\n",
       "33. 375\n",
       "34. 381\n",
       "35. 384\n",
       "36. 396\n",
       "37. 397\n",
       "38. 402\n",
       "39. 403\n",
       "40. 412\n",
       "41. 416\n",
       "42. 437\n",
       "43. 442\n",
       "44. 464\n",
       "45. 465\n",
       "46. 466\n",
       "47. 471\n",
       "48. 477\n",
       "49. 481\n",
       "50. 502\n",
       "\n",
       "\n",
       "\n",
       "$Fold10\n",
       ":   1. 2\n",
       "2. 31\n",
       "3. 37\n",
       "4. 44\n",
       "5. 49\n",
       "6. 51\n",
       "7. 64\n",
       "8. 65\n",
       "9. 67\n",
       "10. 75\n",
       "11. 84\n",
       "12. 101\n",
       "13. 115\n",
       "14. 122\n",
       "15. 129\n",
       "16. 138\n",
       "17. 145\n",
       "18. 148\n",
       "19. 150\n",
       "20. 185\n",
       "21. 188\n",
       "22. 193\n",
       "23. 228\n",
       "24. 232\n",
       "25. 238\n",
       "26. 241\n",
       "27. 255\n",
       "28. 256\n",
       "29. 268\n",
       "30. 277\n",
       "31. 294\n",
       "32. 298\n",
       "33. 308\n",
       "34. 309\n",
       "35. 315\n",
       "36. 322\n",
       "37. 323\n",
       "38. 343\n",
       "39. 374\n",
       "40. 401\n",
       "41. 410\n",
       "42. 421\n",
       "43. 430\n",
       "44. 436\n",
       "45. 462\n",
       "46. 474\n",
       "47. 487\n",
       "48. 489\n",
       "49. 492\n",
       "50. 494\n",
       "51. 499\n",
       "\n",
       "\n",
       "\n",
       "\n",
       "\n"
      ],
      "text/plain": [
       "$Fold01\n",
       " [1]  16  20  21  39  46  47  48  56  69  91 120 127 132 143 151 186 187 191 196\n",
       "[20] 227 231 236 239 252 258 259 279 280 289 314 320 335 337 350 352 360 372 373\n",
       "[39] 380 385 392 409 415 419 420 431 439 445 452 468 484 486\n",
       "\n",
       "$Fold02\n",
       " [1]   5  15  22  23  33  34  35  52  79  80  88  97  98 126 130 135 160 168 184\n",
       "[20] 205 230 243 253 261 263 267 270 273 304 313 319 354 366 387 389 411 422 423\n",
       "[39] 440 451 454 463 467 478 480 482 483 498 504\n",
       "\n",
       "$Fold03\n",
       " [1]   4  17  26  38  53  70  71  82  86 100 104 128 133 134 141 147 201 208 209\n",
       "[20] 212 214 217 224 246 269 274 305 325 326 332 341 348 353 355 356 362 365 369\n",
       "[39] 370 377 382 390 400 404 407 408 417 418 470 495 501\n",
       "\n",
       "$Fold04\n",
       " [1]   3   9  28  68  72  77  87  89  93  95 131 139 140 144 163 195 197 204 213\n",
       "[20] 229 233 248 254 284 290 291 299 300 301 303 316 317 318 327 329 333 339 342\n",
       "[39] 346 349 351 363 391 393 399 406 426 441 450 472 473 476\n",
       "\n",
       "$Fold05\n",
       " [1]  55  76  85  94 113 117 118 125 142 156 157 159 167 170 172 179 189 190 192\n",
       "[20] 194 203 221 240 262 272 285 286 310 324 330 338 344 358 368 371 388 414 425\n",
       "[39] 427 429 434 449 459 475 493 497 500 503 505\n",
       "\n",
       "$Fold06\n",
       " [1]  11  13  14  41  42  45  57  62  63 106 108 114 116 119 121 136 137 153 171\n",
       "[20] 176 177 199 202 207 215 223 226 234 235 244 257 281 282 288 292 302 307 312\n",
       "[39] 334 336 379 395 413 428 433 435 444 446 453 456 485\n",
       "\n",
       "$Fold07\n",
       " [1]   1   7  10  12  27  30  40  58  60  73  74  78  81  83  92  96 152 154 158\n",
       "[20] 162 169 206 210 216 218 237 242 245 249 260 266 276 293 295 311 321 345 347\n",
       "[39] 357 378 383 386 405 424 438 447 448 455 457 458 460\n",
       "\n",
       "$Fold08\n",
       " [1]   8  24  29  32  43 102 105 110 111 112 123 124 146 149 165 166 173 175 181\n",
       "[20] 183 200 220 222 225 247 251 264 271 278 283 287 296 297 331 340 359 364 376\n",
       "[39] 394 398 432 443 461 469 479 488 490 491 496 506\n",
       "\n",
       "$Fold09\n",
       " [1]   6  18  19  25  36  50  54  59  61  66  90  99 103 107 109 155 161 164 174\n",
       "[20] 178 180 182 198 211 219 250 265 275 306 328 361 367 375 381 384 396 397 402\n",
       "[39] 403 412 416 437 442 464 465 466 471 477 481 502\n",
       "\n",
       "$Fold10\n",
       " [1]   2  31  37  44  49  51  64  65  67  75  84 101 115 122 129 138 145 148 150\n",
       "[20] 185 188 193 228 232 238 241 255 256 268 277 294 298 308 309 315 322 323 343\n",
       "[39] 374 401 410 421 430 436 462 474 487 489 492 494 499\n"
      ]
     },
     "metadata": {},
     "output_type": "display_data"
    }
   ],
   "source": [
    "folds"
   ]
  },
  {
   "cell_type": "code",
   "execution_count": 73,
   "id": "c814b00d-0bee-45b1-9a7d-8cd872d31336",
   "metadata": {},
   "outputs": [],
   "source": [
    "for(i in 1:10) {\n",
    "  \n",
    "  for(j in 1:10){    \n",
    "    train_data <- scaled_data[-folds[[j]], ]\n",
    "    test_data <- scaled_data[folds[[j]], ]\n",
    "    \n",
    "    nnet_model <- nnet(formula, data = train_data, trace = F,  size = 3, maxit = 100)\n",
    "    \n",
    "    nnet_predicted_prob_scaled <- predict(nnet_model, test_data)\n",
    "    nnet_predicted <- nnet_predicted_prob_scaled * (max(data$medv) - min(data$medv)) + min(data$medv)\n",
    "    errors_list <- regr.eval(test_data$medv, nnet_predicted)\n",
    "    errors2[errors2$FoldExcluded == j, ]$RMSE <- errors2[errors2$FoldExcluded == j, ]$RMSE + errors_list[3]\n",
    "  }\n",
    "}"
   ]
  },
  {
   "cell_type": "code",
   "execution_count": 74,
   "id": "9d558790-5b7f-48fe-a467-b275e431a426",
   "metadata": {},
   "outputs": [
    {
     "data": {
      "text/html": [
       "<table class=\"dataframe\">\n",
       "<caption>A data.frame: 6 × 2</caption>\n",
       "<thead>\n",
       "\t<tr><th></th><th scope=col>FoldExcluded</th><th scope=col>RMSE</th></tr>\n",
       "\t<tr><th></th><th scope=col>&lt;int&gt;</th><th scope=col>&lt;dbl&gt;</th></tr>\n",
       "</thead>\n",
       "<tbody>\n",
       "\t<tr><th scope=row>1</th><td>1</td><td>23.88887</td></tr>\n",
       "\t<tr><th scope=row>2</th><td>2</td><td>24.57703</td></tr>\n",
       "\t<tr><th scope=row>3</th><td>3</td><td>24.03482</td></tr>\n",
       "\t<tr><th scope=row>4</th><td>4</td><td>25.52928</td></tr>\n",
       "\t<tr><th scope=row>5</th><td>5</td><td>24.05225</td></tr>\n",
       "\t<tr><th scope=row>6</th><td>6</td><td>24.70978</td></tr>\n",
       "</tbody>\n",
       "</table>\n"
      ],
      "text/latex": [
       "A data.frame: 6 × 2\n",
       "\\begin{tabular}{r|ll}\n",
       "  & FoldExcluded & RMSE\\\\\n",
       "  & <int> & <dbl>\\\\\n",
       "\\hline\n",
       "\t1 & 1 & 23.88887\\\\\n",
       "\t2 & 2 & 24.57703\\\\\n",
       "\t3 & 3 & 24.03482\\\\\n",
       "\t4 & 4 & 25.52928\\\\\n",
       "\t5 & 5 & 24.05225\\\\\n",
       "\t6 & 6 & 24.70978\\\\\n",
       "\\end{tabular}\n"
      ],
      "text/markdown": [
       "\n",
       "A data.frame: 6 × 2\n",
       "\n",
       "| <!--/--> | FoldExcluded &lt;int&gt; | RMSE &lt;dbl&gt; |\n",
       "|---|---|---|\n",
       "| 1 | 1 | 23.88887 |\n",
       "| 2 | 2 | 24.57703 |\n",
       "| 3 | 3 | 24.03482 |\n",
       "| 4 | 4 | 25.52928 |\n",
       "| 5 | 5 | 24.05225 |\n",
       "| 6 | 6 | 24.70978 |\n",
       "\n"
      ],
      "text/plain": [
       "  FoldExcluded RMSE    \n",
       "1 1            23.88887\n",
       "2 2            24.57703\n",
       "3 3            24.03482\n",
       "4 4            25.52928\n",
       "5 5            24.05225\n",
       "6 6            24.70978"
      ]
     },
     "metadata": {},
     "output_type": "display_data"
    },
    {
     "data": {
      "image/png": "[encoded data removed]",
      "text/plain": [
       "Plot with title \"Variation of RMSE with length of training set\""
      ]
     },
     "metadata": {
      "image/png": {
       "height": 420,
       "width": 420
      }
     },
     "output_type": "display_data"
    }
   ],
   "source": [
    "errors2$RMSE <- errors2$RMSE/10\n",
    "plot (x = errors2$FoldExcluded, y = errors2$RMSE, \n",
    "      ylim = c(min(errors2$RMSE)-5, \n",
    "               max(errors2$RMSE)+5), \n",
    "      type = \"l\", \n",
    "      xlab = \"length of training set\", \n",
    "      ylab = \"mean RMSE\", \n",
    "      main = \"Variation of RMSE with length of training set\")\n",
    "head(errors2)"
   ]
  },
  {
   "cell_type": "markdown",
   "id": "9dd9c6dc-06e3-45e2-9ccb-7fa31cb8f699",
   "metadata": {},
   "source": [
    "---"
   ]
  },
  {
   "cell_type": "markdown",
   "id": "647d48c4-3d8b-4f39-a695-0084db7ec78a",
   "metadata": {},
   "source": [
    "# References"
   ]
  },
  {
   "cell_type": "markdown",
   "id": "5c40e65d-12e2-425d-80cc-a3129ab45152",
   "metadata": {},
   "source": [
    "1. Harrison, D. and Rubinfeld, D.L. (1978) Hedonic prices and the demand for clean air. J. Environ. Economics and Management 5, 81–102.\n",
    "\n",
    "2. Belsley D.A., Kuh, E. and Welsch, R.E. (1980) Regression Diagnostics. Identifying Influential Data and Sources of Collinearity. New York: Wiley.\n"
   ]
  }
 ],
 "metadata": {
  "kernelspec": {
   "display_name": "R",
   "language": "R",
   "name": "ir"
  },
  "language_info": {
   "codemirror_mode": "r",
   "file_extension": ".r",
   "mimetype": "text/x-r-source",
   "name": "R",
   "pygments_lexer": "r",
   "version": "4.1.3"
  },
  "toc-showtags": true
 },
 "nbformat": 4,
 "nbformat_minor": 5
}
